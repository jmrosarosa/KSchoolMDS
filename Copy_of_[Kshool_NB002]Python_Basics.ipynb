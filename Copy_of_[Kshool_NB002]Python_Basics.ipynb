{
  "cells": [
    {
      "cell_type": "markdown",
      "metadata": {
        "id": "view-in-github",
        "colab_type": "text"
      },
      "source": [
        "<a href=\"https://colab.research.google.com/github/jmrosarosa/KSchoolMDS/blob/main/Copy_of_%5BKshool_NB002%5DPython_Basics.ipynb\" target=\"_parent\"><img src=\"https://colab.research.google.com/assets/colab-badge.svg\" alt=\"Open In Colab\"/></a>"
      ]
    },
    {
      "cell_type": "markdown",
      "metadata": {
        "id": "i5poPEbZwa1j"
      },
      "source": [
        "# [Kshool NB002]Python_Basics\n",
        "* Objetivos: \n",
        "    - Formar al alumno para enter las diferentes entre el input, output y los import en python\n",
        "    - Comprender como se anida el código en python\n",
        "    - Entender las reglas de order de precedencia"
      ]
    },
    {
      "cell_type": "markdown",
      "metadata": {
        "id": "zpfsVqcvwa1k"
      },
      "source": [
        "<img src=\"https://media.istockphoto.com/id/1024173328/vector/challenge-accepted-banner.jpg?s=612x612&w=0&k=20&c=HkpbXPIxSoS0zZIB36AdXz8u3TE2peAC0_s1jNTCKTc=\" alt=\"Challenge Accepted\" style=\"width: 300px\">"
      ]
    },
    {
      "cell_type": "markdown",
      "metadata": {
        "id": "DAtp1J_xwa1l"
      },
      "source": [
        "---\n",
        "---\n",
        "---"
      ]
    },
    {
      "cell_type": "markdown",
      "metadata": {
        "id": "VSkEMXzawa1m"
      },
      "source": [
        "# **El Zen de Python**\n",
        "---"
      ]
    },
    {
      "cell_type": "code",
      "execution_count": null,
      "metadata": {
        "id": "63f5g3ywwa1n",
        "outputId": "c4f69785-5865-4392-81c5-f65536adca2d"
      },
      "outputs": [
        {
          "name": "stdout",
          "output_type": "stream",
          "text": [
            "The Zen of Python, by Tim Peters\n",
            "\n",
            "Beautiful is better than ugly.\n",
            "Explicit is better than implicit.\n",
            "Simple is better than complex.\n",
            "Complex is better than complicated.\n",
            "Flat is better than nested.\n",
            "Sparse is better than dense.\n",
            "Readability counts.\n",
            "Special cases aren't special enough to break the rules.\n",
            "Although practicality beats purity.\n",
            "Errors should never pass silently.\n",
            "Unless explicitly silenced.\n",
            "In the face of ambiguity, refuse the temptation to guess.\n",
            "There should be one-- and preferably only one --obvious way to do it.\n",
            "Although that way may not be obvious at first unless you're Dutch.\n",
            "Now is better than never.\n",
            "Although never is often better than *right* now.\n",
            "If the implementation is hard to explain, it's a bad idea.\n",
            "If the implementation is easy to explain, it may be a good idea.\n",
            "Namespaces are one honking great idea -- let's do more of those!\n"
          ]
        }
      ],
      "source": [
        "import this"
      ]
    },
    {
      "cell_type": "markdown",
      "metadata": {
        "id": "YmpQP8KOwa1o"
      },
      "source": [
        "# **Python Input, Output and Import**\n",
        "---"
      ]
    },
    {
      "cell_type": "markdown",
      "metadata": {
        "id": "BS0DYgNQwa1p"
      },
      "source": [
        "Las funciones integradas `input()` e `print()` son dos de las funciones más utilizadas para realizar operaciones estándar de entrada y salida. \n",
        "\n",
        "`input()` tiene como argumento una cadena de texto que da las instrucciones que se desean desplegar y lo que retorna (la respuesta) siempre es una cadena de texto.\n",
        "\n",
        "`print()` tiene como argumentos cadenas de texto o variables que se desean desplegar.\n",
        "\n",
        "En python no existe la función `output()`, sino que se utiliza `print()` para realizar las operaciones de salida estándar."
      ]
    },
    {
      "cell_type": "markdown",
      "metadata": {
        "id": "yr6qWtGtwa1p"
      },
      "source": [
        "## La operación de salida utilizando la función `print()`\n",
        "---\n",
        "\n",
        "La función `print()` en python se utiliza normalmente para imprimir la salida en la pantalla. Como su nombre indica `print` significa imprimir algo *¿dónde?* --> **en la pantalla**. \n",
        "\n",
        "Ahora no tienes que escribir todo el cuerpo (contenido) de la función `print()` cada vez, personalmente ni siquiera sé cómo es el cuerpo de la función print. **Todo lo que tienes que hacer es llamar a la función pasándole los parámetros**. \n",
        "\n",
        "Lo que escribas dentro de la función `print()` se llaman parámetros. Veamos cómo imprimir algo en la pantalla."
      ]
    },
    {
      "cell_type": "code",
      "execution_count": null,
      "metadata": {
        "id": "DK7D55Ggwa1q"
      },
      "outputs": [],
      "source": [
        "variable = \"Bienvenido a la primera línea del módulo de Python\""
      ]
    },
    {
      "cell_type": "code",
      "execution_count": null,
      "metadata": {
        "id": "Kc8f1bEYwa1s",
        "outputId": "d477dd0b-d5f7-475e-b3e4-0238183f4f8f"
      },
      "outputs": [
        {
          "name": "stdout",
          "output_type": "stream",
          "text": [
            "Bienvenido a la primera línea del módulo de Python\n"
          ]
        }
      ],
      "source": [
        "print(variable)"
      ]
    },
    {
      "cell_type": "markdown",
      "metadata": {
        "id": "r9rdqDlXwa1s"
      },
      "source": [
        "Como he dicho, la variable es el parámetro que se pasa junto con la función `print`, no necesitas escribir el cuerpo de la función imprimir, sólo necesitas llamar a la función imprimir. **La sintaxis real de la función print se indica a continuación:**"
      ]
    },
    {
      "cell_type": "markdown",
      "metadata": {
        "id": "gJjDTPfewa1t"
      },
      "source": [
        "Incluso puedes probar esto, simplemente llama a **help(print)** y la función de ayuda te proporcionará la ayuda que necesitas "
      ]
    },
    {
      "cell_type": "code",
      "execution_count": null,
      "metadata": {
        "id": "5MnnCdJGwa1t",
        "outputId": "fd62234c-9d17-482c-a1c5-ea9f1517caf7"
      },
      "outputs": [
        {
          "name": "stdout",
          "output_type": "stream",
          "text": [
            "Help on built-in function print in module builtins:\n",
            "\n",
            "print(...)\n",
            "    print(value, ..., sep=' ', end='\\n', file=sys.stdout, flush=False)\n",
            "    \n",
            "    Prints the values to a stream, or to sys.stdout by default.\n",
            "    Optional keyword arguments:\n",
            "    file:  a file-like object (stream); defaults to the current sys.stdout.\n",
            "    sep:   string inserted between values, default a space.\n",
            "    end:   string appended after the last value, default a newline.\n",
            "    flush: whether to forcibly flush the stream.\n",
            "\n"
          ]
        }
      ],
      "source": [
        "help(print)"
      ]
    },
    {
      "cell_type": "markdown",
      "metadata": {
        "id": "wAYRsTYlwa1u"
      },
      "source": [
        "Veamos ahora cómo pasar más de un parámetro dentro de la función print() y cuál sería el resultado."
      ]
    },
    {
      "cell_type": "code",
      "execution_count": null,
      "metadata": {
        "id": "YgNlnkEIwa1u",
        "outputId": "1b125737-2c6f-42f0-ec37-c0d900215f4e"
      },
      "outputs": [
        {
          "name": "stdout",
          "output_type": "stream",
          "text": [
            "Bienvenido a la primera línea del módulo de Python ,este es el mejor lugar para aprender a programar\n"
          ]
        }
      ],
      "source": [
        "variable = \"Bienvenido a la primera línea del módulo de Python\"\n",
        "variable2 = \",este es el mejor lugar para aprender a programar\"\n",
        "print(variable, variable2)"
      ]
    },
    {
      "cell_type": "markdown",
      "metadata": {
        "id": "jfsJVILNwa1v"
      },
      "source": [
        "Puedes pasar tantos parámetros dentro de la función **print()**, pero asegúrate de separar las variables entre sí."
      ]
    },
    {
      "cell_type": "code",
      "execution_count": null,
      "metadata": {
        "id": "iHhyvbp8wa1w",
        "outputId": "136992db-2915-4034-8699-9867293b15d1"
      },
      "outputs": [
        {
          "name": "stdout",
          "output_type": "stream",
          "text": [
            "1, 2, 3, 4, 5\n"
          ]
        }
      ],
      "source": [
        "print(1, 2, 3, 4, 5, sep=\", \")"
      ]
    },
    {
      "cell_type": "markdown",
      "metadata": {
        "id": "82L-p7WOwa1w"
      },
      "source": [
        "El parámetro \"end\" se utiliza para añadir un carácter al final de la cadena que pasamos dentro de la función imprimir."
      ]
    },
    {
      "cell_type": "code",
      "execution_count": null,
      "metadata": {
        "id": "1XVQNa3Zwa1x",
        "outputId": "331c1bc7-3494-434a-9d92-705c2f7da951"
      },
      "outputs": [
        {
          "name": "stdout",
          "output_type": "stream",
          "text": [
            "1 2 3 4 5,Este es el final"
          ]
        }
      ],
      "source": [
        "print(1, 2, 3, 4, 5, end=\",Este es el final\")"
      ]
    },
    {
      "cell_type": "markdown",
      "metadata": {
        "id": "X5HetA35wa1x"
      },
      "source": [
        "## Formatear la salida\n",
        "---\n",
        "\n",
        "Puede haber algunas situaciones en las que sea necesario dar formato a la salida, en ese caso, podemos utilizar el método `str.format()`."
      ]
    },
    {
      "cell_type": "code",
      "execution_count": null,
      "metadata": {
        "id": "CxcnLDTNwa1x",
        "outputId": "eb105aef-8c1c-4bb8-b061-0cfcfdfb9801"
      },
      "outputs": [
        {
          "name": "stdout",
          "output_type": "stream",
          "text": [
            "Me encantan Python y Kschool\n"
          ]
        }
      ],
      "source": [
        "variable = \"Python\"\n",
        "variable2 = \"Kschool\"\n",
        "print(\"Me encantan {0} y {1}\".format(variable,variable2))"
      ]
    },
    {
      "cell_type": "markdown",
      "metadata": {
        "id": "qF0ijDj-wa1y"
      },
      "source": [
        "Además, el método format() puede hacer un gran trabajo, como añadir el separador coma a la cadena de enteros, como se muestra a continuación:"
      ]
    },
    {
      "cell_type": "code",
      "execution_count": null,
      "metadata": {
        "id": "RNPxnLgpwa1y",
        "outputId": "80fa0f81-1464-49d7-e808-12dbf7d783c9"
      },
      "outputs": [
        {
          "name": "stdout",
          "output_type": "stream",
          "text": [
            "1,234,567\n"
          ]
        }
      ],
      "source": [
        "print(format(1234567, \",d\"))"
      ]
    },
    {
      "cell_type": "markdown",
      "metadata": {
        "id": "vnrCWlm7wa1z"
      },
      "source": [
        "Del mismo modo, podemos formatear la salida utilizando el operador \"`%`\" como se muestra a continuación:\n"
      ]
    },
    {
      "cell_type": "code",
      "execution_count": null,
      "metadata": {
        "id": "oENJqx8Zwa1z",
        "outputId": "0bd6ab56-1767-471b-843f-4d4d26e97435"
      },
      "outputs": [
        {
          "name": "stdout",
          "output_type": "stream",
          "text": [
            "El valor de x es 12.35\n"
          ]
        }
      ],
      "source": [
        "numero = 12.3456\n",
        "print(\"El valor de x es %1.2f\" %numero)"
      ]
    },
    {
      "cell_type": "code",
      "execution_count": null,
      "metadata": {
        "id": "Bu5B5ezywa1z",
        "outputId": "9ba3988a-e2c7-4c0b-a3ea-11a51b053f7a"
      },
      "outputs": [
        {
          "name": "stdout",
          "output_type": "stream",
          "text": [
            "El valor de x es 12.34560\n"
          ]
        }
      ],
      "source": [
        "print(\"El valor de x es %1.5f\" %numero)"
      ]
    },
    {
      "cell_type": "markdown",
      "metadata": {
        "id": "G1Cy9ztiwa10"
      },
      "source": [
        "Por ultimo, podemos usar tambien la inferencia del valor a través de los corchetes de la siguiente manera:"
      ]
    },
    {
      "cell_type": "code",
      "execution_count": null,
      "metadata": {
        "id": "g5NLCLCWwa10",
        "outputId": "c5bcad83-7bea-41c9-d297-a08c040fddf5"
      },
      "outputs": [
        {
          "name": "stdout",
          "output_type": "stream",
          "text": [
            "Ya me considero un experto trabajando con comentarios\n"
          ]
        }
      ],
      "source": [
        "variable = \"experto\"\n",
        "variable2 = \"comentarios\"\n",
        "print(f\"Ya me considero un {variable} trabajando con {variable2}\")"
      ]
    },
    {
      "cell_type": "markdown",
      "metadata": {
        "id": "XrePcwD5wa10"
      },
      "source": [
        "## Función de entrada de Python\n",
        "---\n",
        "\n",
        "Antes, codificábamos el valor de la variable dentro de nuestro programa principal. Sin embargo, a veces necesitamos obtener la información de los usuarios. Esto se puede conseguir utilizando la función `input`.\n",
        "\n",
        "La función `input`, como su nombre indica, toma la entrada por teclado del usuario. \n",
        "\n",
        "La sintaxis de la función entrada es: `input(prompt = ' ')`"
      ]
    },
    {
      "cell_type": "markdown",
      "metadata": {
        "id": "of2d7_Wrwa11"
      },
      "source": [
        "Aquí el popup es el que aparecería en la pantalla."
      ]
    },
    {
      "cell_type": "code",
      "execution_count": null,
      "metadata": {
        "id": "UVjctKwIwa11",
        "outputId": "8cd3e8e4-9177-4972-ec6d-fabc9f9cf800"
      },
      "outputs": [
        {
          "name": "stdout",
          "output_type": "stream",
          "text": [
            "El número que has introducido es: 12\n",
            "<class 'str'>\n"
          ]
        }
      ],
      "source": [
        "numero = input(\"Introduce el número que elijas: \")\n",
        "print(\"El número que has introducido es: %s\" %numero)\n",
        "print(type(numero))"
      ]
    },
    {
      "cell_type": "markdown",
      "metadata": {
        "id": "3BHaApmGwa12"
      },
      "source": [
        "Como veis, nos muestra por pantalla la pregunta es \"Introduce el número que elijas\" que hemos definido.\n",
        "\n",
        "Además, puede que te preguntes por qué he utilizado \"%s\" cuando he introducido un número entero. \n",
        "Esto se debe a que todas las variables se almacenan como cadenas en Python, para asignarlas explícitamente puedes utilizar int(nombre_variable), o float(nombre_variable) y muchos más."
      ]
    },
    {
      "cell_type": "code",
      "execution_count": null,
      "metadata": {
        "id": "xeHW-MDIwa12",
        "outputId": "cab5ef20-42c9-444d-ab8e-820eeb98f24e"
      },
      "outputs": [
        {
          "name": "stdout",
          "output_type": "stream",
          "text": [
            "El número que has introducido es: 12\n",
            "<class 'str'>\n",
            "<class 'int'>\n"
          ]
        }
      ],
      "source": [
        "numero = input(\"Introduce el número que elijas: \")\n",
        "print(\"El número que has introducido es: %s\" %numero)\n",
        "print(type(numero))\n",
        "numero = int(numero)\n",
        "print(type(numero))"
      ]
    },
    {
      "cell_type": "markdown",
      "metadata": {
        "id": "n7SmeakEwa13"
      },
      "source": [
        "## Importación en Python\n",
        "---\n",
        "\n",
        "A veces, necesitamos importar algunas bibliotecas de un módulo diferente (un módulo es un archivo python que comprende definiciones y sentencias). En esos casos, podemos importar esos métodos o módulos utilizando la palabra clave `import` junto con el nombre del módulo.\n",
        "\n",
        "Piensa que quieres ver cuál es el valor de \"pi\", todo lo que puedes hacer es en lugar de hacer (22/7, o memorizar 3,1423... no sé que más), simplemente importar el módulo math y llamar al método math y entonces tu trabajo estará hecho, **voilá**.\n"
      ]
    },
    {
      "cell_type": "code",
      "execution_count": null,
      "metadata": {
        "id": "o5aJtIE7wa13",
        "outputId": "1244897f-9205-4cb2-c9e7-66a2cea48977"
      },
      "outputs": [
        {
          "name": "stdout",
          "output_type": "stream",
          "text": [
            "3.141592653589793\n"
          ]
        }
      ],
      "source": [
        "import math\n",
        "print(math.pi)"
      ]
    },
    {
      "cell_type": "markdown",
      "metadata": {
        "id": "KLO9RvQwwa13"
      },
      "source": [
        "También utilizando la palabra clave `from` podemos acceder a atributos específicos del módulo."
      ]
    },
    {
      "cell_type": "code",
      "execution_count": null,
      "metadata": {
        "id": "P699qcZGwa14",
        "outputId": "63cb7087-f008-4ad7-b60b-529adeea8e99"
      },
      "outputs": [
        {
          "name": "stdout",
          "output_type": "stream",
          "text": [
            "3.141592653589793\n"
          ]
        }
      ],
      "source": [
        "from math import pi\n",
        "print(pi)"
      ]
    },
    {
      "cell_type": "markdown",
      "metadata": {
        "id": "5xTpeBctwa14"
      },
      "source": [
        "Lo veríamos cómo: \n",
        "> De este módulo importa esta función, método o atributo\n"
      ]
    },
    {
      "cell_type": "markdown",
      "metadata": {
        "id": "YFXXt9bswa14"
      },
      "source": [
        "Incluso podríamos darle un alias"
      ]
    },
    {
      "cell_type": "code",
      "execution_count": null,
      "metadata": {
        "id": "CPNnCNGZwa15",
        "outputId": "280c99cb-c878-4249-bb20-9bb39b249369"
      },
      "outputs": [
        {
          "name": "stdout",
          "output_type": "stream",
          "text": [
            "2023-04-14 18:55:07.562190\n"
          ]
        }
      ],
      "source": [
        "from datetime import datetime as dt\n",
        "print(dt.now())"
      ]
    },
    {
      "cell_type": "markdown",
      "metadata": {
        "id": "nSx2wkOYwa15"
      },
      "source": [
        "# **Reglas sobre Operador de Precedencia**\n",
        "---\n",
        "\n",
        "Regla de mayor precedencia a regla de menor precedencia:\n",
        "- Los paréntesis siempre se respetan\n",
        "- Exponenciación (elevar a una potencia)\n",
        "- Multiplicación, división y resto\n",
        "- Suma y resta\n",
        "- De izquierda a derecha\n"
      ]
    },
    {
      "cell_type": "code",
      "execution_count": null,
      "metadata": {
        "id": "fmYYRCfYwa15",
        "outputId": "6071ba77-dcaf-471c-8247-69b1e8a9a093"
      },
      "outputs": [
        {
          "name": "stdout",
          "output_type": "stream",
          "text": [
            "11.0\n"
          ]
        }
      ],
      "source": [
        "x = 1 + 2 ** 3 / 4 * 5\n",
        "print(x)"
      ]
    },
    {
      "cell_type": "markdown",
      "metadata": {
        "id": "4vC41_oHwa15"
      },
      "source": [
        "- Recuerda las reglas de arriba a abajo\n",
        "- Al escribir código - utiliza paréntesis\n",
        "- Cuando escribas código, mantén las expresiones matemáticas lo suficientemente sencillas como para que sean fáciles de entender.\n",
        "- Divide las series largas de operaciones matemáticas para que sean más claras\n"
      ]
    },
    {
      "cell_type": "markdown",
      "metadata": {
        "id": "ar70UHOgwa15"
      },
      "source": [
        "# **Indentaciones**\n",
        "---"
      ]
    },
    {
      "cell_type": "markdown",
      "metadata": {
        "id": "jTLMiw2mwa15"
      },
      "source": [
        "En Python, las indentaciones son fundamentales para determinar la estructura del código y el flujo de control. A diferencia de otros lenguajes de programación que utilizan llaves o paréntesis para delimitar bloques de código, Python utiliza indentaciones para este propósito.\n",
        "\n",
        "Una indentación es un espacio en blanco al comienzo de una línea de código. En Python, se recomienda utilizar cuatro espacios para cada nivel de indentación, aunque también se pueden usar tabulaciones. Es importante mantener la consistencia en todo el código en cuanto al uso de espacios o tabulaciones.\n",
        "\n",
        "Las indentaciones se utilizan en Python para delimitar bloques de código en estructuras de control como condicionales, bucles y definiciones de funciones o clases. A continuación, se muestran algunos ejemplos de cómo se utilizan las indentaciones en Python:"
      ]
    },
    {
      "cell_type": "code",
      "execution_count": null,
      "metadata": {
        "id": "DgrNWeNuwa16",
        "outputId": "8139fc4e-6224-4463-915a-c43d29c8a6a5"
      },
      "outputs": [
        {
          "name": "stdout",
          "output_type": "stream",
          "text": [
            "Adulto\n"
          ]
        }
      ],
      "source": [
        "edad = 18\n",
        "if edad < 18:\n",
        "    print(\"Menor de edad\")\n",
        "elif edad >= 18 and edad < 65:\n",
        "    print(\"Adulto\")\n",
        "else:\n",
        "    print(\"Adulto mayor\")"
      ]
    },
    {
      "cell_type": "markdown",
      "metadata": {
        "id": "R4DhOJtSwa16"
      },
      "source": [
        "Las indentaciones pueden ser acumulativas, es decir, pueden estar anidadas."
      ]
    },
    {
      "cell_type": "code",
      "execution_count": null,
      "metadata": {
        "id": "XI6pBsHuwa16",
        "outputId": "9e0c6f99-2341-4a60-cf46-4a1090b00211"
      },
      "outputs": [
        {
          "name": "stdout",
          "output_type": "stream",
          "text": [
            "Con 9 se es menor de edad\n",
            "Con 18 se es adulto\n",
            "Con 65 se es aun más adulto\n",
            "Con 66 se es aun más adulto\n"
          ]
        }
      ],
      "source": [
        "for edad in [9, 18, 65, 66]:\n",
        "    if edad < 18:\n",
        "        print(f\"Con {edad} se es menor de edad\")\n",
        "    elif edad >= 18 and edad < 65:\n",
        "        print(f\"Con {edad} se es adulto\")\n",
        "    else:\n",
        "        print(f\"Con {edad} se es aun más adulto\")"
      ]
    },
    {
      "cell_type": "markdown",
      "metadata": {
        "id": "UVLhN9U5wa17"
      },
      "source": [
        "# **Built in functions**\n",
        "---"
      ]
    },
    {
      "cell_type": "markdown",
      "metadata": {
        "id": "Fr_LFVzbwa17"
      },
      "source": [
        "En Python tenemos muchas funciones `built in` o en español funciones incorporadas. \n",
        "\n",
        "Las funciones built in están disponibles globalmente para su uso, lo que significa que puedes hacer uso de las funciones built in sin necesidad de importarlas o configurarlas. \n",
        "\n",
        "Algunas de las funciones incorporadas a Python más utilizadas son las siguientes: `print(), len(), type(), int(), float(), str(), input(), list(), dict(), min(), max(), sum(), sorted(), open(), file(), help() y dir()`. \n",
        "\n",
        "En la siguiente tabla verás una lista exhaustiva de las funciones incorporadas de Python tomadas de la documentación de Python. Simplemente quiero que conozcas el concepto ya que se tratarán en el módulo de funciones."
      ]
    },
    {
      "cell_type": "markdown",
      "metadata": {
        "id": "0JqMGwMfwa18"
      },
      "source": [
        "![image.png](https://i.stack.imgur.com/LxITc.png)"
      ]
    },
    {
      "cell_type": "markdown",
      "metadata": {
        "id": "w7hUwgaDwa18"
      },
      "source": [
        "Para conocerlas simplemente tendremos que ejecutar `help(\"keywords\")`"
      ]
    },
    {
      "cell_type": "code",
      "execution_count": null,
      "metadata": {
        "id": "KDcmGH82wa18",
        "outputId": "d0451d93-5f71-41e6-b541-512051765194"
      },
      "outputs": [
        {
          "name": "stdout",
          "output_type": "stream",
          "text": [
            "\n",
            "Here is a list of the Python keywords.  Enter any keyword to get more help.\n",
            "\n",
            "False               class               from                or\n",
            "None                continue            global              pass\n",
            "True                def                 if                  raise\n",
            "and                 del                 import              return\n",
            "as                  elif                in                  try\n",
            "assert              else                is                  while\n",
            "async               except              lambda              with\n",
            "await               finally             nonlocal            yield\n",
            "break               for                 not                 \n",
            "\n"
          ]
        }
      ],
      "source": [
        "help(\"keywords\")"
      ]
    },
    {
      "cell_type": "markdown",
      "metadata": {
        "id": "UzdUogKewa18"
      },
      "source": [
        "<h1>¡¡¡Lets Code!!! </h1>\n",
        "<img src=\"https://gifdb.com/images/thumbnail/pixel-art-super-mario-computer-amwdq1xi8bgz0omx.gif\" alt=\"Challenge Accepted\" style=\"width: 500px\">"
      ]
    },
    {
      "cell_type": "markdown",
      "metadata": {
        "id": "PpIeXFDzwa19"
      },
      "source": [
        "#### **Enunciado Ejercicio 1**::\n",
        "\n",
        "Escribe una pequeña celda, donde se requiera tu nombre y edad, y luego imprime un mensaje de bienvenida que incluya estos."
      ]
    },
    {
      "cell_type": "markdown",
      "metadata": {
        "id": "akBrhFFHwa19"
      },
      "source": [
        "#### **Enunciado Ejercicio 2**::\n",
        "\n",
        "Escribe una pequeña celda, donde se requieran los dos siguientes números `num1 = 2`, `num2 = 3` y calcula el resultado de sumar por una parte ambos, restar por otra parte ambos y con el resultado final multiplicarlos."
      ]
    },
    {
      "cell_type": "markdown",
      "metadata": {
        "id": "NzxSTt2owa19"
      },
      "source": [
        "#### **Enunciado Ejercicio 3**::\n",
        "\n",
        "Ya sabemos como importar el número `PI`, imprime por consola la siguiente salida: \"El número `π` (pi) es la relación entre la longitud de una circunferencia y su diámetro en geometría euclidiana. Normalmente se trabaja con 4 decimales (`<numeropicon4digitosdecimales>`)."
      ]
    },
    {
      "cell_type": "markdown",
      "metadata": {
        "id": "t00H0rJrwa1-"
      },
      "source": []
    }
  ],
  "metadata": {
    "kernelspec": {
      "display_name": "Python 3",
      "language": "python",
      "name": "python3"
    },
    "language_info": {
      "codemirror_mode": {
        "name": "ipython",
        "version": 3
      },
      "file_extension": ".py",
      "mimetype": "text/x-python",
      "name": "python",
      "nbconvert_exporter": "python",
      "pygments_lexer": "ipython3",
      "version": "3.10.10"
    },
    "orig_nbformat": 4,
    "colab": {
      "provenance": [],
      "include_colab_link": true
    }
  },
  "nbformat": 4,
  "nbformat_minor": 0
}