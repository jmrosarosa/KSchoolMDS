{
  "cells": [
    {
      "cell_type": "markdown",
      "metadata": {
        "id": "view-in-github",
        "colab_type": "text"
      },
      "source": [
        "<a href=\"https://colab.research.google.com/github/jmrosarosa/KSchoolMDS/blob/main/Copy_of_%5BKschool_NB005%5DPython_Listas.ipynb\" target=\"_parent\"><img src=\"https://colab.research.google.com/assets/colab-badge.svg\" alt=\"Open In Colab\"/></a>"
      ]
    },
    {
      "cell_type": "markdown",
      "metadata": {
        "id": "s40_kIXmoiVo"
      },
      "source": [
        "# [Kschool NB005]Python_Listas\n",
        "* Objetivos:\n",
        "    - Entender que son las listas en python\n",
        "    - Trabajar con las listas integrando información y explotarlas a través de sus métodos"
      ]
    },
    {
      "cell_type": "markdown",
      "metadata": {
        "id": "H-xmoUyJoiVp"
      },
      "source": [
        "<img src=\"https://media.istockphoto.com/id/1024173328/vector/challenge-accepted-banner.jpg?s=612x612&w=0&k=20&c=HkpbXPIxSoS0zZIB36AdXz8u3TE2peAC0_s1jNTCKTc=\" alt=\"Challenge Accepted\" style=\"width: 300px\">"
      ]
    },
    {
      "cell_type": "markdown",
      "metadata": {
        "id": "tCc3M-NMoiVr"
      },
      "source": [
        "---\n",
        "---\n",
        "---"
      ]
    },
    {
      "cell_type": "markdown",
      "metadata": {
        "id": "Ixm9h7M9oiVr"
      },
      "source": [
        "# **Listas**\n",
        "---"
      ]
    },
    {
      "cell_type": "markdown",
      "metadata": {
        "id": "tNOiCN6voiVs"
      },
      "source": [
        "Las listas son un tipo de datos en Python que te permiten almacenar a su vez cualquier tipo de datos.\n",
        "Son `dinámicas` y `mutables`, que es la principal distinción entre los `conjuntos (sets)` y las `tuplas`, que veremos más tarde."
      ]
    },
    {
      "cell_type": "markdown",
      "metadata": {
        "id": "QjLd46EfoiVt"
      },
      "source": [
        "Las listas es una estructura de datos en Python que actúa como contenedor para guardar o almacenar varios datos a la vez.\n",
        "Las listas son modificables como hemos indicado arriba y una secuencia ordenada de elementos que permiten almacenar un conjunto arbitrario de datos.\n",
        "\n",
        "Si vienes de otros lenguajes de programación, se podría decir que son similares a los **arrays**.\n",
        "\n",
        "Una cosa que debes tener en cuenta es que a menudo debemos declarar las listas utilizando corchetes `[]`. Los elementos dentro de los **[]** son los valores de la lista."
      ]
    },
    {
      "cell_type": "code",
      "execution_count": null,
      "metadata": {
        "id": "GUY5TTncoiVt",
        "outputId": "f3d55255-d91d-4e5a-9e50-b0d86c4ecc40"
      },
      "outputs": [
        {
          "data": {
            "text/plain": [
              "[1, 2, 3, 4, 5]"
            ]
          },
          "execution_count": 5,
          "metadata": {},
          "output_type": "execute_result"
        }
      ],
      "source": [
        "# Crear una lista vacía llamada \"num\"\n",
        "num = []\n",
        "\n",
        "# Añadiendo los valores dentro de la lista\n",
        "num = [1, 2, 3, 4, 5]\n",
        "\n",
        "# Imprimir la lista\n",
        "num"
      ]
    },
    {
      "cell_type": "markdown",
      "metadata": {
        "id": "mQwvqN3PoiVu"
      },
      "source": [
        "También se puede crear usando `list` y pasando un objeto iterable."
      ]
    },
    {
      "cell_type": "code",
      "execution_count": null,
      "metadata": {
        "id": "sjhvp1lzoiVv",
        "outputId": "fd73b1ea-2bfd-4697-fb5f-d567008da38c"
      },
      "outputs": [
        {
          "data": {
            "text/plain": [
              "['1', '2', '3', '4', '5']"
            ]
          },
          "execution_count": 6,
          "metadata": {},
          "output_type": "execute_result"
        }
      ],
      "source": [
        "lista = list(\"12345\")\n",
        "lista"
      ]
    },
    {
      "cell_type": "markdown",
      "metadata": {
        "id": "4VZPTUN_oiVw"
      },
      "source": [
        "Aquí el nombre de la lista es ***num*** y los valores de la lista son **1, 2, 3, 4, 5**.\n",
        "Las ventajas de las listas son que no es necesario que los valores de su interior tengan el mismo significado de tipo, es decir, **pueden almacenar tipos de datos distintos**."
      ]
    },
    {
      "cell_type": "code",
      "execution_count": null,
      "metadata": {
        "id": "74bLNwbVoiVx",
        "outputId": "d8656556-1a3f-47fc-bde5-81c76e82319b"
      },
      "outputs": [
        {
          "data": {
            "text/plain": [
              "[1, 2, 3, 'Kschool', 4.0, 2.0]"
            ]
          },
          "execution_count": 7,
          "metadata": {},
          "output_type": "execute_result"
        }
      ],
      "source": [
        "# Añadir los valores independientemente de su tipo de datos: Entero, Cadena, Flotante.\n",
        "num = [1, 2, 3, \"Kschool\", 4.0, 4/2]\n",
        "num"
      ]
    },
    {
      "cell_type": "markdown",
      "metadata": {
        "id": "mKoj70XmoiVx"
      },
      "source": [
        "Para comprobar si la variable es una lista o no, utiliza el método `type` como se indica a continuación:"
      ]
    },
    {
      "cell_type": "code",
      "execution_count": null,
      "metadata": {
        "id": "Q1Qde7DIoiVy",
        "outputId": "95ec608b-162e-4c28-f10f-351f7f6a166b"
      },
      "outputs": [
        {
          "data": {
            "text/plain": [
              "list"
            ]
          },
          "execution_count": 8,
          "metadata": {},
          "output_type": "execute_result"
        }
      ],
      "source": [
        "# Crea una lista como num\n",
        "num = [1, 2, 3, 4, 5]\n",
        "\n",
        "# Utiliza el método type pasando el nombre de la lista como argumento\n",
        "type(num)"
      ]
    },
    {
      "cell_type": "markdown",
      "metadata": {
        "id": "WWIwbeJjoiVz"
      },
      "source": [
        "#### Algunas propiedades de las listas:\n",
        "\n",
        "* Están ordenadas y siguen el orden definido.\n",
        "* Pueden crearse utilizando tipos arbitrarios.\n",
        "* Se pueden indexar utilizando [i].\n",
        "* Se pueden animar, es decir, colocar una dentro de otra.\n",
        "* Son variables porque sus partes constituyentes son modificables.\n",
        "* Son dinámicos porque es posible añadir o eliminar elementos.\n"
      ]
    },
    {
      "cell_type": "markdown",
      "metadata": {
        "id": "MDUa6YnPoiVz"
      },
      "source": [
        "## Creación, acceso y cálculo de la longitud de una lista.\n",
        "---\n",
        "\n",
        "Creemos una lista llamada **name** e introduzcamos algunos valores, después podemos acceder a los elementos dentro de la lista utilizando el índice con la ayuda de [] colocando los valores del índice en su interior.\n",
        "\n",
        "A continuación podemos calcular la longitud de la lista utilizando el método `len( )`, basta con pasar el nombre de la lista como argumento al método len, finalmente también podemos obtener la longitud de los elementos individuales dentro de la lista utilizando el mismo método len pero esta vez debemos especificar la posición del índice como argumento."
      ]
    },
    {
      "cell_type": "markdown",
      "metadata": {
        "id": "SAGUH3JuoiV0"
      },
      "source": [
        "<img src=\"https://raw.githubusercontent.com/0xdevgranero/kschool/main/images/img1.png\" alt=\"Drawing\" style=\"width: 800px\"/>"
      ]
    },
    {
      "cell_type": "code",
      "execution_count": null,
      "metadata": {
        "id": "B7tJ3lwdoiV0",
        "outputId": "ce878c44-6df2-44e8-ba29-f5492d3f8a2d"
      },
      "outputs": [
        {
          "data": {
            "text/plain": [
              "['Alberto', 'Sara', 'Juan']"
            ]
          },
          "execution_count": 9,
          "metadata": {},
          "output_type": "execute_result"
        }
      ],
      "source": [
        "# Crear una lista llamada nombre\n",
        "name = [\"Alberto\", \"Sara\", \"Juan\"]\n",
        "name"
      ]
    },
    {
      "cell_type": "code",
      "execution_count": null,
      "metadata": {
        "id": "-1Q3IOZyoiV0",
        "outputId": "a4f125e9-57ff-450f-a832-d72fcdc66cd5"
      },
      "outputs": [
        {
          "data": {
            "text/plain": [
              "'Alberto'"
            ]
          },
          "execution_count": 10,
          "metadata": {},
          "output_type": "execute_result"
        }
      ],
      "source": [
        "# Acceder a los elementos de la lista\n",
        "name[0]"
      ]
    },
    {
      "cell_type": "code",
      "execution_count": null,
      "metadata": {
        "id": "2UICPm-loiV1",
        "outputId": "f7a80821-2d45-4c70-d0d7-006ff3c12da7"
      },
      "outputs": [
        {
          "data": {
            "text/plain": [
              "3"
            ]
          },
          "execution_count": 11,
          "metadata": {},
          "output_type": "execute_result"
        }
      ],
      "source": [
        "# Calcula la longitud de la lista.\n",
        "len(name)"
      ]
    },
    {
      "cell_type": "code",
      "execution_count": null,
      "metadata": {
        "id": "qMlGKxIIoiV1",
        "outputId": "1bf470b9-e9ba-46aa-990d-bb030a321258"
      },
      "outputs": [
        {
          "data": {
            "text/plain": [
              "7"
            ]
          },
          "execution_count": 12,
          "metadata": {},
          "output_type": "execute_result"
        }
      ],
      "source": [
        "# Calcular la longitud de los elementos individuales de una lista\n",
        "len(name[0]) # la longitud de \"Alberto\" es 7"
      ]
    },
    {
      "cell_type": "markdown",
      "metadata": {
        "id": "OjNS1E-eoiV2"
      },
      "source": [
        "## Operador de asignación en listas\n",
        "---\n",
        "\n",
        "La asignación con un `=` en listas no hace una copia. En su lugar, la asignación hace que las dos variables apunten a la única lista de la memoria. \n",
        "A veces se puede utilizar un operador de asignación para copiar de una lista a otra."
      ]
    },
    {
      "cell_type": "code",
      "execution_count": null,
      "metadata": {
        "id": "u59GhdVzoiV2",
        "outputId": "193cf16c-ceb1-4c68-fff5-c53564ff12eb"
      },
      "outputs": [
        {
          "data": {
            "text/plain": [
              "['Antonio', 'María', 'Laura']"
            ]
          },
          "execution_count": 9,
          "metadata": {},
          "output_type": "execute_result"
        }
      ],
      "source": [
        "# Crear una lista llamada nombre\n",
        "name = [\"Antonio\", \"María\", \"Laura\"]\n",
        "name"
      ]
    },
    {
      "cell_type": "code",
      "execution_count": null,
      "metadata": {
        "id": "zC1k01CAoiV2",
        "outputId": "49860e92-82d5-425d-922d-b94955e7cd3f"
      },
      "outputs": [
        {
          "data": {
            "text/plain": [
              "[]"
            ]
          },
          "execution_count": 10,
          "metadata": {},
          "output_type": "execute_result"
        }
      ],
      "source": [
        "# Crear una lista vacía nombres\n",
        "names = []\n",
        "names"
      ]
    },
    {
      "cell_type": "code",
      "execution_count": null,
      "metadata": {
        "id": "m8nmveDPoiV3",
        "outputId": "28dee6cc-c248-496f-98bd-5ab55817f657"
      },
      "outputs": [
        {
          "data": {
            "text/plain": [
              "['Antonio', 'María', 'Laura']"
            ]
          },
          "execution_count": 11,
          "metadata": {},
          "output_type": "execute_result"
        }
      ],
      "source": [
        "# Usar el operador de asignación en Listas no crea una copia.\n",
        "names = name\n",
        "names"
      ]
    },
    {
      "cell_type": "markdown",
      "metadata": {
        "id": "JT59I-N9oiV3"
      },
      "source": [
        "## Añadir dos listas como una sola\n",
        "---\n",
        "\n",
        "Normalmente, para añadir dos listas se utiliza el método `append()`, pero también se puede hacer utilizando un `+` (aquí + **NO** significa adición), mientras que + se puede utilizar para añadir o fusionar dos listas en una sola, como se muestra a continuación."
      ]
    },
    {
      "cell_type": "code",
      "execution_count": null,
      "metadata": {
        "id": "7a9SWwy-oiV4",
        "outputId": "ca99b960-e86d-4365-f900-7b0a6217caef"
      },
      "outputs": [
        {
          "data": {
            "text/plain": [
              "['Mercedes', 'BMW', 'Audi']"
            ]
          },
          "execution_count": 13,
          "metadata": {},
          "output_type": "execute_result"
        }
      ],
      "source": [
        "# Crear una nueva lista llamada Coches\n",
        "coches = [\"Mercedes\", \"BMW\", \"Audi\"]\n",
        "coches"
      ]
    },
    {
      "cell_type": "code",
      "execution_count": null,
      "metadata": {
        "id": "5rqteXPgoiV4",
        "outputId": "ed998413-290a-416a-81a2-21b09d203ef0"
      },
      "outputs": [
        {
          "data": {
            "text/plain": [
              "['Honda', 'Yamaha', 'Aprilia']"
            ]
          },
          "execution_count": 14,
          "metadata": {},
          "output_type": "execute_result"
        }
      ],
      "source": [
        "# Crear una nueva lista llamada motos\n",
        "motos = [\"Honda\", \"Yamaha\", \"Aprilia\"]\n",
        "motos"
      ]
    },
    {
      "cell_type": "code",
      "execution_count": null,
      "metadata": {
        "id": "Nch29clnoiV4",
        "outputId": "a5ffddd4-f115-4e7b-9f32-8fd5c9da4bc9"
      },
      "outputs": [
        {
          "data": {
            "text/plain": [
              "['Mercedes', 'BMW', 'Audi', 'Honda', 'Yamaha', 'Aprilia']"
            ]
          },
          "execution_count": 14,
          "metadata": {},
          "output_type": "execute_result"
        }
      ],
      "source": [
        "# Añadiendo ambas listas\n",
        "union_cochesmotos = coches + motos\n",
        "union_cochesmotos"
      ]
    },
    {
      "cell_type": "markdown",
      "metadata": {
        "id": "z6GDlBlooiV5"
      },
      "source": [
        "## Utilizar FOR e IN en listas\n",
        "----\n",
        "\n",
        "En Python los `for` e `in` se llaman construcciones, estas construcciones son fáciles de usar, se utilizan siempre que necesites iterar sobre una lista."
      ]
    },
    {
      "cell_type": "code",
      "execution_count": null,
      "metadata": {
        "id": "xyrCUPlGoiV5",
        "outputId": "a192184f-27dc-487e-9e05-ed50bdce7ab3"
      },
      "outputs": [
        {
          "name": "stdout",
          "output_type": "stream",
          "text": [
            "15\n"
          ]
        }
      ],
      "source": [
        "# Crear una lista\n",
        "num = [1, 2, 3, 4, 5]\n",
        "# Asignar la suma a 0\n",
        "suma = 0\n",
        "\n",
        "# Usando un bucle for para iterar sobre la lista\n",
        "for i in num:\n",
        "    suma = suma + i\n",
        "print(suma) # 15"
      ]
    },
    {
      "cell_type": "markdown",
      "metadata": {
        "id": "c-_WMTwGoiV6"
      },
      "source": [
        "### Utilizar IF e IN en listas\n",
        "Las construcciones `if` e `in` por sí solas son una forma sencilla de comprobar si un elemento aparece en una lista (u otra colección), comprueba si el valor está en la colección, devolviendo `True`/`False`. Esto también funciona para las cadenas de caracteres en Python."
      ]
    },
    {
      "cell_type": "code",
      "execution_count": null,
      "metadata": {
        "id": "lTGcUOIPoiV6",
        "outputId": "b58acf1b-83cd-4b6e-f6e0-addc77404bd1"
      },
      "outputs": [
        {
          "name": "stdout",
          "output_type": "stream",
          "text": [
            "True\n"
          ]
        }
      ],
      "source": [
        "# Crear una lista\n",
        "num = [1, 2, 3, 4, 5]\n",
        "if 1 in num:\n",
        "    print(\"True\")\n",
        "else:\n",
        "    print(\"False\")"
      ]
    },
    {
      "cell_type": "markdown",
      "metadata": {
        "id": "rksGd6K1oiV6"
      },
      "source": [
        "## Función Range\n",
        "---\n",
        "\n",
        "La función `range()` en Python se utiliza como límite en las construcciones de bucle, la función rango empieza de 0 a n-1, no incluye el último número como se muestra a continuación."
      ]
    },
    {
      "cell_type": "code",
      "execution_count": null,
      "metadata": {
        "id": "5gYSqYWPoiV7",
        "outputId": "85db68da-4ef7-49c9-c558-33092bd5237a"
      },
      "outputs": [
        {
          "name": "stdout",
          "output_type": "stream",
          "text": [
            "1\n",
            "2\n",
            "3\n",
            "4\n",
            "5\n"
          ]
        }
      ],
      "source": [
        "# El rango empieza de 0 a n-1\n",
        "for i in num:\n",
        "    print(i)"
      ]
    },
    {
      "cell_type": "markdown",
      "metadata": {
        "id": "7j1NlqCCoiV7"
      },
      "source": [
        "## Métodos\n",
        "---\n",
        "\n",
        "A continuación se muestran algunos de los métodos de lista más comunes con un ejemplo."
      ]
    },
    {
      "cell_type": "markdown",
      "metadata": {
        "id": "fYuZFmv1oiV7"
      },
      "source": [
        "#### Append\n",
        "\n",
        "El método `append()` sólo añade un elemento a la lista, pero nunca devuelve nada, sólo añade el elemento a la lista existente. `append(<obj>)`"
      ]
    },
    {
      "cell_type": "code",
      "execution_count": null,
      "metadata": {
        "id": "JTVyVpc2oiV7",
        "outputId": "12ebd645-7516-438d-cc93-920059d90595"
      },
      "outputs": [
        {
          "data": {
            "text/plain": [
              "['Alberto', 'LAra']"
            ]
          },
          "execution_count": 19,
          "metadata": {},
          "output_type": "execute_result"
        }
      ],
      "source": [
        "# Crear una nueva lista llamada name\n",
        "name = ['Alberto', 'LAra']\n",
        "name"
      ]
    },
    {
      "cell_type": "code",
      "execution_count": null,
      "metadata": {
        "id": "6em2op0boiV8",
        "outputId": "562bbf94-e1f9-4d5d-c24a-81dd35c1b863"
      },
      "outputs": [
        {
          "data": {
            "text/plain": [
              "['Alberto', 'LAra', 'Pablo']"
            ]
          },
          "execution_count": 20,
          "metadata": {},
          "output_type": "execute_result"
        }
      ],
      "source": [
        "# Utilizando la operación append en la corriente (\"Pablo\") es el valor que hay que añadir.\n",
        "name.append(\"Pablo\")\n",
        "name"
      ]
    },
    {
      "cell_type": "markdown",
      "metadata": {
        "id": "FUphqnkEoiV8"
      },
      "source": [
        "#### Insert\n",
        "\n",
        "La operación `insert()` se utiliza para insertar los elementos dentro de una lista con una posición de índice especificada. `insert(<index>, <obj>)`"
      ]
    },
    {
      "cell_type": "code",
      "execution_count": null,
      "metadata": {
        "id": "fVCYWjwwoiV8",
        "outputId": "52cce530-3ece-4994-c36b-977a53e67356"
      },
      "outputs": [
        {
          "data": {
            "text/plain": [
              "['Juan', 'Luis']"
            ]
          },
          "execution_count": 6,
          "metadata": {},
          "output_type": "execute_result"
        }
      ],
      "source": [
        "# Crear una nueva lista llamada lista\n",
        "name = ['Juan', 'Luis']\n",
        "name"
      ]
    },
    {
      "cell_type": "code",
      "execution_count": null,
      "metadata": {
        "id": "2n-2suwZoiV8",
        "outputId": "dbaf7baf-3635-4a90-b103-dc827de67710"
      },
      "outputs": [
        {
          "data": {
            "text/plain": [
              "['Juan', 'Antonio', 'Luis']"
            ]
          },
          "execution_count": 7,
          "metadata": {},
          "output_type": "execute_result"
        }
      ],
      "source": [
        "# Operación de inserción en la lista existente, aquí la posición del índice es 2.\n",
        "name.insert(1, \"Antonio\")\n",
        "name"
      ]
    },
    {
      "cell_type": "markdown",
      "metadata": {
        "id": "JgGAKvDooiV9"
      },
      "source": [
        "#### Extend\n",
        "\n",
        "El método `extend` añade los elementos al final de la nueva lista. Es similar a append, pero tienes que pasar la lista como argumento, mientras que en append no es necesariamente así. `extend(<iterable>)`"
      ]
    },
    {
      "cell_type": "code",
      "execution_count": null,
      "metadata": {
        "id": "lOR7MH6MoiV9",
        "outputId": "01ee6efe-d9e1-47ac-dbce-ca23e2f2123b"
      },
      "outputs": [
        {
          "data": {
            "text/plain": [
              "['Alberto', 'María']"
            ]
          },
          "execution_count": 8,
          "metadata": {},
          "output_type": "execute_result"
        }
      ],
      "source": [
        "# Crear una nueva lista llamada name\n",
        "name = ['Alberto', 'María']\n",
        "name"
      ]
    },
    {
      "cell_type": "code",
      "execution_count": null,
      "metadata": {
        "id": "SDCxGU_AoiV9",
        "outputId": "26e5ed34-54b6-4e29-de48-8b716a7c0e3e"
      },
      "outputs": [
        {
          "data": {
            "text/plain": [
              "['Alberto', 'María', 'J', 'u', 'a', 'n']"
            ]
          },
          "execution_count": 9,
          "metadata": {},
          "output_type": "execute_result"
        }
      ],
      "source": [
        "# Usando extender pero asegúrate de poner los elementos en un []\n",
        "# Sin []\n",
        "name.extend(\"Juan\")\n",
        "name"
      ]
    },
    {
      "cell_type": "code",
      "execution_count": null,
      "metadata": {
        "id": "dQPZ1IsEoiV-",
        "outputId": "7e954c9d-d3c7-4c80-d4f7-1afefde7202f"
      },
      "outputs": [
        {
          "data": {
            "text/plain": [
              "['Alberto', 'María', 'J', 'u', 'a', 'n', 'Laura', 'Laura', 'Laura']"
            ]
          },
          "execution_count": 13,
          "metadata": {},
          "output_type": "execute_result"
        }
      ],
      "source": [
        "# Después\n",
        "name.extend([\"Laura\"])\n",
        "name"
      ]
    },
    {
      "cell_type": "markdown",
      "metadata": {
        "id": "GpcVM2ZnoiV-"
      },
      "source": [
        "#### Index\n",
        "\n",
        "La operación `index()` de la lista busca el elemento en la lista y devuelve el índice de ese elemento. Si el elemento no está presente en la lista, el método índice devuelve un valor de error que indica que el elemento no está en la lista. `index(<obj>[,index])`"
      ]
    },
    {
      "cell_type": "code",
      "execution_count": null,
      "metadata": {
        "id": "OuT8kBuxoiV-",
        "outputId": "1619752d-163c-4d02-898f-6a8c5ac00656"
      },
      "outputs": [
        {
          "data": {
            "text/plain": [
              "['Alberto', 'María']"
            ]
          },
          "execution_count": 14,
          "metadata": {},
          "output_type": "execute_result"
        }
      ],
      "source": [
        "# Crear una nueva lista llamada name\n",
        "name = ['Alberto', 'María']\n",
        "name"
      ]
    },
    {
      "cell_type": "code",
      "execution_count": null,
      "metadata": {
        "id": "zaaWHJ5RoiV-",
        "outputId": "c7f76a73-a7ae-44d4-aa47-0944b4944a38"
      },
      "outputs": [
        {
          "data": {
            "text/plain": [
              "['Alberto', 'María']"
            ]
          },
          "execution_count": 15,
          "metadata": {},
          "output_type": "execute_result"
        }
      ],
      "source": [
        "# Después de indexar, escribe el elemento que quieres indexar.\n",
        "name.index(\"María\")\n",
        "name"
      ]
    },
    {
      "cell_type": "code",
      "execution_count": null,
      "metadata": {
        "id": "J1gWGcNloiV_",
        "outputId": "2a02c835-0c11-43af-8f8e-7657c75265c0"
      },
      "outputs": [
        {
          "ename": "ValueError",
          "evalue": "'Juan' is not in list",
          "output_type": "error",
          "traceback": [
            "\u001b[0;31m---------------------------------------------------------------------------\u001b[0m",
            "\u001b[0;31mValueError\u001b[0m                                Traceback (most recent call last)",
            "Cell \u001b[0;32mIn[16], line 2\u001b[0m\n\u001b[1;32m      1\u001b[0m \u001b[39m# Si el elemento no está presente, obtendrás un error\u001b[39;00m\n\u001b[0;32m----> 2\u001b[0m name\u001b[39m.\u001b[39;49mindex(\u001b[39m\"\u001b[39;49m\u001b[39mJuan\u001b[39;49m\u001b[39m\"\u001b[39;49m)\n",
            "\u001b[0;31mValueError\u001b[0m: 'Juan' is not in list"
          ]
        }
      ],
      "source": [
        "# Si el elemento no está presente, obtendrás un error\n",
        "name.index(\"Juan\")"
      ]
    },
    {
      "cell_type": "markdown",
      "metadata": {
        "id": "KQrs-MT6oiV_"
      },
      "source": [
        "#### Remove\n",
        "\n",
        "El método `remove` de las listas busca el elemento y, al coincidir, elimina el elemento presente en la lista. También lanza un error cuando el elemento no está en la lista. `remove(<obj>)`"
      ]
    },
    {
      "cell_type": "code",
      "execution_count": null,
      "metadata": {
        "id": "ZTwajngsoiWA",
        "outputId": "6da9d0ac-5269-4cdf-fdb0-7c36648bd446"
      },
      "outputs": [
        {
          "data": {
            "text/plain": [
              "['Alberto', 'María', 'Juan']"
            ]
          },
          "execution_count": 17,
          "metadata": {},
          "output_type": "execute_result"
        }
      ],
      "source": [
        "# Crear una nueva lista llamada name\n",
        "name = ['Alberto', 'María', 'Juan']\n",
        "name"
      ]
    },
    {
      "cell_type": "code",
      "execution_count": null,
      "metadata": {
        "id": "cC1Dier1oiWA",
        "outputId": "7562d3f0-b0c3-4526-9cb4-b3a055fb30fe"
      },
      "outputs": [
        {
          "data": {
            "text/plain": [
              "['Alberto', 'Juan']"
            ]
          },
          "execution_count": 18,
          "metadata": {},
          "output_type": "execute_result"
        }
      ],
      "source": [
        "name.remove(\"María\")\n",
        "name"
      ]
    },
    {
      "cell_type": "markdown",
      "metadata": {
        "id": "WYXIBwKZoiWA"
      },
      "source": [
        "Puedo eliminar tambien registros con el prefilo `del` especificando el indice de la lista."
      ]
    },
    {
      "cell_type": "code",
      "execution_count": null,
      "metadata": {
        "id": "MLft9upuoiWA",
        "outputId": "3b545dcb-cd9b-4f57-8483-d465ff02f101"
      },
      "outputs": [
        {
          "data": {
            "text/plain": [
              "['Juan']"
            ]
          },
          "execution_count": 19,
          "metadata": {},
          "output_type": "execute_result"
        }
      ],
      "source": [
        "del name[0]\n",
        "name"
      ]
    },
    {
      "cell_type": "markdown",
      "metadata": {
        "id": "hu9rVSD4oiWC"
      },
      "source": [
        "#### Sort\n",
        "\n",
        "Como su nombre indica, el método ordenar ordena los elementos en orden ascendente. Este método no devuelve nada. `sort()`"
      ]
    },
    {
      "cell_type": "code",
      "execution_count": null,
      "metadata": {
        "id": "MNzuOwauoiWC",
        "outputId": "a87d5ed7-b6a5-42f4-d15d-5f5633d07422"
      },
      "outputs": [
        {
          "data": {
            "text/plain": [
              "[1, 4, 5, 2, 3]"
            ]
          },
          "execution_count": 20,
          "metadata": {},
          "output_type": "execute_result"
        }
      ],
      "source": [
        "num = [1, 4, 5, 2, 3]\n",
        "num"
      ]
    },
    {
      "cell_type": "code",
      "execution_count": null,
      "metadata": {
        "id": "hCr7J_7xoiWC",
        "outputId": "9bb8ab57-b3b6-4125-c6c9-b79b5c0f3475"
      },
      "outputs": [
        {
          "data": {
            "text/plain": [
              "[1, 2, 3, 4, 5]"
            ]
          },
          "execution_count": 21,
          "metadata": {},
          "output_type": "execute_result"
        }
      ],
      "source": [
        "num.sort()\n",
        "num"
      ]
    },
    {
      "cell_type": "markdown",
      "metadata": {
        "id": "1dIj_e-poiWC"
      },
      "source": [
        "¿Y si quieres imprimir la lista en orden descendente?\n",
        "Debemos dar reverse=True como parámetro en el método sort."
      ]
    },
    {
      "cell_type": "code",
      "execution_count": null,
      "metadata": {
        "id": "VP260P31oiWC",
        "outputId": "5ca9e8e4-f8be-41a3-bc0d-667454529cf4"
      },
      "outputs": [
        {
          "name": "stdout",
          "output_type": "stream",
          "text": [
            "[5, 4, 3, 2, 1]\n"
          ]
        }
      ],
      "source": [
        "num.sort(reverse=True)\n",
        "print(num)"
      ]
    },
    {
      "cell_type": "markdown",
      "metadata": {
        "id": "neSz04HQoiWC"
      },
      "source": [
        "#### Reverse\n",
        "\n",
        "Como su nombre indica, el método ``reverse`` invierte toda la lista. Este método no devuelve nada. `reverse()`"
      ]
    },
    {
      "cell_type": "code",
      "execution_count": null,
      "metadata": {
        "id": "eeKJfLVooiWC",
        "outputId": "d2d4c081-6cc6-4249-896c-d40486c76d08"
      },
      "outputs": [
        {
          "data": {
            "text/plain": [
              "[1, 2, 3, 4, 5]"
            ]
          },
          "execution_count": 23,
          "metadata": {},
          "output_type": "execute_result"
        }
      ],
      "source": [
        "num = [1, 2, 3, 4, 5]\n",
        "num"
      ]
    },
    {
      "cell_type": "code",
      "execution_count": null,
      "metadata": {
        "id": "tcgc0bDToiWC",
        "outputId": "ac818e94-9745-4b68-cdbc-88dfcd733ecb"
      },
      "outputs": [
        {
          "data": {
            "text/plain": [
              "[5, 4, 3, 2, 1]"
            ]
          },
          "execution_count": 24,
          "metadata": {},
          "output_type": "execute_result"
        }
      ],
      "source": [
        "num.reverse()\n",
        "num"
      ]
    },
    {
      "cell_type": "markdown",
      "metadata": {
        "id": "hrvuLqGKoiWD"
      },
      "source": [
        "#### Pop\n",
        "\n",
        "El método `pop` elimina y devuelve el elemento situado en el índice dado. Devuelve el elemento situado más a la derecha si se omite el índice (más o menos lo contrario que append()). `pop(index=-1)`"
      ]
    },
    {
      "cell_type": "code",
      "execution_count": null,
      "metadata": {
        "id": "fPaajhnQoiWD",
        "outputId": "d1ec5623-270a-4ace-fce2-73910cdbe755"
      },
      "outputs": [
        {
          "data": {
            "text/plain": [
              "[1, 2, 3, 4, 5]"
            ]
          },
          "execution_count": 25,
          "metadata": {},
          "output_type": "execute_result"
        }
      ],
      "source": [
        "num = [1, 2, 3, 4, 5]\n",
        "num"
      ]
    },
    {
      "cell_type": "code",
      "execution_count": null,
      "metadata": {
        "id": "yAej6medoiWD",
        "outputId": "1ff613ed-393a-4746-b327-546b7024d533"
      },
      "outputs": [
        {
          "name": "stdout",
          "output_type": "stream",
          "text": [
            "2\n",
            "[1, 3, 4, 5]\n"
          ]
        }
      ],
      "source": [
        "print(num.pop(1))\n",
        "print(num)"
      ]
    },
    {
      "cell_type": "markdown",
      "metadata": {
        "id": "xB7HzSeIoiWD"
      },
      "source": [
        "#### Copy\n",
        "\n",
        "Devuelve una copia de la lista. Esto se puede hacer para realizar operaciones en la lista sin modificar la lista original."
      ]
    },
    {
      "cell_type": "code",
      "execution_count": null,
      "metadata": {
        "id": "rENmjxqcoiWE",
        "outputId": "187a8a58-00c6-413c-a713-47b35c507d18"
      },
      "outputs": [
        {
          "name": "stdout",
          "output_type": "stream",
          "text": [
            "['Alberto', 'Juan', 'Alfonso']\n",
            "['Alberto', 'Juan', 'María', 'Alfonso']\n"
          ]
        }
      ],
      "source": [
        "name = [\"Alberto\", \"Juan\", \"María\", \"Alfonso\"]\n",
        "newname = name.copy()\n",
        "name.remove(\"María\")\n",
        "print(name)\n",
        "print(newname)"
      ]
    },
    {
      "cell_type": "markdown",
      "metadata": {
        "id": "SDxM4IqWoiWE"
      },
      "source": [
        "#### Slice\n",
        "\n",
        "Slice la lista significa recortar los elementos de la lista, y también se puede utilizar para cambiar subpartes de la lista."
      ]
    },
    {
      "cell_type": "code",
      "execution_count": null,
      "metadata": {
        "id": "inwG34G0oiWE",
        "outputId": "c92663a6-0dad-4eb9-e37e-8c660186f8c9"
      },
      "outputs": [
        {
          "data": {
            "text/plain": [
              "['b', 'c']"
            ]
          },
          "execution_count": 2,
          "metadata": {},
          "output_type": "execute_result"
        }
      ],
      "source": [
        "char = ['a', 'b', 'c', 'd']\n",
        "char[1:-1]"
      ]
    },
    {
      "cell_type": "code",
      "execution_count": null,
      "metadata": {
        "id": "7Efk0VMloiWE",
        "outputId": "05ef5b18-048e-42b8-9d2b-acc74cc5c426"
      },
      "outputs": [
        {
          "data": {
            "text/plain": [
              "['z', 'c', 'd']"
            ]
          },
          "execution_count": 3,
          "metadata": {},
          "output_type": "execute_result"
        }
      ],
      "source": [
        "char[0:2] = 'z'\n",
        "char"
      ]
    },
    {
      "cell_type": "markdown",
      "metadata": {
        "id": "Z4W1y0s1oiWF"
      },
      "source": [
        "## Convertir un string en una lista\n",
        "---\n",
        "\n",
        "Esta es la técnica más importante. A menudo, necesitamos convertir la cadena en una lista. Estamos utilizando el método split de las cadenas donde el método split simplemente divide los elementos de la cadena y luego los pasa en una lista como se muestra."
      ]
    },
    {
      "cell_type": "code",
      "execution_count": null,
      "metadata": {
        "id": "bJVS_sIwoiWF",
        "outputId": "0689659f-471a-47df-c6d9-bd1f8fd5b5cc"
      },
      "outputs": [
        {
          "data": {
            "text/plain": [
              "'Esto es un ejemplo del curso de Python de Kschool'"
            ]
          },
          "execution_count": 72,
          "metadata": {},
          "output_type": "execute_result"
        }
      ],
      "source": [
        "string = \"Esto es un ejemplo del curso de Python de Kschool\"\n",
        "string"
      ]
    },
    {
      "cell_type": "code",
      "execution_count": null,
      "metadata": {
        "id": "l4BX-DX_oiWF",
        "outputId": "6aa0a9b0-dc97-4f93-ebf6-8503565cbb6a"
      },
      "outputs": [
        {
          "data": {
            "text/plain": [
              "str"
            ]
          },
          "execution_count": 73,
          "metadata": {},
          "output_type": "execute_result"
        }
      ],
      "source": [
        "# Comprobación del tipo \n",
        "type(string)"
      ]
    },
    {
      "cell_type": "code",
      "execution_count": null,
      "metadata": {
        "id": "m6GRVBomoiWF",
        "outputId": "31d1a482-1487-4abc-cb4a-1cad98dcd528"
      },
      "outputs": [
        {
          "name": "stdout",
          "output_type": "stream",
          "text": [
            "['Esto', 'es', 'un', 'ejemplo', 'del', 'curso', 'de', 'Python', 'de', 'Kschool']\n"
          ]
        },
        {
          "data": {
            "text/plain": [
              "list"
            ]
          },
          "execution_count": 77,
          "metadata": {},
          "output_type": "execute_result"
        }
      ],
      "source": [
        "# Utiliza el método split para dividir la cadena en una lista.\n",
        "palabras = list(string.split(\" \"))\n",
        "print(palabras)\n",
        "type(palabras)"
      ]
    },
    {
      "cell_type": "markdown",
      "metadata": {
        "id": "VYxJYpZWoiWG"
      },
      "source": [
        "## Convertir una lista en una cadena (string)\n",
        "---\n",
        "\n",
        "A veces para expresar la salida de un array como un string, es necesario procesar una lista y agruparla por un separador. Para ello, se utiliza el método join (visto también en el Notebook **[Kshool NB003]Python_Variables**)"
      ]
    },
    {
      "cell_type": "code",
      "execution_count": null,
      "metadata": {
        "id": "-NcMHrqpoiWG",
        "outputId": "11dec292-a59f-4872-97f8-91436f01aaf7"
      },
      "outputs": [
        {
          "name": "stdout",
          "output_type": "stream",
          "text": [
            "Esto es un ejemplo del curso de Python de Kschool\n"
          ]
        },
        {
          "data": {
            "text/plain": [
              "str"
            ]
          },
          "execution_count": 82,
          "metadata": {},
          "output_type": "execute_result"
        }
      ],
      "source": [
        "nuevo_str = \" \".join(palabras)\n",
        "print(nuevo_str)\n",
        "type(nuevo_str)"
      ]
    },
    {
      "cell_type": "markdown",
      "metadata": {
        "id": "mBZMjkHFoiWH"
      },
      "source": [
        "## List Comprehension\n",
        "---\n",
        "\n",
        "Las comprensiones de listas se utilizan para crear listas nuevas a partir de otros iterables como listas, tuplas, diccionarios, conjuntos, e incluso en matrices y cadenas.\n",
        "\n",
        "Sintaxis:\n",
        "- lista = `[`expresión(elemento) `for` elemento `in` iterable `if` condición`]`\n",
        "- expresión: es el elemento que se itera.\n",
        "- iterable: puede ser una lista, tuplas, diccionarios, conjuntos e incluso matrices y cadenas.\n",
        "- condición: la condición comprueba si el elemento debe añadirse a la nueva lista o no. "
      ]
    },
    {
      "cell_type": "markdown",
      "metadata": {
        "id": "cdWrtq8RoiWH"
      },
      "source": [
        "1. acepta elementos con la letra \"o\" minúscula en la nueva lista "
      ]
    },
    {
      "cell_type": "code",
      "execution_count": null,
      "metadata": {
        "id": "Eqj3YYpLoiWH",
        "outputId": "b054bd8a-f143-4f73-c033-e1402e0a69e2"
      },
      "outputs": [
        {
          "name": "stdout",
          "output_type": "stream",
          "text": [
            "['Alberto', 'Bruno', 'Rosa']\n"
          ]
        }
      ],
      "source": [
        "nombres = [\"Alberto\", \"Juan\", \"Bruno\", \"María\", \"Rosa\"]\n",
        "nombresCon_O = [elemento for elemento in nombres if \"o\" in elemento]\n",
        "print(nombresCon_O)"
      ]
    },
    {
      "cell_type": "markdown",
      "metadata": {
        "id": "jtoMNre6oiWH"
      },
      "source": [
        "2. acepta elementos que tengan más de 4 letras"
      ]
    },
    {
      "cell_type": "code",
      "execution_count": null,
      "metadata": {
        "id": "otfb7Dp5oiWI",
        "outputId": "bf4d0678-545d-414c-e99a-f20ef1008a90"
      },
      "outputs": [
        {
          "name": "stdout",
          "output_type": "stream",
          "text": [
            "['Alberto', 'Bruno', 'María']\n"
          ]
        }
      ],
      "source": [
        "nombres = [\"Alberto\", \"Juan\", \"Bruno\", \"María\", \"Rosa\"]\n",
        "nombresCon_O = [elemento for elemento in nombres if (len(elemento) > 4)]\n",
        "print(nombresCon_O)"
      ]
    },
    {
      "cell_type": "markdown",
      "metadata": {
        "id": "HLUmk1O8oiWI"
      },
      "source": [
        "#### **Notas importantes**"
      ]
    },
    {
      "cell_type": "markdown",
      "metadata": {
        "id": "pf2ZKiYkoiWI"
      },
      "source": [
        "Cuando decimos que las tuplas son inmutables, muchos programadores de Python piensan que los valores dentro de una tupla no pueden cambiar. Pero esto no es cierto.\n",
        "\n",
        "La inmutabilidad de una tupla se limita únicamente a la identidad de los objetos que contiene, no a su valor.\n",
        "\n",
        "En otras palabras, supongamos que una tupla tiene dos objetos con ID 1 y 2. La inmutabilidad dice que esta colección de IDs (y su orden) no puede cambiar nunca.\n",
        "\n",
        "Sin embargo, NO existe la restricción de que los objetos individuales con ID 1 y 2 no puedan modificarse.\n",
        "\n",
        "Esto explica la siguiente demostración. Como 𝐚𝐩𝐩𝐞𝐧𝐝 es una operación inplace, los IDs referenciados dentro de la tupla no cambiaron. \n",
        "Por tanto, Python no genera ningún error.\n",
        "\n",
        "Podemos verlo en el siguiente ejemplo."
      ]
    },
    {
      "cell_type": "code",
      "execution_count": null,
      "metadata": {
        "id": "ghhg9q_woiWI",
        "outputId": "a37a9082-f977-43cd-8e0b-4a4fcdc9b9d7"
      },
      "outputs": [
        {
          "name": "stdout",
          "output_type": "stream",
          "text": [
            "(1, [2, 3])\n",
            "(1, [2, 3, 4])\n"
          ]
        }
      ],
      "source": [
        "tupla = (1, [2,3])\n",
        "print(tupla)\n",
        "\n",
        "tupla[1].append(4)\n",
        "print(tupla)"
      ]
    },
    {
      "cell_type": "markdown",
      "metadata": {
        "id": "FxUKwME4oiWJ"
      },
      "source": [
        "<h1>¡¡¡Lets Code!!! </h1>\n",
        "<img src=\"https://gifdb.com/images/thumbnail/pixel-art-super-mario-computer-amwdq1xi8bgz0omx.gif\" alt=\"Challenge Accepted\" style=\"width: 500px\">"
      ]
    },
    {
      "cell_type": "markdown",
      "metadata": {
        "id": "XdKtm0BZoiWJ"
      },
      "source": [
        "#### **Enunciado Ejercicio 1**::\n",
        "Dada una lista de elementos, crea el codigo que chequé si esta lista de elementos está ordenada de forma ascendente devolviendo **True** o **False** si no lo está."
      ]
    },
    {
      "cell_type": "markdown",
      "metadata": {
        "id": "pMZxI9zYoiWJ"
      },
      "source": [
        "#### **Enunciado Ejercicio 2**::\n",
        "Comprueba todos los elementos de una lista y devuelve solo aquellos que sean pares.\n",
        "\n",
        "**lista_elementos** = [0,1,1,2,3,2,5,6]"
      ]
    },
    {
      "cell_type": "markdown",
      "metadata": {
        "id": "exonDAr-oiWJ"
      },
      "source": [
        "#### **Enunciado Ejercicio 3**::\n",
        "Escribe un prompt que tome un número entero n como argumento y utilice list comprehension para crear una lista con los cuadrados de los números del 1 al n, inclusive."
      ]
    }
  ],
  "metadata": {
    "kernelspec": {
      "display_name": "Python 3",
      "language": "python",
      "name": "python3"
    },
    "language_info": {
      "codemirror_mode": {
        "name": "ipython",
        "version": 3
      },
      "file_extension": ".py",
      "mimetype": "text/x-python",
      "name": "python",
      "nbconvert_exporter": "python",
      "pygments_lexer": "ipython3",
      "version": "3.10.10"
    },
    "orig_nbformat": 4,
    "colab": {
      "provenance": [],
      "include_colab_link": true
    }
  },
  "nbformat": 4,
  "nbformat_minor": 0
}