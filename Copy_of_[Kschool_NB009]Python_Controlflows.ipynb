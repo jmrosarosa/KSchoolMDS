{
  "cells": [
    {
      "cell_type": "markdown",
      "metadata": {
        "id": "view-in-github",
        "colab_type": "text"
      },
      "source": [
        "<a href=\"https://colab.research.google.com/github/jmrosarosa/KSchoolMDS/blob/main/Copy_of_%5BKschool_NB009%5DPython_Controlflows.ipynb\" target=\"_parent\"><img src=\"https://colab.research.google.com/assets/colab-badge.svg\" alt=\"Open In Colab\"/></a>"
      ]
    },
    {
      "cell_type": "markdown",
      "metadata": {
        "id": "bXfzjZHSL4UC"
      },
      "source": [
        "# [Kschool NB009]Python_Controlflow\n",
        "* Objetivos:\n",
        "    - Entender el funcionamiento de las estructuras de control"
      ]
    },
    {
      "cell_type": "markdown",
      "metadata": {
        "id": "LCR2XhBKL4UE"
      },
      "source": [
        "<img src=\"https://media.istockphoto.com/id/1024173328/vector/challenge-accepted-banner.jpg?s=612x612&w=0&k=20&c=HkpbXPIxSoS0zZIB36AdXz8u3TE2peAC0_s1jNTCKTc=\" alt=\"Challenge Accepted\" style=\"width: 300px\">"
      ]
    },
    {
      "cell_type": "markdown",
      "metadata": {
        "id": "ZxL-hvcvL4UE"
      },
      "source": [
        "---\n",
        "---\n",
        "---"
      ]
    },
    {
      "cell_type": "markdown",
      "metadata": {
        "id": "c2xUGmbNL4UE"
      },
      "source": [
        "# **Estructuras de control (Control Flow)**\n",
        "---"
      ]
    },
    {
      "cell_type": "markdown",
      "metadata": {
        "id": "e-gd5pieL4UE"
      },
      "source": [
        "Las `estructuras de control` nos permiten repetir un determinado bloque de código tantas veces como queramos."
      ]
    },
    {
      "cell_type": "markdown",
      "metadata": {
        "id": "56-U3XrzL4UE"
      },
      "source": [
        "Por defecto, las sentencias de un script Python se ejecutan secuencialmente de arriba abajo. Si la lógica de procesamiento lo requiere, el flujo secuencial de ejecución puede alterarse de dos formas:\n",
        "\n",
        "- `Ejecución condicional`: un bloque de una o más sentencias se ejecutará si una determinada expresión es verdadera\n",
        "- `Ejecución repetitiva`: un bloque de una o más sentencias se ejecutará repetidamente mientras una determinada expresión sea verdadera. En esta sección trataremos las sentencias if, else y elif. Los operadores lógicos y de comparación que aprendimos en secciones anteriores serán útiles aquí."
      ]
    },
    {
      "cell_type": "markdown",
      "metadata": {
        "id": "M3SSwYQZL4UF"
      },
      "source": [
        "## Condición if\n",
        "---\n",
        "\n",
        "En python y otros lenguajes de programación, la palabra clave `if` se utiliza para comprobar si una condición es verdadera(**True**) y ejecutar el código del bloque. Recuerda lo que vimos en **[Kshool NB002]Python_Basics** sobre la indentación después de los dos puntos."
      ]
    },
    {
      "cell_type": "markdown",
      "metadata": {
        "id": "TO8UNCg5L4UF"
      },
      "source": [
        "<img src=\"https://raw.githubusercontent.com/0xdevgranero/kschool/main/images/img2.png\" alt=\"Drawing\" style=\"width: 800px\"/>"
      ]
    },
    {
      "cell_type": "code",
      "execution_count": null,
      "metadata": {
        "id": "sDwwXAcLL4UF",
        "outputId": "cefea9f3-2c5f-4ebf-e485-4aa840abfb9c"
      },
      "outputs": [
        {
          "name": "stdout",
          "output_type": "stream",
          "text": [
            "A es un número positivo\n"
          ]
        }
      ],
      "source": [
        "a = 5\n",
        "if a > 0:\n",
        "    print('a es un número positivo')"
      ]
    },
    {
      "cell_type": "markdown",
      "metadata": {
        "id": "DPp8ZbmfL4UG"
      },
      "source": [
        "Como puedes ver, 5 es mayor que 0. La condición era verdadera y se ejecutó el código del bloque.Sin embargo, si la condición es falsa, no vemos el resultado.\n"
      ]
    },
    {
      "cell_type": "code",
      "execution_count": null,
      "metadata": {
        "id": "RDIhCC-AL4UG",
        "outputId": "ec426bf6-e810-4545-d9c5-3f596f5c0a98"
      },
      "outputs": [
        {
          "name": "stdout",
          "output_type": "stream",
          "text": [
            "0.3\n",
            "Siempre me ejecuto\n"
          ]
        }
      ],
      "source": [
        "b = 10\n",
        "if b <= 10:\n",
        "    c = a/b\n",
        "    print(c)\n",
        "print(\"Siempre me ejecuto\")"
      ]
    },
    {
      "cell_type": "markdown",
      "metadata": {
        "id": "4Dq7y0oSL4UG"
      },
      "source": [
        "Todo lo que vaya después del if y esté identado, será parte del bloque de código que se ejecutará si la condición se cumple. Por lo tanto el segundo print() será ejecutado siempre, ya que está fuera del bloque if.\n",
        "\n",
        "Se puede también combinar varias condiciones entre el **if** y los **:**"
      ]
    },
    {
      "cell_type": "code",
      "execution_count": null,
      "metadata": {
        "id": "nXOaoH-6L4UG",
        "outputId": "c455991f-d815-4563-8722-6afd16510878"
      },
      "outputs": [
        {
          "name": "stdout",
          "output_type": "stream",
          "text": [
            "a es mayor o igual que 5 y b es igual que 10\n"
          ]
        }
      ],
      "source": [
        "a = 10\n",
        "if a >= 5 and b == 10:\n",
        "    print(\"a es mayor o igual que 5 y b es igual que 10\")"
      ]
    },
    {
      "cell_type": "markdown",
      "metadata": {
        "id": "cFE7onRIL4UG"
      },
      "source": [
        "Si recordamos los operadores `Truthy` y `Falsy` de Python, podemos hacer algo como esto:"
      ]
    },
    {
      "cell_type": "code",
      "execution_count": null,
      "metadata": {
        "id": "gbxeFpU-L4UG",
        "outputId": "d8ed70bf-0e98-4387-b051-4ae178b943a6"
      },
      "outputs": [
        {
          "name": "stdout",
          "output_type": "stream",
          "text": [
            "Siempre me ejecuto\n"
          ]
        }
      ],
      "source": [
        "if True:\n",
        "    print(\"Siempre me ejecuto\")"
      ]
    },
    {
      "cell_type": "markdown",
      "metadata": {
        "id": "hkiyLdsqL4UG"
      },
      "source": [
        "## Condición If Else\n",
        "---\n",
        "Es posible que no solo queramos hacer algo si una determinada condición se cumple, sino que además queramos hacer algo de lo contrario.\n",
        "Si la condición es verdadera se ejecutará el primer bloque, si no lo es se ejecutará la condición else, por lo que ambos bloque de código son **excluyentes**, se entra o en uno o en otro, pero nunca se ejecutarán los dos."
      ]
    },
    {
      "cell_type": "markdown",
      "metadata": {
        "id": "PcFcAECwL4UG"
      },
      "source": [
        "<img src=\"https://raw.githubusercontent.com/0xdevgranero/kschool/main/images/img3.png\" alt=\"Drawing\" style=\"width: 800px\"/>"
      ]
    },
    {
      "cell_type": "code",
      "execution_count": null,
      "metadata": {
        "id": "ow3bKNTOL4UH",
        "outputId": "6a511c3b-c58d-4de6-e3c0-b3c532683f6b"
      },
      "outputs": [
        {
          "name": "stdout",
          "output_type": "stream",
          "text": [
            "A es un número positivo\n"
          ]
        }
      ],
      "source": [
        "a = 3\n",
        "if a < 0:\n",
        "    print('A es un número negativo')\n",
        "else:\n",
        "    print('A es un número positivo')"
      ]
    },
    {
      "cell_type": "markdown",
      "metadata": {
        "id": "CTBOczEQL4UH"
      },
      "source": [
        "La condición anterior resulta `False`, por lo que se ejecutó el bloque `else`."
      ]
    },
    {
      "cell_type": "markdown",
      "metadata": {
        "id": "Mi-HtHi1L4UH"
      },
      "source": [
        "Vamos a recrear el ejemplo de los `Truthy` y `Falsy` de la sección anterior, pero ahora con `if` y `else`:"
      ]
    },
    {
      "cell_type": "code",
      "execution_count": null,
      "metadata": {
        "id": "LqzVvnGFL4UH",
        "outputId": "9e4b83e2-8a56-49ef-8267-1efdd2355b1b"
      },
      "outputs": [
        {
          "name": "stdout",
          "output_type": "stream",
          "text": [
            "Siempre me ejecuto\n"
          ]
        }
      ],
      "source": [
        "if True:\n",
        "    print(\"Siempre me ejecuto\")\n",
        "else:\n",
        "    print(\"Nunca me ejecuto\")"
      ]
    },
    {
      "cell_type": "markdown",
      "metadata": {
        "id": "1nzLeHFGL4UH"
      },
      "source": [
        "Cómo podemos observar se cumple la condición de exclusión de ambas sentencias, por lo que solo se ejecuta la primera."
      ]
    },
    {
      "cell_type": "markdown",
      "metadata": {
        "id": "Ts1B1TfpL4UH"
      },
      "source": [
        "## Condición If Elif Else\n",
        "---\n",
        "En nuestra vida cotidiana, tomamos decisiones a diario. Tomamos decisiones no comprobando una o dos condiciones, sino múltiples condiciones. Al igual que en la vida, la programación también está llena de condiciones.\n",
        "\n",
        "Hasta ahora hemos visto como ejecutar un bloque de código si se cumple una instrucción, u otro si no se cumple, pero no es suficiente. Podemos tener varias condiciones diferentes y para cada una queremos un código distinto. Utilizamos elif cuando tenemos múltiples condiciones."
      ]
    },
    {
      "cell_type": "markdown",
      "metadata": {
        "id": "1Ef8Pr5XL4UH"
      },
      "source": [
        "<img src=\"https://raw.githubusercontent.com/0xdevgranero/kschool/main/images/img4.png\" alt=\"Drawing\" style=\"width: 800px\"/>"
      ]
    },
    {
      "cell_type": "code",
      "execution_count": null,
      "metadata": {
        "id": "btZr6S3IL4UH",
        "outputId": "200e0f9d-5843-457e-c128-64743a842dd7"
      },
      "outputs": [
        {
          "name": "stdout",
          "output_type": "stream",
          "text": [
            "Soy Alberto\n"
          ]
        }
      ],
      "source": [
        "nombre = \"Alberto\"\n",
        "if nombre == \"Alberto\":\n",
        "    print(\"Soy Alberto\")\n",
        "elif nombre == \"alberto\":\n",
        "    print(\"Soy alberto\")\n",
        "elif nombre == \"Albert\":\n",
        "    print(\"Soy Albert\")\n",
        "else:\n",
        "    print(\"No soy Alberto, ni alberto, ni Albert\")"
      ]
    },
    {
      "cell_type": "markdown",
      "metadata": {
        "id": "PDaIJ9_kL4UH"
      },
      "source": [
        "Con la cláusula `elif` podemos ejecutar tantos bloques de código distintos como queramos. Se puede usar también de manera conjunta todo, el `if` con el `elif` y un `else` al final.\n",
        "\n",
        "Debemos de cerciorarnos que tanto `if` como `else ` solamente puede haber uno, mientras que `elif` puede haber varios."
      ]
    },
    {
      "cell_type": "markdown",
      "metadata": {
        "id": "2wC1r4cKL4UH"
      },
      "source": [
        "## Operador Ternario\n",
        "---\n",
        "\n",
        "Muchos lenguajes de programación tienen un operador ternario, que define una expresión condicional. \n",
        "\n",
        "El uso más común es hacer una declaración de asignación condicional simple y concisa. \n",
        "En otras palabras, ofrece un código de una línea para evaluar la primera expresión si la condición es verdadera, y en caso contrario evalúa la segunda expresión."
      ]
    },
    {
      "cell_type": "markdown",
      "metadata": {
        "id": "P2TPQJ9PL4UH"
      },
      "source": [
        "Existen tres partes en un operador ternario, que son exactamente iguales a los que había en un if else. \n",
        "Tenemos la condición a evaluar, el código que se ejecuta si se cumple, y el código que se ejecuta si no se cumple, las tres en la misma línea.\n",
        "\n",
        "`<expression1> if <condition> else <expression2>`"
      ]
    },
    {
      "cell_type": "code",
      "execution_count": null,
      "metadata": {
        "id": "ofPqQhhOL4UH",
        "outputId": "9b4cc431-317c-440c-883e-c8bebdee49e9"
      },
      "outputs": [
        {
          "name": "stdout",
          "output_type": "stream",
          "text": [
            "A es un número positivo\n"
          ]
        }
      ],
      "source": [
        "a = 3\n",
        "if a < 0:\n",
        "    print('A es un número negativo')\n",
        "else:\n",
        "    print('A es un número positivo')"
      ]
    },
    {
      "cell_type": "markdown",
      "metadata": {
        "id": "_u94VeGuL4UH"
      },
      "source": [
        "El código anterior es equivalente a:"
      ]
    },
    {
      "cell_type": "code",
      "execution_count": null,
      "metadata": {
        "id": "b8fVr5iqL4UH",
        "outputId": "235e5d9a-952a-4f48-8f45-1a97bbec04a2"
      },
      "outputs": [
        {
          "name": "stdout",
          "output_type": "stream",
          "text": [
            "A es un número positivo\n"
          ]
        }
      ],
      "source": [
        "print('A es un número negativo') if a < 0 else print('A es un número positivo')"
      ]
    },
    {
      "cell_type": "markdown",
      "metadata": {
        "id": "_2lzlQ2vL4UH"
      },
      "source": [
        "## Condiciones anidadas\n",
        "---\n",
        "Podemos anidar diferentes condiciones. Para ello, podemos utilizar sentencias if, if....else, elif dentro de otras sentencias if."
      ]
    },
    {
      "cell_type": "code",
      "execution_count": null,
      "metadata": {
        "id": "0pKQIJoxL4UH",
        "outputId": "0a750094-fbe9-43be-9862-0ec18446ce47"
      },
      "outputs": [
        {
          "name": "stdout",
          "output_type": "stream",
          "text": [
            "A es cero\n"
          ]
        }
      ],
      "source": [
        "a = 0\n",
        "if a > 0:\n",
        "    if a % 2 == 0:\n",
        "        print('A es un entero positivo y par')\n",
        "    else:\n",
        "        print('A es un número positivo')\n",
        "elif a == 0:\n",
        "    print('A es cero')\n",
        "else:\n",
        "    print('A es un número negativo')"
      ]
    },
    {
      "cell_type": "markdown",
      "metadata": {
        "id": "Im4vKveHL4UI"
      },
      "source": [
        "Podemos evitar escribir una condición anidada utilizando el operador lógico `and` y `or`:"
      ]
    },
    {
      "cell_type": "code",
      "execution_count": null,
      "metadata": {
        "id": "thUe8T-SL4UI",
        "outputId": "5ce9bff3-a404-4801-dfb9-698c0d7d0a03"
      },
      "outputs": [
        {
          "name": "stdout",
          "output_type": "stream",
          "text": [
            "A es cero\n"
          ]
        }
      ],
      "source": [
        "a = 0\n",
        "if a > 0 and a % 2 == 0:\n",
        "        print('A es un entero positivo y par')\n",
        "elif a > 0 and a % 2 != 0:\n",
        "        print('A es un número positivo')\n",
        "elif a == 0:\n",
        "    print('A es cero')\n",
        "else:\n",
        "    print('A es un número negativo')"
      ]
    },
    {
      "cell_type": "markdown",
      "metadata": {
        "id": "dStg9qNnL4UI"
      },
      "source": [
        "## **Switch**\n",
        "---\n",
        "\n",
        "La sentencia `Switch` o **Structural Pattern Matching** nos posibilita ejecutar diferentes secciones de código dependiendo de una condición. \n",
        "Su funcionalidad es similar a usar varios `if`. Se introdujeron por primera vez en 2020 mediante la `PEP 622`, y luego se publicaron oficialmente con Python 3.10 en septiembre de 2022."
      ]
    },
    {
      "cell_type": "markdown",
      "metadata": {
        "id": "cqqn9M2jL4UI"
      },
      "source": [
        "<img src=\"https://raw.githubusercontent.com/0xdevgranero/kschool/main/images/img8.png\" alt=\"Drawing\" style=\"width: 800px\"/>"
      ]
    },
    {
      "cell_type": "markdown",
      "metadata": {
        "id": "_5isWAk7L4UI"
      },
      "source": [
        "El guión bajo (_) se utiliza para definir un caso por defecto en un switch."
      ]
    },
    {
      "cell_type": "code",
      "execution_count": null,
      "metadata": {
        "id": "Z_dWzeYDL4UI",
        "outputId": "8aa4319e-43c2-41fc-8de9-a135d0d12cac"
      },
      "outputs": [
        {
          "name": "stdout",
          "output_type": "stream",
          "text": [
            "La variable 300 es un número\n"
          ]
        }
      ],
      "source": [
        "response_code = 300\n",
        "match response_code:\n",
        "    case int():\n",
        "            print(f'La variable {response_code} es un número')\n",
        "    case str():\n",
        "            print(f'La variable {response_code} es un string')\n",
        "    case _:\n",
        "            print(f'La variable {response_code} no es ni un string ni un número')"
      ]
    },
    {
      "cell_type": "markdown",
      "metadata": {
        "id": "x0-QUW8jL4UI"
      },
      "source": [
        "En este ejemplo, el carácter ``pipe |`` (\"or\") permite a python devolver la misma respuesta para dos o más casos."
      ]
    },
    {
      "cell_type": "code",
      "execution_count": null,
      "metadata": {
        "id": "Y_NIj0HSL4UI",
        "outputId": "bf464fe2-dfe3-4cfa-ca09-7ca779455180"
      },
      "outputs": [
        {
          "name": "stdout",
          "output_type": "stream",
          "text": [
            "La variable introducida es un número y está entre 100 y 500\n"
          ]
        }
      ],
      "source": [
        "response_code = 300.50\n",
        "match response_code:\n",
        "    case int() | float():\n",
        "            if response_code > 99 and response_code < 500:\n",
        "                print('La variable introducida es un número y está entre 100 y 500')\n",
        "    case _:\n",
        "            print('La variable introducida no es un número')"
      ]
    },
    {
      "cell_type": "markdown",
      "metadata": {
        "id": "71wYKafuL4UI"
      },
      "source": [
        "## Truthy and Falsy\n",
        "---\n",
        "\n",
        "En Python, los valores individuales pueden evaluarse como Verdadero o Falso. No tienen por qué formar parte de una expresión mayor para evaluarse con un valor de verdad, porque ya son una expresión de por si solas según las reglas de juego de Python."
      ]
    },
    {
      "cell_type": "markdown",
      "metadata": {
        "id": "gEhxj4AZL4UI"
      },
      "source": [
        "Las reglas básicas son\n",
        "\n",
        "- Los valores que se evalúan como `False(Falso)` se consideran ``Falsy``.\n",
        "- Los valores evaluados como ``True(Verdaderos)`` se consideran ``Truthy``."
      ]
    },
    {
      "cell_type": "markdown",
      "metadata": {
        "id": "eRY0bKynL4UI"
      },
      "source": [
        "`Falsy`\n",
        "1. Colecciones\n",
        "- Listas vacías --> []\n",
        "- Tuplas vacías --> ()\n",
        "- Diccionarios vacíos --> {}\n",
        "- Conjuntos vacíos --> set()\n",
        "- Cadenas vacías --> \"\"\n",
        "- Rangos vacíos --> range(0)\n",
        "\n",
        "2. Números\n",
        "- Cero de cualquier tipo numérico.\n",
        "- Integer: 0\n",
        "- Float: 0.0\n",
        "- Complex: 0j\n",
        "\n",
        "3. Constants\n",
        "- None\n",
        "- False"
      ]
    },
    {
      "cell_type": "code",
      "execution_count": null,
      "metadata": {
        "id": "g_NQBHKGL4UI"
      },
      "outputs": [],
      "source": [
        "a = 0\n",
        "if a:\n",
        "\tprint(a)"
      ]
    },
    {
      "cell_type": "markdown",
      "metadata": {
        "id": "CgAlG3TbL4UI"
      },
      "source": [
        "`Truthy`\n",
        "\n",
        "- Secuencias o colecciones no vacías (listas, tuplas, cadenas, diccionarios, conjuntos).\n",
        "- Valores numéricos que no son cero.\n",
        "- True"
      ]
    },
    {
      "cell_type": "markdown",
      "metadata": {
        "id": "ITh7no4XL4UI"
      },
      "source": [
        "<h1>¡¡¡Lets Code!!! </h1>\n",
        "<img src=\"https://gifdb.com/images/thumbnail/pixel-art-super-mario-computer-amwdq1xi8bgz0omx.gif\" alt=\"Challenge Accepted\" style=\"width: 500px\">"
      ]
    },
    {
      "cell_type": "markdown",
      "metadata": {
        "id": "lLlW9U6pL4UI"
      },
      "source": [
        "#### **Enunciado Ejercicio 1**::\n",
        "Crea una calculadora simple que acepte dos números y un operador (+, -, *, /).\n",
        "Utiliza un \"switch\" para realizar la operación solicitada."
      ]
    },
    {
      "cell_type": "markdown",
      "metadata": {
        "id": "3s85W5awL4UI"
      },
      "source": [
        "#### **Solución Ejercicio 1**::"
      ]
    },
    {
      "cell_type": "code",
      "execution_count": null,
      "metadata": {
        "id": "oZiGDO8aL4UI",
        "outputId": "71e6fca8-4d68-457c-ceb3-f0351227465e"
      },
      "outputs": [
        {
          "name": "stdout",
          "output_type": "stream",
          "text": [
            "El operador que has introducido no es ninguno de los soportados: +, -, *, /\n"
          ]
        }
      ],
      "source": [
        "operador = input(\"Introduce un operador (+, -, *, /): \")\n",
        "\n",
        "a = float(input(\"Introduce el primer número: \"))\n",
        "b = float(input(\"Introduce el segundo número: \"))\n",
        "\n",
        "operador_aritmetico = operador\n",
        "match operador_aritmetico:\n",
        "    case \"+\":\n",
        "            resultado = a + b\n",
        "            print(f\"El resultado  de la suma es: {resultado}\")\n",
        "    case \"-\":\n",
        "            resultado = a - b\n",
        "            print(f\"El resultado  de la resta es: {resultado}\")\n",
        "    case \"*\":\n",
        "            resultado = a * b\n",
        "            print(f\"El resultado  de la multiplicación es: {resultado}\")\n",
        "    case \"/\":\n",
        "            resultado = a / b\n",
        "            print(f\"El resultado  de la división es: {resultado}\")\n",
        "    case _:\n",
        "            print(f'El operador que has introducido no es ninguno de los soportados: +, -, *, /')"
      ]
    },
    {
      "cell_type": "markdown",
      "metadata": {
        "id": "Jk3wfHHGL4UI"
      },
      "source": [
        "#### **Enunciado Ejercicio 2**::\n",
        "Crea un programa que convierta temperaturas entre grados `Celsius`, `Fahrenheit` y `Kelvin`.\n",
        "\n",
        "El programa debe pedir al usuario la temperatura y el símbolo de entrada, y luego el símbolo al que queremos convertirlo. Utiliza \"if, elif y else\" para realizar las conversiones necesarias."
      ]
    },
    {
      "cell_type": "markdown",
      "metadata": {
        "id": "g1-izeFAL4UJ"
      },
      "source": [
        "#### **Solución Ejercicio 2**::"
      ]
    },
    {
      "cell_type": "code",
      "execution_count": null,
      "metadata": {
        "id": "iKWmRWKbL4UJ",
        "outputId": "31b53bb8-77dd-478a-cbe1-335ef442a4bc"
      },
      "outputs": [
        {
          "name": "stdout",
          "output_type": "stream",
          "text": [
            "Para la temperatura de 86.0F el valor convertido a C es de: 30.0\n"
          ]
        }
      ],
      "source": [
        "temperatura = float(input(\"Introduce la temperatura: \"))\n",
        "unidad_entrada = input(\"Introduce la unidad de entrada (C, F, K): \").upper()\n",
        "unidad_salida = input(\"Introduce la unidad de salida (C, F, K): \").upper()\n",
        "\n",
        "if unidad_entrada == \"C\":\n",
        "    if unidad_salida == \"F\":\n",
        "        resultado = temperatura * 9/5 + 32\n",
        "    elif unidad_salida == \"K\":\n",
        "        resultado = temperatura + 273.15\n",
        "    else:\n",
        "        resultado = \"Unidad de salida inválida\"\n",
        "elif unidad_entrada == \"F\":\n",
        "    if unidad_salida == \"C\":\n",
        "        resultado = (temperatura - 32) * 5/9\n",
        "    elif unidad_salida == \"K\":\n",
        "        resultado = (temperatura - 32) * 5/9 + 273.15\n",
        "    else:\n",
        "        resultado = \"Unidad de salida inválida\"\n",
        "elif unidad_entrada == \"K\":\n",
        "    if unidad_salida == \"C\":\n",
        "        resultado = temperatura - 273.15\n",
        "    elif unidad_salida == \"F\":\n",
        "        resultado = (temperatura - 273.15) * 9/5 + 32\n",
        "    else:\n",
        "        resultado = \"Unidad de salida inválida\"\n",
        "else:\n",
        "    resultado = \"Unidad de entrada inválida\"\n",
        "\n",
        "print(f\"Para la temperatura de {temperatura}{unidad_entrada} el valor convertido a {unidad_salida} es de: {resultado}{unidad_salida}\")\n"
      ]
    }
  ],
  "metadata": {
    "kernelspec": {
      "display_name": "Python 3",
      "language": "python",
      "name": "python3"
    },
    "language_info": {
      "codemirror_mode": {
        "name": "ipython",
        "version": 3
      },
      "file_extension": ".py",
      "mimetype": "text/x-python",
      "name": "python",
      "nbconvert_exporter": "python",
      "pygments_lexer": "ipython3",
      "version": "3.10.10"
    },
    "orig_nbformat": 4,
    "colab": {
      "provenance": [],
      "include_colab_link": true
    }
  },
  "nbformat": 4,
  "nbformat_minor": 0
}