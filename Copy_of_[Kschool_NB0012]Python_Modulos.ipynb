{
  "cells": [
    {
      "cell_type": "markdown",
      "metadata": {
        "id": "view-in-github",
        "colab_type": "text"
      },
      "source": [
        "<a href=\"https://colab.research.google.com/github/jmrosarosa/KSchoolMDS/blob/main/Copy_of_%5BKschool_NB0012%5DPython_Modulos.ipynb\" target=\"_parent\"><img src=\"https://colab.research.google.com/assets/colab-badge.svg\" alt=\"Open In Colab\"/></a>"
      ]
    },
    {
      "cell_type": "markdown",
      "metadata": {
        "id": "eRUguYArOWii"
      },
      "source": [
        "# [Kschool NB0012]Python_Modulos\n",
        "* Objetivos:\n",
        "    - Conocer la existencia de los módulos y como puedo aprovecharme de ellos para trabajar con librerías ya creadas\n",
        "    - Entender la mejora en cuanto a organización de mis proyectos a través de los módulos"
      ]
    },
    {
      "cell_type": "markdown",
      "metadata": {
        "id": "2QpHV4f2OWij"
      },
      "source": [
        "<img src=\"https://media.istockphoto.com/id/1024173328/vector/challenge-accepted-banner.jpg?s=612x612&w=0&k=20&c=HkpbXPIxSoS0zZIB36AdXz8u3TE2peAC0_s1jNTCKTc=\" alt=\"Challenge Accepted\" style=\"width: 300px\">"
      ]
    },
    {
      "cell_type": "markdown",
      "metadata": {
        "id": "_GCMU3AHOWij"
      },
      "source": [
        "---\n",
        "---\n",
        "---"
      ]
    },
    {
      "cell_type": "markdown",
      "metadata": {
        "id": "7kIwW4-ZOWij"
      },
      "source": [
        "# **Gestor de paquetes**\n",
        "---"
      ]
    },
    {
      "cell_type": "markdown",
      "metadata": {
        "id": "HMukRbVtOWij"
      },
      "source": [
        "`PIP` (Package Installer for Python) es un sistema de `gestión de paquetes` que te permite instalar y gestionar paquetes/módulos adicionales de Python no incluidos en la biblioteca estándar. \n",
        "\n",
        "Facilita a los usuarios la `búsqueda`, `instalación` y `actualización` de paquetes de terceros y sus dependencias desde el Índice de Paquetes de Python (PyPI).\n",
        "\n",
        "A partir de Python 3.4, pip se incluye por defecto en la distribución de Python. Para versiones anteriores, tendrías que instalar pip manualmente.\n",
        "\n",
        "Los comandos más comunos son:\n",
        "\n",
        "> pip install package_name #Para instalar el paquete\n",
        "\n",
        "> pip uninstall package_name #Para desinstalar el paquete\n",
        "\n",
        "> pip install --upgrade package_name #Para actualizar el paquete\n",
        "\n",
        "> pip list --outdated #Nos muestra los paquetes desactualizados"
      ]
    },
    {
      "cell_type": "markdown",
      "metadata": {
        "id": "bvB1u3MXOWij"
      },
      "source": [
        "# **Módulos**\n",
        "---"
      ]
    },
    {
      "cell_type": "markdown",
      "metadata": {
        "id": "XdqnH1RKOWij"
      },
      "source": [
        "Un módulo es un archivo que contiene un conjunto de códigos o un conjunto de funciones que pueden incluirse en una aplicación. Un módulo puede ser un archivo que contenga una sola variable, una función o una gran base de código."
      ]
    },
    {
      "cell_type": "markdown",
      "metadata": {
        "id": "oBHkyNcaOWij"
      },
      "source": [
        "\n",
        "Para crear un módulo propio escribimos nuestros códigos en un `script` python y lo guardamos como un archivo `.py`.\n",
        "\n",
        "Crea un archivo llamado `mimodulo.py` dentro de la carpeta de tu proyecto."
      ]
    },
    {
      "cell_type": "code",
      "execution_count": null,
      "metadata": {
        "colab": {
          "base_uri": "https://localhost:8080/"
        },
        "id": "kFpuvnTrOWik",
        "outputId": "76b2a9cb-1452-4d6a-b2b7-0ce9aaa93a54"
      },
      "outputs": [
        {
          "output_type": "stream",
          "name": "stdout",
          "text": [
            "El horario local(Europe/Madrid) y el de mi máquina son diferentes, siendo mi horario 2023-04-27 17:35:17 y el de la máquina 2023-04-27 15:35:17.\n"
          ]
        }
      ],
      "source": [
        "# mimodulo.py file\n",
        "from datetime import datetime, timedelta\n",
        "from pytz import timezone as tz\n",
        "def obtener_datetimeactual():\n",
        "    horario_madrid = datetime.now(tz(\"Europe/Madrid\")).strftime('%Y-%m-%d %H:%M:%S')\n",
        "    horario_maquina = datetime.now().strftime('%Y-%m-%d %H:%M:%S')\n",
        "    if horario_madrid == horario_maquina:\n",
        "      return f\"Mi horario local(Europe/Madrid) y el de mi máquina son el mismo, exactamente {horario_madrid}\"\n",
        "    else:\n",
        "      return f\"El horario local(Europe/Madrid) y el de mi máquina son diferentes, siendo mi horario {horario_madrid} y el de la máquina {horario_maquina}.\""
      ]
    },
    {
      "cell_type": "markdown",
      "metadata": {
        "id": "t3tuuUHuOWik"
      },
      "source": [
        "Para importar el archivo utilizamos sólo la palabra clave ``importar`` y el nombre del archivo sin el .py. Si tuviesemos en mimodulo.py muchas funciones y no queremos sobrecargar la memoria ram podemos llamar a las funciones necesarias con `from mimodulo import obtener_datetimeactual`\n",
        "\n",
        "Tambien podemos asignarle un álias con `as`"
      ]
    },
    {
      "cell_type": "code",
      "source": [
        "from google.colab import drive\n",
        "drive.mount('/content/drive')"
      ],
      "metadata": {
        "colab": {
          "base_uri": "https://localhost:8080/"
        },
        "id": "LKYjfPyKOntR",
        "outputId": "18739fe3-60c7-48da-c801-b278d6afebbb"
      },
      "execution_count": null,
      "outputs": [
        {
          "output_type": "stream",
          "name": "stdout",
          "text": [
            "Mounted at /content/drive\n"
          ]
        }
      ]
    },
    {
      "cell_type": "code",
      "source": [
        "import mimodulo as mi\n",
        "#from mimodulo import obtener_datetimeactual "
      ],
      "metadata": {
        "id": "dnGGmLURPYo8"
      },
      "execution_count": null,
      "outputs": []
    },
    {
      "cell_type": "code",
      "execution_count": null,
      "metadata": {
        "colab": {
          "base_uri": "https://localhost:8080/"
        },
        "id": "xnuXwohfOWik",
        "outputId": "f870f476-3e37-4823-8495-83c9d60af15c"
      },
      "outputs": [
        {
          "output_type": "stream",
          "name": "stdout",
          "text": [
            "El horario local(Europe/Madrid) y el de mi máquina son diferentes, siendo mi horario 2023-05-03 19:49:44 y el de la máquina 2023-05-03 17:49:44.\n"
          ]
        }
      ],
      "source": [
        "print(mi.obtener_datetimeactual())"
      ]
    },
    {
      "cell_type": "markdown",
      "source": [
        "Tambien puedo pasarle un parámetro o tantos como necesite, de entrada. Modifiquemos el código de nuestro script mimodulo con el siguiente código."
      ],
      "metadata": {
        "id": "krgdeD-2W5Lj"
      }
    },
    {
      "cell_type": "code",
      "source": [
        "# mimodulo.py file\n",
        "from datetime import datetime, timedelta\n",
        "from pytz import timezone as tz\n",
        "def obtener_datetimeactual(tzstr):\n",
        "    horario_madrid = datetime.now(tz(tzstr)).strftime('%Y-%m-%d %H:%M:%S')\n",
        "    horario_maquina = datetime.now().strftime('%Y-%m-%d %H:%M:%S')\n",
        "    if horario_madrid == horario_maquina:\n",
        "      return f\"Mi horario local({tzstr}) y el de mi máquina son el mismo, exactamente {horario_madrid}\"\n",
        "    else:\n",
        "      return f\"El horario local({tzstr}) y el de mi máquina son diferentes, siendo mi horario {horario_madrid} y el de la máquina {horario_maquina}.\""
      ],
      "metadata": {
        "id": "lOeeIgw_XF27"
      },
      "execution_count": null,
      "outputs": []
    },
    {
      "cell_type": "code",
      "source": [
        "mi.obtener_datetimeactual_2(\"Europe/London\")"
      ],
      "metadata": {
        "colab": {
          "base_uri": "https://localhost:8080/",
          "height": 53
        },
        "id": "1V0lfml3u8Th",
        "outputId": "5a4219c3-9d66-4acc-abca-da6fd431efba"
      },
      "execution_count": null,
      "outputs": [
        {
          "output_type": "execute_result",
          "data": {
            "text/plain": [
              "'El horario local(Europe/London) y el de mi máquina son diferentes, siendo mi horario 2023-05-03 18:52:12 y el de la máquina 2023-05-03 17:52:12.'"
            ],
            "application/vnd.google.colaboratory.intrinsic+json": {
              "type": "string"
            }
          },
          "metadata": {},
          "execution_count": 2
        }
      ]
    },
    {
      "cell_type": "markdown",
      "metadata": {
        "id": "nHztOZ5XOWil"
      },
      "source": [
        "## Módulo OS\n",
        "---\n",
        "\n",
        "Utilizando el módulo ``os`` de Python es posible realizar automáticamente muchas tareas del sistema operativo.\n",
        "\n",
        "El módulo OS de Python proporciona funciones para crear, cambiar el directorio de trabajo actual y eliminar un directorio (carpeta), obtener su contenido, cambiar e identificar el directorio actual."
      ]
    },
    {
      "cell_type": "code",
      "source": [
        "!ls .."
      ],
      "metadata": {
        "colab": {
          "base_uri": "https://localhost:8080/"
        },
        "id": "HjdTzcuWwhNK",
        "outputId": "71b39e97-c48d-4ccb-8cc8-ba38463cfff4"
      },
      "execution_count": null,
      "outputs": [
        {
          "output_type": "stream",
          "name": "stdout",
          "text": [
            "mimodulo.py  nombre_directorio\t__pycache__  sample_data  utils.py\n"
          ]
        }
      ]
    },
    {
      "cell_type": "code",
      "execution_count": null,
      "metadata": {
        "id": "DiFt9Q3TOWil"
      },
      "outputs": [],
      "source": [
        "import os\n",
        "\n",
        "# # Crear un directorio\n",
        "#os.mkdir('nombre_directorio')\n",
        "# # Cambiar el directorio actual\n",
        "os.chdir('nombre_directorio')\n",
        "# # Obtener el directorio de trabajo actual\n",
        "os.getcwd()\n",
        "# # Eliminar directorio\n",
        "os.rmdir('nombre_directorio')"
      ]
    },
    {
      "cell_type": "markdown",
      "metadata": {
        "id": "9oMmAtn4OWil"
      },
      "source": [
        "## Calendario\n",
        "---\n",
        "\n",
        "Podemos imprimir un `calendario` para un mes concreto."
      ]
    },
    {
      "cell_type": "code",
      "execution_count": null,
      "metadata": {
        "id": "DeaIQumkOWil",
        "outputId": "7102e8e7-c72e-408f-fa45-420d1e587724"
      },
      "outputs": [
        {
          "name": "stdout",
          "output_type": "stream",
          "text": [
            "     July 2022\n",
            "Mo Tu We Th Fr Sa Su\n",
            "             1  2  3\n",
            " 4  5  6  7  8  9 10\n",
            "11 12 13 14 15 16 17\n",
            "18 19 20 21 22 23 24\n",
            "25 26 27 28 29 30 31\n",
            "\n"
          ]
        }
      ],
      "source": [
        "import calendar\n",
        "\n",
        "print(calendar.month(2022, 7))"
      ]
    },
    {
      "cell_type": "markdown",
      "metadata": {
        "id": "uXBAx1KQOWil"
      },
      "source": [
        "## Numpy\n",
        "---\n",
        "\n",
        "`Numpy` (Numerical Python) es una biblioteca de Python especializada en el manejo de matrices y arrays multidimensionales, además de ofrecer una amplia colección de funciones matemáticas de alto nivel para operar con estos arreglos.\n",
        "\n",
        "Numpy es fundamental en el campo de la computación científica y se utiliza en una variedad de aplicaciones, como el álgebra lineal, la generación de números aleatorios y la transformada de Fourier. La estructura de datos principal en Numpy es el ndarray (arreglo n-dimensional).\n",
        "\n"
      ]
    },
    {
      "cell_type": "code",
      "execution_count": null,
      "metadata": {
        "id": "QB3tD7V4OWim",
        "outputId": "3a8ee8da-97aa-43ad-fe5d-3aa9a1bf8ab4",
        "colab": {
          "base_uri": "https://localhost:8080/"
        }
      },
      "outputs": [
        {
          "output_type": "stream",
          "name": "stdout",
          "text": [
            "Lista aleatoria:\n",
            " [[0.81995355 0.59112486 0.50952448]\n",
            " [0.8686266  0.31209018 0.56267798]]\n",
            "Suma de los elementos: 3.6639976592820744\n"
          ]
        }
      ],
      "source": [
        "import numpy as np\n",
        "\n",
        "# Crear un arreglo de 2x3 con números aleatorios\n",
        "arr = np.random.rand(2, 3)\n",
        "print(\"Lista aleatoria:\\n\", arr)\n",
        "\n",
        "# Sumar todos los elementos de la lista\n",
        "suma = np.sum(arr)\n",
        "print(\"Suma de los elementos:\", suma)"
      ]
    },
    {
      "cell_type": "markdown",
      "metadata": {
        "id": "vQllMo1LOWim"
      },
      "source": [
        "## Pandas\n",
        "---\n",
        "Pandas es una biblioteca de Python que proporciona estructuras de datos y herramientas de análisis de datos de alto rendimiento y fáciles de usar.\n",
        "\n",
        "Las dos estructuras de datos principales en Pandas son el `DataFrame` y la `Serie`. El DataFrame es una `tabla bidimensional` que puede contener datos de diferentes tipos, mientras que una Serie es un `objeto unidimensional` similar a un array, pero con etiquetas en los índices. \n",
        "Pandas es especialmente útil para el `análisis` y la `manipulación de datos tabulares`, como la **limpieza, el filtrado, la agregación y la combinación de datos**."
      ]
    },
    {
      "cell_type": "code",
      "execution_count": null,
      "metadata": {
        "id": "jHn8EoZXOWim",
        "outputId": "39de1a79-d9ff-4e14-9b4f-19a4c1ecf0fb"
      },
      "outputs": [
        {
          "data": {
            "text/plain": [
              "'Personas con edad mayor a 25:\\n'"
            ]
          },
          "metadata": {},
          "output_type": "display_data"
        },
        {
          "data": {
            "text/html": [
              "<div>\n",
              "<style scoped>\n",
              "    .dataframe tbody tr th:only-of-type {\n",
              "        vertical-align: middle;\n",
              "    }\n",
              "\n",
              "    .dataframe tbody tr th {\n",
              "        vertical-align: top;\n",
              "    }\n",
              "\n",
              "    .dataframe thead th {\n",
              "        text-align: right;\n",
              "    }\n",
              "</style>\n",
              "<table border=\"1\" class=\"dataframe\">\n",
              "  <thead>\n",
              "    <tr style=\"text-align: right;\">\n",
              "      <th></th>\n",
              "      <th>nombre</th>\n",
              "      <th>edad</th>\n",
              "      <th>ciudad</th>\n",
              "    </tr>\n",
              "  </thead>\n",
              "  <tbody>\n",
              "    <tr>\n",
              "      <th>0</th>\n",
              "      <td>Ana</td>\n",
              "      <td>28</td>\n",
              "      <td>Madrid</td>\n",
              "    </tr>\n",
              "    <tr>\n",
              "      <th>1</th>\n",
              "      <td>Luis</td>\n",
              "      <td>35</td>\n",
              "      <td>Barcelona</td>\n",
              "    </tr>\n",
              "  </tbody>\n",
              "</table>\n",
              "</div>"
            ],
            "text/plain": [
              "  nombre  edad     ciudad\n",
              "0    Ana    28     Madrid\n",
              "1   Luis    35  Barcelona"
            ]
          },
          "metadata": {},
          "output_type": "display_data"
        }
      ],
      "source": [
        "import pandas as pd\n",
        "\n",
        "# Crear un DataFrame con datos de ejemplo\n",
        "data = {\n",
        "    'nombre': ['Ana', 'Luis', 'Carlos'],\n",
        "    'edad': [28, 35, 22],\n",
        "    'ciudad': ['Madrid', 'Barcelona', 'Valencia']\n",
        "}\n",
        "\n",
        "df = pd.DataFrame(data)\n",
        "\n",
        "# Filtrar filas donde la edad es mayor a 25\n",
        "filtro = df[df['edad'] > 25]\n",
        "display(\"Personas con edad mayor a 25:\\n\", filtro)"
      ]
    },
    {
      "cell_type": "markdown",
      "metadata": {
        "id": "hZSOhwHFOWim"
      },
      "source": [
        "## Matplotlib\n",
        "---\n",
        "\n",
        "`Matplotlib` es una biblioteca de `visualización` de datos en Python que permite crear gráficos y diagramas de alta calidad y personalizables en 2D y 3D.\n",
        "Matplotlib proporciona una interfaz similar a la de MATLAB, lo que facilita su adopción para aquellos familiarizados con el software.\n",
        "\n",
        "Con Matplotlib, se pueden crear una amplia variedad de gráficos, como `gráficos de línea, barras, dispersión, histogramas, diagramas de caja` y muchas más visualizaciones. \n",
        "Matplotlib es comúnmente utilizado en conjunto con Numpy y Pandas para visualizar y analizar datos."
      ]
    },
    {
      "cell_type": "code",
      "execution_count": null,
      "metadata": {
        "id": "Mu4aFeeNOWim",
        "outputId": "2d489856-6431-448f-e0a6-6d28ead9491e"
      },
      "outputs": [
        {
          "data": {
            "image/png": "[encoded data removed]",
            "text/plain": [
              "<Figure size 640x480 with 1 Axes>"
            ]
          },
          "metadata": {},
          "output_type": "display_data"
        }
      ],
      "source": [
        "import matplotlib.pyplot as plt\n",
        "\n",
        "# Datos de ejemplo\n",
        "x = [1, 2, 3, 4, 5]\n",
        "y = [2, 4, 6, 8, 10]\n",
        "\n",
        "# Crear un gráfico de línea\n",
        "plt.plot(x, y, marker='o', linestyle='--', color='r', label='Linea 1')\n",
        "\n",
        "# Agregar títulos y etiquetas\n",
        "plt.title('Ejemplo de gráfico de línea')\n",
        "plt.xlabel('Eje X')\n",
        "plt.ylabel('Eje Y')\n",
        "plt.legend()\n",
        "\n",
        "# Mostrar el gráfico\n",
        "plt.show()"
      ]
    },
    {
      "cell_type": "markdown",
      "metadata": {
        "id": "PJau-n2BOWim"
      },
      "source": [
        "<h1>¡¡¡Lets Code!!! </h1>\n",
        "<img src=\"https://gifdb.com/images/thumbnail/pixel-art-super-mario-computer-amwdq1xi8bgz0omx.gif\" alt=\"Challenge Accepted\" style=\"width: 500px\">"
      ]
    },
    {
      "cell_type": "markdown",
      "metadata": {
        "id": "xb2mHqPnOWim"
      },
      "source": [
        "#### **Enunciado Ejercicio 1**::\n",
        "Crea un módulo en un script llamado `geometria` que contenga tres funciones: `area_cuadrado`, `area_circulo` y `perimetro_circulo`. \n",
        "\n",
        "- La función \"area_cuadrado\" debe recibir el valor del lado de un cuadrado como parámetro y retornar su área. \n",
        "- La función \"area_circulo\" debe recibir el valor del radio de un círculo como parámetro y retornar su área. \n",
        "- La función \"perimetro_circulo\" debe recibir el valor del radio de un círculo como parámetro y retornar su perímetro.\n",
        "\n",
        "En este mismo notebook, importa el módulo \"geometria\" y utiliza las funciones para calcular el área de un cuadrado y el área y perímetro de un círculo."
      ]
    }
  ],
  "metadata": {
    "kernelspec": {
      "display_name": "Python 3",
      "language": "python",
      "name": "python3"
    },
    "language_info": {
      "codemirror_mode": {
        "name": "ipython",
        "version": 3
      },
      "file_extension": ".py",
      "mimetype": "text/x-python",
      "name": "python",
      "nbconvert_exporter": "python",
      "pygments_lexer": "ipython3",
      "version": "3.10.10"
    },
    "orig_nbformat": 4,
    "colab": {
      "provenance": [],
      "include_colab_link": true
    }
  },
  "nbformat": 4,
  "nbformat_minor": 0
}