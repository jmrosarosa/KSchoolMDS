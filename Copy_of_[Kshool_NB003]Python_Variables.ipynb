{
  "cells": [
    {
      "cell_type": "markdown",
      "metadata": {
        "id": "view-in-github",
        "colab_type": "text"
      },
      "source": [
        "<a href=\"https://colab.research.google.com/github/jmrosarosa/KSchoolMDS/blob/main/Copy_of_%5BKshool_NB003%5DPython_Variables.ipynb\" target=\"_parent\"><img src=\"https://colab.research.google.com/assets/colab-badge.svg\" alt=\"Open In Colab\"/></a>"
      ]
    },
    {
      "cell_type": "markdown",
      "metadata": {
        "id": "Q99z_j368KpM"
      },
      "source": [
        "# [Kshool NB003]Python_Variables\n",
        "* Objetivos: \n",
        "    - Dotar al alumno de conocimiento en el entendimiento y trabajo con las variables simple de Int, Floats y Bool\n",
        "    - Comprender y profundizar en el tipo complejo de dato String y sus métodos."
      ]
    },
    {
      "cell_type": "markdown",
      "metadata": {
        "id": "exTlQvQw8KpN"
      },
      "source": [
        "<img src=\"https://media.istockphoto.com/id/1024173328/vector/challenge-accepted-banner.jpg?s=612x612&w=0&k=20&c=HkpbXPIxSoS0zZIB36AdXz8u3TE2peAC0_s1jNTCKTc=\" alt=\"Challenge Accepted\" style=\"width: 300px\">"
      ]
    },
    {
      "cell_type": "markdown",
      "metadata": {
        "id": "_c3skPjP8KpP"
      },
      "source": [
        "---\n",
        "---\n",
        "---"
      ]
    },
    {
      "cell_type": "markdown",
      "metadata": {
        "id": "-n0fQHRf8KpQ"
      },
      "source": [
        "# **Tipos de Datos**\n",
        "---\n",
        "\n",
        "`Python` tiene varios tipos de datos, los mismos datos básicos que otros lenguajes:\n",
        "- enteros\n",
        "- flotantes\n",
        "- strings\n",
        "- booleanos. \n",
        "\n",
        "Además, las **listas** son un tipo predefinido en el lenguaje, los **diccionarios**, **tuplas** y **sets**.\n",
        "\n",
        "La funcion que se utiliza para determinar el tipo de datos es `type()`"
      ]
    },
    {
      "cell_type": "code",
      "execution_count": null,
      "metadata": {
        "id": "WivqgBJJ8KpQ",
        "outputId": "8371c675-ec7f-4f72-ba29-b96a5a02a83f"
      },
      "outputs": [
        {
          "name": "stdout",
          "output_type": "stream",
          "text": [
            "<class 'int'>\n",
            "<class 'float'>\n",
            "<class 'complex'>\n",
            "<class 'float'>\n",
            "<class 'int'>\n"
          ]
        }
      ],
      "source": [
        "#Funcion para determinar el tipo de dato numerico\n",
        "\n",
        "print(type(3)) # tipo entero (int)\n",
        "print(type(3.0)) # Tipo flotante, se determina por el uso del punto (float)\n",
        "print(type(2+2j)) # Numero complejo\n",
        "print(type(5/2)) # Numero flotante (float)\n",
        "print(type(5//2)) # Numero entero (int)"
      ]
    },
    {
      "cell_type": "markdown",
      "metadata": {
        "id": "S145lG0d8KpQ"
      },
      "source": [
        "# **Variables**\n",
        "---\n",
        "\n",
        "Siempre que creas una **variable** en **Python**, tiene un valor con su correspondiente tipo de datos. \n",
        "\n",
        "Hay muchos tipos de datos diferentes, como enteros, flotantes, booleanos y cadenas, que trataremos en esta lección.\n",
        "\n",
        "> *Una Variable es como una caja en la memoria del ordenador donde puedes almacenar un único valor. - Al Sweigart*\n",
        "\n",
        "A diferencia de otros muchos lenguajes de programación, en Python **NO** necesitas **declarar** ninguna variable ni **\n",
        "**.\n",
        "El nombre_de_la_variable en Python puede ser tan corto como dulce como a, b, x, y, ... o puede ser muy informativo como edad, altura, nombre, nombre_del_alumno, covid, ...\n",
        "\n",
        "> *Aunque se recomienda mantener un nombre de variable muy descriptivo para mejorar la legibilidad.*\n",
        "\n",
        "\n",
        "**Reglas**\n",
        "- Una vez hecho esto, hay algunas reglas que debes seguir para nombrar una variable:\n",
        "    - El nombre de una variable debe empezar por una *letra* o el *carácter de subrayado*.\n",
        "    - El nombre de una variable no puede empezar por un *número*.\n",
        "    - Un nombre de variable sólo puede contener *caracteres alfanuméricos* y *guiones bajos*. Por ejemplo, algo como esto es válido A-z, 0-9 y _*\n",
        "    - Los nombres de las variables distinguen entre *mayúsculas y minúsculas* *(altura, Altura y ALTURA* son tres nombres de variables diferentes)\n",
        "\n",
        "Los tipos de datos son importantes, porque determinan qué tipo de acciones puedes hacer con ellos. \n",
        "\n",
        "Por ejemplo, puedes dividir dos flotantes, pero no puedes dividir dos cadenas. Por ejemplo, `12.0/2.0` tiene sentido, pero `gato`/`perro` no.\n",
        "\n",
        "Para evitar errores, tenemos que asegurarnos de que las acciones coinciden con los tipos de datos que tenemos."
      ]
    },
    {
      "cell_type": "markdown",
      "metadata": {
        "id": "ppt7BsW98KpS"
      },
      "source": [
        "**Nombres de variables válidos:**\n",
        "- firstname\n",
        "- lastname\n",
        "- num1\n",
        "\n",
        "**Nombres de variables no válidos:**\n",
        "- first-name\n",
        "- first@name\n",
        "- 1num"
      ]
    },
    {
      "cell_type": "markdown",
      "metadata": {
        "id": "Aas5ajcV8KpT"
      },
      "source": [
        "La siguiente celda de código crea una variable llamada `test_var` y le asigna el valor que obtenemos al sumar 5 a 4.\n",
        "\n",
        "A continuación imprimimos el valor asignado a la variable, que es **9**."
      ]
    },
    {
      "cell_type": "code",
      "execution_count": null,
      "metadata": {
        "id": "JR6mbfXE8KpU",
        "outputId": "c83635a5-0563-4300-ad54-30bddd5c1469"
      },
      "outputs": [
        {
          "name": "stdout",
          "output_type": "stream",
          "text": [
            "9\n"
          ]
        }
      ],
      "source": [
        "# Crea una variable llamada test_var y dale un valor de 4+5\n",
        "test_var = 4 + 5\n",
        "\n",
        "# Imprime el valor de test_var\n",
        "print(test_var)"
      ]
    },
    {
      "cell_type": "markdown",
      "metadata": {
        "id": "rQK7md6E8KpV"
      },
      "source": [
        "En general, para trabajar con una variable, tienes que empezar por seleccionar el nombre que quieres utilizar. \n",
        "\n",
        "- Lo ideal es que los nombres de las variables sean cortos y descriptivos. También deben cumplir varios requisitos:\n",
        "    - No pueden tener espacios (por ejemplo, test var no está permitido)\n",
        "    - Sólo pueden incluir letras, números y guiones bajos (por ejemplo, ¡var_prueba! no está permitido)\n",
        "    - Tienen que empezar por una letra o un guión bajo (por ejemplo, 1_var no está permitido)\n",
        "\n",
        "Luego, para crear la variable, tienes que utilizar `=` para asignarle el valor que quieres que tenga.\n",
        "\n",
        "Siempre puedes echar un vistazo al valor asignado a la variable utilizando `print()` y poniendo el nombre de la variable entre paréntesis.\n",
        "\n",
        "Con el tiempo, aprenderás a seleccionar buenos nombres para las variables de Python. \n",
        "\n",
        "> Está completamente bien que ahora te sientas incómodo, ¡y la mejor forma de aprender es viendo un montón de código Python!"
      ]
    },
    {
      "cell_type": "markdown",
      "metadata": {
        "id": "DLRwAxQQ8KpW"
      },
      "source": [
        "# **Números enteros**\n",
        "---"
      ]
    },
    {
      "cell_type": "markdown",
      "metadata": {
        "id": "9T8zcI-a8KpW"
      },
      "source": [
        "Los números enteros (`int`) son números sin parte fraccionaria y pueden ser **positivos** (1, 2, 3, ...), **negativos** (-1, -2, -3, ...) o **cero** (0).\n",
        "\n",
        "En la celda de código siguiente, establecemos una variable **x** como un número entero. A continuación, verificamos el tipo de datos con `type()`, y sólo tenemos que pasar el nombre de la variable entre paréntesis."
      ]
    },
    {
      "cell_type": "code",
      "execution_count": null,
      "metadata": {
        "id": "MBXs_uYf8KpW",
        "outputId": "9d13479a-71c0-4c31-b2c4-eec514272a83"
      },
      "outputs": [
        {
          "name": "stdout",
          "output_type": "stream",
          "text": [
            "14\n",
            "<class 'int'>\n"
          ]
        }
      ],
      "source": [
        "x = 14\n",
        "print(x)\n",
        "print(type(x))"
      ]
    },
    {
      "cell_type": "markdown",
      "metadata": {
        "id": "dM3JmIrL8KpX"
      },
      "source": [
        "# **Números Flotantes**\n",
        "---\n",
        "\n",
        "Los flotantes (`floats`) son números con partes fraccionarias. Pueden tener muchas cifras después del decimal."
      ]
    },
    {
      "cell_type": "code",
      "execution_count": null,
      "metadata": {
        "id": "-LfQHuIj8KpY",
        "outputId": "380a42d4-7938-42ed-ee12-35e281e4d649"
      },
      "outputs": [
        {
          "name": "stdout",
          "output_type": "stream",
          "text": [
            "3.141592653589793\n",
            "<class 'float'>\n"
          ]
        }
      ],
      "source": [
        "nearly_pi = 3.141592653589793238462643383279502884197169399375105820974944\n",
        "print(nearly_pi)\n",
        "print(type(nearly_pi))"
      ]
    },
    {
      "cell_type": "markdown",
      "metadata": {
        "id": "Y4BXoUFo8KpZ"
      },
      "source": [
        "También podemos especificar un flotante con una fracción."
      ]
    },
    {
      "cell_type": "code",
      "execution_count": null,
      "metadata": {
        "id": "15PUxRXj8KpZ",
        "outputId": "37dabbfa-a41e-4ab4-baf4-b8692feafce3"
      },
      "outputs": [
        {
          "name": "stdout",
          "output_type": "stream",
          "text": [
            "3.142857142857143\n",
            "<class 'float'>\n"
          ]
        }
      ],
      "source": [
        "almost_pi = 22/7\n",
        "print(almost_pi)\n",
        "print(type(almost_pi))"
      ]
    },
    {
      "cell_type": "markdown",
      "metadata": {
        "id": "qf_kuOPz8KpZ"
      },
      "source": [
        "Una función especialmente útil para las fracciones es la función `round()`. Te permite redondear un número a un número determinado de decimales."
      ]
    },
    {
      "cell_type": "code",
      "execution_count": null,
      "metadata": {
        "id": "RnzR5lYo8KpZ",
        "outputId": "5d597866-a6b7-4ae5-fd8e-41ec866b2316"
      },
      "outputs": [
        {
          "name": "stdout",
          "output_type": "stream",
          "text": [
            "3.14286\n",
            "<class 'float'>\n"
          ]
        }
      ],
      "source": [
        "# Redondea a 5 decimales\n",
        "rounded_pi = round(almost_pi, 5)\n",
        "print(rounded_pi)\n",
        "print(type(rounded_pi))"
      ]
    },
    {
      "cell_type": "markdown",
      "metadata": {
        "id": "0MxKLkIS8KpZ"
      },
      "source": [
        "Siempre que escribas un número con punto decimal, Python lo reconocerá como un tipo de dato **float**.\n",
        "\n",
        "Por ejemplo, `1.` (o 1,0, 1,00, etc) será reconocido como un flotante. \n",
        "Esto es así, ¡aunque estos números técnicamente no tengan parte fraccionaria!"
      ]
    },
    {
      "cell_type": "code",
      "execution_count": null,
      "metadata": {
        "id": "EfpYRt7Q8Kpa",
        "outputId": "00887230-553c-4a26-cfb3-7989143fa9f4"
      },
      "outputs": [
        {
          "name": "stdout",
          "output_type": "stream",
          "text": [
            "1.0\n",
            "<class 'float'>\n"
          ]
        }
      ],
      "source": [
        "y_float = 1.\n",
        "print(y_float)\n",
        "print(type(y_float))"
      ]
    },
    {
      "cell_type": "markdown",
      "metadata": {
        "id": "ABphi5vy8Kpa"
      },
      "source": [
        "## Tipos de datos numéricos en Python:\n",
        "---\n",
        "\n",
        "- **Números enteros**: Números enteros(negativos, cero y positivos) --> Ejemplo: ... -3, -2, -1, 0, 1, 2, 3 ...\n",
        "- **Números en coma flotante**(números decimales) --> Ejemplo: ... -3,5, -2,25, -1,0, 0,0, 1,1, 2,2, 3,5 ...\n",
        "- **Números complejos** --> Ejemplo: 1 + j, 2 + 4j, 1 - 1j"
      ]
    },
    {
      "cell_type": "markdown",
      "metadata": {
        "id": "r4DrOhD58Kpa"
      },
      "source": [
        "En el código de abajo se representa el valor máximo por tipología de enteros y flotantes. Esto lo veréis en el módulo de **Numpy** pero es bueno que entendáis las diferentes tipologías y sus rangos, ya que entre otras cosas os puede servir ***para optimizar el código en haras de disminuir el tamaño de la información a trabajar***"
      ]
    },
    {
      "cell_type": "code",
      "execution_count": null,
      "metadata": {
        "id": "5T5I3o9a8Kpb",
        "outputId": "4206474e-8f3a-4e42-aa64-a01b590caa11"
      },
      "outputs": [
        {
          "name": "stdout",
          "output_type": "stream",
          "text": [
            "Valores máximos para tipos de datos enteros:\n",
            "int8: 127\n",
            "int16: 32767\n",
            "int32: 2147483647\n",
            "int64: 9223372036854775807\n",
            "\n",
            "Valores máximos para tipos de datos de punto flotante:\n",
            "float16: 65504.0\n",
            "float32: 3.4028234663852886e+38\n",
            "float64: 1.7976931348623157e+308\n"
          ]
        }
      ],
      "source": [
        "import numpy as np\n",
        "\n",
        "# Tipos de datos enteros\n",
        "integer_types = [np.int8, np.int16, np.int32, np.int64]\n",
        "\n",
        "# Tipos de datos de punto flotante\n",
        "floating_types = [np.float16, np.float32, np.float64]\n",
        "\n",
        "print(\"Valores máximos para tipos de datos enteros:\")\n",
        "for int_type in integer_types:\n",
        "    max_value = np.iinfo(int_type).max\n",
        "    print(f\"{int_type.__name__}: {max_value}\")\n",
        "\n",
        "print(\"\\nValores máximos para tipos de datos de punto flotante:\")\n",
        "for float_type in floating_types:\n",
        "    max_value = np.finfo(float_type).max\n",
        "    print(f\"{float_type.__name__}: {max_value}\")"
      ]
    },
    {
      "cell_type": "markdown",
      "metadata": {
        "id": "h-8ksfan8Kpc"
      },
      "source": [
        "| Tipo de dato | Valor máximo                     |\n",
        "|--------------|----------------------------------|\n",
        "| int8         | 127                              |\n",
        "| int16        | 32,767                           |\n",
        "| int32        | 2,147,483,647                    |\n",
        "| int64        | 9,223,372,036,854,775,807        |\n",
        "| float16      | 65,504.0                         |\n",
        "| float32      | 3.4028235 × 10^38                |\n",
        "| float64      | 1.7976931348623157 × 10^308      |\n"
      ]
    },
    {
      "cell_type": "markdown",
      "metadata": {
        "id": "l1OSxhIw8Kpc"
      },
      "source": [
        "# **Booleanos**\n",
        "---\n",
        "\n",
        "Los booleanos representan uno de dos valores: `True` o `False`. En la celda de código siguiente, `z_one` se establece como un booleano con valor `True`"
      ]
    },
    {
      "cell_type": "code",
      "execution_count": null,
      "metadata": {
        "id": "8F1Jvxfq8Kpc",
        "outputId": "05693d1f-0f74-4c31-ae0f-e2ca01018068"
      },
      "outputs": [
        {
          "name": "stdout",
          "output_type": "stream",
          "text": [
            "True\n",
            "<class 'bool'>\n"
          ]
        }
      ],
      "source": [
        "z_one = True\n",
        "print(z_one)\n",
        "print(type(z_one))"
      ]
    },
    {
      "cell_type": "markdown",
      "metadata": {
        "id": "5jcHZy5M8Kpd"
      },
      "source": [
        "A continuación, `z_two` se establece como un booleano con valor `False`."
      ]
    },
    {
      "cell_type": "code",
      "execution_count": null,
      "metadata": {
        "id": "qVZBLiau8Kpd",
        "outputId": "bb9c13b9-132c-4722-f419-0089e734233d"
      },
      "outputs": [
        {
          "name": "stdout",
          "output_type": "stream",
          "text": [
            "False\n",
            "<class 'bool'>\n"
          ]
        }
      ],
      "source": [
        "z_two = False\n",
        "print(z_two)\n",
        "print(type(z_two))"
      ]
    },
    {
      "cell_type": "markdown",
      "metadata": {
        "id": "EVeGqraS8Kpd"
      },
      "source": [
        "Los booleanos se utilizan para representar el valor de verdad de una expresión. Como `1<2` es una afirmación **verdadera**, `z_three` toma el valor `True`."
      ]
    },
    {
      "cell_type": "code",
      "execution_count": null,
      "metadata": {
        "id": "KHyYnNmk8Kpe",
        "outputId": "d4b8b9e2-4a02-47bd-c16c-0633fb472a9c"
      },
      "outputs": [
        {
          "name": "stdout",
          "output_type": "stream",
          "text": [
            "True\n",
            "<class 'bool'>\n"
          ]
        }
      ],
      "source": [
        "z_three = (1 < 2)\n",
        "print(z_three)\n",
        "print(type(z_three))"
      ]
    },
    {
      "cell_type": "markdown",
      "metadata": {
        "id": "fdzD53iX8Kpe"
      },
      "source": [
        "Del mismo modo, como `5 < 3` es una afirmación **falsa**, `z_four` toma el valor `False`."
      ]
    },
    {
      "cell_type": "code",
      "execution_count": null,
      "metadata": {
        "id": "SaZbKNic8Kpf",
        "outputId": "f621f4a9-70a7-4e9d-ea0c-7d59624cbbc1"
      },
      "outputs": [
        {
          "name": "stdout",
          "output_type": "stream",
          "text": [
            "False\n",
            "<class 'bool'>\n"
          ]
        }
      ],
      "source": [
        "z_four = (5 < 3)\n",
        "print(z_four)\n",
        "print(type(z_four))"
      ]
    },
    {
      "cell_type": "markdown",
      "metadata": {
        "id": "Ofwa70kd8Kpf"
      },
      "source": [
        "Podemos cambiar el valor de un booleano utilizando `not`. Así, `not True` equivale a `False`, y `not False` se convierte en `True`."
      ]
    },
    {
      "cell_type": "code",
      "execution_count": null,
      "metadata": {
        "id": "GlW7xh9T8Kpf",
        "outputId": "51f0824d-56eb-4f71-ba61-4c3d5320e28d"
      },
      "outputs": [
        {
          "name": "stdout",
          "output_type": "stream",
          "text": [
            "True\n",
            "<class 'bool'>\n"
          ]
        }
      ],
      "source": [
        "z_five = not z_four\n",
        "print(z_five)\n",
        "print(type(z_five))"
      ]
    },
    {
      "cell_type": "markdown",
      "metadata": {
        "id": "68ZPSEYg8Kpf"
      },
      "source": [
        "# **Strings**\n",
        "---\n",
        "\n",
        "El tipo de datos string o cadena, es una colección de caracteres (como letras del alfabeto, signos de puntuación, dígitos numéricos o símbolos) contenidos entre comillas.\n",
        "\n",
        "Las cadenas se utilizan habitualmente para representar texto."
      ]
    },
    {
      "cell_type": "code",
      "execution_count": null,
      "metadata": {
        "id": "oo7Pz0kE8Kpf",
        "outputId": "60de9968-f459-48da-c65e-39a9e0e0f10c"
      },
      "outputs": [
        {
          "name": "stdout",
          "output_type": "stream",
          "text": [
            "¡Hola, Python!\n",
            "<class 'str'>\n"
          ]
        }
      ],
      "source": [
        "w = \"¡Hola, Python!\"\n",
        "print(w)\n",
        "print(type(w))"
      ]
    },
    {
      "cell_type": "markdown",
      "metadata": {
        "id": "fO55NMCp8Kpg"
      },
      "source": [
        "Puedes obtener la longitud de una cadena con `len()`. \"¡Hola, Python!\" tiene una longitud de 14, porque tiene 14 caracteres, incluyendo el espacio, la coma y el signo de exclamación. \n",
        "\n",
        "Ten en cuenta que las comillas no se incluyen al calcular la longitud."
      ]
    },
    {
      "cell_type": "code",
      "execution_count": null,
      "metadata": {
        "id": "MnIE3_nd8Kpg",
        "outputId": "11b0faec-cc85-4fcc-b15c-e5b32dc2bc08"
      },
      "outputs": [
        {
          "name": "stdout",
          "output_type": "stream",
          "text": [
            "14\n"
          ]
        }
      ],
      "source": [
        "print(len(w))"
      ]
    },
    {
      "cell_type": "markdown",
      "metadata": {
        "id": "TEhwgtir8Kpg"
      },
      "source": [
        "Un tipo especial de string es la cadena vacía, que tiene longitud cero."
      ]
    },
    {
      "cell_type": "code",
      "execution_count": null,
      "metadata": {
        "id": "hxIR14kK8Kph",
        "outputId": "e5874c8b-76a0-4fc3-e536-4517c4a3b11f"
      },
      "outputs": [
        {
          "name": "stdout",
          "output_type": "stream",
          "text": [
            "<class 'str'>\n",
            "0\n"
          ]
        }
      ],
      "source": [
        "cadena_breve = \"\"\n",
        "print(type(cadena_breve))\n",
        "print(len(cadena_breve))"
      ]
    },
    {
      "cell_type": "markdown",
      "metadata": {
        "id": "Cy2fUSck8Kph"
      },
      "source": [
        "Si pones un número entre comillas, tiene un tipo de dato cadena."
      ]
    },
    {
      "cell_type": "code",
      "execution_count": null,
      "metadata": {
        "id": "OwCuzCdX8Kph",
        "outputId": "365a5755-df5f-4d96-ad58-2aa096a2fff2"
      },
      "outputs": [
        {
          "name": "stdout",
          "output_type": "stream",
          "text": [
            "1.12321\n",
            "<class 'str'>\n"
          ]
        }
      ],
      "source": [
        "numero = \"1.12321\"\n",
        "print(numero)\n",
        "print(type(numero))"
      ]
    },
    {
      "cell_type": "markdown",
      "metadata": {
        "id": "8SiGGYI-8Kpi"
      },
      "source": [
        "Si tenemos un string convertible a un float, podemos utilizar float()."
      ]
    },
    {
      "cell_type": "code",
      "execution_count": null,
      "metadata": {
        "id": "jmsVWv4k8Kpi",
        "outputId": "4da64001-f44b-44fa-c676-e9e6f986c19b"
      },
      "outputs": [
        {
          "name": "stdout",
          "output_type": "stream",
          "text": [
            "1.12321\n",
            "<class 'float'>\n"
          ]
        }
      ],
      "source": [
        "numero2 = float(numero)\n",
        "print(numero2)\n",
        "print(type(numero2))"
      ]
    },
    {
      "cell_type": "markdown",
      "metadata": {
        "id": "V9S_OFNT8Kpi"
      },
      "source": [
        "##### **¡Esto no siempre funcionará! Por ejemplo, podemos convertir \"10,43430\" y \"3\" en flotantes, pero no podemos convertir \"¡Hola, Python!\" en un flotante.**"
      ]
    },
    {
      "cell_type": "markdown",
      "metadata": {
        "id": "eR1hl0A08Kpj"
      },
      "source": [
        "Igual que puedes sumar dos números (flotantes o enteros), también puedes sumar dos **strings**. El resultado es una cadena más larga que combina las dos cadenas originales concatenándolas."
      ]
    },
    {
      "cell_type": "code",
      "execution_count": null,
      "metadata": {
        "id": "2IaXXkEn8Kpj",
        "outputId": "959dd817-ad1a-4367-874b-b49049c66d56"
      },
      "outputs": [
        {
          "name": "stdout",
          "output_type": "stream",
          "text": [
            "abcdef\n",
            "<class 'str'>\n"
          ]
        }
      ],
      "source": [
        "new_string = \"abc\" + \"def\"\n",
        "print(new_string)\n",
        "print(type(new_string))"
      ]
    },
    {
      "cell_type": "markdown",
      "metadata": {
        "id": "mTqOjtsG8Kpj"
      },
      "source": [
        "Ten en cuenta que no es posible hacer una resta o una división con dos cadenas.\n",
        "Tampoco puedes multiplicar dos cadenas, pero puedes multiplicar una cadena por un número entero. \n",
        "\n",
        "Esto también da como resultado una cadena que no es más que la cadena original concatenada consigo misma un número determinado de veces."
      ]
    },
    {
      "cell_type": "code",
      "execution_count": null,
      "metadata": {
        "id": "qFN6z7Nj8Kpk",
        "outputId": "f0f5383a-7437-433f-caa2-592fb7dbddb8"
      },
      "outputs": [
        {
          "name": "stdout",
          "output_type": "stream",
          "text": [
            "abcabcabc\n",
            "<class 'str'>\n"
          ]
        }
      ],
      "source": [
        "newest_string = \"abc\" * 3\n",
        "print(newest_string)\n",
        "print(type(newest_string))"
      ]
    },
    {
      "cell_type": "markdown",
      "metadata": {
        "id": "uC9cOYeN8Kpk"
      },
      "source": [
        "Ten en cuenta que no puedes multiplicar una cadena por un flotante. Si lo intentas, lo único que vamos a obtener es un **error**"
      ]
    },
    {
      "cell_type": "code",
      "execution_count": null,
      "metadata": {
        "id": "IBTCCbnx8Kpk",
        "outputId": "4a7fdd5e-afc4-4046-849b-c5490f16df38"
      },
      "outputs": [
        {
          "ename": "TypeError",
          "evalue": "can't multiply sequence by non-int of type 'float'",
          "output_type": "error",
          "traceback": [
            "\u001b[0;31m---------------------------------------------------------------------------\u001b[0m",
            "\u001b[0;31mTypeError\u001b[0m                                 Traceback (most recent call last)",
            "Cell \u001b[0;32mIn[38], line 1\u001b[0m\n\u001b[0;32m----> 1\u001b[0m will_not_work \u001b[39m=\u001b[39m \u001b[39m\"\u001b[39;49m\u001b[39mabc\u001b[39;49m\u001b[39m\"\u001b[39;49m \u001b[39m*\u001b[39;49m \u001b[39m3.\u001b[39;49m\n\u001b[1;32m      2\u001b[0m will_not_work\n",
            "\u001b[0;31mTypeError\u001b[0m: can't multiply sequence by non-int of type 'float'"
          ]
        }
      ],
      "source": [
        "will_not_work = \"abc\" * 3.\n",
        "will_not_work"
      ]
    },
    {
      "cell_type": "markdown",
      "metadata": {
        "id": "1vBtXP5T8Kpl"
      },
      "source": [
        "> Vemos que tenemos un error de tipo \"TypeError\", este y otros errores los veremos en el módulo final de Python"
      ]
    },
    {
      "cell_type": "markdown",
      "metadata": {
        "id": "5pWLSzGO8Kpl"
      },
      "source": [
        "#### Secuencia de escape utilizando strings\n",
        "---\n",
        "\n",
        "En las cadenas de Python, la barra invertida \"`\\`\" es un carácter especial, también llamado carácter de \"escape\". \n",
        "Se utiliza para representar ciertos caracteres de espacio en blanco: \n",
        "- \\n: nueva línea\n",
        "- \\t: Tabulador medio(8 espacios)\n",
        "- \\r: Retorno de carro\n",
        "- \\': Comilla simple (')\n",
        "- \\\": Comilla doble (\")"
      ]
    },
    {
      "cell_type": "code",
      "execution_count": null,
      "metadata": {
        "id": "HoAUSbJq8Kpl",
        "outputId": "2a312acb-a026-4e2b-d565-ea0d4d8b7d71"
      },
      "outputs": [
        {
          "name": "stdout",
          "output_type": "stream",
          "text": [
            "Esto es un cuaderno de \"Google Colab\" \n"
          ]
        }
      ],
      "source": [
        "# Esta es una secuencia de escape.\n",
        "string = \"Esto es un cuaderno de \\\"Google Colab\\\" \"\n",
        "print(string)"
      ]
    },
    {
      "cell_type": "markdown",
      "metadata": {
        "id": "tBNO-eRl8Kpm"
      },
      "source": [
        "#### Acceder al string por un índice\n",
        "---\n",
        "\n",
        "Se puede acceder a las cadenas por su índice para obtener el valor. Para ello, sólo tienes que colocar el número (valor del índice) dentro del par de corchetes junto con el nombre de la cadena."
      ]
    },
    {
      "cell_type": "code",
      "execution_count": null,
      "metadata": {
        "id": "zmzsq7Lw8Kpm",
        "outputId": "d152fb0d-4494-4878-b2e8-7c3229aa0116"
      },
      "outputs": [
        {
          "name": "stdout",
          "output_type": "stream",
          "text": [
            "t\n"
          ]
        }
      ],
      "source": [
        "string = \"Python\"\n",
        "print(string[2])"
      ]
    },
    {
      "cell_type": "code",
      "execution_count": null,
      "metadata": {
        "id": "XWYXkXR18Kpm",
        "outputId": "12011f55-4e04-45d8-926d-e4df7655b06a"
      },
      "outputs": [
        {
          "name": "stdout",
          "output_type": "stream",
          "text": [
            "n\n"
          ]
        }
      ],
      "source": [
        "print(string[5])"
      ]
    },
    {
      "cell_type": "markdown",
      "metadata": {
        "id": "e2Y7QQGa8Kpm"
      },
      "source": [
        "#### Sliccing una cadena\n",
        "---\n",
        "\n",
        "Slice (trozear) una cadena o string ayuda a obtener un conjunto de caracteres de una cadena. \n",
        "Esto es muy útil cuando queremos acceder a un conjunto concreto de caracteres de una cadena. Abajo te indico algunas variantes de slice que te pueden resultar útiles."
      ]
    },
    {
      "cell_type": "code",
      "execution_count": null,
      "metadata": {
        "id": "4tkLlz4i8Kpm",
        "outputId": "2df6e958-411e-47e2-effc-f448385252e7"
      },
      "outputs": [
        {
          "name": "stdout",
          "output_type": "stream",
          "text": [
            "Para la variable string Python en Kschool\n",
            "\n",
            "P\n",
            "Pyt\n",
            "Pyt\n",
            "ool\n",
            "hon en Kschool\n",
            "Python en Ksch\n",
            "loohcsK ne nohtyP\n",
            "Python en Kschool\n"
          ]
        }
      ],
      "source": [
        "string = \"Python en Kschool\"\n",
        "\n",
        "print(f\"Para la variable string {string}\\n\")\n",
        "\n",
        "#Obtener un carácter de la cadena\n",
        "print(string[0:1])\n",
        "\n",
        "#Obtener los tres primeros caracteres de la cadena\n",
        "print(string[0:3])\n",
        "\n",
        "#Obtener los tres primeros caracteres de la cadena (Alternativa)\n",
        "print(string[:3])\n",
        "\n",
        "#Obtener los tres últimos caracteres de la cadena\n",
        "print(string[-3:])\n",
        "\n",
        "#Obtener todos los caracteres pero excluyendo los tres primeros caracteres de la cadena\n",
        "print(string[3:])\n",
        "\n",
        "#Obtener todos los caracteres pero excluyendo los tres últimos de la cadena\n",
        "print(string[:-3])\n",
        "\n",
        "#Invertir todos los caracteres de una cadena dada\n",
        "print(string[::-1])\n",
        "\n",
        "#Alternativa para imprimir todos los caracteres de una cadena\n",
        "print(string[::])"
      ]
    },
    {
      "cell_type": "markdown",
      "metadata": {
        "id": "ibH7P61C8Kpn"
      },
      "source": [
        "#### Dividir una cadena\n",
        "---\n",
        "\n",
        "A veces, dividir una cadena es una opción útil porque es una de las formas más sencillas de convertir una cadena en una lista. Sé que no he hablado de la lista, pero ten en cuenta que dividir convierte una cadena en una lista."
      ]
    },
    {
      "cell_type": "code",
      "execution_count": null,
      "metadata": {
        "id": "wtphqq1E8Kpn",
        "outputId": "e36ad68a-db26-44cd-d65a-0ad3a00799b8"
      },
      "outputs": [
        {
          "data": {
            "text/plain": [
              "str"
            ]
          },
          "execution_count": 17,
          "metadata": {},
          "output_type": "execute_result"
        }
      ],
      "source": [
        "string = \"Python en Kschool\"\n",
        "type(string)"
      ]
    },
    {
      "cell_type": "code",
      "execution_count": null,
      "metadata": {
        "id": "eAMex8t78Kpn",
        "outputId": "76310ad5-abd7-4786-b5fa-9e4f823980cf"
      },
      "outputs": [
        {
          "name": "stdout",
          "output_type": "stream",
          "text": [
            "['Python', 'en', 'Kschool']\n"
          ]
        },
        {
          "data": {
            "text/plain": [
              "list"
            ]
          },
          "execution_count": 18,
          "metadata": {},
          "output_type": "execute_result"
        }
      ],
      "source": [
        "list = string.split()\n",
        "print(list)\n",
        "type(list)"
      ]
    },
    {
      "cell_type": "markdown",
      "metadata": {
        "id": "1X6vuv1s8Kpo"
      },
      "source": [
        "Puedo expecificar el tipo de separador que quiero usar"
      ]
    },
    {
      "cell_type": "code",
      "execution_count": null,
      "metadata": {
        "id": "gubq9p_K8Kpo",
        "outputId": "7305b38a-c2c4-4f55-bdfe-ab842f40c7e6"
      },
      "outputs": [
        {
          "name": "stdout",
          "output_type": "stream",
          "text": [
            "['Python', 'Kschool']\n"
          ]
        },
        {
          "data": {
            "text/plain": [
              "list"
            ]
          },
          "execution_count": 55,
          "metadata": {},
          "output_type": "execute_result"
        }
      ],
      "source": [
        "list = string.split(\" en \")\n",
        "print(list)\n",
        "type(list)"
      ]
    },
    {
      "cell_type": "markdown",
      "metadata": {
        "id": "Z9kZHUdV8Kpo"
      },
      "source": [
        "#### Reemplazar un string\n",
        "---\n",
        "\n",
        "La función `replace()` en python es una de las mejores funciones que se pueden aplicar a las cadenas. Por ejemplo, para una cadena **Dinero**, necesitamos reemplazar el signo de dólar y la coma y esto se puede hacer como se muestra a continuación."
      ]
    },
    {
      "cell_type": "code",
      "execution_count": null,
      "metadata": {
        "id": "blD7vpe78Kpo",
        "outputId": "affcbd36-da89-44d1-fbe6-9e048faf8ab9"
      },
      "outputs": [
        {
          "name": "stdout",
          "output_type": "stream",
          "text": [
            "$113,678\n",
            "<class 'str'>\n"
          ]
        }
      ],
      "source": [
        "dinero = '$113,678'\n",
        "print(dinero)\n",
        "print(type(dinero))"
      ]
    },
    {
      "cell_type": "code",
      "execution_count": null,
      "metadata": {
        "id": "mOrAZcQ78Kpp",
        "outputId": "587ced2a-6560-4519-f391-7494bae369b7"
      },
      "outputs": [
        {
          "data": {
            "text/plain": [
              "'113,678'"
            ]
          },
          "execution_count": 20,
          "metadata": {},
          "output_type": "execute_result"
        }
      ],
      "source": [
        "dinero = dinero.replace('$', '')\n",
        "dinero"
      ]
    },
    {
      "cell_type": "code",
      "execution_count": null,
      "metadata": {
        "id": "JkbyFOfq8Kpp",
        "outputId": "5400a9f9-9a65-4034-d1b1-d69a507643c0"
      },
      "outputs": [
        {
          "data": {
            "text/plain": [
              "'113678'"
            ]
          },
          "execution_count": 21,
          "metadata": {},
          "output_type": "execute_result"
        }
      ],
      "source": [
        "dinero = dinero.replace(',', '')\n",
        "dinero"
      ]
    },
    {
      "cell_type": "code",
      "execution_count": null,
      "metadata": {
        "id": "3FpnVFmJ8Kpp",
        "outputId": "d855bdbf-4423-4ef3-d6fd-681f36634ed6"
      },
      "outputs": [
        {
          "name": "stdout",
          "output_type": "stream",
          "text": [
            "113678\n",
            "<class 'int'>\n"
          ]
        }
      ],
      "source": [
        "dinero = int(dinero)\n",
        "print(dinero)\n",
        "print(type(dinero))"
      ]
    },
    {
      "cell_type": "markdown",
      "metadata": {
        "id": "pIUWqoG68Kpq"
      },
      "source": [
        "#### Join\n",
        "---\n",
        "\n",
        "La función `join()` de python se utiliza para unir la cadena según el patrón especificado."
      ]
    },
    {
      "cell_type": "code",
      "execution_count": null,
      "metadata": {
        "id": "tEThb0AJ8Kpq",
        "outputId": "394998b6-2ea3-42ae-8302-ab36fddcf872"
      },
      "outputs": [
        {
          "data": {
            "text/plain": [
              "'Programar en Python es divertido'"
            ]
          },
          "execution_count": 23,
          "metadata": {},
          "output_type": "execute_result"
        }
      ],
      "source": [
        "string = \"Programar en Python es divertido\"\n",
        "string"
      ]
    },
    {
      "cell_type": "code",
      "execution_count": null,
      "metadata": {
        "id": "1YBozJDL8Kpq",
        "outputId": "9b2fe72e-245d-4997-b826-b083104f8bb4"
      },
      "outputs": [
        {
          "data": {
            "text/plain": [
              "'P r o g r a m a r   e n   P y t h o n   e s   d i v e r t i d o'"
            ]
          },
          "execution_count": 24,
          "metadata": {},
          "output_type": "execute_result"
        }
      ],
      "source": [
        "string = \" \".join(string)\n",
        "string"
      ]
    },
    {
      "cell_type": "markdown",
      "metadata": {
        "id": "BmMvnRWl8Kpr"
      },
      "source": [
        "#### Capitalize\n",
        "---\n",
        "\n",
        "La función `capitalize()` pone en mayúsculas el primer carácter de la palabra o de una cadena."
      ]
    },
    {
      "cell_type": "code",
      "execution_count": null,
      "metadata": {
        "id": "ufv9_PL-8Kpr",
        "outputId": "1aa4b435-bf74-4fb4-9216-abaca7af7f3b"
      },
      "outputs": [
        {
          "data": {
            "text/plain": [
              "'alberto'"
            ]
          },
          "execution_count": 25,
          "metadata": {},
          "output_type": "execute_result"
        }
      ],
      "source": [
        "string = \"alberto\"\n",
        "string"
      ]
    },
    {
      "cell_type": "code",
      "execution_count": null,
      "metadata": {
        "id": "f7kYWzds8Kpr",
        "outputId": "e82f4dc0-668a-4bbb-c8f5-822b05ca15c9"
      },
      "outputs": [
        {
          "data": {
            "text/plain": [
              "'Alberto'"
            ]
          },
          "execution_count": 26,
          "metadata": {},
          "output_type": "execute_result"
        }
      ],
      "source": [
        "string = string.capitalize()\n",
        "string"
      ]
    },
    {
      "cell_type": "markdown",
      "metadata": {
        "id": "osIBEaXj8Kps"
      },
      "source": [
        "#### Center\n",
        "---\n",
        "\n",
        "El método `center()` devuelve una cadena rellena con el carácter especificado."
      ]
    },
    {
      "cell_type": "code",
      "execution_count": null,
      "metadata": {
        "id": "5OVsXiBD8Kps",
        "outputId": "d284a9a0-4d3e-48b7-df0c-3f0be9c97a9e"
      },
      "outputs": [
        {
          "data": {
            "text/plain": [
              "'kschool'"
            ]
          },
          "execution_count": 27,
          "metadata": {},
          "output_type": "execute_result"
        }
      ],
      "source": [
        "string = \"kschool\"\n",
        "string"
      ]
    },
    {
      "cell_type": "code",
      "execution_count": null,
      "metadata": {
        "id": "wKU_yvgS8Kps",
        "outputId": "ed68a09d-6b78-44d7-dccf-4ab2e8023bfc"
      },
      "outputs": [
        {
          "name": "stdout",
          "output_type": "stream",
          "text": [
            "****kschool****\n"
          ]
        }
      ],
      "source": [
        "print(string.center(15, '*'))"
      ]
    },
    {
      "cell_type": "markdown",
      "metadata": {
        "id": "S-jpBdhz8Kps"
      },
      "source": [
        "#### Find\n",
        "---\n",
        "El método `find()` devuelve el índice de la posición de la subcadena dada. Si no se encuentra el valor devuelve, -1."
      ]
    },
    {
      "cell_type": "code",
      "execution_count": null,
      "metadata": {
        "id": "ufzvSY9U8Kpt"
      },
      "outputs": [],
      "source": [
        "string = \"No tengo el número cuatro\""
      ]
    },
    {
      "cell_type": "code",
      "execution_count": null,
      "metadata": {
        "id": "_3-YGOOn8Kpt",
        "outputId": "b71cc7a0-8d86-49a2-e35c-bc69f66e1e61"
      },
      "outputs": [
        {
          "name": "stdout",
          "output_type": "stream",
          "text": [
            "13\n"
          ]
        }
      ],
      "source": [
        "print(string.find('ú'))"
      ]
    },
    {
      "cell_type": "code",
      "execution_count": null,
      "metadata": {
        "id": "J146t8gE8Kpt",
        "outputId": "fefe87fa-22f9-4e28-9940-150b9e24d82f"
      },
      "outputs": [
        {
          "name": "stdout",
          "output_type": "stream",
          "text": [
            "-1\n"
          ]
        }
      ],
      "source": [
        "print(string.find('4'))"
      ]
    },
    {
      "cell_type": "markdown",
      "metadata": {
        "id": "sCPL1LoZ8Kpt"
      },
      "source": [
        "#### Strip\n",
        "---\n",
        "\n",
        "La función `strip()` elimina los espacios en blanco tanto del inicio como del final de una cadena."
      ]
    },
    {
      "cell_type": "code",
      "execution_count": null,
      "metadata": {
        "id": "VaEH9rDY8Kpu",
        "outputId": "de93ee48-29ff-4494-f5a4-5cba96e9de5b"
      },
      "outputs": [
        {
          "data": {
            "text/plain": [
              "'     la programación no es completa    '"
            ]
          },
          "execution_count": 32,
          "metadata": {},
          "output_type": "execute_result"
        }
      ],
      "source": [
        "string = \"     la programación no es completa    \"\n",
        "string"
      ]
    },
    {
      "cell_type": "code",
      "execution_count": null,
      "metadata": {
        "id": "1qO-pOIR8Kpu",
        "outputId": "ac0abc78-1c8b-4412-e3c2-0eac8e70e87a"
      },
      "outputs": [
        {
          "name": "stdout",
          "output_type": "stream",
          "text": [
            "la programación no es completa\n"
          ]
        }
      ],
      "source": [
        "print(string.strip())"
      ]
    },
    {
      "cell_type": "markdown",
      "metadata": {
        "id": "Nb0iXuoX8Kpu"
      },
      "source": [
        "#### isalnum\n",
        "---\n",
        "La función ``isalnum()`` chequea si todos los caracteres de la cadena son alfanuméricos (alfabéticos o numéricos)."
      ]
    },
    {
      "cell_type": "code",
      "execution_count": null,
      "metadata": {
        "id": "FwG0ta338Kpu",
        "outputId": "125af681-f835-4049-8067-214de2ccbfab"
      },
      "outputs": [
        {
          "name": "stdout",
          "output_type": "stream",
          "text": [
            "True\n",
            "False\n"
          ]
        }
      ],
      "source": [
        "challenge = 'CursodePythonenKscool'\n",
        "print(challenge.isalnum())\n",
        "\n",
        "challenge = 'curso de python en kschool'\n",
        "print(challenge.isalnum())"
      ]
    },
    {
      "cell_type": "markdown",
      "metadata": {
        "id": "3JApInrR8Kpv"
      },
      "source": [
        "### isalpha\n",
        "---\n",
        "\n",
        "La función `isalpha` comprueba si todos los elementos de la cadena son caracteres del alfabeto (a-z y A-Z)"
      ]
    },
    {
      "cell_type": "code",
      "execution_count": null,
      "metadata": {
        "id": "29vpqDWK8Kpv",
        "outputId": "734154cf-e0d1-4505-975b-c055a6dbd9b3"
      },
      "outputs": [
        {
          "name": "stdout",
          "output_type": "stream",
          "text": [
            "True\n",
            "False\n",
            "False\n"
          ]
        }
      ],
      "source": [
        "challenge = 'CursodePythonenKscool'\n",
        "print(challenge.isalpha())\n",
        "num = '123'\n",
        "print(num.isalpha())\n",
        "challenge = 'curso de python en kschool'\n",
        "print(challenge.isalpha())"
      ]
    },
    {
      "cell_type": "markdown",
      "metadata": {
        "id": "Re8oGtid8Kpv"
      },
      "source": [
        "#### isdecimal\n",
        "---\n",
        "\n",
        "El método `isdecimal()` chequea si todos los caracteres de una cadena son decimales (0-9)"
      ]
    },
    {
      "cell_type": "code",
      "execution_count": null,
      "metadata": {
        "id": "QUBiCsNn8Kpw",
        "outputId": "1e60cf1e-7155-4024-a05b-8e8c890d39d5"
      },
      "outputs": [
        {
          "name": "stdout",
          "output_type": "stream",
          "text": [
            "False\n",
            "True\n"
          ]
        }
      ],
      "source": [
        "challenge = 'curso de python en kschool'\n",
        "print(challenge.isdecimal())\n",
        "challenge = '123'\n",
        "print(challenge.isdecimal())"
      ]
    },
    {
      "cell_type": "markdown",
      "metadata": {
        "id": "y-FWjYwt8Kpw"
      },
      "source": [
        "#### isdigit\n",
        "---\n",
        "\n",
        "la función `isdigit()` chequea si todos los caracteres de una cadena son números (0-9 y algunos otros caracteres unicode para números)"
      ]
    },
    {
      "cell_type": "code",
      "execution_count": null,
      "metadata": {
        "id": "45leyNKP8Kpw",
        "outputId": "d90f5747-3b0a-40f5-cc77-6454decf4812"
      },
      "outputs": [
        {
          "name": "stdout",
          "output_type": "stream",
          "text": [
            "False\n",
            "True\n"
          ]
        }
      ],
      "source": [
        "challenge = 'Noventa'\n",
        "print(challenge.isdigit())\n",
        "challenge = '90'\n",
        "print(challenge.isdigit())"
      ]
    },
    {
      "cell_type": "markdown",
      "metadata": {
        "id": "-pUF_2Vv8Kpw"
      },
      "source": [
        "#### isnumeric()\n",
        "---\n",
        "La función `isnumeric()` chequea si todos los caracteres de una cadena son números o están relacionados con números (igual que isdigit(), sólo que acepta más símbolos, como ½)"
      ]
    },
    {
      "cell_type": "code",
      "execution_count": null,
      "metadata": {
        "id": "xHQZXZli8Kpx",
        "outputId": "22fade77-1bed-4f8c-bbcb-3946799018dd"
      },
      "outputs": [
        {
          "name": "stdout",
          "output_type": "stream",
          "text": [
            "True\n",
            "False\n"
          ]
        }
      ],
      "source": [
        "num = '10'\n",
        "print(num.isnumeric())\n",
        "num = '10.5'\n",
        "print(num.isnumeric())"
      ]
    },
    {
      "cell_type": "markdown",
      "metadata": {
        "id": "mdatlzBq8Kpx"
      },
      "source": [
        "#### isidentifier\n",
        "---\n",
        "La función `isidentifier()` chequea si para un identificador válido - comprueba si una cadena es un nombre de variable válido"
      ]
    },
    {
      "cell_type": "code",
      "execution_count": null,
      "metadata": {
        "id": "sLuEK3Yh8Kpx",
        "outputId": "115e4aab-624a-417c-c2ff-16e21493d53b"
      },
      "outputs": [
        {
          "name": "stdout",
          "output_type": "stream",
          "text": [
            "False\n",
            "True\n"
          ]
        }
      ],
      "source": [
        "challenge = '99Curso'\n",
        "print(challenge.isidentifier())\n",
        "challenge = 'curso_de_python_en_kschool'\n",
        "print(challenge.isidentifier())"
      ]
    },
    {
      "cell_type": "markdown",
      "metadata": {
        "id": "O8iJFaxm8Kpy"
      },
      "source": [
        "#### islower \n",
        "---\n",
        "La función `islower()` chequea si todos los caracteres del alfabeto de la cadena están en minúsculas"
      ]
    },
    {
      "cell_type": "code",
      "execution_count": null,
      "metadata": {
        "id": "OFQgpo058Kpz",
        "outputId": "a0de3c15-178c-4f2b-f969-29b96b195beb"
      },
      "outputs": [
        {
          "name": "stdout",
          "output_type": "stream",
          "text": [
            "True\n",
            "False\n"
          ]
        }
      ],
      "source": [
        "challenge = 'curso de python en kschool'\n",
        "print(challenge.islower())\n",
        "challenge = 'curso de python En kschool'\n",
        "print(challenge.islower())"
      ]
    },
    {
      "cell_type": "markdown",
      "metadata": {
        "id": "oJnXlccU8Kp0"
      },
      "source": [
        "#### isupper \n",
        "---\n",
        "La función `isupper()` chequea si todos los caracteres del alfabeto de la cadena están en mayúsculas"
      ]
    },
    {
      "cell_type": "code",
      "execution_count": null,
      "metadata": {
        "id": "YR_cLJ7O8Kp0",
        "outputId": "4d241f85-64bc-4a10-b532-783acfa2cc3d"
      },
      "outputs": [
        {
          "name": "stdout",
          "output_type": "stream",
          "text": [
            "True\n",
            "False\n"
          ]
        }
      ],
      "source": [
        "challenge = 'CURSO KSCHOOL'\n",
        "print(challenge.isupper())\n",
        "challenge = 'curso de python en kschool'\n",
        "print(challenge.isupper())"
      ]
    },
    {
      "cell_type": "markdown",
      "metadata": {
        "id": "CAm0mtDp8Kp0"
      },
      "source": [
        "#### startswith\n",
        "---\n",
        "\n",
        "La función `startswith()` chequea si la cadena empieza por la cadena especificada"
      ]
    },
    {
      "cell_type": "code",
      "execution_count": null,
      "metadata": {
        "id": "qZifoozF8Kp1",
        "outputId": "2376d466-57b4-4a69-c9e1-708d8c51b6a4"
      },
      "outputs": [
        {
          "name": "stdout",
          "output_type": "stream",
          "text": [
            "True\n",
            "False\n"
          ]
        }
      ],
      "source": [
        "challenge = 'curso de python en kschool'\n",
        "print(challenge.startswith('curso'))\n",
        "\n",
        "challenge = '90 días de python'\n",
        "print(challenge.startswith('ninety'))"
      ]
    },
    {
      "cell_type": "markdown",
      "metadata": {
        "id": "I7mBzr-L8Kp1"
      },
      "source": [
        "Otros métodos: `https://www.programiz.com/python-programming/methods/string`"
      ]
    },
    {
      "cell_type": "markdown",
      "metadata": {
        "id": "YgoBRt6m8Kp1"
      },
      "source": [
        "<h1>¡¡¡Lets Code!!! </h1>\n",
        "<img src=\"https://gifdb.com/images/thumbnail/pixel-art-super-mario-computer-amwdq1xi8bgz0omx.gif\" alt=\"Challenge Accepted\" style=\"width: 500px\">"
      ]
    },
    {
      "cell_type": "markdown",
      "metadata": {
        "id": "ZGLUbV_18Kp1"
      },
      "source": [
        "#### **Enunciado Ejercicio 1**::\n",
        "¿Qué longitud tiene la palabra electroencefalografista?"
      ]
    },
    {
      "cell_type": "markdown",
      "metadata": {
        "id": "p70_-u4i8Kp2"
      },
      "source": [
        "#### **Enunciado Ejercicio 2**::\n",
        "Por necesidad de mi código necesito que un string dado como input, se recree(repita) tantas veces letras tenga electroencefalografista."
      ]
    },
    {
      "cell_type": "markdown",
      "metadata": {
        "id": "xSHaPL4T8Kp2"
      },
      "source": [
        "#### **Enunciado Ejercicio 3**::\n",
        "Dado el siguiente string \"Alberto, García García\". Necesito separar el nombre del apellido"
      ]
    },
    {
      "cell_type": "markdown",
      "metadata": {
        "id": "CrQuSQ_48Kp2"
      },
      "source": [
        "#### **Enunciado Ejercicio 4**::\n",
        "¿Me dices en que posición se encuentra el primer número 4 de esta secuencia iukjyhngbfvdcsewgrhtjuykilñkjmnertyutkjn2b5f6dsd4qr536ey7gew645q641245YFQTweqsewdgtrgw43esa?"
      ]
    },
    {
      "cell_type": "markdown",
      "metadata": {
        "id": "AXDr5tsT8Kp2"
      },
      "source": [
        "\n",
        "#### **Enunciado Ejercicio 5**::\n",
        "¿Usando isnumeric() porque el valor de \"3.1416\" (PI) es False?"
      ]
    },
    {
      "cell_type": "markdown",
      "metadata": {
        "id": "MTaVLDPL8Kp3"
      },
      "source": [
        "#### **Enunciado Ejercicio 6**::\n",
        "Ultimamente necesito trabajar en unidades monetarias relacionadas al `€` y no al `$`. Me ayudas a substituir en la siguiente frase el símbolo (no necesito que me hagais el cambio de euros a dólares). \"Acabo de volver de visitar a un amigo en Carolina del Norte, ¡Mira el total de dinero que tengo ahora en la cartera es de 126$\""
      ]
    },
    {
      "cell_type": "markdown",
      "metadata": {
        "id": "DuOhyp-u8Kp3"
      },
      "source": [
        "\n",
        "#### **Enunciado Ejercicio 7**::\n",
        "Se dice que un palíndromo es una palabra o frase que se lee igual en un sentido que en otro. De las siguientes sentencias, ¿cuales son palíndromo?\n",
        "El bar es imán o zona miserable\n",
        "Ligar es ser ágil\n",
        "Aman a Panamá\n",
        "Ana lleva al oso la avellana"
      ]
    }
  ],
  "metadata": {
    "kernelspec": {
      "display_name": "Python 3",
      "language": "python",
      "name": "python3"
    },
    "language_info": {
      "codemirror_mode": {
        "name": "ipython",
        "version": 3
      },
      "file_extension": ".py",
      "mimetype": "text/x-python",
      "name": "python",
      "nbconvert_exporter": "python",
      "pygments_lexer": "ipython3",
      "version": "3.10.10"
    },
    "orig_nbformat": 4,
    "colab": {
      "provenance": [],
      "include_colab_link": true
    }
  },
  "nbformat": 4,
  "nbformat_minor": 0
}