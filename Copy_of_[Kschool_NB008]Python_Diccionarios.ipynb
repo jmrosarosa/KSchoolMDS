{
  "cells": [
    {
      "cell_type": "markdown",
      "metadata": {
        "id": "view-in-github",
        "colab_type": "text"
      },
      "source": [
        "<a href=\"https://colab.research.google.com/github/jmrosarosa/KSchoolMDS/blob/main/Copy_of_%5BKschool_NB008%5DPython_Diccionarios.ipynb\" target=\"_parent\"><img src=\"https://colab.research.google.com/assets/colab-badge.svg\" alt=\"Open In Colab\"/></a>"
      ]
    },
    {
      "cell_type": "markdown",
      "metadata": {
        "id": "XEOPiTc4MBnc"
      },
      "source": [
        "# [Kschool NB008]Python_Diccionarios\n",
        "* Objetivos:\n",
        "    - Conocer los diccionarios y su diferencia con las listas\n",
        "    - Entender como integrar y modificar la información\n",
        "    - Entender la ayuda de los métodos"
      ]
    },
    {
      "cell_type": "markdown",
      "metadata": {
        "id": "5V8DXixtMBnf"
      },
      "source": [
        "<img src=\"https://media.istockphoto.com/id/1024173328/vector/challenge-accepted-banner.jpg?s=612x612&w=0&k=20&c=HkpbXPIxSoS0zZIB36AdXz8u3TE2peAC0_s1jNTCKTc=\" alt=\"Challenge Accepted\" style=\"width: 300px\">"
      ]
    },
    {
      "cell_type": "markdown",
      "metadata": {
        "id": "lWlTioGqMBnf"
      },
      "source": [
        "---\n",
        "---\n",
        "---"
      ]
    },
    {
      "cell_type": "markdown",
      "metadata": {
        "id": "TNiOcs0rMBnf"
      },
      "source": [
        "# **Diccionarios**\n",
        "---"
      ]
    },
    {
      "cell_type": "markdown",
      "metadata": {
        "id": "Yo49mAF_MBnf"
      },
      "source": [
        "Los diccionarios en Python almacenan pares de objetos clave-valor `key-value`.\n",
        "\n",
        "En contraste con las listas, los diccionarios **no** garantizan que se mantenga el **orden** en que sus objetos han sido almacenados. Además, en un diccionario el acceso a un objeto se realiza indicando la clave (**key**) de ese objeto. Este es otro elemento diferenciador entre diccionarios y listas, donde el acceso a los objetos se realiza indicando la posición que ocupan. Los diccionarios utilizan llaves (`{}`) para encerrar a sus elementos, y dos puntos (`:`) para indicar las claves(**key**) y sus valores(**values**) asociados."
      ]
    },
    {
      "cell_type": "markdown",
      "metadata": {
        "id": "SsffS15PMBng"
      },
      "source": [
        "Los diccionarios pueden tratar con prácticamente cualquier tipo de dato ademas estos tienen muy pocas restricciones en cuanto a las claves y valores que se pueden utilizar. Estas restricciones son las siguientes:\n",
        "\n",
        "- `Claves`: no puede haber claves duplicadas y éstas tienen que ser objetos inmutables.\n",
        "- `Valores`: no existe ninguna restricción en cuanto a los tipos de datos."
      ]
    },
    {
      "cell_type": "markdown",
      "metadata": {
        "id": "GYKKRKv7MBng"
      },
      "source": [
        "Las principales propiedades que los defines son:\n",
        "1. Son **dinámicos**, pueden crecer o decrecer, se pueden añadir o eliminar elementos.\n",
        "2. Están **indexados**, los elementos del diccionario son accesibles a través del key.\n",
        "3. Y están **anidados**, un diccionario puede contener a otro diccionario en su campo value."
      ]
    },
    {
      "cell_type": "markdown",
      "metadata": {
        "id": "seGIlI5zMBng"
      },
      "source": [
        "Para definir un diccionario, se encierra el listado de valores entre llaves. Las parejas de clave y valor se separan con comas, y la clave y el valor se separan con dos puntos."
      ]
    },
    {
      "cell_type": "code",
      "execution_count": null,
      "metadata": {
        "id": "tF4dd8K2MBnh",
        "outputId": "445a26c1-391d-4ec6-e14a-a83e5bbd1fde"
      },
      "outputs": [
        {
          "data": {
            "text/plain": [
              "{'nombre': 'Alberto', 'edad': 22, 'idiomas': ['Ingles', 'Frances']}"
            ]
          },
          "execution_count": 18,
          "metadata": {},
          "output_type": "execute_result"
        }
      ],
      "source": [
        "diccionario1 = {'nombre' : 'Alberto', \n",
        "               'edad' : 22, \n",
        "               'idiomas': ['Ingles','Frances'] }\n",
        "\n",
        "diccionario1"
      ]
    },
    {
      "cell_type": "markdown",
      "metadata": {
        "id": "8syv99CuMBni"
      },
      "source": [
        "Otra forma equivalente de crear un diccionario en Python es usando `dict()` e introduciendo los pares key:value entre paréntesis. (`{key:value}`) como un array"
      ]
    },
    {
      "cell_type": "code",
      "execution_count": null,
      "metadata": {
        "id": "O4htHkuuMBni",
        "outputId": "ff0fe4e9-8f9f-4f6c-c444-4499ebca1aa3"
      },
      "outputs": [
        {
          "data": {
            "text/plain": [
              "{'nombre': 'Alberto', 'edad': 22, 'idiomas': ['Ingles', 'Frances']}"
            ]
          },
          "execution_count": 19,
          "metadata": {},
          "output_type": "execute_result"
        }
      ],
      "source": [
        "diccionario2 = dict([\n",
        "      ('nombre', 'Alberto'),\n",
        "      ('edad',  22),\n",
        "      ('idiomas', ['Ingles','Frances']),\n",
        "])\n",
        "diccionario2"
      ]
    },
    {
      "cell_type": "markdown",
      "metadata": {
        "id": "lNZytC1cMBni"
      },
      "source": [
        "También es posible usar el **constructor** dict() para crear un diccionario."
      ]
    },
    {
      "cell_type": "code",
      "execution_count": null,
      "metadata": {
        "id": "_dYHfDqIMBni",
        "outputId": "d6abde3b-c308-4116-bbf6-040b9eca0112"
      },
      "outputs": [
        {
          "data": {
            "text/plain": [
              "{'nombre': 'Alberto', 'edad': 22, 'idiomas': ['Ingles', 'Frances']}"
            ]
          },
          "execution_count": 20,
          "metadata": {},
          "output_type": "execute_result"
        }
      ],
      "source": [
        "diccionario3 = dict(nombre='Alberto',\n",
        "                    edad=22,\n",
        "                    idiomas=['Ingles','Frances'])\n",
        "diccionario3"
      ]
    },
    {
      "cell_type": "markdown",
      "metadata": {
        "id": "xsMpwJQDMBnj"
      },
      "source": [
        "## Acceder y modificar elementos\n",
        "---"
      ]
    },
    {
      "cell_type": "markdown",
      "metadata": {
        "id": "DeZ3SoRLMBnj"
      },
      "source": [
        "Podemos acceder al elemento de un diccionario mediante la clave (**key**) de este elemento.\n",
        "\n",
        "Se puede acceder a sus elementos con `[]`"
      ]
    },
    {
      "cell_type": "code",
      "execution_count": null,
      "metadata": {
        "id": "0q06F11DMBnj",
        "outputId": "b420b061-60c1-4699-f986-e1ba48f128bd"
      },
      "outputs": [
        {
          "name": "stdout",
          "output_type": "stream",
          "text": [
            "Alberto\n",
            "22\n",
            "['Ingles', 'Frances']\n"
          ]
        }
      ],
      "source": [
        "print(diccionario3['nombre'])\n",
        "print(diccionario3['edad'])\n",
        "print(diccionario3['idiomas'])"
      ]
    },
    {
      "cell_type": "markdown",
      "metadata": {
        "id": "TMBybuTgMBnj"
      },
      "source": [
        "También con la función `get()`, que nos permite añadir un segundo parámetro que devolverá si no existiera dicha `Key`"
      ]
    },
    {
      "cell_type": "code",
      "execution_count": null,
      "metadata": {
        "id": "B1dU8-xWMBnj",
        "outputId": "80fe28f9-7e76-4862-90ee-a89aa1854230"
      },
      "outputs": [
        {
          "name": "stdout",
          "output_type": "stream",
          "text": [
            "Alberto\n",
            "No existe\n"
          ]
        }
      ],
      "source": [
        "print(diccionario1['nombre'])\n",
        "print(diccionario1.get('nombres', 'No existe'))"
      ]
    },
    {
      "cell_type": "markdown",
      "metadata": {
        "id": "YWd3NnQ0MBnj"
      },
      "source": [
        "También es posible insertar una lista dentro de un diccionario. \n",
        "Para acceder a cada uno de los idiomas usamos los índices:"
      ]
    },
    {
      "cell_type": "code",
      "execution_count": null,
      "metadata": {
        "id": "9negqaE1MBnj",
        "outputId": "cdff9bb1-0861-4ed6-d17a-460755eb4f5c"
      },
      "outputs": [
        {
          "name": "stdout",
          "output_type": "stream",
          "text": [
            "Ingles\n",
            "Frances\n"
          ]
        }
      ],
      "source": [
        "print(diccionario2['idiomas'][0])\n",
        "print(diccionario2['idiomas'][1])"
      ]
    },
    {
      "cell_type": "markdown",
      "metadata": {
        "id": "0EB8X7K1MBnj"
      },
      "source": [
        "Para modificar un elemento basta con usar [] con el nombre del key y asignar el valor que queremos."
      ]
    },
    {
      "cell_type": "code",
      "execution_count": null,
      "metadata": {
        "id": "Ohl2TwHNMBnk",
        "outputId": "9ff90e9a-cc7c-4b50-8c64-9514adef1b15"
      },
      "outputs": [
        {
          "name": "stdout",
          "output_type": "stream",
          "text": [
            "{'nombre': 'Roberto', 'edad': 22, 'idiomas': ['Ingles', 'Frances']}\n"
          ]
        }
      ],
      "source": [
        "diccionario2['nombre'] = \"Roberto\"\n",
        "print(diccionario2)"
      ]
    },
    {
      "cell_type": "markdown",
      "metadata": {
        "id": "aIoBc8QQMBnk"
      },
      "source": [
        "Si el key al que accedemos no existe, se añade automáticamente."
      ]
    },
    {
      "cell_type": "code",
      "execution_count": null,
      "metadata": {
        "id": "Z3S3AS98MBnk",
        "outputId": "8139ec7d-f2d6-4457-9279-b5f781187373"
      },
      "outputs": [
        {
          "name": "stdout",
          "output_type": "stream",
          "text": [
            "{'nombre': 'Roberto', 'edad': 22, 'idiomas': ['Ingles', 'Frances'], 'apellido': 'García'}\n"
          ]
        }
      ],
      "source": [
        "diccionario2['apellido'] = \"García\"\n",
        "print(diccionario2)"
      ]
    },
    {
      "cell_type": "markdown",
      "metadata": {
        "id": "5mWn6Gc8MBnk"
      },
      "source": [
        "Utilizando el método `setdefault()`, podemos añadir un elemento a un diccionario si no existe, y si existe no substituye."
      ]
    },
    {
      "cell_type": "code",
      "execution_count": null,
      "metadata": {
        "id": "xip7x5v2MBnk",
        "outputId": "b2d36609-9d0c-42d1-abb4-e8ddff8e9f59"
      },
      "outputs": [
        {
          "name": "stdout",
          "output_type": "stream",
          "text": [
            "{'nombre': 'Roberto', 'edad': 22, 'idiomas': ['Ingles', 'Frances'], 'apellido': 'García'}\n",
            "{'nombre': 'Roberto', 'edad': 22, 'idiomas': ['Ingles', 'Frances'], 'apellido': 'García', 'pais': 'España'}\n"
          ]
        }
      ],
      "source": [
        "print(diccionario2)\n",
        "diccionario2.setdefault('pais', \"España\")\n",
        "diccionario2.setdefault('edad', \"30\")\n",
        "print(diccionario2)"
      ]
    },
    {
      "cell_type": "markdown",
      "metadata": {
        "id": "k7vSdeBjMBnk"
      },
      "source": [
        "Para recorrer todo el diccionario, podemos hacer uso de la estructura for:"
      ]
    },
    {
      "cell_type": "code",
      "execution_count": null,
      "metadata": {
        "id": "YT94j5LvMBnk",
        "outputId": "260dd9fb-0651-4f1a-9679-564cd6dc93fb"
      },
      "outputs": [
        {
          "name": "stdout",
          "output_type": "stream",
          "text": [
            "nombre : Alberto\n",
            "edad : 22\n",
            "idiomas : ['Ingles', 'Frances']\n"
          ]
        }
      ],
      "source": [
        "for key in diccionario1:\n",
        "    print(key, \":\", diccionario1[key])"
      ]
    },
    {
      "cell_type": "markdown",
      "metadata": {
        "id": "VKhC-YdhMBnk"
      },
      "source": [
        "Si solo queremos recorrer los valores `value`:"
      ]
    },
    {
      "cell_type": "code",
      "execution_count": null,
      "metadata": {
        "id": "aVBi8gmoMBnk",
        "outputId": "3aab80da-d9a2-4da6-86ab-9464640c7c93"
      },
      "outputs": [
        {
          "name": "stdout",
          "output_type": "stream",
          "text": [
            "Alberto\n",
            "22\n",
            "['Ingles', 'Frances']\n"
          ]
        }
      ],
      "source": [
        "for value in diccionario1.values():\n",
        "    print(value)"
      ]
    },
    {
      "cell_type": "markdown",
      "metadata": {
        "id": "0-TSQKJFMBnl"
      },
      "source": [
        "También podriamos hacerlo llamando al método `items()` del diccionario:"
      ]
    },
    {
      "cell_type": "code",
      "execution_count": null,
      "metadata": {
        "id": "Q1v7hc8rMBnl",
        "outputId": "cfd8efb4-6924-454f-a427-21757bffdd19"
      },
      "outputs": [
        {
          "name": "stdout",
          "output_type": "stream",
          "text": [
            "nombre, Alberto\n",
            "edad, 22\n",
            "idiomas, ['Ingles', 'Frances']\n"
          ]
        }
      ],
      "source": [
        "for x, y in diccionario1.items():\n",
        "    print(x, y, sep=\", \")"
      ]
    },
    {
      "cell_type": "markdown",
      "metadata": {
        "id": "sPxLPE8nMBnl"
      },
      "source": [
        "## Diccionarios anidados\n",
        "---\n",
        "Los diccionarios en Python pueden contener uno dentro de otro. Podemos ver como el diccionario anidado d_anidado contiene a su vez dos diccionarios."
      ]
    },
    {
      "cell_type": "code",
      "execution_count": null,
      "metadata": {
        "id": "slwYohq0MBnl",
        "outputId": "13ff6d34-d71a-4f34-adbf-dfb639c6fb6f"
      },
      "outputs": [
        {
          "name": "stdout",
          "output_type": "stream",
          "text": [
            "{'d1': {'equipo': 'Real Madrid', 'delantero': 'Benzema'}, 'd2': {'equipo': 'Barcelona', 'delantero': 'Lewandowski'}}\n"
          ]
        }
      ],
      "source": [
        "dict1 = {\"equipo\": \"Real Madrid\", \"delantero\": \"Benzema\"}\n",
        "dict2 = {\"equipo\": \"Barcelona\", \"delantero\": \"Lewandowski\"}\n",
        "d_anidado = {\n",
        "  \"d1\" : dict1,\n",
        "  \"d2\" : dict2\n",
        "}\n",
        "print(d_anidado)"
      ]
    },
    {
      "cell_type": "markdown",
      "metadata": {
        "id": "AfC5r5t9MBnl"
      },
      "source": [
        "## Unión de diccionarios\n",
        "---\n",
        "La forma en como juntamos dos diccionarios dentro del mismo sin anidarlos será mediante `**`"
      ]
    },
    {
      "cell_type": "code",
      "execution_count": null,
      "metadata": {
        "id": "eWa08kBpMBnl",
        "outputId": "9ce2388f-7333-40aa-8054-53d1ced5ae5d"
      },
      "outputs": [
        {
          "data": {
            "text/plain": [
              "{'equipo': 'Real Madrid', 'delantero': 'Benzema', 'defensa': 'Alaba'}"
            ]
          },
          "execution_count": 40,
          "metadata": {},
          "output_type": "execute_result"
        }
      ],
      "source": [
        "dict3 = {\"defensa\": \"Alaba\", \"delantero\": \"Benzema\"}\n",
        "d_merge = {**dict1, **dict3}\n",
        "d_merge"
      ]
    },
    {
      "cell_type": "markdown",
      "metadata": {
        "id": "heog2R2BMBnl"
      },
      "source": [
        "En el caso que exista una key duplicada en ambos diccionarios, se tomará el valor del segundo diccionario."
      ]
    },
    {
      "cell_type": "code",
      "execution_count": null,
      "metadata": {
        "id": "xec1eOfTMBnl",
        "outputId": "a7c40226-a0a7-4fb7-d15e-e4d562e3f4cd"
      },
      "outputs": [
        {
          "data": {
            "text/plain": [
              "{'defensa': 'Alaba', 'delantero': 'Lewandowski', 'equipo': 'Barcelona'}"
            ]
          },
          "execution_count": 41,
          "metadata": {},
          "output_type": "execute_result"
        }
      ],
      "source": [
        "dict3 = {\"defensa\": \"Alaba\", \"delantero\": \"Benzema\"}\n",
        "d_merge = {**dict3, **dict2}\n",
        "d_merge"
      ]
    },
    {
      "cell_type": "markdown",
      "metadata": {
        "id": "mJreLnKEMBnl"
      },
      "source": [
        "## Dict Comprenhension\n",
        "---\n",
        "Python tiene comprensiones de diccionario con una sintaxis similar a las comprensiones de lista que vimos en el notebook anterior."
      ]
    },
    {
      "cell_type": "code",
      "execution_count": null,
      "metadata": {
        "id": "6yM67t1zMBnl",
        "outputId": "4204f818-d009-428e-cde2-63803fe23d46"
      },
      "outputs": [
        {
          "data": {
            "text/plain": [
              "{'Mercurio': 'M',\n",
              " 'Venus': 'V',\n",
              " 'Tierra': 'T',\n",
              " 'Marte': 'M',\n",
              " 'Júpiter': 'J',\n",
              " 'Saturno': 'S',\n",
              " 'Urano': 'U',\n",
              " 'Neptuno': 'N'}"
            ]
          },
          "execution_count": 2,
          "metadata": {},
          "output_type": "execute_result"
        }
      ],
      "source": [
        "planetas = [\"Mercurio\", \"Venus\", \"Tierra\", \"Marte\", \"Júpiter\", \"Saturno\", \"Urano\", \"Neptuno\"]\n",
        "primerainicial = {planeta: planeta[0] for planeta in planetas}\n",
        "primerainicial"
      ]
    },
    {
      "cell_type": "markdown",
      "metadata": {
        "id": "6_QaQ-a0MBnl"
      },
      "source": [
        "## Metodos de los diccionarios"
      ]
    },
    {
      "cell_type": "markdown",
      "metadata": {
        "id": "pVAgGzINMBnl"
      },
      "source": [
        "#### All\n",
        "\n",
        "El método `all()` del diccionario devuelve **True** si todas las claves (keys) del diccionario son verdaderas (o si el diccionario está vacío). Si las claves del diccionario son **True** o si el método all del diccionario devuelve verdadero, en caso contrario devolverá falso."
      ]
    },
    {
      "cell_type": "code",
      "execution_count": null,
      "metadata": {
        "id": "BG67odyMMBnm",
        "outputId": "fca0ec0f-ae64-460a-8b1d-a45dc311ab8b"
      },
      "outputs": [
        {
          "name": "stdout",
          "output_type": "stream",
          "text": [
            "{0: 'Léon', 1: 'Sara'}\n",
            "False\n",
            "\n",
            "{1: 'Sara'}\n",
            "True\n"
          ]
        }
      ],
      "source": [
        "dictt = {0: \"Léon\", 1: \"Sara\"}\n",
        "print(dictt)\n",
        "print(all(dictt))\n",
        "\n",
        "print()\n",
        "\n",
        "dictt = {1: \"Léon\", True: \"Sara\"}\n",
        "print(dictt)\n",
        "print(all(dictt))"
      ]
    },
    {
      "cell_type": "markdown",
      "metadata": {
        "id": "ikgi0xZXMBnm"
      },
      "source": [
        "#### Any\n",
        "\n",
        "Las funciones `any()` del diccionario devuelven **True** si alguna clave del diccionario es verdadera. Si el diccionario está vacío, devuelve `False`."
      ]
    },
    {
      "cell_type": "code",
      "execution_count": null,
      "metadata": {
        "id": "_FIVAhc2MBnm"
      },
      "outputs": [],
      "source": [
        "dictt = {0: \"Léon\", 1: \"Sara\"}\n",
        "print(dictt)\n",
        "print(all(dictt))\n",
        "\n",
        "print()\n",
        "\n",
        "dictt = {1: \"Léon\", True: \"Sara\"}\n",
        "print(dictt)\n",
        "print(all(dictt))"
      ]
    },
    {
      "cell_type": "markdown",
      "metadata": {
        "id": "rJ8JltztMBnm"
      },
      "source": [
        "#### Len\n",
        "\n",
        "El método `len()` del diccionario devuelve la longitud del diccionario (obviamente). Devuelve el número de elementos del diccionario."
      ]
    },
    {
      "cell_type": "code",
      "execution_count": null,
      "metadata": {
        "id": "ECLrmldfMBnm",
        "outputId": "44676297-8344-4f15-b921-9f5e5a2b3da9"
      },
      "outputs": [
        {
          "name": "stdout",
          "output_type": "stream",
          "text": [
            "3\n"
          ]
        }
      ],
      "source": [
        "diccionario1 = {'nombre' : 'Alberto', 'edad' : 22, 'idiomas': ['Ingles','Frances']}\n",
        "print(len(diccionario1))"
      ]
    },
    {
      "cell_type": "markdown",
      "metadata": {
        "id": "CJ2MgTV8MBnm"
      },
      "source": [
        "#### Sorted\n",
        "\n",
        "El método `sorted()` del diccionario devuelve una nueva lista ordenada de las claves del diccionario."
      ]
    },
    {
      "cell_type": "code",
      "execution_count": null,
      "metadata": {
        "id": "VB5XRqruMBnm",
        "outputId": "f78319db-6e2f-4890-94c0-54f6474b5e28"
      },
      "outputs": [
        {
          "name": "stdout",
          "output_type": "stream",
          "text": [
            "['edad', 'idiomas', 'nombre']\n"
          ]
        }
      ],
      "source": [
        "diccionario1 = {'nombre' : 'Alberto', 'edad' : 22, 'idiomas': ['Ingles','Frances']}\n",
        "print(sorted(diccionario1))"
      ]
    },
    {
      "cell_type": "markdown",
      "metadata": {
        "id": "xXCH15cDMBnm"
      },
      "source": [
        "El método sorted() acepta un parámetro inverso como argumento opcional."
      ]
    },
    {
      "cell_type": "code",
      "execution_count": null,
      "metadata": {
        "id": "aI9BVkcYMBnm",
        "outputId": "6612b5ab-6da6-4a8b-f962-b8614ff92636"
      },
      "outputs": [
        {
          "name": "stdout",
          "output_type": "stream",
          "text": [
            "['nombre', 'idiomas', 'edad']\n"
          ]
        }
      ],
      "source": [
        "# Ordenar de forma descendente\n",
        "print(sorted(diccionario1, reverse = True))"
      ]
    },
    {
      "cell_type": "markdown",
      "metadata": {
        "id": "CX5LRbqLMBnm"
      },
      "source": [
        "#### Copy\n",
        "\n",
        "Como su nombre indica, el método copiar (copy) en diccionario devuelve una copia del diccionario."
      ]
    },
    {
      "cell_type": "markdown",
      "metadata": {
        "id": "A7P6CIWiMBnn"
      },
      "source": [
        "### **Notas importantes**\n",
        "Usar `copy()` al trabajar con diccionarios en Python es una **buena práctica** cuando deseas recorrer el diccionario y modificar su contenido al mismo tiempo. \n",
        "Esto se debe a que modificar un diccionario mientras se itera sobre él puede provocar comportamientos inesperados y errores.\n",
        "\n",
        "Al usar  `copy()` se crea una copia superficial del diccionario original. De esta manera, puedes recorrer la copia del diccionario y realizar modificaciones en el diccionario original sin afectar el proceso de iteración."
      ]
    },
    {
      "cell_type": "code",
      "execution_count": null,
      "metadata": {
        "id": "Cec8YBUdMBnn",
        "outputId": "8bc735c5-aea4-4f2e-92ed-614c9135b974"
      },
      "outputs": [
        {
          "ename": "RuntimeError",
          "evalue": "dictionary changed size during iteration",
          "output_type": "error",
          "traceback": [
            "\u001b[0;31m---------------------------------------------------------------------------\u001b[0m",
            "\u001b[0;31mRuntimeError\u001b[0m                              Traceback (most recent call last)",
            "Cell \u001b[0;32mIn[68], line 2\u001b[0m\n\u001b[1;32m      1\u001b[0m diccionario_original \u001b[39m=\u001b[39m {\u001b[39m'\u001b[39m\u001b[39ma\u001b[39m\u001b[39m'\u001b[39m: \u001b[39m1\u001b[39m, \u001b[39m'\u001b[39m\u001b[39mb\u001b[39m\u001b[39m'\u001b[39m: \u001b[39m2\u001b[39m, \u001b[39m'\u001b[39m\u001b[39mc\u001b[39m\u001b[39m'\u001b[39m: \u001b[39m3\u001b[39m}\n\u001b[0;32m----> 2\u001b[0m \u001b[39mfor\u001b[39;00m clave \u001b[39min\u001b[39;00m diccionario_original:\n\u001b[1;32m      3\u001b[0m     \u001b[39mif\u001b[39;00m clave \u001b[39m==\u001b[39m \u001b[39m'\u001b[39m\u001b[39mb\u001b[39m\u001b[39m'\u001b[39m:\n\u001b[1;32m      4\u001b[0m         \u001b[39mdel\u001b[39;00m diccionario_original[clave]\n",
            "\u001b[0;31mRuntimeError\u001b[0m: dictionary changed size during iteration"
          ]
        }
      ],
      "source": [
        "diccionario_original = {'a': 1, 'b': 2, 'c': 3}\n",
        "for clave in diccionario_original:\n",
        "    if clave == 'b':\n",
        "        del diccionario_original[clave]\n",
        "\n",
        "print(diccionario_original)"
      ]
    },
    {
      "cell_type": "code",
      "execution_count": null,
      "metadata": {
        "id": "oPTImhNfMBnn",
        "outputId": "d6cf4ea0-f1e6-44b9-9d95-327ed94a66fd"
      },
      "outputs": [
        {
          "name": "stdout",
          "output_type": "stream",
          "text": [
            "{'a': 1, 'c': 3}\n"
          ]
        }
      ],
      "source": [
        "diccionario_original = {'a': 1, 'b': 2, 'c': 3}\n",
        "diccionario_copia = diccionario_original.copy()\n",
        "\n",
        "for clave in diccionario_copia:\n",
        "    if clave == 'b':\n",
        "        del diccionario_original[clave]\n",
        "\n",
        "print(diccionario_original)"
      ]
    },
    {
      "cell_type": "markdown",
      "metadata": {
        "id": "nPlOj7xrMBnn"
      },
      "source": [
        "La función `copy()` crea una copia superficial, lo que significa que si tienes un diccionario anidado, las referencias a los diccionarios internos seguirán siendo las mismas en la copia y el original. Si necesitas realizar una copia profunda de un diccionario anidado, puedes utilizar el módulo copy y su función deepcopy."
      ]
    },
    {
      "cell_type": "code",
      "execution_count": null,
      "metadata": {
        "id": "-FyEFdjRMBnn",
        "outputId": "f3b84a8f-d6b1-4358-e995-3599284ad352"
      },
      "outputs": [
        {
          "data": {
            "text/plain": [
              "{'a': 1, 'b': {'c': 2}}"
            ]
          },
          "execution_count": 70,
          "metadata": {},
          "output_type": "execute_result"
        }
      ],
      "source": [
        "import copy\n",
        "\n",
        "diccionario_original = {'a': 1, 'b': {'c': 2}}\n",
        "diccionario_copia = copy.deepcopy(diccionario_original)\n",
        "diccionario_copia"
      ]
    },
    {
      "cell_type": "markdown",
      "metadata": {
        "id": "TGJbq53yMBnn"
      },
      "source": [
        "El método `del()` elimina un elemento basándose en una clave(**key**) dada."
      ]
    },
    {
      "cell_type": "code",
      "execution_count": null,
      "metadata": {
        "id": "7Yk7KsFtMBnn",
        "outputId": "be6fed43-e564-493b-fde0-216db9ed4307"
      },
      "outputs": [
        {
          "data": {
            "text/plain": [
              "{'edad': 22, 'idiomas': ['Ingles', 'Frances']}"
            ]
          },
          "execution_count": 62,
          "metadata": {},
          "output_type": "execute_result"
        }
      ],
      "source": [
        "diccionario1 = {'nombre' : 'Alberto', 'edad' : 22, 'idiomas': ['Ingles','Frances']}\n",
        "del diccionario1['nombre']\n",
        "diccionario1"
      ]
    },
    {
      "cell_type": "markdown",
      "metadata": {
        "id": "nUz3zirlMBnn"
      },
      "source": [
        "El método de `clear()` elimina todos los elementos de un diccionario."
      ]
    },
    {
      "cell_type": "code",
      "execution_count": null,
      "metadata": {
        "id": "TzyfT4pgMBnn",
        "outputId": "72312691-6fbc-4374-a3e4-74bb8b462451"
      },
      "outputs": [
        {
          "data": {
            "text/plain": [
              "{}"
            ]
          },
          "execution_count": 63,
          "metadata": {},
          "output_type": "execute_result"
        }
      ],
      "source": [
        "diccionario1 = {'nombre' : 'Alberto', 'edad' : 22, 'idiomas': ['Ingles','Frances']}\n",
        "diccionario1.clear()\n",
        "diccionario1"
      ]
    },
    {
      "cell_type": "markdown",
      "metadata": {
        "id": "Ckj6x4iMMBnn"
      },
      "source": [
        "Comparación entre tipos complejos"
      ]
    },
    {
      "cell_type": "markdown",
      "metadata": {
        "id": "IodLH54lMBnn"
      },
      "source": [
        "| Tipo | Ordenada | Mutable | Inicialización |\n",
        "|---|---|---|---|\n",
        "| Lista | x | x | list() |\n",
        "| Tupla | x |  | tuple()|\n",
        "| Diccionario |  | x | dict() |\n",
        "| Conjunto |  | x | set()  |"
      ]
    },
    {
      "cell_type": "markdown",
      "metadata": {
        "id": "_Ek192kCMBnn"
      },
      "source": [
        "<h1>¡¡¡Lets Code!!! </h1>\n",
        "<img src=\"https://gifdb.com/images/thumbnail/pixel-art-super-mario-computer-amwdq1xi8bgz0omx.gif\" alt=\"Challenge Accepted\" style=\"width: 500px\">"
      ]
    },
    {
      "cell_type": "markdown",
      "metadata": {
        "id": "tlzrdGSzMBnn"
      },
      "source": [
        "#### **Enunciado Ejercicio 1**::\n",
        "Dada la siguiente cadena de texto = \"Lorem Ipsum es simplemente el texto de relleno de las imprentas y archivos de texto. Lorem Ipsum ha sido el texto de relleno estándar de las industrias desde el año 1500, cuando un impresor (N. del T. persona que se dedica a la imprenta) desconocido usó una galería de textos y los mezcló de tal manera que logró hacer un libro de textos especimen. No sólo sobrevivió 500 años, sino que tambien ingresó como texto de relleno en documentos electrónicos, quedando esencialmente igual al original. Fue popularizado en los 60s con la creación de las hojas 'Letraset', las cuales contenian pasajes de Lorem Ipsum, y más recientemente con software de autoedición, como por ejemplo Aldus PageMaker, el cual incluye versiones de Lorem Ipsum\".\n",
        "\n",
        "Crea un diccionario que cuente la frecuencia de cada palabra en la cadena."
      ]
    },
    {
      "cell_type": "markdown",
      "metadata": {
        "id": "5DQ3CmFpMBnn"
      },
      "source": [
        "#### **Solución Ejercicio 1**::"
      ]
    },
    {
      "cell_type": "code",
      "execution_count": null,
      "metadata": {
        "id": "4tzPB4EPMBno",
        "outputId": "7e0139f1-885c-4f19-998a-f18af5938c01"
      },
      "outputs": [
        {
          "name": "stdout",
          "output_type": "stream",
          "text": [
            "{'Lorem': 4, 'Ipsum': 3, 'es': 1, 'simplemente': 1, 'el': 4, 'texto': 3, 'de': 13, 'relleno': 3, 'las': 4, 'imprentas': 1, 'y': 3, 'archivos': 1, 'texto.': 1, 'ha': 1, 'sido': 1, 'estándar': 1, 'industrias': 1, 'desde': 1, 'año': 1, '1500,': 1, 'cuando': 1, 'un': 2, 'impresor': 1, '(N.': 1, 'del': 1, 'T.': 1, 'persona': 1, 'que': 3, 'se': 1, 'dedica': 1, 'a': 1, 'la': 2, 'imprenta)': 1, 'desconocido': 1, 'usó': 1, 'una': 1, 'galería': 1, 'textos': 2, 'los': 2, 'mezcló': 1, 'tal': 1, 'manera': 1, 'logró': 1, 'hacer': 1, 'libro': 1, 'especimen.': 1, 'No': 1, 'sólo': 1, 'sobrevivió': 1, '500': 1, 'años,': 1, 'sino': 1, 'tambien': 1, 'ingresó': 1, 'como': 2, 'en': 2, 'documentos': 1, 'electrónicos,': 1, 'quedando': 1, 'esencialmente': 1, 'igual': 1, 'al': 1, 'original.': 1, 'Fue': 1, 'popularizado': 1, '60s': 1, 'con': 2, 'creación': 1, 'hojas': 1, \"'Letraset',\": 1, 'cuales': 1, 'contenian': 1, 'pasajes': 1, 'Ipsum,': 1, 'más': 1, 'recientemente': 1, 'software': 1, 'autoedición,': 1, 'por': 1, 'ejemplo': 1, 'Aldus': 1, 'PageMaker,': 1, 'cual': 1, 'incluye': 1, 'versiones': 1}\n"
          ]
        }
      ],
      "source": [
        "texto = \"Lorem Ipsum es simplemente el texto de relleno de las imprentas y archivos de texto. Lorem Ipsum ha sido el texto de relleno estándar de las industrias desde el año 1500, cuando un impresor (N. del T. persona que se dedica a la imprenta) desconocido usó una galería de textos y los mezcló de tal manera que logró hacer un libro de textos especimen. No sólo sobrevivió 500 años, sino que tambien ingresó como texto de relleno en documentos electrónicos, quedando esencialmente igual al original. Fue popularizado en los 60s con la creación de las hojas 'Letraset', las cuales contenian pasajes de Lorem Ipsum, y más recientemente con software de autoedición, como por ejemplo Aldus PageMaker, el cual incluye versiones de Lorem Ipsum\"\n",
        "\n",
        "def contar_palabras(texto):\n",
        "    palabras = texto.split()\n",
        "    frecuencia = {}\n",
        "\n",
        "    for palabra in palabras:\n",
        "        if palabra in frecuencia:\n",
        "            frecuencia[palabra] += 1\n",
        "        else:\n",
        "            frecuencia[palabra] = 1\n",
        "\n",
        "    return frecuencia\n",
        "\n",
        "resultado = contar_palabras(texto)\n",
        "print(resultado)\n"
      ]
    },
    {
      "cell_type": "markdown",
      "metadata": {
        "id": "EiEXk7tOMBno"
      },
      "source": [
        "#### **Enunciado Ejercicio 2**::\n",
        "\n",
        "Teniendo en cuenta el siguiente diccionario:\n",
        "\n",
        "<pre>\n",
        "```\n",
        "Alumnos = {\n",
        "    \"Alberto\": 7,\n",
        "    \"Sara\": 4,\n",
        "    \"Julio\": 5,\n",
        "    \"Ana\": 3,\n",
        "}\n",
        "```\n",
        "</pre>\n",
        "\n",
        "Crea el código que invierta las claves y los valores."
      ]
    },
    {
      "cell_type": "markdown",
      "metadata": {
        "id": "Jy-EoZV-MBno"
      },
      "source": [
        "#### **Solución Ejercicio 2**::"
      ]
    },
    {
      "cell_type": "code",
      "execution_count": null,
      "metadata": {
        "id": "haB8p3QLMBno",
        "outputId": "627ebcd7-d9bf-42d3-bd72-1c8ad3c1c44b"
      },
      "outputs": [
        {
          "name": "stdout",
          "output_type": "stream",
          "text": [
            "{7: 'Alberto', 4: 'Sara', 5: 'Julio', 3: 'Ana'}\n"
          ]
        }
      ],
      "source": [
        "alumnos = {\n",
        "    \"Alberto\": 7,\n",
        "    \"Sara\": 4,\n",
        "    \"Julio\": 5,\n",
        "    \"Ana\": 3,\n",
        "}\n",
        "\n",
        "def invertir_diccionario(diccionario):\n",
        "    invertido = {}\n",
        "\n",
        "    for clave, valor in diccionario.items():\n",
        "        invertido[valor] = clave\n",
        "\n",
        "    return invertido\n",
        "\n",
        "resultado = invertir_diccionario(alumnos)\n",
        "print(resultado)\n"
      ]
    },
    {
      "cell_type": "markdown",
      "metadata": {
        "id": "wkmAoY_PMBno"
      },
      "source": [
        "#### **Enunciado Ejercicio 3**::\n",
        "Con estos dos diccionarios\n",
        "\n",
        "<pre>\n",
        "```\n",
        "diccionario1 = {\"a\": 1, \"b\": 2, \"c\": 3}\n",
        "diccionario2 = {\"b\": 7, \"c\": 8, \"d\": 9}\n",
        "```\n",
        "</pre>\n",
        "\n",
        "Queremos una bloque de código que nos permita fusionarlos. Si una clave está presente en ambos diccionarios, suma los valores correspondientes."
      ]
    },
    {
      "cell_type": "markdown",
      "metadata": {
        "id": "WPU0rANtMBnr"
      },
      "source": [
        "#### **Solución Ejercicio 3**::"
      ]
    },
    {
      "cell_type": "code",
      "execution_count": null,
      "metadata": {
        "id": "pGDDfiuuMBnr",
        "outputId": "17202fe3-e33a-4ffa-c119-c2472dc46860"
      },
      "outputs": [
        {
          "name": "stdout",
          "output_type": "stream",
          "text": [
            "{'a': 1, 'b': 9, 'c': 11, 'd': 9}\n"
          ]
        }
      ],
      "source": [
        "diccionario1 = {\"a\": 1, \"b\": 2, \"c\": 3}\n",
        "diccionario2 = {\"b\": 7, \"c\": 8, \"d\": 9}\n",
        "\n",
        "def fusionar_diccionarios(d1, d2):\n",
        "    resultado = d1.copy()\n",
        "\n",
        "    for clave, valor in d2.items():\n",
        "        if clave in resultado:\n",
        "            resultado[clave] += valor\n",
        "        else:\n",
        "            resultado[clave] = valor\n",
        "\n",
        "    return resultado\n",
        "\n",
        "resultado = fusionar_diccionarios(diccionario1, diccionario2)\n",
        "print(resultado)\n"
      ]
    },
    {
      "cell_type": "markdown",
      "metadata": {
        "id": "UNVir0QTMBnr"
      },
      "source": [
        "#### **Enunciado Ejercicio 4**::\n",
        "Sois un detective que ha interceptado un mensaje criptográfico oculto en un conjunto de datos. Se te ha proporcionado un diccionario con diversos elementos, donde cada uno de ellos tiene un valor que contiene una palabra.\n",
        "Tu tarea es descubrir el mensaje oculto.\n",
        "\n",
        "El mensaje oculto se forma ordenando por la clave(key) y extrayendo la primera letra de cada palabra. Desentraña el misterio y revela el mensaje oculto.\n",
        "\n",
        "<pre>\n",
        "```\n",
        "diccionario = {\n",
        "    \"9\": \"karate\",\n",
        "    \"1\": \"Pescado\",\n",
        "    \"3\": \"tigre\",\n",
        "    \"4\": \"huevo\",\n",
        "    \"11\": \"calcetín\",\n",
        "    \"12\": \"hormiga\",\n",
        "    \"7\": \"espacio\",\n",
        "    \"2\": \"yate\",\n",
        "    \"8\": \"naranja\",\n",
        "    \"10\": \"silla\",\n",
        "    \"13\": \"olla2\",\n",
        "    \"14\": \"ostra\",\n",
        "    \"5\": \"olla\",\n",
        "    \"6\": \"nube\",\n",
        "    \"15\": \"león\"\n",
        "}\n",
        "```\n",
        "</pre>"
      ]
    },
    {
      "cell_type": "markdown",
      "metadata": {
        "id": "TJxiertcMBnr"
      },
      "source": [
        "#### **Solución Ejercicio 4**::"
      ]
    },
    {
      "cell_type": "code",
      "execution_count": null,
      "metadata": {
        "id": "ZvjY2_toMBnr",
        "outputId": "0001fea9-8056-4670-a7a1-77d93fe55979"
      },
      "outputs": [
        {
          "name": "stdout",
          "output_type": "stream",
          "text": [
            "La palabra clave es: Pythonenkschool\n"
          ]
        }
      ],
      "source": [
        "diccionario = {\n",
        "    \"9\": \"karate\",\n",
        "    \"1\": \"Pescado\",\n",
        "    \"3\": \"tigre\",\n",
        "    \"4\": \"huevo\",\n",
        "    \"11\": \"calcetín\",\n",
        "    \"12\": \"hormiga\",\n",
        "    \"7\": \"espacio\",\n",
        "    \"2\": \"yate\",\n",
        "    \"8\": \"naranja\",\n",
        "    \"10\": \"silla\",\n",
        "    \"13\": \"olla2\",\n",
        "    \"14\": \"ostra\",\n",
        "    \"5\": \"olla\",\n",
        "    \"6\": \"nube\",\n",
        "    \"15\": \"león\"\n",
        "}\n",
        "\n",
        "\n",
        "array = [None] * len(diccionario)\n",
        "for clave, valor in diccionario.items():\n",
        "    clave = int(clave)-1\n",
        "    array[clave] = valor[0]\n",
        "\n",
        "print(f\"La palabra clave es: {''.join(array)}\")"
      ]
    }
  ],
  "metadata": {
    "kernelspec": {
      "display_name": "Python 3",
      "language": "python",
      "name": "python3"
    },
    "language_info": {
      "codemirror_mode": {
        "name": "ipython",
        "version": 3
      },
      "file_extension": ".py",
      "mimetype": "text/x-python",
      "name": "python",
      "nbconvert_exporter": "python",
      "pygments_lexer": "ipython3",
      "version": "3.10.10"
    },
    "orig_nbformat": 4,
    "colab": {
      "provenance": [],
      "include_colab_link": true
    }
  },
  "nbformat": 4,
  "nbformat_minor": 0
}