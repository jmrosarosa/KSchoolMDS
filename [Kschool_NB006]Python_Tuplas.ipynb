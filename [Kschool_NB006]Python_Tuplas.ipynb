{
  "cells": [
    {
      "cell_type": "markdown",
      "metadata": {
        "id": "view-in-github",
        "colab_type": "text"
      },
      "source": [
        "<a href=\"https://colab.research.google.com/github/jmrosarosa/KSchoolMDS/blob/main/%5BKschool_NB006%5DPython_Tuplas.ipynb\" target=\"_parent\"><img src=\"https://colab.research.google.com/assets/colab-badge.svg\" alt=\"Open In Colab\"/></a>"
      ]
    },
    {
      "cell_type": "markdown",
      "metadata": {
        "id": "vRzUiohd8hrM"
      },
      "source": [
        "# [Kschool NB006]Python_Tuplas\n",
        "* Objetivos: \n",
        "    - Conocer los sets y su diferencia con las listas\n",
        "    - Entender como integrar y modificar la información"
      ]
    },
    {
      "cell_type": "markdown",
      "metadata": {
        "id": "yDr2hXh18hrO"
      },
      "source": [
        "<img src=\"https://media.istockphoto.com/id/1024173328/vector/challenge-accepted-banner.jpg?s=612x612&w=0&k=20&c=HkpbXPIxSoS0zZIB36AdXz8u3TE2peAC0_s1jNTCKTc=\" alt=\"Challenge Accepted\" style=\"width: 300px\">"
      ]
    },
    {
      "cell_type": "markdown",
      "metadata": {
        "id": "dujDLE6J8hrP"
      },
      "source": [
        "---\n",
        "---\n",
        "---"
      ]
    },
    {
      "cell_type": "markdown",
      "metadata": {
        "id": "hI_64wr78hrQ"
      },
      "source": [
        "# **Tuplas**\n",
        "---"
      ]
    },
    {
      "cell_type": "markdown",
      "metadata": {
        "id": "3-GAHujH8hrR"
      },
      "source": [
        "Las ``tuplas`` en Python son un tipo o estructura de datos que permite almacenar datos de una manera muy parecida a las listas, con la salvedad de que son **inmutables**.\n",
        "\n",
        "Una tupla almacena datos heterogéneos, es decir, datos de distintos tipos. Una tupla se utiliza para agrupar datos relacionados, como el **nombre**, la **altura**, el **peso**, la raza y el **color** de un perro. \n",
        "Una tupla comprende varios valores separados por ``comas``."
      ]
    },
    {
      "cell_type": "markdown",
      "metadata": {
        "id": "q-Au80dz8hrR"
      },
      "source": [
        "Las tuplas en Python o `tuples()` son muy similares a las listas, pero con dos diferencias.\n",
        "1. Son inmutables, lo que significa que no pueden ser modificadas una vez declaradas\n",
        "2. en vez de inicializarse con corchetes se hace con (). \n",
        "\n",
        "Dependiendo de lo que queramos hacer, las tuplas pueden ser más rápidas."
      ]
    },
    {
      "cell_type": "code",
      "execution_count": null,
      "metadata": {
        "id": "Nhq4m1Ip8hrS",
        "outputId": "7173fdbd-0d70-4fdc-f8b1-c68d0de83faf"
      },
      "outputs": [
        {
          "name": "stdout",
          "output_type": "stream",
          "text": [
            "(1, 2, 3)\n"
          ]
        }
      ],
      "source": [
        "tupla = (1, 2, 3)\n",
        "print(tupla)"
      ]
    },
    {
      "cell_type": "code",
      "execution_count": null,
      "metadata": {
        "id": "IQiStOSx8hrT",
        "outputId": "e92eb672-eb1b-4185-8c2b-b5608ca81ca1"
      },
      "outputs": [
        {
          "name": "stdout",
          "output_type": "stream",
          "text": [
            "('Hoy', 'La', 'Fecha', 'Es', 1, 'Abril', 2023)\n"
          ]
        }
      ],
      "source": [
        "# Crear una tupla y almacenar los valores\n",
        "tupla = (\"Hoy\", \"La\", \"Fecha\", \"Es\", 1, \"Abril\", 2023)\n",
        "print(tupla)"
      ]
    },
    {
      "cell_type": "markdown",
      "metadata": {
        "id": "ZeVH2sGQ8hrU"
      },
      "source": [
        "También pueden declararse sin (), separando por `,` todos sus elementos."
      ]
    },
    {
      "cell_type": "code",
      "execution_count": null,
      "metadata": {
        "id": "T9uzXBur8hrV",
        "outputId": "3c4c050d-17e7-4f5d-9cbc-cb0486d67ac9"
      },
      "outputs": [
        {
          "name": "stdout",
          "output_type": "stream",
          "text": [
            "<class 'tuple'>\n",
            "(1, 2, 3)\n"
          ]
        }
      ],
      "source": [
        "tupla = 1, 2, 3\n",
        "print(type(tupla))\n",
        "print(tupla)"
      ]
    },
    {
      "cell_type": "markdown",
      "metadata": {
        "id": "rd7eSh6D8hrV"
      },
      "source": [
        "Se puede acceder a los valores de las tuplas por su índice para obtener el valor. Para ello, basta con colocar el número (valor del índice) dentro del par de corchetes junto con el nombre de la tupla."
      ]
    },
    {
      "cell_type": "code",
      "execution_count": null,
      "metadata": {
        "id": "JhCGtBRw8hrW",
        "outputId": "e3e27938-4fc8-4818-d7dd-091fe263adba"
      },
      "outputs": [
        {
          "name": "stdout",
          "output_type": "stream",
          "text": [
            "3\n"
          ]
        }
      ],
      "source": [
        "# Acceder a los valores de una tupla\n",
        "print(tupla[2])"
      ]
    },
    {
      "cell_type": "markdown",
      "metadata": {
        "id": "FPcuUZtL8hrX"
      },
      "source": [
        "Si el índice es mayor que el tamaño de la tupla, se genera un error."
      ]
    },
    {
      "cell_type": "code",
      "execution_count": null,
      "metadata": {
        "id": "HP7cD6538hrX",
        "outputId": "827254e6-0254-4890-9687-b17ae59addb4"
      },
      "outputs": [
        {
          "ename": "IndexError",
          "evalue": "tuple index out of range",
          "output_type": "error",
          "traceback": [
            "\u001b[0;31m---------------------------------------------------------------------------\u001b[0m",
            "\u001b[0;31mIndexError\u001b[0m                                Traceback (most recent call last)",
            "Cell \u001b[0;32mIn[5], line 1\u001b[0m\n\u001b[0;32m----> 1\u001b[0m \u001b[39mprint\u001b[39m(tupla[\u001b[39m5\u001b[39;49m])\n",
            "\u001b[0;31mIndexError\u001b[0m: tuple index out of range"
          ]
        }
      ],
      "source": [
        "print(tupla[5])"
      ]
    },
    {
      "cell_type": "markdown",
      "metadata": {
        "id": "5XAVMeII8hrY"
      },
      "source": [
        "También podemos acceder a los valores de una tupla de forma inversa, empezando por el último elemento, donde -1 sería el último elemento y -2 el penúltimo y así...."
      ]
    },
    {
      "cell_type": "code",
      "execution_count": null,
      "metadata": {
        "id": "vZINHWvT8hrY",
        "outputId": "5c3c4251-49c5-4089-96be-779e3f37d595"
      },
      "outputs": [
        {
          "data": {
            "text/plain": [
              "2"
            ]
          },
          "execution_count": 4,
          "metadata": {},
          "output_type": "execute_result"
        }
      ],
      "source": [
        "tupla[-2]"
      ]
    },
    {
      "cell_type": "markdown",
      "metadata": {
        "id": "6jBnvclY8hrZ"
      },
      "source": [
        "Para anidar dos o más tuplas, basta con colocar la tupla antigua junto a la tupla recién creada, separadas por una coma."
      ]
    },
    {
      "cell_type": "code",
      "execution_count": null,
      "metadata": {
        "id": "ZT-uuoXJ8hrZ",
        "outputId": "aeb77156-8611-4ab6-b3de-fff94a1e376e"
      },
      "outputs": [
        {
          "name": "stdout",
          "output_type": "stream",
          "text": [
            "('Y', 'Hoy', 'Es', 'jueves')\n"
          ]
        }
      ],
      "source": [
        "# Anidar dos tuplas como una tupla\n",
        "tupla1 = (\"Y\", \"Hoy\", \"Es\", \"jueves\")\n",
        "print(tupla1)"
      ]
    },
    {
      "cell_type": "code",
      "execution_count": null,
      "metadata": {
        "id": "Syvg0mCO8hra",
        "outputId": "75fba61b-ced5-4869-f86f-8eff31f41677"
      },
      "outputs": [
        {
          "name": "stdout",
          "output_type": "stream",
          "text": [
            "(('Hoy', 'La', 'Fecha', 'Es', 1, 'Abril', 2023), ('Y', 'Hoy', 'Es', 'jueves'))\n"
          ]
        }
      ],
      "source": [
        "nest = tupla, tupla1\n",
        "print(nest)"
      ]
    },
    {
      "cell_type": "markdown",
      "metadata": {
        "id": "Aq815UfZ8hra"
      },
      "source": [
        "Como hemos comentado, las tuplas son tipos inmutables, lo que significa que una vez asignado su valor, no puede ser modificado. Si se intenta, tendremos un TypeError."
      ]
    },
    {
      "cell_type": "code",
      "execution_count": null,
      "metadata": {
        "id": "xR5cygGG8hrb",
        "outputId": "6ad0e0d9-73eb-47f1-ff4c-baa5c86f3aa2"
      },
      "outputs": [
        {
          "name": "stdout",
          "output_type": "stream",
          "text": [
            "1\n"
          ]
        }
      ],
      "source": [
        "print(tupla[0])"
      ]
    },
    {
      "cell_type": "code",
      "execution_count": null,
      "metadata": {
        "id": "antmPthW8hrb",
        "outputId": "0417d017-dfda-4e33-8235-276f13f16760"
      },
      "outputs": [
        {
          "ename": "TypeError",
          "evalue": "'tuple' object does not support item assignment",
          "output_type": "error",
          "traceback": [
            "\u001b[0;31m---------------------------------------------------------------------------\u001b[0m",
            "\u001b[0;31mTypeError\u001b[0m                                 Traceback (most recent call last)",
            "Cell \u001b[0;32mIn[6], line 2\u001b[0m\n\u001b[1;32m      1\u001b[0m \u001b[39m# Cambiar el valor del índice 0 a \"Hola\"\u001b[39;00m\n\u001b[0;32m----> 2\u001b[0m tupla[\u001b[39m0\u001b[39;49m] \u001b[39m=\u001b[39m (\u001b[39m\"\u001b[39m\u001b[39mHola\u001b[39m\u001b[39m\"\u001b[39m)\n\u001b[1;32m      3\u001b[0m \u001b[39mprint\u001b[39m(tupla)\n",
            "\u001b[0;31mTypeError\u001b[0m: 'tuple' object does not support item assignment"
          ]
        }
      ],
      "source": [
        "# Cambiar el valor del índice 0 a \"Hola\"\n",
        "tupla[0] = (\"Hola\")\n",
        "print(tupla)"
      ]
    },
    {
      "cell_type": "markdown",
      "metadata": {
        "id": "sRphS9DP8hrb"
      },
      "source": [
        "Podemos convertir una **lista en tupla** haciendo uso de al función `tuple()`"
      ]
    },
    {
      "cell_type": "code",
      "execution_count": null,
      "metadata": {
        "id": "E6LQkUb08hrb",
        "outputId": "1cfa2a7d-71d0-4715-8831-deaf68c2ae71"
      },
      "outputs": [
        {
          "name": "stdout",
          "output_type": "stream",
          "text": [
            "<class 'tuple'>\n",
            "('Alberto', 'Antonio', 'Ana', 'Maria')\n"
          ]
        }
      ],
      "source": [
        "nombres = [\"Alberto\", \"Antonio\", \"Ana\", \"Maria\"]\n",
        "tupla = tuple(nombres)\n",
        "print(type(tupla))\n",
        "print(tupla)"
      ]
    },
    {
      "cell_type": "markdown",
      "metadata": {
        "id": "m6At-ujv8hrc"
      },
      "source": [
        "De la misma forma que se hacía con las listas, se puede iterar una tupla con un bucle for"
      ]
    },
    {
      "cell_type": "code",
      "execution_count": null,
      "metadata": {
        "id": "WoviD8aI8hrd",
        "outputId": "f2c2d1ee-6452-4f9b-a124-fa9883dea2ea"
      },
      "outputs": [
        {
          "name": "stdout",
          "output_type": "stream",
          "text": [
            "Hoy\n",
            "La\n",
            "Fecha\n",
            "Es\n",
            "1\n",
            "Abril\n",
            "2023\n"
          ]
        }
      ],
      "source": [
        "tupla = (\"Hoy\", \"La\", \"Fecha\", \"Es\", 1, \"Abril\", 2023)\n",
        "for i in tupla:\n",
        "    print(i)"
      ]
    },
    {
      "cell_type": "markdown",
      "metadata": {
        "id": "55YljIZd8hrd"
      },
      "source": [
        "Podemos acceder al índice de la tupla mediante un bucle for con una función `enumerate`. **enumerate** es una función incorporada de Python. \n",
        "Nos permite hacer un bucle sobre algo y tener un contador automático."
      ]
    },
    {
      "cell_type": "code",
      "execution_count": null,
      "metadata": {
        "id": "NsxcWLZ48hrd",
        "outputId": "2bd38b1c-ad5c-4574-86db-46e19aa677b7"
      },
      "outputs": [
        {
          "name": "stdout",
          "output_type": "stream",
          "text": [
            "0 1\n",
            "1 2\n",
            "2 3\n"
          ]
        }
      ],
      "source": [
        "for counter, value in enumerate(tupla):\n",
        "    print(counter, value)"
      ]
    },
    {
      "cell_type": "markdown",
      "metadata": {
        "id": "k47tgso18hre"
      },
      "source": [
        "También se pueden contar el número de veces que han aparecido los valores en la tupla con `count()`."
      ]
    },
    {
      "cell_type": "code",
      "execution_count": null,
      "metadata": {
        "id": "iafl0-Ae8hre",
        "outputId": "27412faa-bb0a-4c66-9853-ffcce417eeec"
      },
      "outputs": [
        {
          "name": "stdout",
          "output_type": "stream",
          "text": [
            "1\n"
          ]
        }
      ],
      "source": [
        "print(tupla.count(\"Es\"))"
      ]
    },
    {
      "cell_type": "code",
      "execution_count": null,
      "metadata": {
        "id": "8eIXFAF18hre",
        "outputId": "1a65627d-c745-41b8-9a63-7c7bcfa1dbeb"
      },
      "outputs": [
        {
          "name": "stdout",
          "output_type": "stream",
          "text": [
            "0\n"
          ]
        }
      ],
      "source": [
        "print(tupla.count(2))"
      ]
    },
    {
      "cell_type": "markdown",
      "metadata": {
        "id": "BiwMpyJ78hrf"
      },
      "source": [
        "#### Index\n",
        "---\n",
        "\n",
        "El método `index()` busca el objeto que se le pasa como parámetro y devuelve el índice en el que se ha encontrado."
      ]
    },
    {
      "cell_type": "code",
      "execution_count": null,
      "metadata": {
        "id": "dF6yplzo8hrf",
        "outputId": "8ac39cc9-3a4c-467b-80f4-3ffa24875762"
      },
      "outputs": [
        {
          "data": {
            "text/plain": [
              "5"
            ]
          },
          "execution_count": 25,
          "metadata": {},
          "output_type": "execute_result"
        }
      ],
      "source": [
        "tupla.index(\"Abril\")"
      ]
    },
    {
      "cell_type": "markdown",
      "metadata": {
        "id": "bSfIhUBw8hrf"
      },
      "source": [
        "El método `index()` también acepta un segundo parámetro opcional, que indica a partir de que índice empezar a buscar el objeto."
      ]
    },
    {
      "cell_type": "code",
      "execution_count": null,
      "metadata": {
        "id": "MfZ0QWca8hrg",
        "outputId": "c841298a-319c-477b-8f9e-5e39dff90b49"
      },
      "outputs": [
        {
          "name": "stdout",
          "output_type": "stream",
          "text": [
            "2\n"
          ]
        }
      ],
      "source": [
        "l = [7, 7, 7, 3, 5]\n",
        "print(l.index(7, 2))"
      ]
    },
    {
      "cell_type": "markdown",
      "metadata": {
        "id": "AqlNVMBV8hrg"
      },
      "source": [
        "### **Notas importantes**"
      ]
    },
    {
      "cell_type": "markdown",
      "metadata": {
        "id": "NbNMVdo98hrg"
      },
      "source": [
        "Cuando decimos que las tuplas son inmutables, muchos programadores de Python piensan que los valores dentro de una tupla no pueden cambiar. Pero esto no es cierto.\n",
        "\n",
        "La inmutabilidad de una tupla se limita únicamente a la identidad de los objetos que contiene, no a su valor.\n",
        "\n",
        "En otras palabras, supongamos que una tupla tiene dos objetos con ID 1 y 2. La inmutabilidad dice que esta colección de IDs (y su orden) no puede cambiar nunca.\n",
        "\n",
        "Sin embargo, NO existe la restricción de que los objetos individuales con ID 1 y 2 no puedan modificarse.\n",
        "\n",
        "Esto explica la siguiente demostración. Como 𝐚𝐩𝐩𝐞𝐧𝐝 es una operación inplace, los IDs referenciados dentro de la tupla no cambiaron. \n",
        "Por tanto, Python no genera ningún error.\n",
        "\n",
        "Podemos verlo en el siguiente ejemplo."
      ]
    },
    {
      "cell_type": "code",
      "execution_count": null,
      "metadata": {
        "id": "tqq8nLhF8hrh",
        "outputId": "095cb893-182d-4d19-f887-ac1447059d0a"
      },
      "outputs": [
        {
          "name": "stdout",
          "output_type": "stream",
          "text": [
            "(1, [2, 3])\n",
            "(1, [2, 3, 4])\n"
          ]
        }
      ],
      "source": [
        "tupla = (1, [2,3])\n",
        "print(tupla)\n",
        "\n",
        "tupla[1].append(4)\n",
        "print(tupla)"
      ]
    },
    {
      "cell_type": "code",
      "execution_count": null,
      "metadata": {
        "id": "kRnTEUsa8hri"
      },
      "outputs": [],
      "source": []
    },
    {
      "cell_type": "markdown",
      "metadata": {
        "id": "4iiSZv6b8hri"
      },
      "source": [
        "<h1>¡¡¡Lets Code!!! </h1>\n",
        "<img src=\"https://gifdb.com/images/thumbnail/pixel-art-super-mario-computer-amwdq1xi8bgz0omx.gif\" alt=\"Challenge Accepted\" style=\"width: 500px\">"
      ]
    },
    {
      "cell_type": "markdown",
      "metadata": {
        "id": "IeaJU7xs8hri"
      },
      "source": [
        "#### **Enunciado Ejercicio 1**::\n",
        "Ordenar una lista de tuplas que representen estudiantes y sus calificaciones de menor a mayor.\n",
        "\n",
        "**estudiantes** = [(\"Isabel\", 9), (\"Ana\", 8.5), (\"Juan\", 9.2), (\"María\", 7)]"
      ]
    },
    {
      "cell_type": "markdown",
      "metadata": {
        "id": "ZQlDZ8Uh8hri"
      },
      "source": [
        "#### **Solución Ejercicio 1**::"
      ]
    },
    {
      "cell_type": "code",
      "execution_count": null,
      "metadata": {
        "id": "WTAW_FH58hrj"
      },
      "outputs": [],
      "source": [
        "estudiantes = [(\"Isabel\", 9), (\"Ana\", 8.5), (\"Juan\", 9.2), (\"María\", 7)]\n",
        "\n",
        "for i in range(len(estudiantes)):\n",
        "    for j in range(len(estudiantes) - 1):\n",
        "        if estudiantes[j][1] > estudiantes[j + 1][1]:\n",
        "            estudiantes[j], estudiantes[j + 1] = estudiantes[j + 1], estudiantes[j]\n",
        "\n",
        "print(\"Estudiantes ordenados por calificación:\", estudiantes)"
      ]
    }
  ],
  "metadata": {
    "kernelspec": {
      "display_name": "Python 3",
      "language": "python",
      "name": "python3"
    },
    "language_info": {
      "codemirror_mode": {
        "name": "ipython",
        "version": 3
      },
      "file_extension": ".py",
      "mimetype": "text/x-python",
      "name": "python",
      "nbconvert_exporter": "python",
      "pygments_lexer": "ipython3",
      "version": "3.10.10"
    },
    "orig_nbformat": 4,
    "colab": {
      "provenance": [],
      "include_colab_link": true
    }
  },
  "nbformat": 4,
  "nbformat_minor": 0
}