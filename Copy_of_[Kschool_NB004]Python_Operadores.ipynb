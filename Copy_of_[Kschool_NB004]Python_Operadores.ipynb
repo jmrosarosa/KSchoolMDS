{
  "cells": [
    {
      "cell_type": "markdown",
      "metadata": {
        "id": "view-in-github",
        "colab_type": "text"
      },
      "source": [
        "<a href=\"https://colab.research.google.com/github/jmrosarosa/KSchoolMDS/blob/main/Copy_of_%5BKschool_NB004%5DPython_Operadores.ipynb\" target=\"_parent\"><img src=\"https://colab.research.google.com/assets/colab-badge.svg\" alt=\"Open In Colab\"/></a>"
      ]
    },
    {
      "cell_type": "markdown",
      "metadata": {
        "id": "Nkj_wMdzPiYu"
      },
      "source": [
        "# [Kschool NB004]Python_Operadores\n",
        "* Objetivos: \n",
        "    - Comprender y desarrollar capacidades con operadores"
      ]
    },
    {
      "cell_type": "markdown",
      "metadata": {
        "id": "kW7gVczbPiYx"
      },
      "source": [
        "<img src=\"https://media.istockphoto.com/id/1024173328/vector/challenge-accepted-banner.jpg?s=612x612&w=0&k=20&c=HkpbXPIxSoS0zZIB36AdXz8u3TE2peAC0_s1jNTCKTc=\" alt=\"Challenge Accepted\" style=\"width: 300px\">"
      ]
    },
    {
      "cell_type": "markdown",
      "metadata": {
        "id": "GN3pU9uhPiYy"
      },
      "source": [
        "---\n",
        "---\n",
        "---"
      ]
    },
    {
      "cell_type": "markdown",
      "metadata": {
        "id": "TEJoTWHGPiYy"
      },
      "source": [
        "# **Operadores**\n",
        "---\n",
        "\n",
        "Un operador es un **carácter** o **conjunto de carácteres** que pueden utilizarse para realizar la **operación deseada** sobre los **operandos** y producir el **resultado final**.\n",
        "\n",
        "> El resultado final depende completamente del tipo de operadores utilizados.\n",
        "\n",
        "Por ejemplo, considera que quieres realizar un cálculo matemático de **5+3**. Ahora bien, **5** y **3** se llaman **operandos**, **+** es el **operador** que realiza la **suma** y el resultado final es **8**.\n",
        "\n",
        "Existen diferentes tipología de Operadores en Python, los cuales veremos a continuación"
      ]
    },
    {
      "cell_type": "markdown",
      "metadata": {
        "id": "pv3JUNmLPiYz"
      },
      "source": [
        "## Operadores aritméticos\n",
        "---\n",
        "\n",
        "Los operadores **aritméticos** se utilizan para realizar operaciones matemáticas como **Sumar, restar, multiplicar, dividir, modular, dividir por el suelo y exponer**.\n",
        "\n",
        "\n",
        "![alt text](https://cdn-images-1.medium.com/max/1200/1*CnFBU56b1HIsg2atttE_-Q.png)\n"
      ]
    },
    {
      "cell_type": "markdown",
      "metadata": {
        "id": "NreWQXLjPiYz"
      },
      "source": [
        "Asignar valores a las variables"
      ]
    },
    {
      "cell_type": "code",
      "execution_count": null,
      "metadata": {
        "id": "bAr2YufNPiYz"
      },
      "outputs": [],
      "source": [
        "a = 13\n",
        "b = 3"
      ]
    },
    {
      "cell_type": "code",
      "execution_count": null,
      "metadata": {
        "colab": {
          "base_uri": "https://localhost:8080/"
        },
        "id": "N1wqbdcjPiY0",
        "outputId": "5d37559c-2c4b-42b7-af38-13c4b39540ff"
      },
      "outputs": [
        {
          "name": "stdout",
          "output_type": "stream",
          "text": [
            "a + b = 16\n",
            "a - b = 10\n",
            "a * b = 39\n",
            "a / b = 4.333333333333333\n",
            "a % b = 1\n",
            "a // b = 4\n",
            "a ** b = 2197\n"
          ]
        }
      ],
      "source": [
        "resultado = a + b\n",
        "print('a + b =', resultado)\n",
        "\n",
        "resultado = a - b\n",
        "print('a - b =', resultado)\n",
        "\n",
        "resultado = a * b\n",
        "print('a * b =', resultado)\n",
        "\n",
        "resultado = a / b\n",
        "print('a / b =', resultado)\n",
        "\n",
        "resultado = a % b\n",
        "print('a % b =', resultado)\n",
        "\n",
        "resultado = a // b\n",
        "print('a // b =', resultado)\n",
        "\n",
        "resultado = a ** b\n",
        "print('a ** b =', resultado)"
      ]
    },
    {
      "cell_type": "markdown",
      "metadata": {
        "id": "vzsarrJbPiY1"
      },
      "source": [
        "#### **Notas importantes**\n",
        "\n",
        "1. Si divides cualquier número por **0** te aparecerá un error llamado `ZeroDivisionError`.  No dividas nada por cero (0).\n",
        "\n",
        "2. El resultado generado por el operador de división siempre será **número flotante** (representado con decimales).\n",
        "\n",
        "3. La **división piso** devuelve el cociente(respuesta o resultado de la **división**) en el que se eliminan los dígitos situados después del punto decimal. Pero si uno de los operandos (dividendo y divisor) es negativo, el resultado se redondea a cero (es decir, hacia el negativo del infinito).\n",
        "\n",
        "![alt text](https://cdn-images-1.medium.com/max/1200/1*p_BpdHXkMyHgwkXV4tSuig.png)"
      ]
    },
    {
      "cell_type": "markdown",
      "metadata": {
        "id": "zpWKZyr-PiY2"
      },
      "source": [
        "## Operadores relacionales\n",
        "---\n",
        "\n",
        "Los operadores relacionales u operadores de comparación, como su nombre indica, se utilizan para comparar valores. \n",
        "\n",
        "El tipo de retorno de estos operadores es **True** o **False**. Los distintos operadores de comparación son Mayor que (>), Mayor o igual que (>= ), Menor que (<), Menor o igual que (<=), Igual a (==) y No igual a (!=).\n",
        "\n",
        "\n",
        "![alt text](https://miro.medium.com/max/1400/1*1PElDsGJozY_dAPcmf8Kqg.png)\n"
      ]
    },
    {
      "cell_type": "markdown",
      "metadata": {
        "id": "476g2ap1PiY2"
      },
      "source": [
        "Asignar valores a las variables"
      ]
    },
    {
      "cell_type": "code",
      "execution_count": null,
      "metadata": {
        "id": "tVLcLPIBPiY2"
      },
      "outputs": [],
      "source": [
        "a = 10\n",
        "b = 2"
      ]
    },
    {
      "cell_type": "code",
      "execution_count": null,
      "metadata": {
        "id": "4TSklfY0PiY3"
      },
      "outputs": [],
      "source": [
        "# Mayor que\n",
        "resultado =  a > b\n",
        "print('a > b =', resultado)\n",
        "\n",
        "# Menor que\n",
        "resultado = a < b\n",
        "print('a < b =', resultado)\n",
        "\n",
        "# Igual a\n",
        "resultado = a == b\n",
        "print('a == b =', resultado)\n",
        "\n",
        "# No igual a\n",
        "resultado = a != b\n",
        "print('a != b =', resultado)\n",
        "\n",
        "# Mayor o igual que\n",
        "resultado = a >= b\n",
        "print('a >= b =', resultado)\n",
        "\n",
        "# Menor o igual que\n",
        "resultado = a <= b\n",
        "print('a <= b =', resultado)"
      ]
    },
    {
      "cell_type": "markdown",
      "metadata": {
        "id": "5mstoS2hPiY3"
      },
      "source": [
        "### **Notas importantes**\n",
        "\n",
        "1. Los operadores relacionales también se llaman **operadores de comparación**.\n",
        "\n",
        "2. El operador de comparación puede utilizarse para comparar más de dos valores. Por ejemplo, `5 > 3 < 1` dará como resultado `False`.\n",
        "\n",
        "3. También se denominan **operadores relacionales** porque comparan el valor y luego deciden la relación entre ellos. Por ejemplo, `5 > 4` la relación es tal que **5 es mayor que 4** y la respuesta es `True`. La relación aquí es **mayor**.\n"
      ]
    },
    {
      "cell_type": "markdown",
      "metadata": {
        "id": "dgr8dZw-PiY3"
      },
      "source": [
        "## Operadores lógicos\n",
        "---\n",
        "\n",
        "Los operadores lógicos se utilizan para **evaluar las condiciones** entre los operandos. Los distintos tipos de operadores son `and`, `or` y `not`.\n",
        "\n",
        "\n",
        "![alt text](https://miro.medium.com/max/1400/1*pV1plvnbr00q_B5_V-wMdg.png)\n",
        "\n",
        "\n",
        "Para que te quede más claro, puedes consultar la tabla de verdad de los operadores lógicos que aparece a continuación:\n",
        "\n",
        "![alt text](https://miro.medium.com/max/1028/1*bnTf9sHiXAZ086dXoL8d_g.jpeg)"
      ]
    },
    {
      "cell_type": "markdown",
      "metadata": {
        "id": "N8TnqXZ_PiY3"
      },
      "source": [
        "Asignar valores a las variables"
      ]
    },
    {
      "cell_type": "code",
      "execution_count": null,
      "metadata": {
        "id": "5om3jUCzPiY3"
      },
      "outputs": [],
      "source": [
        "a = True\n",
        "b = False"
      ]
    },
    {
      "cell_type": "code",
      "execution_count": null,
      "metadata": {
        "colab": {
          "base_uri": "https://localhost:8080/"
        },
        "id": "S6LWNnQlPiY3",
        "outputId": "5d37e886-4631-49d7-f286-c15476d62fe2"
      },
      "outputs": [
        {
          "name": "stdout",
          "output_type": "stream",
          "text": [
            "a(True) and b(False): False\n",
            "a(True) or b(False): True\n",
            "Not a(True): False\n"
          ]
        }
      ],
      "source": [
        "# Lógica \"AND\"\n",
        "resultado = a and b\n",
        "print(f'a({a}) and b({b}): {resultado}')\n",
        "\n",
        "# Lógico \"OR\"\n",
        "resultado = a or b\n",
        "print(f'a({a}) or b({b}): {resultado}')\n",
        "\n",
        "# Lógica \"NOT\"\n",
        "resultado = not a\n",
        "print(f'Not a({a}): {resultado}')"
      ]
    },
    {
      "cell_type": "markdown",
      "metadata": {
        "id": "iq4VwEQcPiY4"
      },
      "source": [
        "### **Notas importantes**\n",
        "\n",
        "1. Los operadores lógicos también se denominan **Operadores booleanos**.\n",
        "\n",
        "2. Si los operandos no son booleanos, se convertirán automáticamente en booleanos para la evaluación.\n",
        "\n",
        "\n",
        "3. Los operadores lógicos pueden aplicarse a cualquier tipo de valor. Por ejemplo, pueden aplicarse a **strings** como se muestra a continuación. En este caso, el operador **and** devuelve el primer valor ``falso`` si hay **or** valores nulos, de lo contrario, devuelven el último valor. El operador **or** devuelve el primer valor ``true`` si hay alguno; en caso contrario, devuelve el último valor."
      ]
    },
    {
      "cell_type": "markdown",
      "metadata": {
        "id": "xyUK-fPZPiY4"
      },
      "source": [
        "### Operador lógico \"and\" en strings\n",
        "---\n"
      ]
    },
    {
      "cell_type": "code",
      "execution_count": null,
      "metadata": {
        "id": "deUIfbysPiY4",
        "outputId": "6f29c61a-482f-4995-db3c-9546802be5c4"
      },
      "outputs": [
        {
          "data": {
            "text/plain": [
              "''"
            ]
          },
          "execution_count": 10,
          "metadata": {},
          "output_type": "execute_result"
        }
      ],
      "source": [
        "a = \"\"\n",
        "b = \"Python\"\n",
        "a and b"
      ]
    },
    {
      "cell_type": "markdown",
      "metadata": {
        "id": "Yb1AXhwyPiY4"
      },
      "source": [
        "### Operador lógico \"or\" en strings\n",
        "---\n"
      ]
    },
    {
      "cell_type": "code",
      "execution_count": null,
      "metadata": {
        "id": "Gi3yw1bKPiY4",
        "outputId": "5a11b599-fee0-4352-ab4e-e89a8f5746f9"
      },
      "outputs": [
        {
          "data": {
            "text/plain": [
              "'Python'"
            ]
          },
          "execution_count": 11,
          "metadata": {},
          "output_type": "execute_result"
        }
      ],
      "source": [
        "a = \"\"\n",
        "b = \"Python\"\n",
        "a or b"
      ]
    },
    {
      "cell_type": "markdown",
      "metadata": {
        "id": "oo_ZQy7IPiY4"
      },
      "source": [
        "En ambos casos de `and`, ``or`` la evaluación se realiza de **izquierda** a **derecha**."
      ]
    },
    {
      "cell_type": "markdown",
      "metadata": {
        "id": "FnIoJOsrPiY4"
      },
      "source": [
        "## Operadores Bitwise (bit a bit)\n",
        "---\n",
        "\n",
        "Los operadores **bit a bit** operan sobre los operandos a nivel binario. Es decir, el operador bit a bit mira directamente a los dígitos binarios o bits binarios de un entero. De ahí el nombre bitwise (operación bit a bit).\n",
        "\n",
        "Los distintos tipos de operadores bit a bit son **Bitwise AND, OR, NOT, XOR, Right Shift, and Left Shift**.\n",
        "\n",
        "![alt text](https://miro.medium.com/max/1400/1*4O0nEUQpc6r1Fmm3pNVpnA.png)"
      ]
    },
    {
      "cell_type": "markdown",
      "metadata": {
        "id": "M_VQxDo_PiY4"
      },
      "source": [
        "Asignar valores a las variables"
      ]
    },
    {
      "cell_type": "code",
      "execution_count": null,
      "metadata": {
        "id": "jF7LD3djPiY5",
        "outputId": "209c7491-b25c-4e78-81fa-495751e20785"
      },
      "outputs": [
        {
          "name": "stdout",
          "output_type": "stream",
          "text": [
            "El valor a = 10 en binario equivale a 00001010\n",
            "El valor b = 11 en binario equivale a 00001011\n"
          ]
        }
      ],
      "source": [
        "# Asignar valores a las variables\n",
        "a = 10\n",
        "b = 11\n",
        "\n",
        "print(f\"El valor a = {a} en binario equivale a {bin(a)[2:].zfill(8)}\")\n",
        "print(f\"El valor b = {b} en binario equivale a {bin(b)[2:].zfill(8)}\")"
      ]
    },
    {
      "cell_type": "code",
      "execution_count": null,
      "metadata": {
        "colab": {
          "base_uri": "https://localhost:8080/"
        },
        "id": "qmu8g4DQPiY5",
        "outputId": "53808844-49b2-4b06-d67d-5a0945ccc3da"
      },
      "outputs": [
        {
          "name": "stdout",
          "output_type": "stream",
          "text": [
            "a & b es False que en binario equivale a 00000000\n",
            "a | b es True que en binario equivale a 00000001\n",
            "a ^ b es True que en binario equivale a 00000001\n",
            "~a es -2 que en binario equivale a 00000b10\n",
            "a << b es 1 que en binario equivale a 00000001\n",
            "a >> b es 1 que en binario equivale a 00000001\n"
          ]
        }
      ],
      "source": [
        "# AND Bitwise\n",
        "print('a & b es',a & b, 'que en binario equivale a',bin(a & b)[2:].zfill(8))\n",
        "\n",
        "# OR a nivel de bit\n",
        "print('a | b es',a | b, 'que en binario equivale a',bin(a | b)[2:].zfill(8))\n",
        "\n",
        "# XOR a nivel de bit\n",
        "print('a ^ b es',a ^ b, 'que en binario equivale a',bin(a ^ b)[2:].zfill(8))\n",
        "\n",
        "# NOT a nivel de bit\n",
        "print('~a es',~a, 'que en binario equivale a',bin(~a)[2:].zfill(8))\n",
        "\n",
        "# Desplazamiento a la izquierda\n",
        "print('a << b es',a << b, 'que en binario equivale a',bin(a << b)[2:].zfill(8))\n",
        "\n",
        "# Desplazamiento a la derecha\n",
        "print('a >> b es',a >> b, 'que en binario equivale a',bin(a >> b)[2:].zfill(8))"
      ]
    },
    {
      "cell_type": "markdown",
      "metadata": {
        "id": "b6jzL6KtPiY5"
      },
      "source": [
        "### **Notas importantes**\n",
        "\n",
        "1. El operador bit a bit trabaja sobre **bits** y realiza una operación **bit a bit** sobre los operandos.\n",
        "\n",
        "2. Independientemente del tipo de operando que pases, el operador bit a bit lo convertirá en una serie de dígitos binarios respectivamente. Por ejemplo, si un operando es **2** entonces su formato binario es **0010**, del mismo modo, **9** se convertirá en **1001** y así sucesivamente. A continuación se muestra la **tabla verdadera de los operadores bit a bit**, excluyendo los operadores de desplazamiento a la izquierda y a la derecha.\n",
        "\n",
        "\n",
        "![alt text](https://miro.medium.com/max/1388/1*bv5c8RMsrK0opPUv_jaf4Q.png)"
      ]
    },
    {
      "cell_type": "markdown",
      "metadata": {
        "id": "IinJLCRgPiY5"
      },
      "source": [
        "## Operadores de asignación\n",
        "---\n",
        "\n",
        "Como su nombre indica, los operadores de **asignación** se utilizan para **asignar valores a las variables**."
      ]
    },
    {
      "cell_type": "markdown",
      "metadata": {
        "id": "OgA8Q-pJPiY5"
      },
      "source": [
        "Muchas veces la gente comete errores al leer líneas de código. La gente dice \"**a es igual a 5**\", esto puede parecer correcto, pero programáticamente es incorrecto. La forma correcta es ***El valor 5 se asigna a la variable 'a'***"
      ]
    },
    {
      "cell_type": "markdown",
      "metadata": {
        "id": "WNhlb95CPiY5"
      },
      "source": [
        "\n",
        "\n",
        "Porque la forma en que funciona el operador de asignación es que asigna el valor de la derecha a la variable de la izquierda. Así que recuerda que es de **derecha a izquierda**.\n",
        "\n",
        "![alt text](https://miro.medium.com/max/1400/1*50jAvLZKuCV_wtp9p5k4Qg.png)"
      ]
    },
    {
      "cell_type": "markdown",
      "metadata": {
        "id": "gcFfYTRvPiY5"
      },
      "source": [
        "Asignar los valores a las variables"
      ]
    },
    {
      "cell_type": "code",
      "execution_count": null,
      "metadata": {
        "id": "KD2WBLGXPiY5"
      },
      "outputs": [],
      "source": [
        "a = 15\n",
        "b = 5"
      ]
    },
    {
      "cell_type": "code",
      "execution_count": null,
      "metadata": {
        "id": "XlxaFKfcPiY5",
        "outputId": "5a960a48-5093-4173-965f-6da0450f7d66"
      },
      "outputs": [
        {
          "name": "stdout",
          "output_type": "stream",
          "text": [
            "b = a:  15\n",
            "b += a:  30\n",
            "b -= a:  15\n",
            "b *= a:  225\n",
            "b /= a:  15.0\n",
            "b %= a:  0.0\n",
            "b **= a:  0.0\n",
            "b <= a:  True\n",
            "b >= a:  False\n"
          ]
        }
      ],
      "source": [
        "b = a\n",
        "print('b = a: ', b)\n",
        "\n",
        "b += a\n",
        "print('b += a: ', b)\n",
        "\n",
        "b -= a\n",
        "print('b -= a: ', b)\n",
        "\n",
        "b *= a\n",
        "print('b *= a: ', b)\n",
        "\n",
        "b /= a\n",
        "print('b /= a: ', b)\n",
        "\n",
        "b %= a\n",
        "print('b %= a: ', b)\n",
        "\n",
        "b **= a\n",
        "print('b **= a: ', b)\n",
        "\n",
        "c = b <= a\n",
        "print('b <= a: ', c)\n",
        "\n",
        "c = b >= a\n",
        "print('b >= a: ', c)"
      ]
    },
    {
      "cell_type": "markdown",
      "metadata": {
        "id": "ovx9JCC3PiY6"
      },
      "source": [
        "#### **Notas**\n",
        "\n",
        "1. Podemos ampliar los operadores de asignación para más operadores como `-, /, *, //, %, <<, >>, &, |, **, ^`. Por ejemplo: `a **= 5`, será `a = a**5`, la respuesta sería `298023223876953125`. Asegúrate de escribir el **operador** seguido del **operador de asignación**."
      ]
    },
    {
      "cell_type": "markdown",
      "metadata": {
        "id": "lvK6IYW_PiY6"
      },
      "source": [
        "## Operadores especiales\n",
        "---\n",
        "\n",
        "Existen dos tipos de operadores especiales en el lenguaje de programación python, como se muestra a continuación:"
      ]
    },
    {
      "cell_type": "markdown",
      "metadata": {
        "id": "mTrue0a1PiY6"
      },
      "source": [
        "### 1. Operadores de identidad\n",
        "---\n",
        "\n",
        "Como su nombre indica, los operadores de identidad comparan el **id (identidad)** de dos o más objetos python, como variables, valores y muchos más.\n",
        "En otras palabras, puede utilizarse para **comparar las ubicaciones de memoria de dos objetos**. Hay dos tipos de operadores de identidad: `is` y `is not`."
      ]
    },
    {
      "cell_type": "markdown",
      "metadata": {
        "id": "thEmUMESPiY6"
      },
      "source": [
        "Asignar valores a las variables"
      ]
    },
    {
      "cell_type": "code",
      "execution_count": null,
      "metadata": {
        "id": "cHKqs4BCPiY6"
      },
      "outputs": [],
      "source": [
        "a = 10\n",
        "b = 11"
      ]
    },
    {
      "cell_type": "code",
      "execution_count": null,
      "metadata": {
        "colab": {
          "base_uri": "https://localhost:8080/"
        },
        "id": "e_MBPTOOPiY6",
        "outputId": "7c85317f-ca0c-481d-bc0c-2903e6b72dd1"
      },
      "outputs": [
        {
          "name": "stdout",
          "output_type": "stream",
          "text": [
            "a es b es False\n",
            "a no es b es True\n"
          ]
        }
      ],
      "source": [
        "# Operador de identidad es\n",
        "print('a es b es',a is b)\n",
        "\n",
        "# La identidad no es operador\n",
        "print('a no es b es',a is not b)"
      ]
    },
    {
      "cell_type": "markdown",
      "metadata": {
        "id": "UTHRu1v7PiY6"
      },
      "source": [
        "### **Notas importantes**\n",
        "\n",
        "\n",
        "1. En general, el operador identidad no compara el valor o el objeto en sí. Más bien compara el **id (identidad)**. A continuación se muestra un ejemplo:"
      ]
    },
    {
      "cell_type": "code",
      "execution_count": null,
      "metadata": {
        "id": "pTS2acf8PiY6",
        "outputId": "bb500fe0-ac09-4bf3-dba6-09c1865a83ae"
      },
      "outputs": [
        {
          "name": "stdout",
          "output_type": "stream",
          "text": [
            "4309221744\n",
            "4309221744\n",
            "4309221744\n",
            "True\n"
          ]
        }
      ],
      "source": [
        "# Asignar los valores a las variables\n",
        "a = 5\n",
        "b = 5\n",
        "c = a\n",
        "# Obtener el id de las variables\n",
        "print(id(a))\n",
        "print(id(b))\n",
        "print(id(c))\n",
        "# Comparar los id de a y c\n",
        "print(a is c)"
      ]
    },
    {
      "cell_type": "markdown",
      "metadata": {
        "id": "aG9UaQPXPiY6"
      },
      "source": [
        "### b. Operadores de Membership (Pertenencia)\n",
        "---\n",
        "\n",
        "Los operadores de pertenencia se utilizan para **verificar si un elemento concreto** es o no **parte de una secuencia**. \n",
        "Una secuencia puede ser una **lista, cadena, conjunto, diccionario y tuplas**. Los dos operadores de pertenencia son \"in\" y \"not in\".\n",
        "\n",
        "![alt text](https://miro.medium.com/max/1400/1*t2u2Lb4XtVo-3g6anMBLpw.png)"
      ]
    },
    {
      "cell_type": "code",
      "execution_count": null,
      "metadata": {
        "id": "nwYNUTPjPiY6",
        "outputId": "ee812648-1a1a-44d1-b8da-3ef5113034fb"
      },
      "outputs": [
        {
          "name": "stdout",
          "output_type": "stream",
          "text": [
            "<class 'str'>\n",
            "True\n",
            "True\n"
          ]
        }
      ],
      "source": [
        "a = \"Python\"\n",
        "print(type(a))\n",
        "\n",
        "print('y' in a)\n",
        "print('p' not in a)"
      ]
    },
    {
      "cell_type": "markdown",
      "metadata": {
        "id": "zGkmSw2vPiY7"
      },
      "source": [
        "### **Notas importantes**\n",
        "\n",
        "Aunque podemos utilizar operadores de pertenencia en los diccionarios, hay una cosa que debes saber: sólo podemos comprobar la presencia de la **clave y no del valor**, como se muestra a continuación:"
      ]
    },
    {
      "cell_type": "code",
      "execution_count": null,
      "metadata": {
        "colab": {
          "base_uri": "https://localhost:8080/"
        },
        "id": "rcjPkFaYPiY7",
        "outputId": "7c7192b8-2849-4551-f8d3-5ba1e6972e9c"
      },
      "outputs": [
        {
          "name": "stdout",
          "output_type": "stream",
          "text": [
            "True\n",
            "True\n"
          ]
        }
      ],
      "source": [
        "# Diccionario con clave 1, 2 y valores 'A' y 'B\n",
        "a = {1: \"A\", 2: 'B'}\n",
        "\n",
        "\n",
        "print(2 in a)\n",
        "print(3 not in a)"
      ]
    },
    {
      "cell_type": "markdown",
      "metadata": {
        "id": "n46l44LZPiY7"
      },
      "source": [
        "<h1>¡¡¡Lets Code!!! </h1>\n",
        "<img src=\"https://gifdb.com/images/thumbnail/pixel-art-super-mario-computer-amwdq1xi8bgz0omx.gif\" alt=\"Challenge Accepted\" style=\"width: 500px\">"
      ]
    },
    {
      "cell_type": "markdown",
      "metadata": {
        "id": "Ecj0w3q1PiY7"
      },
      "source": [
        "#### **Enunciado Ejercicio 1**::\n",
        "Declara num_uno = 5 y num_dos = 4\n",
        "1. Suma num_uno y num_dos y asigna el valor a una variable `total`\n",
        "2. Resta num_dos de num_uno y asigna el valor a una variable `diff`\n",
        "3. Multiplica num_dos y num_uno y asigna el valor a una variable `producto`\n",
        "4. Divide num_uno entre num_dos y asigna el valor a una variable `división`\n",
        "5. Utiliza la división módulo para hallar el num_dos dividido por el num_uno y asigna el valor a una variable `resto`\n",
        "6. Calcula num_uno a la potencia de num_dos y asigna el valor a una variable `exp`"
      ]
    },
    {
      "cell_type": "markdown",
      "metadata": {
        "id": "G7LiqqWGPiY7"
      },
      "source": [
        "#### **Enunciado Ejercicio 2**::\n",
        "Dados dos números cómo input por el usuario, determinar si son iguales, diferentes, mayor o menor que el otro."
      ]
    },
    {
      "cell_type": "markdown",
      "metadata": {
        "id": "1P7y3P2OPiY7"
      },
      "source": [
        "#### **Enunciado Ejercicio 3**::\n",
        "El radio de un círculo es de 30 unidades.\n",
        "1. Calcula el área de un círculo y asigna el valor a una variable de nombre `area_del_circulo`\n",
        "2. Calcula la circunferencia de un círculo y asigna el valor a una variable llamada `circunferencia_del_circulo`.\n",
        "3. Toma el radio como entrada del usuario y calcula el `area`."
      ]
    },
    {
      "cell_type": "markdown",
      "metadata": {
        "id": "hxTuo6_IPiY7"
      },
      "source": [
        "#### **Enunciado Ejercicio 4**::\n",
        "Aparece la palabra `Kschool` en la siguiente cadena :\"H6pf0QjcQtvfXxl0EM1YCWbq4tRZ5xjE27JqoYUR8YSrCE0xAF5Pao6sNRiMLmfy7CeCZSqXA4SqaQ9R54kxd70Dzy47ufdBB44twpIMgptNDykkdqpZu6hrep3COHmQl52kschool9dMli7aLJDao7KD6PpD01MCYjvKGOp3LAhabhITmwt1lc5VVBZQVrtjsiFlRkJMj\""
      ]
    }
  ],
  "metadata": {
    "colab": {
      "provenance": [],
      "include_colab_link": true
    },
    "kernelspec": {
      "display_name": "Python 3",
      "language": "python",
      "name": "python3"
    },
    "language_info": {
      "codemirror_mode": {
        "name": "ipython",
        "version": 3
      },
      "file_extension": ".py",
      "mimetype": "text/x-python",
      "name": "python",
      "nbconvert_exporter": "python",
      "pygments_lexer": "ipython3",
      "version": "3.10.10"
    },
    "orig_nbformat": 4
  },
  "nbformat": 4,
  "nbformat_minor": 0
}