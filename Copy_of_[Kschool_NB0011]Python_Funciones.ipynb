{
  "cells": [
    {
      "cell_type": "markdown",
      "metadata": {
        "id": "view-in-github",
        "colab_type": "text"
      },
      "source": [
        "<a href=\"https://colab.research.google.com/github/jmrosarosa/KSchoolMDS/blob/main/Copy_of_%5BKschool_NB0011%5DPython_Funciones.ipynb\" target=\"_parent\"><img src=\"https://colab.research.google.com/assets/colab-badge.svg\" alt=\"Open In Colab\"/></a>"
      ]
    },
    {
      "cell_type": "markdown",
      "metadata": {
        "id": "zRtbS75CNafZ"
      },
      "source": [
        "# [Kschool NB0011]Python_Funciones\n",
        "* Objetivos:\n",
        "    - Entender el funcionamiento de las funciones en todas sus formas.\n",
        "    - Usar los métodos de *Args y **Kwargs.\n",
        "    - Conocer la diferencia entre funciones y lambdas.\n",
        "    - Trabajar con recursividad y ambitos.\n",
        "    - Comprender los pasos por valor y referencia.\n",
        "    - Identificar aquellos casos donde es mas conveniente el uso de programación funcional."
      ]
    },
    {
      "cell_type": "markdown",
      "metadata": {
        "id": "4jHKshDZNafa"
      },
      "source": [
        "<img src=\"https://media.istockphoto.com/id/1024173328/vector/challenge-accepted-banner.jpg?s=612x612&w=0&k=20&c=HkpbXPIxSoS0zZIB36AdXz8u3TE2peAC0_s1jNTCKTc=\" alt=\"Challenge Accepted\" style=\"width: 300px\">"
      ]
    },
    {
      "cell_type": "markdown",
      "metadata": {
        "id": "P0-j5mI6Nafb"
      },
      "source": [
        "---\n",
        "---\n",
        "---"
      ]
    },
    {
      "cell_type": "markdown",
      "metadata": {
        "id": "zE97wHpZNafb"
      },
      "source": [
        "# **Funciones**\n",
        "---"
      ]
    },
    {
      "cell_type": "markdown",
      "metadata": {
        "id": "GZFJU3_ZNafb"
      },
      "source": [
        " <img src=\"https://raw.githubusercontent.com/0xdevgranero/kschool/main/images/img7.png\" alt=\"Drawing\" style=\"width: 800px\"/>"
      ]
    },
    {
      "cell_type": "markdown",
      "metadata": {
        "id": "Cu_oxlHHNafb"
      },
      "source": [
        "Antes de empezar a crear funciones, aprendamos qué es una función y por qué las necesitamos.\n",
        "\n",
        "Una ``función`` es un bloque reutilizable de código o sentencias de programación diseñado para realizar una determinada tarea. Para definir o declarar una función, Python proporciona la palabra clave ``def``. El bloque de código de la función sólo se ejecuta si se llama o invoca a la función.\n",
        "\n",
        "En programas más grandes, donde tenemos muchísimo código, es aconsejable crear o utilizar funciones existentes que hagan que el programa fluya de forma organizada y ordenada.\n",
        "\n",
        "Aunque no te acuerdes, puede que ya se me haya escapado durante los anteriores 9 notebooks que hemos visto que ya hemos estado trabajando con funciones. Por ejemplo, la función ``print() `` , ``type()`` , `len()`, `range()`, `set()`.\n",
        "Estas y otras muchas más son funciones incorporadas de Python. En esta sección, nos centraremos en las ``funciones personalizadas``.\n",
        "\n",
        "Cuando creamos una función, la llamamos declarando una función. Realmente se denomina invocar a una función. Una función puede declararse con o sin parámetros."
      ]
    },
    {
      "cell_type": "code",
      "execution_count": null,
      "metadata": {
        "id": "AWjuY3E8Nafb"
      },
      "outputs": [],
      "source": [
        "#La sintaxis más básica de una función es la siguiente:\n",
        "def function_name():\n",
        "    'code'\n",
        "\n",
        "function_name()"
      ]
    },
    {
      "cell_type": "markdown",
      "metadata": {
        "id": "gJW0X56fNafc"
      },
      "source": [
        "Cualquier función en python tendrá un ``nombre`` que la defina, puede tener unos ``argumentos`` que la configuren, un ``código`` y una ``salida``.\n",
        "\n",
        "Al igual que las funciones matemáticas, en programación nos permiten realizar diferentes operaciones con la entrada, para entregar una determinada salida que dependerá del código que escribamos dentro.\n",
        "\n",
        "Las funciones en python se caracterizan por disponer de los siguientes principios:\n",
        "\n",
        "- El principio de ``reusabilidad``, que nos dice que si por ejemplo tenemos un fragmento de código usado en muchos sitios, la mejor solución sería pasarlo a una función. Esto nos evitaría tener código repetido, y que modificarlo fuera más fácil, ya que bastaría con cambiar la función una vez.\n",
        "- Y el principio de ``modularidad``, que defiende que en vez de escribir códigos largos, es mejor crear módulos o funciones que agrupen ciertos fragmentos de código en funcionalidades específicas, haciendo que el código resultante sea más fácil de leer."
      ]
    },
    {
      "cell_type": "markdown",
      "metadata": {
        "id": "0Ftsh4khNafc"
      },
      "source": [
        "## Función sin parámetros\n",
        "---\n",
        "\n",
        "Una función puede declararse sin parámetros y que la información que necesite esté definida por completo dentro de la función."
      ]
    },
    {
      "cell_type": "code",
      "execution_count": null,
      "metadata": {
        "id": "2wWd6074Nafd",
        "outputId": "b748b46a-b71f-483a-c135-4508e4437aa9"
      },
      "outputs": [
        {
          "name": "stdout",
          "output_type": "stream",
          "text": [
            "Mairo Garcia\n"
          ]
        }
      ],
      "source": [
        "def unir_nombre():\n",
        "    nombre = \"Mairo\"\n",
        "    apellido = \"Garcia\"\n",
        "    print(nombre, apellido, sep=\" \")\n",
        "unir_nombre ()"
      ]
    },
    {
      "cell_type": "code",
      "execution_count": null,
      "metadata": {
        "id": "wDiYnH1uNafd",
        "outputId": "e7e0e702-56ae-4c80-ab70-e3fe8d67bdb5"
      },
      "outputs": [
        {
          "name": "stdout",
          "output_type": "stream",
          "text": [
            "5\n"
          ]
        }
      ],
      "source": [
        "def suma():\n",
        "    num_uno = 2\n",
        "    num_dos = 3\n",
        "    total = num_uno + num_dos\n",
        "    print(total)\n",
        "suma()"
      ]
    },
    {
      "cell_type": "markdown",
      "metadata": {
        "id": "MeO6RXFZNafd"
      },
      "source": [
        "Las funciones también pueden devolver valores, si una función no tiene declaración de retorno, en inglés ``return``, el valor de la función es ``None``. \n",
        "\n",
        "La sentencia return además permite realizar dos cosas:\n",
        "\n",
        "- Salir de la función y transferir la ejecución de vuelta a donde se realizó la llamada.\n",
        "- Devolver uno o varios parámetros, fruto de la ejecución de la función.\n",
        "\n",
        "Reescribamos las funciones anteriores utilizando ``return``. Los tipos de datos que puede tener un return son los siguientes: ``número``, ``string``, `booleano`, `lista`, `tupla`, `diccionario` o `set`"
      ]
    },
    {
      "cell_type": "code",
      "execution_count": null,
      "metadata": {
        "id": "a5Gr_qnVNafe",
        "outputId": "3ce7630c-d223-4ce9-d8c5-811bba57974b"
      },
      "outputs": [
        {
          "name": "stdout",
          "output_type": "stream",
          "text": [
            "Mairo Garcia\n"
          ]
        }
      ],
      "source": [
        "def unir_nombre():\n",
        "    nombre = \"Mairo\"\n",
        "    apellido = \"Garcia\"\n",
        "    return nombre + \" \" + apellido\n",
        "valor = unir_nombre ()\n",
        "print(valor)"
      ]
    },
    {
      "cell_type": "code",
      "execution_count": null,
      "metadata": {
        "id": "pYTnS-aXNafe",
        "outputId": "9957612d-42c9-47a7-aec8-d5c2a7d1b0ad"
      },
      "outputs": [
        {
          "name": "stdout",
          "output_type": "stream",
          "text": [
            "5\n"
          ]
        }
      ],
      "source": [
        "def suma():\n",
        "    num_uno = 2\n",
        "    num_dos = 3\n",
        "    total = num_uno + num_dos\n",
        "    return total\n",
        "valor = suma()\n",
        "print(valor)"
      ]
    },
    {
      "cell_type": "markdown",
      "metadata": {
        "id": "MKl15V5yNafe"
      },
      "source": [
        "También es posible devolver mas de una variable, separadas por ``,``."
      ]
    },
    {
      "cell_type": "code",
      "execution_count": null,
      "metadata": {
        "id": "Ic9DCzr-Nafe",
        "outputId": "0a75fe94-71c7-407a-a210-41d36f7414c9"
      },
      "outputs": [
        {
          "name": "stdout",
          "output_type": "stream",
          "text": [
            "5 -1\n"
          ]
        }
      ],
      "source": [
        "def operaciones_suma_resta():\n",
        "    num_uno = 2\n",
        "    num_dos = 3\n",
        "    suma = num_uno + num_dos\n",
        "    resta = num_uno - num_dos\n",
        "    return suma, resta\n",
        "suma, resta = operaciones_suma_resta()\n",
        "print(suma, resta)"
      ]
    },
    {
      "cell_type": "markdown",
      "metadata": {
        "id": "m4ABcH6HNafe"
      },
      "source": [
        "## Función con parámetros\n",
        "---\n",
        "\n",
        "En una función podemos pasar diferentes tipos de datos (``número``, ``string``, `booleano`, `lista`, `tupla`, `diccionario` o `set`) como parámetro/s\n",
        "\n",
        "Si nuestra función toma uno o más parámetros debemos llamar a nuestra función con esos argumentos.\n",
        "\n",
        "`Friendly Reminder`\n",
        "> Al elemento que se encuentra dentro de los paréntesis al definir la función se le llama `parámetro`, mientras que el elemento que pasamos a la función como entrada se denomina `argumento`"
      ]
    },
    {
      "cell_type": "code",
      "execution_count": null,
      "metadata": {
        "id": "5LGk7KGtNafe",
        "outputId": "a209821e-c852-4fad-baea-7c119a1c6e06"
      },
      "outputs": [
        {
          "name": "stdout",
          "output_type": "stream",
          "text": [
            "Bienvenid@ Marcos a la clase de Python\n"
          ]
        }
      ],
      "source": [
        "def helloworld (nombre):\n",
        "    mensaje = f\"Bienvenid@ {nombre} a la clase de Python\"\n",
        "    return mensaje\n",
        "\n",
        "print(helloworld('Marcos'))"
      ]
    },
    {
      "cell_type": "code",
      "execution_count": null,
      "metadata": {
        "id": "3liQILiENafe",
        "outputId": "efa397c6-07e3-4d90-c50f-5b685b6d478b"
      },
      "outputs": [
        {
          "name": "stdout",
          "output_type": "stream",
          "text": [
            "3\n"
          ]
        }
      ],
      "source": [
        "def suma(num_uno, num_dos):\n",
        "    suma = num_uno + num_dos\n",
        "    return suma\n",
        "valor = suma(1,2)\n",
        "print(valor)"
      ]
    },
    {
      "cell_type": "code",
      "execution_count": null,
      "metadata": {
        "id": "MX6TsG4XNaff",
        "outputId": "2590b729-e152-419f-f754-672d1752914a"
      },
      "outputs": [
        {
          "name": "stdout",
          "output_type": "stream",
          "text": [
            "314.0\n"
          ]
        }
      ],
      "source": [
        "def area_circulo (r):\n",
        "    PI = 3.14\n",
        "    area = PI * r ** 2\n",
        "    return area\n",
        "print(area_circulo(10))"
      ]
    },
    {
      "cell_type": "markdown",
      "metadata": {
        "id": "2gG8telzNaff"
      },
      "source": [
        "En todos los casos anteriores, le hemos pasado los argumentos por posición que es la forma más basica de hacerlo. Al ser el número de parámetros fijos si intentamos llamar a la función sin ninguno o con el número erroneo, nos dará un error.\n",
        "\n",
        "Python permite pasar argumentos también de otras formas."
      ]
    },
    {
      "cell_type": "markdown",
      "metadata": {
        "id": "AlZk9ACfNaff"
      },
      "source": [
        "Otra forma de llamar a una función, es usando el `nombre del argumento` con `=` y su valor o `key`-`value`, donde la key sería el nombre del argumento y el value sería el valor. Vamos a verlo en un ejemplo. Si intentamos introducir algun nombre de argumento que no se haya definido obtendremos un error **TypeError**."
      ]
    },
    {
      "cell_type": "code",
      "execution_count": null,
      "metadata": {
        "id": "fmm3QPsJNaff",
        "outputId": "69326511-65ba-4fc2-b303-6911fb95a9a4"
      },
      "outputs": [
        {
          "name": "stdout",
          "output_type": "stream",
          "text": [
            "Bienvenid@ Marcos Díaz a la clase de Python\n"
          ]
        }
      ],
      "source": [
        "def helloworld (nombre, apellido):\n",
        "    mensaje = f\"Bienvenid@ {nombre} {apellido} a la clase de Python\"\n",
        "    return mensaje\n",
        "\n",
        "print(helloworld(apellido = \"Díaz\", nombre = 'Marcos'))"
      ]
    },
    {
      "cell_type": "markdown",
      "metadata": {
        "id": "WxoAWUqbNaff"
      },
      "source": [
        "A veces pasamos valores por defecto a los parámetros cuando invocamos a la función. Si no pasamos argumentos al llamar a la función, se utilizarán sus valores por defecto. Estos valores por defecto se definen en la declaración de la función."
      ]
    },
    {
      "cell_type": "code",
      "execution_count": null,
      "metadata": {
        "id": "7Zz-5djJNaff",
        "outputId": "a95d38c8-8674-4d68-f1f1-7dbd77f0ed98"
      },
      "outputs": [
        {
          "name": "stdout",
          "output_type": "stream",
          "text": [
            "Suspenso\n"
          ]
        }
      ],
      "source": [
        "def nota_examen (nota_examen, nota_aprobado = 5):\n",
        "    if nota_examen >= nota_aprobado:\n",
        "        return \"Aprobado\"\n",
        "    else:\n",
        "        return \"Suspenso\"\n",
        "print(nota_examen(5, 6))"
      ]
    },
    {
      "cell_type": "code",
      "execution_count": null,
      "metadata": {
        "id": "vFEbm__zNaff",
        "outputId": "5f11f37f-a49b-42e2-de17-e83000bef763"
      },
      "outputs": [
        {
          "name": "stdout",
          "output_type": "stream",
          "text": [
            "1\n",
            "3\n",
            "6\n"
          ]
        }
      ],
      "source": [
        "def suma(a=0,b=0,c=0):\n",
        "    return a + b + c\n",
        "print(suma(1))\n",
        "print(suma(1,2))\n",
        "print(suma(1,2,3))"
      ]
    },
    {
      "cell_type": "markdown",
      "metadata": {
        "id": "tc-MBAvyNaff"
      },
      "source": [
        "## Args y Kwargs\n",
        "---"
      ]
    },
    {
      "cell_type": "markdown",
      "metadata": {
        "id": "ldq6v3vQNaff"
      },
      "source": [
        "**¿Qué pasa si en el ejemplo anterior quisiera sumar 10 elementos y no 3? ¿Tendría que crear una función nueva para cada caso?** Si no conocemos el número de argumentos que pasamos a nuestra función, podemos crear una función que admita un número arbitrario de argumentos.\n",
        "\n",
        "Por suerte, Python es tan potente que puede hacer esto de forma directa. Si declaramos un argumento con `*`, esto hará que el argumento que se pase sea empaquetado en una tupla de manera automática."
      ]
    },
    {
      "cell_type": "code",
      "execution_count": null,
      "metadata": {
        "id": "omRkm5ZTNafg",
        "outputId": "bb03292e-578b-4c2f-9e55-54a491d7f129"
      },
      "outputs": [
        {
          "name": "stdout",
          "output_type": "stream",
          "text": [
            "<class 'tuple'>:: (1, 2, 3, 4, 5, 6, 7, 8, 9, 10)\n",
            "55\n"
          ]
        }
      ],
      "source": [
        "def suma_cualquier_longitud(*numeros):\n",
        "    total = 0\n",
        "    print(type(numeros), numeros, sep=\":: \")\n",
        "    for numero in numeros:\n",
        "        total += numero\n",
        "    return total\n",
        "print(suma_cualquier_longitud(1,2,3,4,5,6,7,8,9,10))"
      ]
    },
    {
      "cell_type": "markdown",
      "metadata": {
        "id": "PwjU3_U6Nafg"
      },
      "source": [
        "Al parametro que acompaña a * se le denomina `*args` y el nombre es totalmente arbitrario, por ello lo hemos llamado como hemos querido, aunque por convención y para facilitar la lectura del código en python vamos a instanstanciarlo como *args a partir de ahora"
      ]
    },
    {
      "cell_type": "markdown",
      "metadata": {
        "id": "Xo5ijWmzNafg"
      },
      "source": [
        "Existe otra funcionalidad de Python que nos permite generar un análogo a *args pero con diccionarios que se llama `**kwargs`. Al igual que en *args, en **kwargs el nombre es una mera convención entre los usuarios de Python. Puedes usar cualquier otro nombre siempre y cuando respetes el **."
      ]
    },
    {
      "cell_type": "markdown",
      "metadata": {
        "id": "FuiasbD_Nafg"
      },
      "source": [
        "El uso de los **kwargs es muy útil si además de querer acceder al valor de las variables dentro de la función, quieres darles un nombre que de una información extra."
      ]
    },
    {
      "cell_type": "code",
      "execution_count": null,
      "metadata": {
        "id": "2hDwo1z0Nafg",
        "outputId": "563f14f0-332a-4cd0-971c-7184e88e2d32"
      },
      "outputs": [
        {
          "name": "stdout",
          "output_type": "stream",
          "text": [
            "<class 'dict'>:: {'a': 1, 'b': 2, 'c': 3}\n",
            "a=1\n",
            "b=2\n",
            "c=3\n"
          ]
        }
      ],
      "source": [
        "def suma_cualquier_longitud(**numeros):\n",
        "    total = 0\n",
        "    print(type(numeros), numeros, sep=\":: \")\n",
        "    for key, value in numeros.items():\n",
        "        print(key, value, sep=\"=\")\n",
        "        total += value\n",
        "    return total\n",
        "\n",
        "value = suma_cualquier_longitud(a=1, b=2, c=3)"
      ]
    },
    {
      "cell_type": "markdown",
      "metadata": {
        "id": "GqFE8u1RNafg"
      },
      "source": [
        "Llegados a este punto que sepamos que podemos mezclar ambas tipologías de argumentos pero debemos de tener en cuenta este orden:\n",
        "1. Argumentos normales\n",
        "2. *args\n",
        "3. **kwargs"
      ]
    },
    {
      "cell_type": "code",
      "execution_count": null,
      "metadata": {
        "id": "RpvHPyYgNafg",
        "outputId": "778cb393-bb35-4016-c021-baa493f03b59"
      },
      "outputs": [
        {
          "name": "stdout",
          "output_type": "stream",
          "text": [
            "varr: 1\n",
            "args: 2\n",
            "args: 3\n",
            "key:Uno\n",
            "key:Dos\n"
          ]
        }
      ],
      "source": [
        "def funcion(varr, *args, **kwargs):\n",
        "    print(f\"varr: {varr}\")\n",
        "    for arg in args:\n",
        "        print(f\"args: {arg}\")\n",
        "    for key, value in kwargs.items():\n",
        "        print(f\"key:{value}\")\n",
        "\n",
        "funcion(1, 2, 3, x=\"Uno\", y=\"Dos\")"
      ]
    },
    {
      "cell_type": "markdown",
      "metadata": {
        "id": "t4v0yJRLNafg"
      },
      "source": [
        "La gran mayoria de veces que leais código de desarrolladores senior en python, vereis que hacen uso de lo que se denomina técnica \"Tuple Unpacking\", esta basicamente se basa, mediante el uso de `*` en extraer los valores de uan lista o tupla y que se pasen como argumentos. Con el ejemplo anterior podemos ver como se hace:"
      ]
    },
    {
      "cell_type": "code",
      "execution_count": null,
      "metadata": {
        "id": "A7D0ch26Nafg",
        "outputId": "93bb179b-d7e5-4b78-c09b-65a180aa60ac"
      },
      "outputs": [
        {
          "name": "stdout",
          "output_type": "stream",
          "text": [
            "varr: 1\n",
            "args: 1\n",
            "args: 2\n",
            "key:Uno\n",
            "key:Dos\n"
          ]
        }
      ],
      "source": [
        "def funcion(varr, *args, **kwargs):\n",
        "    print(f\"varr: {varr}\")\n",
        "    for arg in args:\n",
        "        print(f\"args: {arg}\")\n",
        "    for key, value in kwargs.items():\n",
        "        print(f\"key:{value}\")\n",
        "\n",
        "funcion(1, *[1, 2], **{\"x\":\"Uno\", \"y\":\"Dos\"})"
      ]
    },
    {
      "cell_type": "markdown",
      "metadata": {
        "id": "r0nTA-L_Nafg"
      },
      "source": [
        "## Funciones Lambda\n",
        "---\n",
        "\n",
        "En Python, una función lambda es una función anónima de una sola línea, que puede tener cualquier número de argumentos, pero sólo puede tener una expresión.\n",
        "\n",
        "En la mayoría de los casos, las funciones lambda se utilizan para definir funciones que se van a utilizar en una sola ocasión, por lo que no tiene sentido definirlas con la sintaxis de una función normal.\n",
        "\n",
        "Por ejemplo, si queremos definir una función que nos devuelva el cuadrado de un número, podemos hacerlo de la siguiente forma:"
      ]
    },
    {
      "cell_type": "code",
      "execution_count": null,
      "metadata": {
        "id": "ZpdEypncNafg",
        "outputId": "c785335b-4eb1-4b1a-ea89-7922ec782868"
      },
      "outputs": [
        {
          "data": {
            "text/plain": [
              "4"
            ]
          },
          "execution_count": 55,
          "metadata": {},
          "output_type": "execute_result"
        }
      ],
      "source": [
        "cuadrado = lambda a: a**2\n",
        "cuadrado(2)"
      ]
    },
    {
      "cell_type": "markdown",
      "metadata": {
        "id": "8HIDakoINafh"
      },
      "source": [
        "La funcionalidad de Lambda también nos permite devolver múltiples valores:"
      ]
    },
    {
      "cell_type": "code",
      "execution_count": null,
      "metadata": {
        "id": "oXUDZPykNafh",
        "outputId": "f50e0514-dd99-40a7-9580-4a58b313aae5"
      },
      "outputs": [
        {
          "name": "stdout",
          "output_type": "stream",
          "text": [
            "(2, 1, 3)\n"
          ]
        }
      ],
      "source": [
        "x = lambda a, b: (b, a, a+b)\n",
        "print(x(1,2))"
      ]
    },
    {
      "cell_type": "markdown",
      "metadata": {
        "id": "IJ2cIkb9Nafh"
      },
      "source": [
        "También podemos aplicar `tuple unpacking` trabajando con *args o **kwargs y funciones anónimas."
      ]
    },
    {
      "cell_type": "code",
      "execution_count": null,
      "metadata": {
        "id": "hjssODrkNafh",
        "outputId": "b840eb26-3435-4094-854f-d179c27ebfc1"
      },
      "outputs": [
        {
          "data": {
            "text/plain": [
              "6"
            ]
          },
          "execution_count": 64,
          "metadata": {},
          "output_type": "execute_result"
        }
      ],
      "source": [
        "(lambda *args: sum(args))(1, 2, 3)"
      ]
    },
    {
      "cell_type": "code",
      "execution_count": null,
      "metadata": {
        "id": "_ldAbFFZNafi",
        "outputId": "28974bf5-72f9-4765-9fa3-2800da474b19"
      },
      "outputs": [
        {
          "data": {
            "text/plain": [
              "6"
            ]
          },
          "execution_count": 63,
          "metadata": {},
          "output_type": "execute_result"
        }
      ],
      "source": [
        "(lambda **kwargs: sum(kwargs.values()))(a=1, b=2, c=3)"
      ]
    },
    {
      "cell_type": "markdown",
      "metadata": {
        "id": "D10nW-4BNafi"
      },
      "source": [
        "## Recursividad\n",
        "---\n",
        "\n",
        "Comencemos definiendo `recursividad` como la capacidad que nos permite resolver problemas o tareas donde las mismas pueden ser divididas en subtareas cuya funcionalidad es la misma, al ser estos de la misma naturaleza, se puede usar la misma función para resolverlos, dicho rápido, son las funciones que se llaman a si mismas.\n",
        "\n",
        "Dos de los ejemplos más claros y concisos son los del calculo del factorial o el cálculo de las series de Fibonacci."
      ]
    },
    {
      "cell_type": "markdown",
      "metadata": {
        "id": "6MeMO8BBNafi"
      },
      "source": [
        "\\begin{equation}\n",
        "\\hat{d}=\\frac{(d+n)!}{n! \\enspace d!} \n",
        "\\end{equation}\n"
      ]
    },
    {
      "cell_type": "code",
      "execution_count": null,
      "metadata": {
        "id": "hJqsnIuONafi",
        "outputId": "c4dd57c7-c966-4972-8ad2-89a81ffef681"
      },
      "outputs": [
        {
          "name": "stdout",
          "output_type": "stream",
          "text": [
            "Para el número 7 el valor del factorial es: 5040\n"
          ]
        }
      ],
      "source": [
        "def factorial(numero): \n",
        "    if (numero == 1 or numero == 0):\n",
        "        return 1\n",
        "    else:\n",
        "        return (numero * factorial(numero - 1)) \n",
        "\n",
        "numero = 7\n",
        "print(f\"Para el número {numero} el valor del factorial es: {factorial(numero)}\")"
      ]
    },
    {
      "cell_type": "markdown",
      "metadata": {
        "id": "kLwZMzE_Nafi"
      },
      "source": [
        "## Local and Global Scope\n",
        "---\n",
        "\n",
        "Tenemos que tener en cuenta la tipología de variables que tenemos en Python, las variables locales y las variables globales.\n",
        "- Las `variables locales` son aquellas que se declaran dentro de una función y solo pueden ser utilizadas dentro de la función.\n",
        "- Las `variables globales` son aquellas que se declaran fuera de una función y pueden ser utilizadas dentro y fuera de la función.\n",
        "\n",
        "Todo el código de ámbito global no puede utilizar ninguna variable local, sin embargo, un ámbito local puede acceder a variables globales.\n",
        "\n",
        "El código del ámbito local de una función no puede utilizar variables de ningún otro ámbito local.\n",
        "\n",
        "Puedes utilizar el mismo nombre para distintas variables si están en ámbitos diferentes. Es decir, puede haber una variable local llamada spam y una variable global también llamada spam."
      ]
    },
    {
      "cell_type": "code",
      "execution_count": null,
      "metadata": {
        "id": "47SFWppHNafi",
        "outputId": "98060baf-5aad-4f78-b2eb-92516300a8e1"
      },
      "outputs": [
        {
          "name": "stdout",
          "output_type": "stream",
          "text": [
            "- Soy una variable global, puedo ser accedida desde cualquier parte del código\n",
            "- Solo puedo ser accedida desde dentro de la función\n"
          ]
        },
        {
          "ename": "NameError",
          "evalue": "name 'local_variable' is not defined",
          "output_type": "error",
          "traceback": [
            "\u001b[0;31m---------------------------------------------------------------------------\u001b[0m",
            "\u001b[0;31mNameError\u001b[0m                                 Traceback (most recent call last)",
            "Cell \u001b[0;32mIn[71], line 9\u001b[0m\n\u001b[1;32m      6\u001b[0m     \u001b[39mprint\u001b[39m(local_variable)\n\u001b[1;32m      8\u001b[0m some_function()\n\u001b[0;32m----> 9\u001b[0m \u001b[39mprint\u001b[39m(local_variable)\n",
            "\u001b[0;31mNameError\u001b[0m: name 'local_variable' is not defined"
          ]
        }
      ],
      "source": [
        "global_variable = '- Soy una variable global, puedo ser accedida desde cualquier parte del código'\n",
        "\n",
        "def some_function():\n",
        "    print(global_variable)  # because is global\n",
        "    local_variable = \"- Solo puedo ser accedida desde dentro de la función\"\n",
        "    print(local_variable)\n",
        "\n",
        "some_function()\n",
        "print(local_variable)"
      ]
    },
    {
      "cell_type": "markdown",
      "metadata": {
        "id": "IFqaPnW4Nafi"
      },
      "source": [
        "Pero como dice el dicho: \"Hecha la ley, hecha la trampa\". Si bien es cierto que las variables globales pueden ser accedidas desde cualquier parte del código, también es cierto que si se intenta modificar su valor desde dentro de una función, se creará una variable local con el mismo nombre, y no se modificará la variable global.\n",
        "\n",
        "Si necesitas modificar una variable global desde dentro de una función, debemos utilizar la sentencia `global`"
      ]
    },
    {
      "cell_type": "code",
      "execution_count": null,
      "metadata": {
        "id": "XjidkFxzNafi",
        "outputId": "6a1a5d26-e38e-4d95-9d6f-3f0f7bcc7043"
      },
      "outputs": [
        {
          "name": "stdout",
          "output_type": "stream",
          "text": [
            "La variable huevos es: global\n",
            "La variable huevos es: spam\n"
          ]
        }
      ],
      "source": [
        "def spam():\n",
        "    global huevos\n",
        "    huevos = 'spam'\n",
        "huevos = 'global'\n",
        "\n",
        "print(f\"La variable huevos es: {huevos}\")\n",
        "spam()\n",
        "print(f\"La variable huevos es: {huevos}\")"
      ]
    },
    {
      "cell_type": "markdown",
      "metadata": {
        "id": "baZKoDjGNafi"
      },
      "source": [
        "¿Cómo sabemos si una variable está en ámbito global o local?\n",
        "\n",
        "- Si una variable se utiliza en el ámbito global (es decir, fuera de todas las funciones), siempre es una variable global.\n",
        "- Si hay una sentencia `global` para esa variable en una función, es una variable global.\n",
        "- En caso contrario, si la variable se utiliza en una sentencia de asignación en la función, es una variable local.\n",
        "- Pero si la variable no se utiliza en una sentencia de asignación, es una variable global."
      ]
    },
    {
      "cell_type": "markdown",
      "metadata": {
        "id": "v0B11f3rNafj"
      },
      "source": [
        "## Paso por valor y referencia\n",
        "---\n",
        "\n",
        "Habiendo visto los conceptos básicos de las funciones, vamos a ver cómo se comportan las variables cuando se pasan como argumentos a las funciones. y es que existen los conceptos de paso `por valor` y `por referencia` que aplican a la hora de como trata una función a los parámetros que se le pasan como entrada."
      ]
    },
    {
      "cell_type": "markdown",
      "metadata": {
        "id": "-5VZsBihNafj"
      },
      "source": [
        "Si usamos un parámetro pasado por `valor`, se creará una copia local de la variable, lo que implica que cualquier modificación sobre la misma no tendrá efecto sobre la original.\n",
        "Si esamos una por `referencia`, las modificaciones afectarán a la variable original.\n",
        "\n",
        "Los tipos `inmutables` son pasados por `valor`, por lo tanto dentro de la función se accede a una copia y no al valor original.\n",
        "Los tipos `mutables` son pasados por `referencia`, como es el caso de las listas y los diccionarios. Algo similar a como C pasa las array como punteros."
      ]
    },
    {
      "cell_type": "markdown",
      "metadata": {
        "id": "jFkbBsi6Nafj"
      },
      "source": [
        "En python el comportamiento estará definido por el tipo de variable con la que estamos tratando. Una forma muy útil de saber lo que pasa por debajo de Python, es haciendo uso de la función `id()`. Esta función nos devuelve un identificador único para cada objeto.\n",
        "\n",
        "Así si el valor de ambas variables a la salida de aplicar la función id() son diferentes significará que el paso ha sido por referencia."
      ]
    },
    {
      "cell_type": "code",
      "execution_count": null,
      "metadata": {
        "id": "hg6EaOksNafj",
        "outputId": "45d81273-e168-40c1-8292-a44c590d36f1"
      },
      "outputs": [
        {
          "name": "stdout",
          "output_type": "stream",
          "text": [
            "4426926848\n",
            "4426926848\n"
          ]
        }
      ],
      "source": [
        "x = [1,2,3]\n",
        "print(id(x))\n",
        "def funcion(entrada):\n",
        "    entrada.append(40)\n",
        "    print(id(entrada))\n",
        "\n",
        "funcion(x)"
      ]
    },
    {
      "cell_type": "code",
      "execution_count": null,
      "metadata": {
        "id": "qp_aD-C9Nafj",
        "outputId": "833e5e93-5313-40cc-b846-dd2259070332"
      },
      "outputs": [
        {
          "name": "stdout",
          "output_type": "stream",
          "text": [
            "4372136784\n",
            "4372136144\n"
          ]
        }
      ],
      "source": [
        "x = 20\n",
        "print(id(x))\n",
        "def funcion(entrada):\n",
        "    entrada = 0\n",
        "    print(id(entrada))\n",
        "\n",
        "funcion(x)"
      ]
    },
    {
      "cell_type": "markdown",
      "metadata": {
        "id": "d3nFNh7cNafj"
      },
      "source": [
        "## Programación Funcional\n",
        "---\n",
        "\n",
        "Es un `paradigma de programación` que se basa principalmente en el `uso de funciones`, siendo las mismas practicamente la única herramienta que el lenguaje nos ofrece. Es un lenguajes puramente funcional donde no existen bucles for o while.\n",
        "\n",
        "Un lenguaje de programación sin bucles también tiene sus ventajas, y ofrece ciertas características muy importantes.\n",
        "\n",
        "A pesar de que Python no es un lenguaje puramente funcional, nos ofrece algunas primitivas propias de lenguajes funcionales, como `map`, `filter` y `reduce`.\n"
      ]
    },
    {
      "cell_type": "markdown",
      "metadata": {
        "id": "NEWLrYrNNafj"
      },
      "source": [
        "#### Map\n",
        "\n",
        "La función `map` toma dos entradas:\n",
        "\n",
        "Una `lista` que será modificado en una nueva y una `función`, que será aplicada a cada uno de los elementos de la lista o iterable anterior.\n",
        "\n",
        "Nos devuelve una nueva lista donde todos y cada uno de los elementos de la lista original han sido pasados por la función."
      ]
    },
    {
      "cell_type": "code",
      "execution_count": null,
      "metadata": {
        "id": "r-EpcsjhNafj",
        "outputId": "abd7e9d0-18b0-4f10-be8f-eab569fe0a58"
      },
      "outputs": [
        {
          "name": "stdout",
          "output_type": "stream",
          "text": [
            "[2, 3, 4, 5, 6]\n"
          ]
        }
      ],
      "source": [
        "lista = [1, 2, 3, 4, 5]\n",
        "\n",
        "def suma(x):\n",
        "    return x + 1\n",
        "\n",
        "result = map(suma, lista)\n",
        "print(list(result))"
      ]
    },
    {
      "cell_type": "markdown",
      "metadata": {
        "id": "tgzgdqn3Nafj"
      },
      "source": [
        "Si se trata de funciones sencillas, es posible usar funciones lambda"
      ]
    },
    {
      "cell_type": "code",
      "execution_count": null,
      "metadata": {
        "id": "0xaPkcvNNafj",
        "outputId": "097e3695-73cd-443b-8edf-f456a563e32a"
      },
      "outputs": [
        {
          "name": "stdout",
          "output_type": "stream",
          "text": [
            "[2, 3, 4, 5, 6]\n"
          ]
        }
      ],
      "source": [
        "lista = [1, 2, 3, 4, 5]\n",
        "result = map(lambda x: x+1, lista)\n",
        "\n",
        "print(list(result))"
      ]
    },
    {
      "cell_type": "markdown",
      "metadata": {
        "id": "qq_fizNnNafj"
      },
      "source": [
        "#### Filter\n",
        "---\n",
        "\n",
        "La función `filter` también recibe una función y una lista pero el resultado es la lista inicial filtrada. Es decir, se pasa cada elemento de la lista por la función, y sólo si su resultado es `True`, incluyéndolo en la nueva lista."
      ]
    },
    {
      "cell_type": "code",
      "execution_count": null,
      "metadata": {
        "id": "GD8l5DunNafj",
        "outputId": "711fdd34-2cbb-408e-e8d8-0d761ea2886d"
      },
      "outputs": [
        {
          "name": "stdout",
          "output_type": "stream",
          "text": [
            "[2, 4]\n"
          ]
        }
      ],
      "source": [
        "lista = [1, 2, 3, 4, 5]\n",
        "\n",
        "def pares(x):\n",
        "    return x % 2 == 0\n",
        "\n",
        "result = filter(pares, lista)\n",
        "print(list(result))"
      ]
    },
    {
      "cell_type": "markdown",
      "metadata": {
        "id": "f-lA8YnjNafk"
      },
      "source": [
        "Hay que resaltar que no estamos usando `bucles`. La programación funcional se centra más en el `qué hacer` que en el `cómo hacerlo`. Para ello se usan funciones predefinidas como las que estamos viendo, a las que sólo tenemos que pasar las entradas y hacer el trabajo por nosotros."
      ]
    },
    {
      "cell_type": "markdown",
      "metadata": {
        "id": "WrQvWTUdNafk"
      },
      "source": [
        "#### reduce\n",
        "---\n",
        "Usamos `reduce` para **reducir** todos los elementos de la entrada a un único valor aplicando un determinado criterio.\n",
        "\n",
        "Aunque python no es un lenguaje puramente funcional, ofrece algunas funciones propias de lenguajes funcionales como ya hemos visto, para hacer uso de reduce necesitaremos el paquete itertools."
      ]
    },
    {
      "cell_type": "code",
      "execution_count": null,
      "metadata": {
        "id": "eEXu3B0jNafk",
        "outputId": "1ca1ef5a-53be-4460-a1c9-c9aab6c0f635"
      },
      "outputs": [
        {
          "name": "stdout",
          "output_type": "stream",
          "text": [
            "15\n"
          ]
        }
      ],
      "source": [
        "from functools import reduce\n",
        "lista = [1, 2, 3, 4, 5]\n",
        "multiplicacion = reduce(lambda a, b: a + b, lista)\n",
        "print(multiplicacion)"
      ]
    },
    {
      "cell_type": "markdown",
      "metadata": {
        "id": "nJKkE2vPNafk"
      },
      "source": [
        "El resultado sería el fruto de la suma de todos los elementos de la lista."
      ]
    },
    {
      "cell_type": "markdown",
      "metadata": {
        "id": "NrZM8oE_Nafk"
      },
      "source": [
        "Es importante notar que la función recibe dos argumentos: el `acumulador` y `cada uno de los valores de la lista`.\n",
        "\n",
        "El acumulador es el valor devuelto en la iteración anterior, que va acumulando un resultado hasta que llegamos al final.\n",
        "El valor es cada uno de los elementos de nuestra lista, que en nuestro caso vamos añadiendo al acumulador.\n"
      ]
    },
    {
      "cell_type": "markdown",
      "metadata": {
        "id": "jAxvaT-CNafk"
      },
      "source": [
        "## **¡Proficiency! (Avanzado)**\n",
        "---\n",
        "\n",
        "Los generadores son una parte esencial de Python y sin lugar a dudas van a marcar la gran diferencia en tus habilidades como desarrollador. Al dominar los generadores, podrás crear código más eficiente y escalable.\n",
        "\n",
        "Son una forma especial de funciones para crear iteradores de una manera sencilla y eficiente. Es básicamente, un objeto que se puede recorrer como una **lista** o **tupla**\n",
        "\n",
        "La diferencia con una función es que los generadores no devuelven un valor único, sino que generan una serie de valores, cada vez que se llaman.\n",
        "\n",
        "Para ello, hacen uso de la palabra reservada `yield` que para el código y nos devuelve el valor. Al volver a llamar al generador, continúa la ejecución desde el punto anterior, en vez de comenzar desde el principio como haría una función.\n"
      ]
    },
    {
      "cell_type": "markdown",
      "source": [
        "<img src=\"https://raw.githubusercontent.com/0xdevgranero/kschool/main/images/gif1.gif\" alt=\"gif\" style=\"width: 600px\">"
      ],
      "metadata": {
        "id": "COJ6OVHSNo_k"
      }
    },
    {
      "cell_type": "code",
      "execution_count": null,
      "metadata": {
        "id": "OcICYI6PNafk",
        "outputId": "a43d7b01-6062-4582-b043-5b3e28be06df"
      },
      "outputs": [
        {
          "data": {
            "text/plain": [
              "2"
            ]
          },
          "execution_count": 35,
          "metadata": {},
          "output_type": "execute_result"
        }
      ],
      "source": [
        "def crear_numeros_pares(limite):\n",
        "    num = 1\n",
        "    while num <= limite:\n",
        "        yield num * 2\n",
        "        num += 1\n",
        "\n",
        "num_pares = crear_numeros_pares(5)\n",
        "next(num_pares)"
      ]
    },
    {
      "cell_type": "code",
      "execution_count": null,
      "metadata": {
        "id": "afiYs3GgNafk",
        "outputId": "eed53064-4086-4d3d-e027-1e347b941d1b"
      },
      "outputs": [
        {
          "data": {
            "text/plain": [
              "4"
            ]
          },
          "execution_count": 36,
          "metadata": {},
          "output_type": "execute_result"
        }
      ],
      "source": [
        "next(num_pares)"
      ]
    },
    {
      "cell_type": "markdown",
      "metadata": {
        "id": "H3eyfDvnNafk"
      },
      "source": [
        "<h1>¡¡¡Lets Code!!! </h1>\n",
        "<img src=\"https://gifdb.com/images/thumbnail/pixel-art-super-mario-computer-amwdq1xi8bgz0omx.gif\" alt=\"Challenge Accepted\" style=\"width: 500px\">"
      ]
    },
    {
      "cell_type": "markdown",
      "metadata": {
        "id": "U7NUAEmzNafk"
      },
      "source": [
        "#### **Enunciado Ejercicio 1**::\n",
        "Escribe una función llamada numeros_primos, qué compruebe si un número es primo."
      ]
    },
    {
      "cell_type": "markdown",
      "metadata": {
        "id": "pupF2rnHNafk"
      },
      "source": [
        "#### **Enunciado Ejercicio 2**::\n",
        "Escribe otra función que compruebe si todos los elementos de la lista son únicos."
      ]
    },
    {
      "cell_type": "markdown",
      "metadata": {
        "id": "gHkfVNGRNafl"
      },
      "source": [
        "#### **Enunciado Ejercicio 3**::\n",
        "Escribe una función que compruebe si todos los elementos de la lista son del mismo tipo de datos."
      ]
    },
    {
      "cell_type": "markdown",
      "metadata": {
        "id": "I6nQWfI9Nafl"
      },
      "source": [
        "#### **Enunciado Ejercicio 4**::\n",
        "Escribe una función que compruebe si la variable proporcionada es una variable de python válida."
      ]
    },
    {
      "cell_type": "markdown",
      "metadata": {
        "id": "2JQNiuipNafl"
      },
      "source": [
        "#### **Enunciado Ejercicio 5**::\n",
        "Dada una lista de palabras, utiliza la función map para transformar cada palabra en la lista en su versión en mayúsculas. Luego, utiliza la función reduce para concatenar todas las palabras en una sola cadena de texto. Finalmente, utiliza la función filter para filtrar las palabras que comiencen con la letra \"A\". Implementa esta lógica en Python y muestra el resultado obtenido."
      ]
    },
    {
      "cell_type": "markdown",
      "metadata": {
        "id": "XNt5kK0fNafl"
      },
      "source": [
        "#### **Enunciado Ejercicio 6**::\n",
        "Dada una lista de números, utiliza la función map para elevar al cuadrado cada número en la lista. Luego, utiliza la función reduce para calcular la suma de todos los números elevados al cuadrado. Finalmente, utiliza la función filter para filtrar los números que son divisibles por 3. Implementa esta lógica en Python y muestra el resultado obtenido."
      ]
    },
    {
      "cell_type": "markdown",
      "metadata": {
        "id": "xDvCH0QsNafl"
      },
      "source": [
        "#### **Enunciado Ejercicio 7**::\n",
        "En matemáticas, la sucesión de Fibonacci es la sucesión infinita de números naturales: 1,1,2,3,5,8,13,21,34,55,89,144,233,377,610,987,1597. La sucesión comienza con los números 0 y 1 y a partir de estos, cada término es la suma de los dos anteriores.\n",
        "\n",
        "<img src=\"https://upload.wikimedia.org/wikipedia/commons/thumb/9/93/Fibonacci_spiral_34.svg/2880px-Fibonacci_spiral_34.svg.png\" alt=\"gif\" style=\"width: 200px\">\n",
        "\n",
        "\n",
        "¿Podrias generar esa sucesión haciendo uso de generadores?"
      ]
    },
    {
      "cell_type": "markdown",
      "metadata": {
        "id": "kqCZjE4FNafl"
      },
      "source": []
    }
  ],
  "metadata": {
    "kernelspec": {
      "display_name": "Python 3",
      "language": "python",
      "name": "python3"
    },
    "language_info": {
      "codemirror_mode": {
        "name": "ipython",
        "version": 3
      },
      "file_extension": ".py",
      "mimetype": "text/x-python",
      "name": "python",
      "nbconvert_exporter": "python",
      "pygments_lexer": "ipython3",
      "version": "3.10.10"
    },
    "orig_nbformat": 4,
    "colab": {
      "provenance": [],
      "include_colab_link": true
    }
  },
  "nbformat": 4,
  "nbformat_minor": 0
}