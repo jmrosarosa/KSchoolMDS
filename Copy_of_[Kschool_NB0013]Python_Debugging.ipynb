{
  "cells": [
    {
      "cell_type": "markdown",
      "metadata": {
        "id": "view-in-github",
        "colab_type": "text"
      },
      "source": [
        "<a href=\"https://colab.research.google.com/github/jmrosarosa/KSchoolMDS/blob/main/Copy_of_%5BKschool_NB0013%5DPython_Debugging.ipynb\" target=\"_parent\"><img src=\"https://colab.research.google.com/assets/colab-badge.svg\" alt=\"Open In Colab\"/></a>"
      ]
    },
    {
      "cell_type": "markdown",
      "metadata": {
        "id": "RkjcIJI9Fnzi"
      },
      "source": [
        "# [Kschool NB0012]Python_Debugging\n",
        "* Objetivos:\n",
        "    - Comprender las diferentes aproximaciones para poder enfrentarnos a los diferentes errores comunes en cualquier ejecución de Python.\n",
        "    - Entender los beneficios y uso de las aserciones.\n",
        "    - Aplicar de manera práctica una primera aproximación a logging."
      ]
    },
    {
      "cell_type": "markdown",
      "metadata": {
        "id": "b5ZoWVfXFnzk"
      },
      "source": [
        "<img src=\"https://media.istockphoto.com/id/1024173328/vector/challenge-accepted-banner.jpg?s=612x612&w=0&k=20&c=HkpbXPIxSoS0zZIB36AdXz8u3TE2peAC0_s1jNTCKTc=\" alt=\"Challenge Accepted\" style=\"width: 300px\">"
      ]
    },
    {
      "cell_type": "markdown",
      "metadata": {
        "id": "IifGmowIFnzk"
      },
      "source": [
        "---\n",
        "---\n",
        "---"
      ]
    },
    {
      "cell_type": "markdown",
      "metadata": {
        "id": "b_kNnsZ3Fnzk"
      },
      "source": [
        "# **Excepciones**\n",
        "---\n",
        "\n",
        "Cuando escribimos código es frecuente que cometamos una errata o cualquier otro error común. Si nuestro código `no` se ejecuta, el intérprete de Python nos mostrará un mensaje con información sobre `dónde` se produce el problema y el `tipo` de error.\n",
        "\n",
        "A veces, también nos dará `sugerencias` sobre una posible solución.\n",
        "\n",
        "Python utiliza `try` y `except` para manejar los errores de una manera sencilla, es decir para controlar el bloque de código que se lanza cuando se produce un error en la ejecución de un programa, a esto se le conoce como `excepción`.\n",
        "\n",
        "Tenemos que estar totalmente en consonancia con que una identificación de los errores rapidamente es símbolo de un lenguaje de programación sencillo, un programa detecta una condición de error grave y \"sale airosamente\", de forma controlada como resultado.\n",
        "\n",
        "A menudo, el programa imprime un mensaje de error descriptivo en un terminal o registro como parte de la salida, lo que hace que nuestra aplicación sea más robusta.\n",
        "La causa de una excepción suele ser externa al propio programa. Un ejemplo de excepción podría ser una `entrada incorrecta`, un `nombre de archivo erróneo,` la `imposibilidad de encontrar un archivo`, un `mal funcionamiento` del dispositivo.\n",
        "\n",
        "El manejo adecuado de los errores evita que nuestras aplicaciones se bloqueen."
      ]
    },
    {
      "cell_type": "markdown",
      "metadata": {
        "id": "nzv9gijAFnzl"
      },
      "source": [
        "<img src=\"https://raw.githubusercontent.com/0xdevgranero/kschool/main/images/img18.png\" alt=\"Drawing\" style=\"width: 800px\"/>"
      ]
    },
    {
      "cell_type": "markdown",
      "metadata": {
        "id": "j5q4CTxkFnzl"
      },
      "source": [
        "Si una excepción ocurre en algún lugar de nuestro programa y no es `capturada` en ese punto, va subiendo hasta que es capturada en alguna función que ha hecho la llamada. \n",
        "\n",
        "Si en toda la «pila» de llamadas no existe un control de la excepción, Python muestra un mensaje de error con información adicional:"
      ]
    },
    {
      "cell_type": "code",
      "execution_count": null,
      "metadata": {
        "id": "TMsFChFgFnzl",
        "outputId": "20b0708a-aa31-4993-866d-3d70ecd95c09",
        "colab": {
          "base_uri": "https://localhost:8080/",
          "height": 322
        }
      },
      "outputs": [
        {
          "output_type": "error",
          "ename": "ZeroDivisionError",
          "evalue": "ignored",
          "traceback": [
            "\u001b[0;31m---------------------------------------------------------------------------\u001b[0m",
            "\u001b[0;31mZeroDivisionError\u001b[0m                         Traceback (most recent call last)",
            "\u001b[0;32m<ipython-input-1-221510a8b008>\u001b[0m in \u001b[0;36m<cell line: 5>\u001b[0;34m()\u001b[0m\n\u001b[1;32m      3\u001b[0m \u001b[0;34m\u001b[0m\u001b[0m\n\u001b[1;32m      4\u001b[0m \u001b[0;34m\u001b[0m\u001b[0m\n\u001b[0;32m----> 5\u001b[0;31m \u001b[0mintdiv\u001b[0m\u001b[0;34m(\u001b[0m\u001b[0;36m3\u001b[0m\u001b[0;34m,\u001b[0m \u001b[0;36m0\u001b[0m\u001b[0;34m)\u001b[0m\u001b[0;34m\u001b[0m\u001b[0;34m\u001b[0m\u001b[0m\n\u001b[0m",
            "\u001b[0;32m<ipython-input-1-221510a8b008>\u001b[0m in \u001b[0;36mintdiv\u001b[0;34m(a, b)\u001b[0m\n\u001b[1;32m      1\u001b[0m \u001b[0;32mdef\u001b[0m \u001b[0mintdiv\u001b[0m\u001b[0;34m(\u001b[0m\u001b[0ma\u001b[0m\u001b[0;34m,\u001b[0m \u001b[0mb\u001b[0m\u001b[0;34m)\u001b[0m\u001b[0;34m:\u001b[0m\u001b[0;34m\u001b[0m\u001b[0;34m\u001b[0m\u001b[0m\n\u001b[0;32m----> 2\u001b[0;31m     \u001b[0;32mreturn\u001b[0m \u001b[0ma\u001b[0m \u001b[0;34m//\u001b[0m \u001b[0mb\u001b[0m\u001b[0;34m\u001b[0m\u001b[0;34m\u001b[0m\u001b[0m\n\u001b[0m\u001b[1;32m      3\u001b[0m \u001b[0;34m\u001b[0m\u001b[0m\n\u001b[1;32m      4\u001b[0m \u001b[0;34m\u001b[0m\u001b[0m\n\u001b[1;32m      5\u001b[0m \u001b[0mintdiv\u001b[0m\u001b[0;34m(\u001b[0m\u001b[0;36m3\u001b[0m\u001b[0;34m,\u001b[0m \u001b[0;36m0\u001b[0m\u001b[0;34m)\u001b[0m\u001b[0;34m\u001b[0m\u001b[0;34m\u001b[0m\u001b[0m\n",
            "\u001b[0;31mZeroDivisionError\u001b[0m: integer division or modulo by zero"
          ]
        }
      ],
      "source": [
        "def intdiv(a, b):\n",
        "    return a // b\n",
        "\n",
        "\n",
        "intdiv(3, 0)"
      ]
    },
    {
      "cell_type": "markdown",
      "metadata": {
        "id": "G0atpsb1Fnzm"
      },
      "source": [
        "Para manejar (capturar) las excepciones podemos usar un bloque de código con `try` y `except`:"
      ]
    },
    {
      "cell_type": "code",
      "execution_count": null,
      "metadata": {
        "id": "OCGJH9DMFnzn",
        "outputId": "638f9e8d-ba4e-4d90-a1a9-b522ef6f431a",
        "colab": {
          "base_uri": "https://localhost:8080/"
        }
      },
      "outputs": [
        {
          "output_type": "execute_result",
          "data": {
            "text/plain": [
              "3"
            ]
          },
          "metadata": {},
          "execution_count": 3
        }
      ],
      "source": [
        "def intdiv(a, b):\n",
        "    try:\n",
        "        return a // b\n",
        "    except:\n",
        "        print('Error al dividir por cero')\n",
        "\n",
        "\n",
        "intdiv(3, 1)"
      ]
    },
    {
      "cell_type": "markdown",
      "metadata": {
        "id": "VH_T4CD9Fnzn"
      },
      "source": [
        "Aquel código que se encuentre dentro del bloque try se ejecutará cómo siempre y cuando no se da un error. Si se produce una excepción, ésta será capturada por el bloque `except`, ejecutándose el código que contiene."
      ]
    },
    {
      "cell_type": "markdown",
      "metadata": {
        "id": "iNFgAKVRFnzn"
      },
      "source": [
        "> `NO` es una buena práctica usar un bloque `except` sin indicar el tipo de excepción, tal y como dice el **Zen de Python**: `«explícito» es mejor que «implícito»`."
      ]
    },
    {
      "cell_type": "code",
      "execution_count": null,
      "metadata": {
        "id": "biSpwYZoFnzn",
        "outputId": "8d5d9430-0157-4488-9eb6-3359cbf2b7be",
        "colab": {
          "base_uri": "https://localhost:8080/"
        }
      },
      "outputs": [
        {
          "output_type": "stream",
          "name": "stdout",
          "text": [
            "Escribe tu nombre:alberto\n",
            "Perfecto alberto. ¿En qué año naciste?:mil novecientos noventa\n",
            "Algo ha fallado\n"
          ]
        }
      ],
      "source": [
        "try:\n",
        "    nombre = input('Escribe tu nombre:')\n",
        "    nacimiento = input(f'Perfecto {nombre}. ¿En qué año naciste?:')\n",
        "    edad = 2023 - nacimiento\n",
        "    print(f'Fenomenal {nombre}. Tu edad es {edad} años.')\n",
        "except:\n",
        "    print('Algo ha fallado')"
      ]
    },
    {
      "cell_type": "markdown",
      "metadata": {
        "id": "y-afLpc3Fnzn"
      },
      "source": [
        "En el ejemplo anterior, se ha ejecutado el bloque de excepción pero no sabemos exactamente cuál es el problema. Para analizar el problema, podemos utilizar los distintos tipos de error con except.\n",
        "\n",
        "En el ejemplo siguiente, manejará el error y también nos dirá el tipo de error planteado."
      ]
    },
    {
      "cell_type": "code",
      "execution_count": null,
      "metadata": {
        "id": "tBapAd_MFnzo",
        "outputId": "7abd145f-bb73-4293-bf50-1a1a5c5005b2",
        "colab": {
          "base_uri": "https://localhost:8080/"
        }
      },
      "outputs": [
        {
          "output_type": "stream",
          "name": "stdout",
          "text": [
            "Escribe tu nombre:alberto\n",
            "Perfecto alberto. ¿En qué año naciste?:hola\n",
            "Error de tipo ValueError\n",
            "Fenomenal alberto. Tu edad es 100 años, ya que no me has indicado nada.\n"
          ]
        }
      ],
      "source": [
        "try:\n",
        "    nombre = input('Escribe tu nombre:')\n",
        "    nacimiento = input(f'Perfecto {nombre}. ¿En qué año naciste?:')\n",
        "    edad = 2023 - int(nacimiento)\n",
        "    print(f'Fenomenal {nombre}. Tu edad es {edad} años.')\n",
        "except TypeError:\n",
        "    print('Error de tipo TypeError')\n",
        "except ValueError:\n",
        "    print('Error de tipo ValueError')\n",
        "    print(f'Fenomenal {nombre}. Tu edad es 100 años, ya que no me has indicado nada.')\n",
        "except ZeroDivisionError:\n",
        "    print('Error de tipo ZeroDivisionError')"
      ]
    },
    {
      "cell_type": "markdown",
      "metadata": {
        "id": "nsFj1Bd0Fnzo"
      },
      "source": [
        "#### Else y Finally"
      ]
    },
    {
      "cell_type": "markdown",
      "metadata": {
        "id": "D9kRzOVJFnzo"
      },
      "source": [
        "Python proporciona la cláusula `else` para saber que todo ha ido bien y que no se ha lanzado ninguna excepción.\n",
        "\n",
        "También, tenemos la cláusula finally que se ejecuta siempre, independientemente de si ha habido o no ha habido error.\n",
        "\n",
        "Ambas son opcionales."
      ]
    },
    {
      "cell_type": "code",
      "execution_count": null,
      "metadata": {
        "id": "yvGjjzNpFnzo",
        "outputId": "65f1d829-09aa-49d8-80c7-610f0f549c74",
        "colab": {
          "base_uri": "https://localhost:8080/"
        }
      },
      "outputs": [
        {
          "output_type": "stream",
          "name": "stdout",
          "text": [
            "Escribe tu nombre:Alberto\n",
            "Perfecto Alberto. ¿En qué año naciste?:1990\n",
            "Fenomenal Alberto. Tu edad es 33 años.\n",
            "Todo ha ido bien.\n",
            "Fin del programa.\n"
          ]
        }
      ],
      "source": [
        "try:\n",
        "    nombre = input('Escribe tu nombre:')\n",
        "    nacimiento = input(f'Perfecto {nombre}. ¿En qué año naciste?:')\n",
        "    edad = 2023 - int(nacimiento)\n",
        "    print(f'Fenomenal {nombre}. Tu edad es {edad} años.')\n",
        "except TypeError:\n",
        "    print('Error de tipo TypeError')\n",
        "except ValueError:\n",
        "    print('Error de tipo ValueError')\n",
        "except ZeroDivisionError:\n",
        "    print('Error de tipo ZeroDivisionError')\n",
        "else:\n",
        "    print('Todo ha ido bien.')\n",
        "finally:\n",
        "    print('Fin del programa.')"
      ]
    },
    {
      "cell_type": "markdown",
      "metadata": {
        "id": "YT1prK2AFnzo"
      },
      "source": [
        "También podemos mostrar los mensajes de error asociados a las excepciones. Para ello tendremos que usar la palabra reservada `as` junto a un nombre de variable."
      ]
    },
    {
      "cell_type": "code",
      "execution_count": null,
      "metadata": {
        "id": "uTq6JS8gFnzo",
        "outputId": "e5916c22-453e-4a03-9b80-8702a3171be7",
        "colab": {
          "base_uri": "https://localhost:8080/"
        }
      },
      "outputs": [
        {
          "output_type": "stream",
          "name": "stdout",
          "text": [
            "unsupported operand type(s) for +: 'int' and 'str'\n"
          ]
        }
      ],
      "source": [
        "try:\n",
        "    suma_erronea = 3 + '3'\n",
        "except Exception as e:\n",
        "  print(e)"
      ]
    },
    {
      "cell_type": "markdown",
      "metadata": {
        "id": "vTlcAYwAFnzo"
      },
      "source": [
        "#### Raise"
      ]
    },
    {
      "cell_type": "markdown",
      "metadata": {
        "id": "fPOTwfiiFnzo"
      },
      "source": [
        "Puede que queramos personalizar el mensaje de error. Para ello, podemos especificar el mensaje de error en la excepción con la palabra reservada raise:"
      ]
    },
    {
      "cell_type": "code",
      "execution_count": null,
      "metadata": {
        "id": "QSWQLujsFnzo",
        "outputId": "7f098357-4011-49ee-bb56-3421b4f62043",
        "colab": {
          "base_uri": "https://localhost:8080/"
        }
      },
      "outputs": [
        {
          "output_type": "stream",
          "name": "stdout",
          "text": [
            "Error\n"
          ]
        }
      ],
      "source": [
        "def sumar(a, b):\n",
        "  try:\n",
        "    if isinstance(a, int) and isinstance(b, int):\n",
        "        return a + b\n",
        "    raise ValueError('Los argumentos deben ser enteros')\n",
        "  except ValueError:\n",
        "    print(\"Error\")\n",
        "\n",
        "sumar(1, '1')"
      ]
    },
    {
      "cell_type": "markdown",
      "metadata": {
        "id": "nXj2g00YFnzp"
      },
      "source": [
        "A pesar de que Python define un conjunto de excepciones por defecto (algunas de las anteriores vistas), podrían no ser suficientes para nuestro programa.\n",
        "\n",
        "En ese caso, deberíamos definir nuestra propia excepción."
      ]
    },
    {
      "cell_type": "markdown",
      "metadata": {
        "id": "CFUKVrjQFnzp"
      },
      "source": [
        "Para crear nuestra propia excepción solamente tenemos que crear un objeto clase y hacer que esta herede de la clase base Exception, es decir, basta con crear una clase vacía. No es necesario incluir código más allá de un `pass`."
      ]
    },
    {
      "cell_type": "code",
      "execution_count": null,
      "metadata": {
        "id": "p99B8jSyFnzp"
      },
      "outputs": [],
      "source": [
        "class ExcepcionCustom(Exception):\n",
        "    pass"
      ]
    },
    {
      "cell_type": "markdown",
      "metadata": {
        "id": "KbqOPTrXFnzp"
      },
      "source": [
        "Para lanzarla, haríamos uso de la palabra reservada raise:"
      ]
    },
    {
      "cell_type": "code",
      "execution_count": null,
      "metadata": {
        "id": "4G6lDksJFnzp",
        "outputId": "f79e9e6f-28d7-446e-c0f7-a2bdc9caae8f",
        "colab": {
          "base_uri": "https://localhost:8080/",
          "height": 201
        }
      },
      "outputs": [
        {
          "output_type": "error",
          "ename": "ExcepcionCustom",
          "evalue": "ignored",
          "traceback": [
            "\u001b[0;31m---------------------------------------------------------------------------\u001b[0m",
            "\u001b[0;31mExcepcionCustom\u001b[0m                           Traceback (most recent call last)",
            "\u001b[0;32m<ipython-input-23-5bfd66231cb0>\u001b[0m in \u001b[0;36m<cell line: 3>\u001b[0;34m()\u001b[0m\n\u001b[1;32m      4\u001b[0m     \u001b[0msuma_erronea\u001b[0m \u001b[0;34m=\u001b[0m \u001b[0ma\u001b[0m \u001b[0;34m+\u001b[0m \u001b[0mb\u001b[0m\u001b[0;34m\u001b[0m\u001b[0;34m\u001b[0m\u001b[0m\n\u001b[1;32m      5\u001b[0m \u001b[0;32melse\u001b[0m\u001b[0;34m:\u001b[0m\u001b[0;34m\u001b[0m\u001b[0;34m\u001b[0m\u001b[0m\n\u001b[0;32m----> 6\u001b[0;31m     \u001b[0;32mraise\u001b[0m \u001b[0mExcepcionCustom\u001b[0m\u001b[0;34m(\u001b[0m\u001b[0;34m)\u001b[0m\u001b[0;34m\u001b[0m\u001b[0;34m\u001b[0m\u001b[0m\n\u001b[0m",
            "\u001b[0;31mExcepcionCustom\u001b[0m: "
          ]
        }
      ],
      "source": [
        "a = 1\n",
        "b = '1'\n",
        "if isinstance(a, int) and isinstance(b, int):\n",
        "    suma_erronea = a + b\n",
        "else:\n",
        "    raise ExcepcionCustom()"
      ]
    },
    {
      "cell_type": "markdown",
      "metadata": {
        "id": "-l4ogwL7Fnzp"
      },
      "source": [
        "#### Parámetros de la excepción\n",
        "\n",
        "Podemos personalizar la excepción propia añadiendo un mensaje como valor por defecto."
      ]
    },
    {
      "cell_type": "code",
      "execution_count": null,
      "metadata": {
        "id": "c3zGk9OAFnzp"
      },
      "outputs": [],
      "source": [
        "class ExcepcionCustom(Exception):\n",
        "    def __init__(self, mensaje, otro_mensaje):\n",
        "        self.mensaje = mensaje\n",
        "        self.otro_mensaje = otro_mensaje\n",
        "    def __str__(self):\n",
        "        return f'Descripción de error: {self.mensaje}. {self.otro_mensaje}'"
      ]
    },
    {
      "cell_type": "code",
      "execution_count": null,
      "metadata": {
        "id": "c8oIB1T3Fnzp",
        "outputId": "8e441481-fd8f-4157-ae82-bae20c0a4128",
        "colab": {
          "base_uri": "https://localhost:8080/",
          "height": 1000
        }
      },
      "outputs": [
        {
          "output_type": "stream",
          "name": "stderr",
          "text": [
            "\n",
            "PYDEV DEBUGGER WARNING:\n",
            "sys.settrace() should not be used when the debugger is being used.\n",
            "This may cause the debugger to stop working correctly.\n",
            "If this is needed, please check: \n",
            "http://pydev.blogspot.com/2007/06/why-cant-pydev-debugger-work-with.html\n",
            "to see how to restore the debug tracing back correctly.\n",
            "Call Location:\n",
            "  File \"/usr/lib/python3.10/bdb.py\", line 336, in set_trace\n",
            "    sys.settrace(self.trace_dispatch)\n",
            "\n"
          ]
        },
        {
          "name": "stdout",
          "output_type": "stream",
          "text": [
            "--Return--\n",
            "None\n",
            "> \u001b[0;32m<ipython-input-33-ff2376fdd323>\u001b[0m(4)\u001b[0;36m<cell line: 4>\u001b[0;34m()\u001b[0m\n",
            "\u001b[0;32m      2 \u001b[0;31m\u001b[0ma\u001b[0m \u001b[0;34m=\u001b[0m \u001b[0;36m1\u001b[0m\u001b[0;34m\u001b[0m\u001b[0;34m\u001b[0m\u001b[0m\n",
            "\u001b[0m\u001b[0;32m      3 \u001b[0;31m\u001b[0mb\u001b[0m \u001b[0;34m=\u001b[0m \u001b[0;34m'1'\u001b[0m\u001b[0;34m\u001b[0m\u001b[0;34m\u001b[0m\u001b[0m\n",
            "\u001b[0m\u001b[0;32m----> 4 \u001b[0;31m\u001b[0mbreakpoint\u001b[0m\u001b[0;34m(\u001b[0m\u001b[0;34m)\u001b[0m\u001b[0;34m\u001b[0m\u001b[0;34m\u001b[0m\u001b[0m\n",
            "\u001b[0m\u001b[0;32m      5 \u001b[0;31m\u001b[0;32mtry\u001b[0m\u001b[0;34m:\u001b[0m\u001b[0;34m\u001b[0m\u001b[0;34m\u001b[0m\u001b[0m\n",
            "\u001b[0m\u001b[0;32m      6 \u001b[0;31m    \u001b[0;32mif\u001b[0m \u001b[0misinstance\u001b[0m\u001b[0;34m(\u001b[0m\u001b[0ma\u001b[0m\u001b[0;34m,\u001b[0m \u001b[0mint\u001b[0m\u001b[0;34m)\u001b[0m \u001b[0;32mand\u001b[0m \u001b[0misinstance\u001b[0m\u001b[0;34m(\u001b[0m\u001b[0mb\u001b[0m\u001b[0;34m,\u001b[0m \u001b[0mint\u001b[0m\u001b[0;34m)\u001b[0m\u001b[0;34m:\u001b[0m\u001b[0;34m\u001b[0m\u001b[0;34m\u001b[0m\u001b[0m\n",
            "\u001b[0m\n",
            "ipdb> \n",
            "ipdb> \n",
            "ipdb> n\n",
            "\u001b[0;31m    [... skipped 1 hidden frame]\u001b[0m\n",
            "\n",
            "\u001b[0;31m    [... skipped 1 hidden frame]\u001b[0m\n",
            "\n",
            "\u001b[0;31m    [... skipped 1 hidden frame]\u001b[0m\n",
            "\n",
            "\u001b[0;31m    [... skipped 1 hidden frame]\u001b[0m\n",
            "\n",
            "> \u001b[0;32m/usr/local/lib/python3.10/dist-packages/IPython/core/interactiveshell.py\u001b[0m(3464)\u001b[0;36mrun_ast_nodes\u001b[0;34m()\u001b[0m\n",
            "\u001b[0;32m   3462 \u001b[0;31m                    \u001b[0mto_run\u001b[0m\u001b[0;34m.\u001b[0m\u001b[0mappend\u001b[0m\u001b[0;34m(\u001b[0m\u001b[0;34m(\u001b[0m\u001b[0mnode\u001b[0m\u001b[0;34m,\u001b[0m \u001b[0;34m'single'\u001b[0m\u001b[0;34m)\u001b[0m\u001b[0;34m)\u001b[0m\u001b[0;34m\u001b[0m\u001b[0;34m\u001b[0m\u001b[0m\n",
            "\u001b[0m\u001b[0;32m   3463 \u001b[0;31m\u001b[0;34m\u001b[0m\u001b[0m\n",
            "\u001b[0m\u001b[0;32m-> 3464 \u001b[0;31m                \u001b[0;32mfor\u001b[0m \u001b[0mnode\u001b[0m\u001b[0;34m,\u001b[0m\u001b[0mmode\u001b[0m \u001b[0;32min\u001b[0m \u001b[0mto_run\u001b[0m\u001b[0;34m:\u001b[0m\u001b[0;34m\u001b[0m\u001b[0;34m\u001b[0m\u001b[0m\n",
            "\u001b[0m\u001b[0;32m   3465 \u001b[0;31m                    \u001b[0;32mif\u001b[0m \u001b[0mmode\u001b[0m \u001b[0;34m==\u001b[0m \u001b[0;34m'exec'\u001b[0m\u001b[0;34m:\u001b[0m\u001b[0;34m\u001b[0m\u001b[0;34m\u001b[0m\u001b[0m\n",
            "\u001b[0m\u001b[0;32m   3466 \u001b[0;31m                        \u001b[0mmod\u001b[0m \u001b[0;34m=\u001b[0m \u001b[0mModule\u001b[0m\u001b[0;34m(\u001b[0m\u001b[0;34m[\u001b[0m\u001b[0mnode\u001b[0m\u001b[0;34m]\u001b[0m\u001b[0;34m,\u001b[0m \u001b[0;34m[\u001b[0m\u001b[0;34m]\u001b[0m\u001b[0;34m)\u001b[0m\u001b[0;34m\u001b[0m\u001b[0;34m\u001b[0m\u001b[0m\n",
            "\u001b[0m\n",
            "ipdb> q\n"
          ]
        },
        {
          "output_type": "stream",
          "name": "stderr",
          "text": [
            "\n",
            "PYDEV DEBUGGER WARNING:\n",
            "sys.settrace() should not be used when the debugger is being used.\n",
            "This may cause the debugger to stop working correctly.\n",
            "If this is needed, please check: \n",
            "http://pydev.blogspot.com/2007/06/why-cant-pydev-debugger-work-with.html\n",
            "to see how to restore the debug tracing back correctly.\n",
            "Call Location:\n",
            "  File \"/usr/lib/python3.10/bdb.py\", line 361, in set_quit\n",
            "    sys.settrace(None)\n",
            "\n"
          ]
        },
        {
          "output_type": "error",
          "ename": "BdbQuit",
          "evalue": "ignored",
          "traceback": [
            "\u001b[0;31m---------------------------------------------------------------------------\u001b[0m",
            "\u001b[0;31mBdbQuit\u001b[0m                                   Traceback (most recent call last)",
            "\u001b[0;32m/usr/local/lib/python3.10/dist-packages/IPython/core/interactiveshell.py\u001b[0m in \u001b[0;36mrun_ast_nodes\u001b[0;34m(self, nodelist, cell_name, interactivity, compiler, result)\u001b[0m\n\u001b[1;32m   3462\u001b[0m                     \u001b[0mto_run\u001b[0m\u001b[0;34m.\u001b[0m\u001b[0mappend\u001b[0m\u001b[0;34m(\u001b[0m\u001b[0;34m(\u001b[0m\u001b[0mnode\u001b[0m\u001b[0;34m,\u001b[0m \u001b[0;34m'single'\u001b[0m\u001b[0;34m)\u001b[0m\u001b[0;34m)\u001b[0m\u001b[0;34m\u001b[0m\u001b[0;34m\u001b[0m\u001b[0m\n\u001b[1;32m   3463\u001b[0m \u001b[0;34m\u001b[0m\u001b[0m\n\u001b[0;32m-> 3464\u001b[0;31m                 \u001b[0;32mfor\u001b[0m \u001b[0mnode\u001b[0m\u001b[0;34m,\u001b[0m\u001b[0mmode\u001b[0m \u001b[0;32min\u001b[0m \u001b[0mto_run\u001b[0m\u001b[0;34m:\u001b[0m\u001b[0;34m\u001b[0m\u001b[0;34m\u001b[0m\u001b[0m\n\u001b[0m\u001b[1;32m   3465\u001b[0m                     \u001b[0;32mif\u001b[0m \u001b[0mmode\u001b[0m \u001b[0;34m==\u001b[0m \u001b[0;34m'exec'\u001b[0m\u001b[0;34m:\u001b[0m\u001b[0;34m\u001b[0m\u001b[0;34m\u001b[0m\u001b[0m\n\u001b[1;32m   3466\u001b[0m                         \u001b[0mmod\u001b[0m \u001b[0;34m=\u001b[0m \u001b[0mModule\u001b[0m\u001b[0;34m(\u001b[0m\u001b[0;34m[\u001b[0m\u001b[0mnode\u001b[0m\u001b[0;34m]\u001b[0m\u001b[0;34m,\u001b[0m \u001b[0;34m[\u001b[0m\u001b[0;34m]\u001b[0m\u001b[0;34m)\u001b[0m\u001b[0;34m\u001b[0m\u001b[0;34m\u001b[0m\u001b[0m\n",
            "\u001b[0;32m/usr/lib/python3.10/bdb.py\u001b[0m in \u001b[0;36mtrace_dispatch\u001b[0;34m(self, frame, event, arg)\u001b[0m\n\u001b[1;32m     88\u001b[0m             \u001b[0;32mreturn\u001b[0m \u001b[0;31m# None\u001b[0m\u001b[0;34m\u001b[0m\u001b[0;34m\u001b[0m\u001b[0m\n\u001b[1;32m     89\u001b[0m         \u001b[0;32mif\u001b[0m \u001b[0mevent\u001b[0m \u001b[0;34m==\u001b[0m \u001b[0;34m'line'\u001b[0m\u001b[0;34m:\u001b[0m\u001b[0;34m\u001b[0m\u001b[0;34m\u001b[0m\u001b[0m\n\u001b[0;32m---> 90\u001b[0;31m             \u001b[0;32mreturn\u001b[0m \u001b[0mself\u001b[0m\u001b[0;34m.\u001b[0m\u001b[0mdispatch_line\u001b[0m\u001b[0;34m(\u001b[0m\u001b[0mframe\u001b[0m\u001b[0;34m)\u001b[0m\u001b[0;34m\u001b[0m\u001b[0;34m\u001b[0m\u001b[0m\n\u001b[0m\u001b[1;32m     91\u001b[0m         \u001b[0;32mif\u001b[0m \u001b[0mevent\u001b[0m \u001b[0;34m==\u001b[0m \u001b[0;34m'call'\u001b[0m\u001b[0;34m:\u001b[0m\u001b[0;34m\u001b[0m\u001b[0;34m\u001b[0m\u001b[0m\n\u001b[1;32m     92\u001b[0m             \u001b[0;32mreturn\u001b[0m \u001b[0mself\u001b[0m\u001b[0;34m.\u001b[0m\u001b[0mdispatch_call\u001b[0m\u001b[0;34m(\u001b[0m\u001b[0mframe\u001b[0m\u001b[0;34m,\u001b[0m \u001b[0marg\u001b[0m\u001b[0;34m)\u001b[0m\u001b[0;34m\u001b[0m\u001b[0;34m\u001b[0m\u001b[0m\n",
            "\u001b[0;32m/usr/lib/python3.10/bdb.py\u001b[0m in \u001b[0;36mdispatch_line\u001b[0;34m(self, frame)\u001b[0m\n\u001b[1;32m    113\u001b[0m         \u001b[0;32mif\u001b[0m \u001b[0mself\u001b[0m\u001b[0;34m.\u001b[0m\u001b[0mstop_here\u001b[0m\u001b[0;34m(\u001b[0m\u001b[0mframe\u001b[0m\u001b[0;34m)\u001b[0m \u001b[0;32mor\u001b[0m \u001b[0mself\u001b[0m\u001b[0;34m.\u001b[0m\u001b[0mbreak_here\u001b[0m\u001b[0;34m(\u001b[0m\u001b[0mframe\u001b[0m\u001b[0;34m)\u001b[0m\u001b[0;34m:\u001b[0m\u001b[0;34m\u001b[0m\u001b[0;34m\u001b[0m\u001b[0m\n\u001b[1;32m    114\u001b[0m             \u001b[0mself\u001b[0m\u001b[0;34m.\u001b[0m\u001b[0muser_line\u001b[0m\u001b[0;34m(\u001b[0m\u001b[0mframe\u001b[0m\u001b[0;34m)\u001b[0m\u001b[0;34m\u001b[0m\u001b[0;34m\u001b[0m\u001b[0m\n\u001b[0;32m--> 115\u001b[0;31m             \u001b[0;32mif\u001b[0m \u001b[0mself\u001b[0m\u001b[0;34m.\u001b[0m\u001b[0mquitting\u001b[0m\u001b[0;34m:\u001b[0m \u001b[0;32mraise\u001b[0m \u001b[0mBdbQuit\u001b[0m\u001b[0;34m\u001b[0m\u001b[0;34m\u001b[0m\u001b[0m\n\u001b[0m\u001b[1;32m    116\u001b[0m         \u001b[0;32mreturn\u001b[0m \u001b[0mself\u001b[0m\u001b[0;34m.\u001b[0m\u001b[0mtrace_dispatch\u001b[0m\u001b[0;34m\u001b[0m\u001b[0;34m\u001b[0m\u001b[0m\n\u001b[1;32m    117\u001b[0m \u001b[0;34m\u001b[0m\u001b[0m\n",
            "\u001b[0;31mBdbQuit\u001b[0m: "
          ]
        }
      ],
      "source": [
        "import time\n",
        "a = 1\n",
        "b = '1'\n",
        "try:\n",
        "    if isinstance(a, int) and isinstance(b, int):\n",
        "        suma_erronea = a + b\n",
        "    else:\n",
        "        raise ExcepcionCustom('Usa integers', 'Hazlo ya!')\n",
        "except ExcepcionCustom as e:\n",
        "    print(f'Error de tipo ExcepcionCustom: {e}')\n"
      ]
    },
    {
      "cell_type": "markdown",
      "metadata": {
        "id": "BC8WdCYcFnzp"
      },
      "source": [
        "# **Error Types**\n",
        "---"
      ]
    },
    {
      "cell_type": "markdown",
      "metadata": {
        "id": "Jxo0L7QcFnzp"
      },
      "source": [
        "\n",
        "Comprender los distintos tipos de errores en los lenguajes de programación nos ayudará a depurar nuestro código rápidamente y también nos hará mejores en lo que hacemos.\n",
        "\n",
        "Vamos a ver uno a uno los tipos de error más comunes."
      ]
    },
    {
      "cell_type": "markdown",
      "metadata": {
        "id": "kByU7Dd2Fnzp"
      },
      "source": [
        "#### SyntaxError\n",
        "\n",
        "\"Se genera cuando el analizador encuentra un `error de sintaxis`. Esto puede ocurrir en una instrucción import, eval(), o al leer el script inicial o la entrada estándar (también de forma interactiva).\"\n",
        "\n",
        "Esta excepción se lanza cuando hay un error en la sintaxis del código."
      ]
    },
    {
      "cell_type": "code",
      "execution_count": null,
      "metadata": {
        "id": "UeBBi4ptFnzp",
        "outputId": "a4c2d064-6a62-4f30-9f77-be9636f3422b"
      },
      "outputs": [
        {
          "ename": "SyntaxError",
          "evalue": "expected ':' (2467384497.py, line 1)",
          "output_type": "error",
          "traceback": [
            "\u001b[0;36m  Cell \u001b[0;32mIn[86], line 1\u001b[0;36m\u001b[0m\n\u001b[0;31m    if 5 > 2\u001b[0m\n\u001b[0m            ^\u001b[0m\n\u001b[0;31mSyntaxError\u001b[0m\u001b[0;31m:\u001b[0m expected ':'\n"
          ]
        }
      ],
      "source": [
        "if 5 > 2\n",
        "    print(\"5 es mayor que 2\")"
      ]
    },
    {
      "cell_type": "markdown",
      "metadata": {
        "id": "zPvQ9UrGFnzq"
      },
      "source": [
        "#### NameError\n",
        "\n",
        "\"Se genera cuando no se encuentra un nombre `local o global`. El valor asociado es un mensaje de error que incluye el nombre que no se pudo encontrar.\"\n",
        "\n",
        "Esta excepción se lanza cuando se intenta acceder a una variable no definida."
      ]
    },
    {
      "cell_type": "code",
      "execution_count": null,
      "metadata": {
        "id": "aXLR3xEYFnzq",
        "outputId": "9258a48b-ea20-4fed-a400-5829f57998d6"
      },
      "outputs": [
        {
          "ename": "NameError",
          "evalue": "name 'variable_no_definida' is not defined",
          "output_type": "error",
          "traceback": [
            "\u001b[0;31m---------------------------------------------------------------------------\u001b[0m",
            "\u001b[0;31mNameError\u001b[0m                                 Traceback (most recent call last)",
            "Cell \u001b[0;32mIn[88], line 1\u001b[0m\n\u001b[0;32m----> 1\u001b[0m \u001b[39mprint\u001b[39m(variable_no_definida)\n",
            "\u001b[0;31mNameError\u001b[0m: name 'variable_no_definida' is not defined"
          ]
        }
      ],
      "source": [
        "print(variable_no_definida)"
      ]
    },
    {
      "cell_type": "markdown",
      "metadata": {
        "id": "ZnxEjqu2Fnzq"
      },
      "source": [
        "#### IndexError\n",
        "\n",
        "\"Se genera cuando un `subíndice de secuencia está fuera del rango`, si un índice no es un entero, se genera TypeError.\"\n",
        "\n",
        "Esta excepción se lanza cuando se intenta acceder a un índice fuera del rango de una lista."
      ]
    },
    {
      "cell_type": "code",
      "execution_count": null,
      "metadata": {
        "id": "V-Zgblt8Fnzq",
        "outputId": "ba2242c2-c495-43fe-a32d-41e3f96099d6"
      },
      "outputs": [
        {
          "ename": "IndexError",
          "evalue": "list index out of range",
          "output_type": "error",
          "traceback": [
            "\u001b[0;31m---------------------------------------------------------------------------\u001b[0m",
            "\u001b[0;31mIndexError\u001b[0m                                Traceback (most recent call last)",
            "Cell \u001b[0;32mIn[89], line 2\u001b[0m\n\u001b[1;32m      1\u001b[0m lista \u001b[39m=\u001b[39m [\u001b[39m1\u001b[39m, \u001b[39m2\u001b[39m, \u001b[39m3\u001b[39m]\n\u001b[0;32m----> 2\u001b[0m \u001b[39mprint\u001b[39m(lista[\u001b[39m3\u001b[39;49m])\n",
            "\u001b[0;31mIndexError\u001b[0m: list index out of range"
          ]
        }
      ],
      "source": [
        "lista = [1, 2, 3]\n",
        "print(lista[3])"
      ]
    },
    {
      "cell_type": "markdown",
      "metadata": {
        "id": "Amw8nCxsFnzq"
      },
      "source": [
        "#### ValueError\n",
        "\n",
        "\"Se genera cuando una operación o función recibe un argumento que tiene el `tipo correcto pero un valor inapropiado`, y la situación no se describe con una excepción más precisa como IndexError.\"\n",
        "\n",
        "Esta excepción se lanza cuando una función recibe un argumento con un valor inapropiado."
      ]
    },
    {
      "cell_type": "code",
      "execution_count": null,
      "metadata": {
        "id": "6qjn0namFnzq",
        "outputId": "84fb0c3d-236c-428a-ba8c-a18c74a6768f"
      },
      "outputs": [
        {
          "ename": "ValueError",
          "evalue": "invalid literal for int() with base 10: 'cinco'",
          "output_type": "error",
          "traceback": [
            "\u001b[0;31m---------------------------------------------------------------------------\u001b[0m",
            "\u001b[0;31mValueError\u001b[0m                                Traceback (most recent call last)",
            "Cell \u001b[0;32mIn[90], line 1\u001b[0m\n\u001b[0;32m----> 1\u001b[0m numero \u001b[39m=\u001b[39m \u001b[39mint\u001b[39;49m(\u001b[39m\"\u001b[39;49m\u001b[39mcinco\u001b[39;49m\u001b[39m\"\u001b[39;49m)\n",
            "\u001b[0;31mValueError\u001b[0m: invalid literal for int() with base 10: 'cinco'"
          ]
        }
      ],
      "source": [
        "numero = int(\"cinco\")"
      ]
    },
    {
      "cell_type": "markdown",
      "metadata": {
        "id": "Fbq_r1oIFnzq"
      },
      "source": [
        "#### TypeError\n",
        "\n",
        "\"Se genera cuando una operación o función se aplica a un objeto de `tipo inapropiado`. El valor asociado es una cadena que proporciona detalles sobre la falta de coincidencia de tipos.\"\n",
        "\n",
        "Esta excepción se lanza cuando se intenta realizar una operación o función con un tipo de dato incorrecto."
      ]
    },
    {
      "cell_type": "code",
      "execution_count": null,
      "metadata": {
        "id": "2UpUpKvfFnzq",
        "outputId": "f4d0edcd-89a9-442b-af4d-5282cc5e6086"
      },
      "outputs": [
        {
          "ename": "TypeError",
          "evalue": "can only concatenate str (not \"int\") to str",
          "output_type": "error",
          "traceback": [
            "\u001b[0;31m---------------------------------------------------------------------------\u001b[0m",
            "\u001b[0;31mTypeError\u001b[0m                                 Traceback (most recent call last)",
            "Cell \u001b[0;32mIn[91], line 1\u001b[0m\n\u001b[0;32m----> 1\u001b[0m suma \u001b[39m=\u001b[39m \u001b[39m\"\u001b[39;49m\u001b[39mtexto\u001b[39;49m\u001b[39m\"\u001b[39;49m \u001b[39m+\u001b[39;49m \u001b[39m5\u001b[39;49m\n",
            "\u001b[0;31mTypeError\u001b[0m: can only concatenate str (not \"int\") to str"
          ]
        }
      ],
      "source": [
        "suma = \"texto\" + 5"
      ]
    },
    {
      "cell_type": "markdown",
      "metadata": {
        "id": "wOeuoNt3Fnzq"
      },
      "source": [
        "#### KeyError\n",
        "\n",
        "\"Se genera cuando no se encuentra una `clave de asignación` (diccionario) en el conjunto de claves existentes.\"\n",
        "\n",
        "Esta excepción se lanza cuando se intenta acceder a una clave que no existe en un diccionario."
      ]
    },
    {
      "cell_type": "code",
      "execution_count": null,
      "metadata": {
        "id": "5px80_9dFnzq",
        "outputId": "fa7bf052-8ebc-47c6-be11-2f2ec5c66df2",
        "colab": {
          "base_uri": "https://localhost:8080/"
        }
      },
      "outputs": [
        {
          "output_type": "stream",
          "name": "stdout",
          "text": [
            "0\n"
          ]
        }
      ],
      "source": [
        "diccionario = {\"a\": 1, \"b\": 2, \"c\": 3}\n",
        "print(diccionario.get(\"d\",0))"
      ]
    },
    {
      "cell_type": "markdown",
      "metadata": {
        "id": "su-oM8K6Fnzq"
      },
      "source": [
        "#### KeyboardInterrupt\n",
        "\n",
        "\"Se genera cuando el usuario pulsa la `tecla de interrupción` (normalmente Control-C o Delete). Durante la ejecución, se realiza una comprobación de interrupciones con regularidad.\"\n",
        "\n",
        "Esta excepción se lanza cuando se interrumpe la ejecución del programa, por ejemplo, presionando Ctrl + C en la terminal."
      ]
    },
    {
      "cell_type": "code",
      "execution_count": null,
      "metadata": {
        "id": "-vfRy18AFnzq",
        "outputId": "369fc4d3-38eb-46c4-be17-731acc07ec24",
        "colab": {
          "base_uri": "https://localhost:8080/"
        }
      },
      "outputs": [
        {
          "output_type": "stream",
          "name": "stdout",
          "text": [
            "Presiona Ctrl + C para detener el programa\n",
            "Presiona Ctrl + C para detener el programa\n",
            "Programa interrumpido por el usuario\n"
          ]
        }
      ],
      "source": [
        "import time\n",
        "try:\n",
        "    while True:\n",
        "        print(\"Presiona Ctrl + C para detener el programa\")\n",
        "        time.sleep(3)\n",
        "except KeyboardInterrupt:\n",
        "    print(\"Programa interrumpido por el usuario\")"
      ]
    },
    {
      "cell_type": "markdown",
      "metadata": {
        "id": "9qJc9okxFnzq"
      },
      "source": [
        "#### ZeroDivisionError\n",
        "\n",
        "\"Se genera cuando el `segundo argumento de una operación de división o módulo es cero`. El valor asociado es una cadena que indica el tipo de operandos y la operación.\"\n",
        "\n",
        "Esta excepción se lanza cuando se intenta dividir un número entre cero."
      ]
    },
    {
      "cell_type": "code",
      "execution_count": null,
      "metadata": {
        "id": "vgPKC1NkFnzr",
        "outputId": "8ee16d8e-8eec-4349-ae38-844a7bbd4316"
      },
      "outputs": [
        {
          "ename": "ZeroDivisionError",
          "evalue": "division by zero",
          "output_type": "error",
          "traceback": [
            "\u001b[0;31m---------------------------------------------------------------------------\u001b[0m",
            "\u001b[0;31mZeroDivisionError\u001b[0m                         Traceback (most recent call last)",
            "Cell \u001b[0;32mIn[1], line 1\u001b[0m\n\u001b[0;32m----> 1\u001b[0m resultado \u001b[39m=\u001b[39m \u001b[39m10\u001b[39;49m \u001b[39m/\u001b[39;49m \u001b[39m0\u001b[39;49m\n",
            "\u001b[0;31mZeroDivisionError\u001b[0m: division by zero"
          ]
        }
      ],
      "source": [
        "resultado = 10 / 0"
      ]
    },
    {
      "cell_type": "markdown",
      "metadata": {
        "id": "vnbl-kepFnzr"
      },
      "source": [
        "### Para más información sobre excepciones: https://docs.python.org/es/3.10/library/exceptions.html#concrete-exceptions"
      ]
    },
    {
      "cell_type": "markdown",
      "metadata": {
        "id": "DeLsFdDgFnzr"
      },
      "source": [
        "#### Traceback\n",
        "\n",
        "Python muestra el tracking de un error, siempre que una excepción no se gestiona. Pero también puedes obtenerla como cadena llamando a `traceback`.format_exc(). \n",
        "\n",
        "Esta función es útil si quieres la información del tracking de una excepción pero también quieres que una sentencia `except` maneje la excepción con **elegancia**. Tendrás que importar el módulo traceback de Python antes de llamar a esta función."
      ]
    },
    {
      "cell_type": "code",
      "execution_count": null,
      "metadata": {
        "id": "I_hcx19uFnzr",
        "outputId": "f6773089-afa0-40ed-942a-dcb21b3b3e07",
        "colab": {
          "base_uri": "https://localhost:8080/"
        }
      },
      "outputs": [
        {
          "output_type": "stream",
          "name": "stdout",
          "text": [
            "Error de tipo ExcepcionCustom: Descripción de error: Usa integers. Aasdasd\n",
            "\n",
            "Traceback (most recent call last):\n",
            "  File \"<ipython-input-37-d3652aa37cd1>\", line 10, in <cell line: 6>\n",
            "    raise ExcepcionCustom('Usa integers', 'Aasdasd')\n",
            "ExcepcionCustom: Descripción de error: Usa integers. Aasdasd\n",
            "\n"
          ]
        }
      ],
      "source": [
        "import traceback\n",
        "\n",
        "a = 1\n",
        "b = '1'\n",
        "\n",
        "try:\n",
        "    if isinstance(a, int) and isinstance(b, int):\n",
        "        suma_erronea = a + b\n",
        "    else:\n",
        "        raise ExcepcionCustom('Usa integers', 'Aasdasd')\n",
        "except ExcepcionCustom as e:\n",
        "    print(f'Error de tipo ExcepcionCustom: {e}\\n')\n",
        "    print(traceback.format_exc())"
      ]
    },
    {
      "cell_type": "markdown",
      "metadata": {
        "id": "C6HMFa7CFnzr"
      },
      "source": [
        "#### Assert"
      ]
    },
    {
      "cell_type": "markdown",
      "metadata": {
        "id": "8vnsWuxHFnzr"
      },
      "source": [
        "Una aserción es una comprobación de 'sanidad' para asegurarte de que tu código no está haciendo algo obviamente incorrecto.\n",
        "\n",
        "Estas comprobaciones se realizan mediante sentencias `assert`. Si la comprobación falla, se lanza una excepción `AssertionError`. \n",
        "\n",
        "En código, una sentencia assert consiste en lo siguiente:\n",
        "1. La palabra clave assert\n",
        "2. Una condición, es decir, una expresión que se evalúa como `True`(Verdadero) o `False`(Falso)\n",
        "3. Una coma\n",
        "4. Una cadena que se mostrará cuando la condición sea False"
      ]
    },
    {
      "cell_type": "markdown",
      "metadata": {
        "id": "kJ-83B2mFnzr"
      },
      "source": [
        "En el caso de que la condición se cumpla, no sucede nada: el programa continúa con su flujo normal. Esto es indicativo de que las expectativas que teníamos se han satisfecho.\n",
        "\n",
        "Sin embargo, si la condición que fijamos no se cumpla, la aserción devuelve una excepción como hemos indicado arriba y el programa interrupme su ejecución."
      ]
    },
    {
      "cell_type": "code",
      "execution_count": null,
      "metadata": {
        "id": "N_d6JkbQFnzr",
        "outputId": "3b16a873-35c8-4460-bff6-48d5d4a586d2",
        "colab": {
          "base_uri": "https://localhost:8080/",
          "height": 184
        }
      },
      "outputs": [
        {
          "output_type": "error",
          "ename": "AssertionError",
          "evalue": "ignored",
          "traceback": [
            "\u001b[0;31m---------------------------------------------------------------------------\u001b[0m",
            "\u001b[0;31mAssertionError\u001b[0m                            Traceback (most recent call last)",
            "\u001b[0;32m<ipython-input-38-4e4f21439447>\u001b[0m in \u001b[0;36m<cell line: 2>\u001b[0;34m()\u001b[0m\n\u001b[1;32m      1\u001b[0m \u001b[0mhermanos\u001b[0m \u001b[0;34m=\u001b[0m \u001b[0;34m\"Antonio, Juan, María, Luis\"\u001b[0m\u001b[0;34m\u001b[0m\u001b[0;34m\u001b[0m\u001b[0m\n\u001b[0;32m----> 2\u001b[0;31m \u001b[0;32massert\u001b[0m \u001b[0mhermanos\u001b[0m \u001b[0;34m==\u001b[0m \u001b[0;34m\"Antonio, Juan, María, Pedro\"\u001b[0m\u001b[0;34m\u001b[0m\u001b[0;34m\u001b[0m\u001b[0m\n\u001b[0m",
            "\u001b[0;31mAssertionError\u001b[0m: "
          ]
        }
      ],
      "source": [
        "hermanos = \"Antonio, Juan, María, Luis\"\n",
        "assert hermanos == \"Antonio, Juan, María, Pedro\""
      ]
    },
    {
      "cell_type": "markdown",
      "metadata": {
        "id": "z96WHBhkFnzr"
      },
      "source": [
        "Podemos añadir un mensaje de error personalizado al assert con un segundo argumento."
      ]
    },
    {
      "cell_type": "code",
      "execution_count": null,
      "metadata": {
        "id": "Dj6gS8HMFnzs",
        "outputId": "0a9fbc03-0f83-48a9-b676-33fe4d9654c5",
        "colab": {
          "base_uri": "https://localhost:8080/",
          "height": 184
        }
      },
      "outputs": [
        {
          "output_type": "error",
          "ename": "AssertionError",
          "evalue": "ignored",
          "traceback": [
            "\u001b[0;31m---------------------------------------------------------------------------\u001b[0m",
            "\u001b[0;31mAssertionError\u001b[0m                            Traceback (most recent call last)",
            "\u001b[0;32m<ipython-input-40-89b97662bf6a>\u001b[0m in \u001b[0;36m<cell line: 2>\u001b[0;34m()\u001b[0m\n\u001b[1;32m      1\u001b[0m \u001b[0mhermanos\u001b[0m \u001b[0;34m=\u001b[0m \u001b[0;34m\"Antonio, Juan, María, Pedro\"\u001b[0m\u001b[0;34m\u001b[0m\u001b[0;34m\u001b[0m\u001b[0m\n\u001b[0;32m----> 2\u001b[0;31m \u001b[0;32massert\u001b[0m \u001b[0mhermanos\u001b[0m \u001b[0;34m==\u001b[0m \u001b[0;34m\"Antonio, Juan, María, María\"\u001b[0m\u001b[0;34m,\u001b[0m \u001b[0;34m\"Los hermanos no coinciden\"\u001b[0m\u001b[0;34m\u001b[0m\u001b[0;34m\u001b[0m\u001b[0m\n\u001b[0m",
            "\u001b[0;31mAssertionError\u001b[0m: Los hermanos no coinciden"
          ]
        }
      ],
      "source": [
        "hermanos = \"Antonio, Juan, María, Pedro\"\n",
        "assert hermanos == \"Antonio, Juan, María, María\", \"Los hermanos no coinciden\""
      ]
    },
    {
      "cell_type": "markdown",
      "metadata": {
        "id": "zyes0exZFnzs"
      },
      "source": [
        "Si ejecutamos un script de python que contiene un assert y no queremos que se evaluen, podemos ejecutar el script con el flag -O:\n",
        "> python -O script.py "
      ]
    },
    {
      "cell_type": "markdown",
      "metadata": {
        "id": "-MpiVoTIFnzs"
      },
      "source": [
        "#### Logging"
      ]
    },
    {
      "cell_type": "markdown",
      "metadata": {
        "id": "w64Hs7CcFnzs"
      },
      "source": [
        "`Logging` es una técnica de registro de eventos, que permite a los desarrolladores monitorear el flujo de ejecución y detectar posibles errores o comportamientos inesperados. \n",
        "\n",
        "En Python, se utiliza el módulo logging para facilitar esta tarea."
      ]
    },
    {
      "cell_type": "markdown",
      "metadata": {
        "id": "6Vft_r8jFnzs"
      },
      "source": [
        "Para que `logging` muestre mensajes de registro en tu pantalla mientras se ejecuta tu programa, copia lo siguiente en la parte superior de tu programa:"
      ]
    },
    {
      "cell_type": "code",
      "execution_count": null,
      "metadata": {
        "id": "qO61lNx3Fnzs"
      },
      "outputs": [],
      "source": [
        "import logging\n",
        "logging.basicConfig(level=logging.DEBUG, format='%(asctime)s - %(levelname)s - %(message)s')"
      ]
    },
    {
      "cell_type": "markdown",
      "metadata": {
        "id": "4BIg1l0mFnzs"
      },
      "source": [
        "En lugar de mostrar los mensajes de registro en la pantalla, podemos escribirlos en un archivo de texto. Para ello, definimos dentro de la función `logging.basicConfig() ` como argumento la palabra clave `filename`:"
      ]
    },
    {
      "cell_type": "code",
      "source": [
        "!pwd"
      ],
      "metadata": {
        "colab": {
          "base_uri": "https://localhost:8080/"
        },
        "id": "jQO9V0T_9Lvk",
        "outputId": "24bad927-f656-4a12-c797-44156f60f9f7"
      },
      "execution_count": null,
      "outputs": [
        {
          "output_type": "stream",
          "name": "stdout",
          "text": [
            "/content\n"
          ]
        }
      ]
    },
    {
      "cell_type": "code",
      "execution_count": null,
      "metadata": {
        "id": "freOEIR3Fnzs"
      },
      "outputs": [],
      "source": [
        "logging.basicConfig(filename='milog.txt', level=logging.DEBUG, format='%(asctime)s - %(levelname)s - %(message)s')"
      ]
    },
    {
      "cell_type": "markdown",
      "metadata": {
        "id": "IqjUuI17Fnzs"
      },
      "source": [
        "Retomemos el método ya usado varias veces del factorial para probar la funcionalidad de logging. Para ello, introducimos varios inputs de logging a lo largo de nuestro programa."
      ]
    },
    {
      "cell_type": "code",
      "execution_count": null,
      "metadata": {
        "id": "I6W18ecZFnzs",
        "outputId": "310af3fd-2154-4d65-c1bf-0d37720f472d",
        "colab": {
          "base_uri": "https://localhost:8080/"
        }
      },
      "outputs": [
        {
          "output_type": "stream",
          "name": "stdout",
          "text": [
            "5040\n"
          ]
        }
      ],
      "source": [
        "import time\n",
        "inittime = time.time()\n",
        "\n",
        "logging.info('El programa ha comenzado.')\n",
        "def factorial(n):\n",
        "    logging.info(f'Comienza el factorial del número {n}')\n",
        "    total = 1\n",
        "    for i in range(1, n + 1):\n",
        "        total *= i\n",
        "        logging.info(f'Para el elemento {i}, el factorial vale: {total}')\n",
        "    logging.info('El bucle ha terminado')\n",
        "    return total\n",
        "\n",
        "print(factorial(7))\n",
        "\n",
        "logging.info(f'El programa ha terminado en {(time.time() - inittime):.4f} segundos')\n"
      ]
    },
    {
      "cell_type": "markdown",
      "metadata": {
        "id": "C-cH6T5YFnzs"
      },
      "source": [
        "Los niveles de registro proporcionan una forma de categorizar tus mensajes de registro según su importancia.\n",
        "\n",
        "Podemos categorizar diferentes mensajes a lo largo de nuestro código a través de los niveles de registro por su importancia.\n",
        "\n",
        "Existen un total de cinco niveles de registro."
      ]
    },
    {
      "cell_type": "markdown",
      "metadata": {
        "id": "Bnmr9NhEFnzs"
      },
      "source": [
        "|Nivel|Función de registro|Descripción|\n",
        "|---|---|---|\n",
        "|DEBUG|logging.debug()|El nivel más bajo. Se utiliza para pequeños detalles. Normalmente sólo te interesan estos mensajes cuando diagnosticas problemas.|\n",
        "|INFO|logging.info()|Se utiliza para registrar información sobre eventos generales de tu programa o confirmar que las cosas funcionan en su punto del programa.|\n",
        "|ADVERTENCIA|logging.warning()|Se utiliza para indicar un problema potencial que no impide que el programa funcione, pero que podría hacerlo en el futuro.|\n",
        "|ERROR|logging.error()|Se utiliza para registrar un error que ha hecho que el programa no haga algo.|\n",
        "|CRÍTICO|logging.critical()|El nivel más alto. Se utiliza para indicar un error fatal que ha provocado o está a punto de provocar que el programa deje de ejecutarse por completo.|"
      ]
    },
    {
      "cell_type": "markdown",
      "metadata": {
        "id": "NbYF39dcFnzs"
      },
      "source": [
        "Podríamos desactivar cualquier nivel de registro de mensajes, por ejemplo, si queremos desactivar los mensajes de nivel inferior a CRITICAL, podemos hacerlo de la siguiente manera:"
      ]
    },
    {
      "cell_type": "code",
      "execution_count": null,
      "metadata": {
        "id": "jZmz1HT3Fnzs",
        "outputId": "70b4a068-d539-478e-937c-06355271c173"
      },
      "outputs": [
        {
          "name": "stderr",
          "output_type": "stream",
          "text": [
            "2023-05-01 23:56:07,283 - CRITICAL - Esto no se ejecuta\n"
          ]
        }
      ],
      "source": [
        "logging.disable(logging.ERROR)\n",
        "logging.critical('Esto si se ejecuta')\n",
        "logging.error('Esto no se ejecuta')"
      ]
    },
    {
      "cell_type": "markdown",
      "metadata": {
        "id": "h-MOfAgSFnzt"
      },
      "source": [
        "<h1>¡¡¡Lets Code!!! </h1>\n",
        "<img src=\"https://gifdb.com/images/thumbnail/pixel-art-super-mario-computer-amwdq1xi8bgz0omx.gif\" alt=\"Challenge Accepted\" style=\"width: 500px\">"
      ]
    },
    {
      "cell_type": "markdown",
      "metadata": {
        "id": "iz-38A_DFnzt"
      },
      "source": [
        "#### **Enunciado Ejercicio 1**::\n",
        "\n",
        "Sabiendo que `ValueError` es la excepción que se lanza cuando **no podemos convertir una cadena de texto en su valor numérico**, escriba una función que lea un valor entero introducido mediante input por el usuario y lo muestre, iterando mientras el valor sea correcto y pidiendo dejar la ejecución si el valor es incorrecto.\n",
        "\n",
        "Si se localiza un error, extrae y muestra la información con traceback."
      ]
    },
    {
      "cell_type": "markdown",
      "source": [
        "#### **Enunciado Ejercicio 2**::\n",
        "\n",
        "Cómo ya eres un/a expert@ en Python, os voy a pedir un último ejercicio donde integremos gran parte de lo visto en este curso.\n",
        "\n",
        "Para ello, os pido que creais una función llamada `procesar_numeros` en un script de Python llamado `procesamiento.py`. La función debe recibir una `lista de números enteros` y una serie de funciones de transformación como argumentos, utilizando `*args` y `**kwargs`. Estas funciones de transformación serán aplicadas a cada número de la lista y el `resultado` se almacenará en una nueva `lista`. \n",
        "\n",
        "La función también debe manejar posibles excepciones utilizando bloques `try` y `except`. Finalmente, se debe guardar un registro de todos los eventos en un archivo de log llamado `procesamiento.log`.\n",
        "\n",
        "La función tendrá esta estructura:\n",
        "\n",
        "```\n",
        "def procesar_numeros(numeros, *args, **kwargs):\n",
        "    # Código de la función\n",
        "```\n"
      ],
      "metadata": {
        "id": "wHIOFNmnF_E4"
      }
    },
    {
      "cell_type": "code",
      "source": [],
      "metadata": {
        "id": "_bi0Bel-rciu"
      },
      "execution_count": null,
      "outputs": []
    }
  ],
  "metadata": {
    "kernelspec": {
      "display_name": "Python 3",
      "language": "python",
      "name": "python3"
    },
    "language_info": {
      "codemirror_mode": {
        "name": "ipython",
        "version": 3
      },
      "file_extension": ".py",
      "mimetype": "text/x-python",
      "name": "python",
      "nbconvert_exporter": "python",
      "pygments_lexer": "ipython3",
      "version": "3.10.10"
    },
    "orig_nbformat": 4,
    "colab": {
      "provenance": [],
      "include_colab_link": true
    }
  },
  "nbformat": 4,
  "nbformat_minor": 0
}