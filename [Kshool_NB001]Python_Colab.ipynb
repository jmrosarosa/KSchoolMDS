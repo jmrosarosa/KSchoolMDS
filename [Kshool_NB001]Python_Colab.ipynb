{
  "cells": [
    {
      "cell_type": "markdown",
      "metadata": {
        "id": "view-in-github",
        "colab_type": "text"
      },
      "source": [
        "<a href=\"https://colab.research.google.com/github/jmrosarosa/KSchoolMDS/blob/main/%5BKshool_NB001%5DPython_Colab.ipynb\" target=\"_parent\"><img src=\"https://colab.research.google.com/assets/colab-badge.svg\" alt=\"Open In Colab\"/></a>"
      ]
    },
    {
      "cell_type": "markdown",
      "metadata": {
        "id": "8vLwvqUOxv4p"
      },
      "source": [
        "# [Kshool NB001]Python_Colab\n",
        "* Objetivo:\n",
        "    - Formar al alumno para poder interconectar el ipynb de Colab con Google Drive\n",
        "    - Mostrar las características más usadas y conocidas para poder formatear adecuadamente el notebook a través de Markdown"
      ]
    },
    {
      "cell_type": "markdown",
      "metadata": {
        "id": "qzFtenJmxv4s"
      },
      "source": [
        "<img src=\"https://media.istockphoto.com/id/1024173328/vector/challenge-accepted-banner.jpg?s=612x612&w=0&k=20&c=HkpbXPIxSoS0zZIB36AdXz8u3TE2peAC0_s1jNTCKTc=\" alt=\"Challenge Accepted\" style=\"width: 300px\">"
      ]
    },
    {
      "cell_type": "markdown",
      "metadata": {
        "id": "XdCneG_Jxv4s"
      },
      "source": [
        "---\n",
        "---\n",
        "---"
      ]
    },
    {
      "cell_type": "code",
      "source": [
        "#@title Esto es un formulario\n",
        "import tensorflow as tf\n",
        "device_name = tf.test.gpu_device_name()\n",
        "if device_name != '/device:GPU:0':\n",
        "  raise SystemError('GPU no encontrada')\n",
        "print('Encontrada GPU: {}'.format(device_name))"
      ],
      "metadata": {
        "id": "iHcJgUvGSDJG",
        "colab": {
          "base_uri": "https://localhost:8080/"
        },
        "outputId": "cc00bf03-a60b-478e-cd45-9552e367cad4"
      },
      "execution_count": null,
      "outputs": [
        {
          "output_type": "stream",
          "name": "stdout",
          "text": [
            "Encontrada GPU: /device:GPU:0\n"
          ]
        }
      ]
    },
    {
      "cell_type": "code",
      "source": [
        "!python --version\n",
        "\n",
        "import sys\n",
        "(sys.version_info)"
      ],
      "metadata": {
        "id": "yQcFKCvPz6it",
        "colab": {
          "base_uri": "https://localhost:8080/"
        },
        "outputId": "4ef23ae3-9b0c-4230-d55f-901d1da1a93f"
      },
      "execution_count": null,
      "outputs": [
        {
          "output_type": "stream",
          "name": "stdout",
          "text": [
            "Python 3.9.16\n"
          ]
        },
        {
          "output_type": "execute_result",
          "data": {
            "text/plain": [
              "sys.version_info(major=3, minor=9, micro=16, releaselevel='final', serial=0)"
            ]
          },
          "metadata": {},
          "execution_count": 2
        }
      ]
    },
    {
      "cell_type": "markdown",
      "metadata": {
        "id": "Dr4-z8Z-xv4s"
      },
      "source": [
        "# **Google Colab <--> Google Drive**\n",
        "---"
      ]
    },
    {
      "cell_type": "markdown",
      "metadata": {
        "id": "KeiV8dVPxv4t"
      },
      "source": [
        "En `Colab` para leer archivos de tu drive debes seguir los siguientes pasos:\n",
        "* Primero debes de montar la carpeta que quieres leer como unidad\n",
        "* Segundo necesitas importar la biblioteca drive en el notebook\n",
        "* Por último, especificar la ruta de tu archivo."
      ]
    },
    {
      "cell_type": "markdown",
      "metadata": {
        "id": "P1yX29o9xv4t"
      },
      "source": [
        "Importamos la biblioteca drive para montar la unidad"
      ]
    },
    {
      "cell_type": "code",
      "execution_count": null,
      "metadata": {
        "id": "uWyQfNNYxv4t"
      },
      "outputs": [],
      "source": [
        "from google.colab import drive"
      ]
    },
    {
      "cell_type": "markdown",
      "metadata": {
        "id": "y6kD0zWAxv4u"
      },
      "source": [
        "Montamos el folder o carpeta al que queremos acceder"
      ]
    },
    {
      "cell_type": "code",
      "execution_count": null,
      "metadata": {
        "id": "s6HAsRtrxv4u",
        "colab": {
          "base_uri": "https://localhost:8080/"
        },
        "outputId": "c7831bf1-7225-487c-be16-d2a878037af1"
      },
      "outputs": [
        {
          "output_type": "stream",
          "name": "stdout",
          "text": [
            "Mounted at /content/drive\n"
          ]
        }
      ],
      "source": [
        "drive.mount('/content/drive')"
      ]
    },
    {
      "cell_type": "markdown",
      "metadata": {
        "id": "vwUgRyAlxv4u"
      },
      "source": [
        "Esta acción solicitará confirmar la cuenta a la que quieres acceder, tras esto, nos solicitará aceptar el acuerdo de confiabilidad, donde básicamente se te informan todas las operaciones que se podrán realizar con esta confirmación.\n",
        "\n",
        "Después de conceder los permisos, te aparecerá el siguiente mensaje que nos confirmará que hemos conectado el notebook con nuestro directorio de Google Drive \n",
        "> `Mounted at /content/drive`"
      ]
    },
    {
      "cell_type": "markdown",
      "metadata": {
        "id": "4Y-dCWTuxv4u"
      },
      "source": [
        "Para buscar la ubicación exacta de tu archivo, la forma más fácil de encontrar la ruta es navegando por el árbol de directorios de Drive.\n",
        "\n",
        "Para el cual, accedes en el menú de la barra lateral izquierda. Los archivos de tu Drive se encuentran en la ruta content -> drive -> MyDrive ... o similar.\n",
        "\n",
        "Una vez localizado tu archivo, puedes desplegar el menú emergente y simplemente deberás copiar la ruta de acceso; ya puedes asignar esta ruta a una variable para leer el archivo."
      ]
    },
    {
      "cell_type": "markdown",
      "metadata": {
        "id": "uVAG2rXPxv4v"
      },
      "source": [
        "Aquí vemos un ejemplo de como leer un archivo txt almacenado en mi drive de google."
      ]
    },
    {
      "cell_type": "code",
      "source": [
        "/content/drive/MyDrive/Master_Kschool/Clase_1/archivo.txt"
      ],
      "metadata": {
        "id": "gLlCYs9Q2wZ8"
      },
      "execution_count": null,
      "outputs": []
    },
    {
      "cell_type": "code",
      "execution_count": null,
      "metadata": {
        "id": "Bk-y0xQvxv4v",
        "outputId": "a720805f-aa3b-4324-acdb-3a9d821799be",
        "colab": {
          "base_uri": "https://localhost:8080/"
        }
      },
      "outputs": [
        {
          "output_type": "stream",
          "name": "stdout",
          "text": [
            "Esto es una prueba\n",
            "\n",
            "para leer un archivo txt\n",
            "\n",
            "Kschool Rock&Roll!\n"
          ]
        }
      ],
      "source": [
        "# Usar el fichero. Se cerrará automáticamente al salir del bloque with\n",
        "path = '/content/drive/MyDrive/Master_Kschool/Clase_1/archivo.txt'\n",
        "with open(path) as fichero:\n",
        "  for linea in fichero:\n",
        "    print(linea)"
      ]
    },
    {
      "cell_type": "markdown",
      "metadata": {
        "id": "I20PKe0hxv4v"
      },
      "source": [
        "> Dicho ejemplo es simplemente para que veais como se hace. No es necesario que lo ejecutéis."
      ]
    },
    {
      "cell_type": "markdown",
      "metadata": {
        "id": "2sX1-BqYxv4v"
      },
      "source": [
        "### Leer archivos alojados en tu disco\n",
        "Para acceder a archivos de tu disco local puedes obtener la ruta en el mismo menú lateral en el icono de cargar archivos (flecha que apunta hacia arriba) de la barra superior del mismo menú; copiar la ruta y seguir las mismas instrucciones."
      ]
    },
    {
      "cell_type": "markdown",
      "metadata": {
        "id": "oS7rf2Mexv4v"
      },
      "source": [
        "# **Markdown**\n",
        "---"
      ]
    },
    {
      "cell_type": "markdown",
      "metadata": {
        "id": "9YZrXO-_xv4w"
      },
      "source": [
        "`Markdown` es un lenguaje de marcado ligero creado por **John Gruber en 2004**, diseñado para ser fácil de leer y escribir.\n",
        "\n",
        "Su principal objetivo es permitir que las personas escriban texto en un formato sencillo y legible, que luego se puede convertir a HTML u otros formatos de salida. Markdown es ampliamente utilizado para documentación de contenido programático, el formato de mensajes en foros y chats en línea, la escritura de blogs y más.\n",
        "\n",
        "La sintaxis de Markdown es simple y utiliza caracteres de puntuación y símbolos comunes para indicar la estructura y el formato del texto.\n",
        "\n",
        "Por ejemplo, se pueden crear encabezados usando símbolos #, texto en negrita rodeándolo con **, y enlaces utilizando corchetes [] y paréntesis (), todo esto lo veremos a continuación."
      ]
    },
    {
      "cell_type": "markdown",
      "metadata": {
        "id": "xhfS5AQuxv4w"
      },
      "source": [
        "## Encabezados\n",
        "---"
      ]
    },
    {
      "cell_type": "markdown",
      "metadata": {
        "id": "n3ygjXQGxv4w"
      },
      "source": [
        "# Encabezado 1\n",
        "## Encabezado 2\n",
        "### Encabezado 3\n",
        "#### Encabezado 4\n",
        "##### Encabezado 5\n",
        "###### Encabezado 6"
      ]
    },
    {
      "cell_type": "markdown",
      "metadata": {
        "id": "BHogg3ihxv4w"
      },
      "source": [
        "## Formato de texto\n",
        "---"
      ]
    },
    {
      "cell_type": "markdown",
      "metadata": {
        "id": "_ibmjMmgxv4w"
      },
      "source": [
        "**Texto en negrita**\n",
        "\n",
        "*Texto en cursiva*\n",
        "\n",
        "~~Texto tachado~~, pero este no está tachado"
      ]
    },
    {
      "cell_type": "markdown",
      "metadata": {
        "id": "kWjwuX1-xv4w"
      },
      "source": [
        "## Enlaces\n",
        "---"
      ]
    },
    {
      "cell_type": "markdown",
      "metadata": {
        "id": "HDigj29uxv4w"
      },
      "source": [
        "[Texto del enlace](https://www.example.com)\n",
        "\n",
        "[Ancla a parte del código](#Markdown)"
      ]
    },
    {
      "cell_type": "code",
      "source": [
        "/content/sample_data/anscombe.json"
      ],
      "metadata": {
        "id": "vqX4_kgh24_k"
      },
      "execution_count": null,
      "outputs": []
    },
    {
      "cell_type": "markdown",
      "metadata": {
        "id": "8H-H3GKfxv4w"
      },
      "source": [
        "## Imágenes\n",
        "---"
      ]
    },
    {
      "cell_type": "markdown",
      "metadata": {
        "id": "niOwuppRxv4w"
      },
      "source": [
        "![Imagen de Kschool](https://nachocarnes.es/wp-content/uploads/2018/04/ejWGXui6_400x400.png)"
      ]
    },
    {
      "cell_type": "markdown",
      "metadata": {
        "id": "1P_-8HQgxv4w"
      },
      "source": [
        "<img src=\"https://nachocarnes.es/wp-content/uploads/2018/04/ejWGXui6_400x400.png\" alt=\"Drawing\" style=\"width: 1200px;\" align=\"left\"/>"
      ]
    },
    {
      "cell_type": "markdown",
      "metadata": {
        "id": "P8CD-NRsxv4w"
      },
      "source": [
        "El atributo `<img> align` se utiliza para establecer la alineación de una imagen.\n",
        "\n",
        "Es un elemento en línea. Sirve para especificar la alineación de la imagen según los elementos circundantes.\n",
        "Posible opciones --> align=`left|right|middle|top|bottom`"
      ]
    },
    {
      "cell_type": "markdown",
      "metadata": {
        "id": "TqNHoTRhxv4w"
      },
      "source": [
        "## Listas\n",
        "---"
      ]
    },
    {
      "cell_type": "markdown",
      "metadata": {
        "id": "R_MfxbEXxv4w"
      },
      "source": [
        "Listas sin orden\n",
        "\n",
        "* Elemento 1\n",
        "- Elemento 2\n",
        "  - Subelemento 2.1\n",
        "  - Subelemento 2.2\n",
        "- Elemento 3\n"
      ]
    },
    {
      "cell_type": "markdown",
      "metadata": {
        "id": "r_XtNxSHxv4x"
      },
      "source": [
        "Listas ordenadas:\n",
        "\n",
        "1. Elemento 1\n",
        "2. Elemento 2\n",
        "3. Elemento 3"
      ]
    },
    {
      "cell_type": "markdown",
      "metadata": {
        "id": "jCPWCH2Bxv4x"
      },
      "source": [
        "## Citas\n",
        "---"
      ]
    },
    {
      "cell_type": "markdown",
      "metadata": {
        "id": "CfsYv-NTxv4x"
      },
      "source": [
        "> Esto es una cita."
      ]
    },
    {
      "cell_type": "markdown",
      "metadata": {
        "id": "kJ2GKtSKxv4x"
      },
      "source": [
        "## Código en línea y bloques de código\n",
        "---"
      ]
    },
    {
      "cell_type": "markdown",
      "metadata": {
        "id": "M063onqOxv4x"
      },
      "source": [
        "Código en línea: `código\n",
        "\n",
        "dfsdfsd`\n",
        "Bloques de código:\n",
        "\n",
        "<pre>\n",
        "```\n",
        "def function():\n",
        "  pass\n",
        "  asdfsadf\n",
        "  sad\n",
        "  fsa\n",
        "  dfsadfsadfa\n",
        "\n",
        "asdfasfasdf\n",
        "```\n",
        "</pre>"
      ]
    },
    {
      "cell_type": "markdown",
      "metadata": {
        "id": "Af-uV90mxv4x"
      },
      "source": [
        "## Tablas\n",
        "---"
      ]
    },
    {
      "cell_type": "markdown",
      "metadata": {
        "id": "fPkkmlt3xv4x"
      },
      "source": [
        "| Encabezado 1 | Encabezado 2 | Encabezado 3 |\n",
        "|--------------|--------------|--------------|\n",
        "| Celda 1.1    | Celda 1.2    | Celda 1.3    |\n",
        "| Celda 2.1    | Celda 2.2    | Celda 2.3    |"
      ]
    },
    {
      "cell_type": "markdown",
      "metadata": {
        "id": "jZiDhtRqxv4x"
      },
      "source": [
        "## Lineas horizontales"
      ]
    },
    {
      "cell_type": "markdown",
      "metadata": {
        "id": "J-dg063Kxv4x"
      },
      "source": [
        "---"
      ]
    },
    {
      "cell_type": "markdown",
      "metadata": {
        "id": "4UAiCg07xv4x"
      },
      "source": [
        "## Tareas Checks\n",
        "---"
      ]
    },
    {
      "cell_type": "markdown",
      "metadata": {
        "id": "lVpiD9fYxv4x"
      },
      "source": [
        "- [ ] Tarea pendiente\n",
        "- [x] Tarea completada"
      ]
    },
    {
      "cell_type": "markdown",
      "metadata": {
        "id": "evFBnCQixv4x"
      },
      "source": [
        "## Formulas (LateX)\n",
        "---\n",
        "\n",
        "Es un sistema de composición de textos, orientado a la creación de documentos escritos que presenten una alta calidad tipográfica. Por sus características y posibilidades, es usado de forma especialmente intensa en la generación de artículos y libros científicos que incluyen, entre otros elementos, expresiones matemáticas."
      ]
    },
    {
      "cell_type": "markdown",
      "metadata": {
        "id": "fK186rNnxv4x"
      },
      "source": [
        "$ \\hat{d}=\\frac{(d+n)!}{n!\\,d!} $\n",
        "\n",
        "$\\int_0^1 {x^2} \\,{\\rm d}x$\n",
        "\n",
        "$1,2,\\ldots,n$"
      ]
    },
    {
      "cell_type": "markdown",
      "metadata": {
        "id": "IhrGPz0Nxv4x"
      },
      "source": [
        "#### **Aquí os añado la referencia a una pagina donde podéis encontrar muchos más ejemplos:** \n",
        "1. https://daringfireball.net/projects/markdown/basics\n",
        "2. https://programmerclick.com/article/9139292621/"
      ]
    },
    {
      "cell_type": "markdown",
      "metadata": {
        "id": "ztQugXe9xv4x"
      },
      "source": [
        "<h1>¡¡¡Lets Code!!! </h1>\n",
        "<img src=\"https://gifdb.com/images/thumbnail/pixel-art-super-mario-computer-amwdq1xi8bgz0omx.gif\" alt=\"Challenge Accepted\" style=\"width: 500px\">"
      ]
    },
    {
      "cell_type": "markdown",
      "metadata": {
        "id": "pueZdc9sxv4y"
      },
      "source": [
        "#### **Enunciado Ejercicio 1**::\n",
        "\n",
        "Utiliza la sintaxis de Markdown para crear encabezados de nivel 1, 2 y 4 con los siguientes textos:\n",
        "- Curso de Python\n",
        "- Tema: Markdown\n",
        "- Escuela Kschool"
      ]
    },
    {
      "cell_type": "markdown",
      "metadata": {
        "id": "TpSayvlSxv4y"
      },
      "source": [
        "#### **Enunciado Ejercicio 2**::\n",
        "\n",
        "Inserta un enlace a la documentación oficial de Python y, a continuación, inserta una imagen de la serpiente Python con su respectivo enlace de origen."
      ]
    },
    {
      "cell_type": "markdown",
      "metadata": {
        "id": "WBaDvCA_xv4y"
      },
      "source": [
        "#### **Enunciado Ejercicio 3**::\n",
        "\n",
        "Resalta en negrita la palabra \"Python\" y en cursiva la palabra \"Markdown\" en la siguiente frase:\n",
        "\"Python es un lenguaje de programación de alto nivel, mientras que Markdown es un lenguaje de marcado ligero.\""
      ]
    },
    {
      "cell_type": "markdown",
      "metadata": {
        "id": "DbDHmqZxxv4y"
      },
      "source": [
        "#### **Enunciado Ejercicio 4**::\n",
        "\n",
        "Escribe una lista numerada con los siguientes elementos y, a continuación, crea una lista con unas palabras de lo que creas que significa cada elemento\n",
        "\n",
        "Variables\n",
        "\n",
        "Condicionales\n",
        "\n",
        "Bucles\n"
      ]
    },
    {
      "cell_type": "markdown",
      "metadata": {
        "id": "_KTVqEyLxv4y"
      },
      "source": []
    }
  ],
  "metadata": {
    "kernelspec": {
      "display_name": "Python 3",
      "language": "python",
      "name": "python3"
    },
    "language_info": {
      "codemirror_mode": {
        "name": "ipython",
        "version": 3
      },
      "file_extension": ".py",
      "mimetype": "text/x-python",
      "name": "python",
      "nbconvert_exporter": "python",
      "pygments_lexer": "ipython3",
      "version": "3.10.10"
    },
    "orig_nbformat": 4,
    "colab": {
      "provenance": [],
      "include_colab_link": true
    },
    "accelerator": "GPU",
    "gpuClass": "standard"
  },
  "nbformat": 4,
  "nbformat_minor": 0
}