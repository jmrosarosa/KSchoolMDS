{
  "cells": [
    {
      "cell_type": "markdown",
      "metadata": {
        "id": "view-in-github",
        "colab_type": "text"
      },
      "source": [
        "<a href=\"https://colab.research.google.com/github/jmrosarosa/KSchoolMDS/blob/main/Copy_of_%5BKschool_NB007%5DPython_Sets.ipynb\" target=\"_parent\"><img src=\"https://colab.research.google.com/assets/colab-badge.svg\" alt=\"Open In Colab\"/></a>"
      ]
    },
    {
      "cell_type": "markdown",
      "metadata": {
        "id": "rqkS3q5V9iKw"
      },
      "source": [
        "# [Kschool NB007]Python_Sets\n",
        "* Objetivos: \n",
        "    - Conocer los sets y su diferencia con las listas\n",
        "    - Entender como integrar y modificar la información"
      ]
    },
    {
      "cell_type": "markdown",
      "metadata": {
        "id": "eOoz1pgM9iKx"
      },
      "source": [
        "<img src=\"https://media.istockphoto.com/id/1024173328/vector/challenge-accepted-banner.jpg?s=612x612&w=0&k=20&c=HkpbXPIxSoS0zZIB36AdXz8u3TE2peAC0_s1jNTCKTc=\" alt=\"Challenge Accepted\" style=\"width: 300px\">"
      ]
    },
    {
      "cell_type": "markdown",
      "metadata": {
        "id": "oeui6ZHW9iKy"
      },
      "source": [
        "---\n",
        "---\n",
        "---"
      ]
    },
    {
      "cell_type": "markdown",
      "metadata": {
        "id": "hLOvU20c9iKz"
      },
      "source": [
        "# **Set (Conjuntos)**\n",
        "---"
      ]
    },
    {
      "cell_type": "markdown",
      "metadata": {
        "id": "vsKvlaIV9iK0"
      },
      "source": [
        "Un set es una colección de elementos distintos `no ordenados ni indexados`. En Python, el `set` se utiliza para almacenar elementos únicos, y es posible encontrar la unión, la intersección, la diferencia, la diferencia simétrica, el subconjunto, el superconjunto y el conjunto disjunto entre conjuntos."
      ]
    },
    {
      "cell_type": "markdown",
      "metadata": {
        "id": "XK_rFni_9iK0"
      },
      "source": [
        "## Crear un conjunto\n",
        "---\n",
        "\n",
        "Utilizamos llaves ({}) para crear un conjunto o la función incorporada set().\n",
        "\n",
        "#### Crear un conjunto vacío"
      ]
    },
    {
      "cell_type": "code",
      "execution_count": null,
      "metadata": {
        "id": "GIheDMwc9iK1"
      },
      "outputs": [],
      "source": [
        "st = {}"
      ]
    },
    {
      "cell_type": "code",
      "execution_count": null,
      "metadata": {
        "id": "gbh8216p9iK2"
      },
      "outputs": [],
      "source": [
        "st = set()"
      ]
    },
    {
      "cell_type": "markdown",
      "metadata": {
        "id": "roC4Q3PA9iK2"
      },
      "source": [
        "#### Crear un conjunto con elementos iniciales"
      ]
    },
    {
      "cell_type": "code",
      "execution_count": null,
      "metadata": {
        "id": "QzYS2MrS9iK3"
      },
      "outputs": [],
      "source": [
        "frutas = {'plátano', 'naranja', 'mango', 'limón'}"
      ]
    },
    {
      "cell_type": "markdown",
      "metadata": {
        "id": "44CzDHcD9iK4"
      },
      "source": [
        "## Obtener la longitud del conjunto\n",
        "---\n",
        "Utilizamos el método len() para averiguar la longitud de un conjunto."
      ]
    },
    {
      "cell_type": "code",
      "execution_count": null,
      "metadata": {
        "id": "FyWrqCyH9iK4",
        "outputId": "5bb9053b-39da-455d-af8a-64b64ec66f13"
      },
      "outputs": [
        {
          "data": {
            "text/plain": [
              "4"
            ]
          },
          "execution_count": 37,
          "metadata": {},
          "output_type": "execute_result"
        }
      ],
      "source": [
        "frutas = {'plátano', 'naranja', 'mango', 'limón'}\n",
        "len(frutas)"
      ]
    },
    {
      "cell_type": "markdown",
      "metadata": {
        "id": "J3cwP-TH9iK5"
      },
      "source": [
        "## Acceder a los elementos de un conjunto\n",
        "---\n",
        "Utilizamos bucles para acceder a los elementos. Lo veremos en la sección de bucles\n",
        "\n",
        "##### Comprobar un elemento\n",
        "Para comprobar si un elemento existe en una lista utilizamos el operador de pertenencia."
      ]
    },
    {
      "cell_type": "code",
      "execution_count": null,
      "metadata": {
        "id": "c80aCU4a9iK5",
        "outputId": "18a52208-4c98-4c66-9ce4-212d38eee47e"
      },
      "outputs": [
        {
          "name": "stdout",
          "output_type": "stream",
          "text": [
            "True\n"
          ]
        }
      ],
      "source": [
        "frutas = {'plátano', 'naranja', 'mango', 'limón'}\n",
        "print('mango' in frutas)"
      ]
    },
    {
      "cell_type": "markdown",
      "metadata": {
        "id": "7WmSGADh9iK6"
      },
      "source": [
        "## Añadir elementos a un conjunto\n",
        "---\n",
        "Una vez creado un conjunto, no podemos cambiar ningún elemento y también podemos añadir elementos adicionales.\n",
        "\n",
        "Añade un elemento utilizando `add()`"
      ]
    },
    {
      "cell_type": "code",
      "execution_count": null,
      "metadata": {
        "id": "fYlC5aLS9iK6",
        "outputId": "6c6cd2ca-a0a5-4330-8d4e-4d814f6ccc17"
      },
      "outputs": [
        {
          "data": {
            "text/plain": [
              "{'lima', 'limón', 'mango', 'naranja', 'plátano'}"
            ]
          },
          "execution_count": 32,
          "metadata": {},
          "output_type": "execute_result"
        }
      ],
      "source": [
        "frutas = {'plátano', 'naranja', 'mango', 'limón'}\n",
        "frutas.add('lima')\n",
        "frutas"
      ]
    },
    {
      "cell_type": "markdown",
      "metadata": {
        "id": "OhtIK5dJ9iK7"
      },
      "source": [
        "Añadir varios elementos mediante `update()`. La función update() permite añadir varios elementos a un conjunto. La función update() toma como argumento una lista."
      ]
    },
    {
      "cell_type": "code",
      "execution_count": null,
      "metadata": {
        "id": "M-tztrHi9iK8",
        "outputId": "fde03a7d-04d0-4ff0-8cd6-f510861ec380"
      },
      "outputs": [
        {
          "data": {
            "text/plain": [
              "{'cebolla',\n",
              " 'col',\n",
              " 'limón',\n",
              " 'mango',\n",
              " 'naranja',\n",
              " 'patata',\n",
              " 'plátano',\n",
              " 'tomate',\n",
              " 'zanahoria'}"
            ]
          },
          "execution_count": 33,
          "metadata": {},
          "output_type": "execute_result"
        }
      ],
      "source": [
        "frutas = {'plátano', 'naranja', 'mango', 'limón'}\n",
        "verduras = ('tomate', 'patata', 'col','cebolla', 'zanahoria')\n",
        "frutas.update(verduras)\n",
        "frutas"
      ]
    },
    {
      "cell_type": "markdown",
      "metadata": {
        "id": "fOuV_f_y9iK8"
      },
      "source": [
        "## Eliminar elementos de un conjunto\n",
        "---\n",
        "Podemos eliminar un elemento de un conjunto utilizando el método remove(). Si no se encuentra el elemento, el método remove() provocará errores, por lo que conviene comprobar si el elemento existe en el conjunto dado. Sin embargo, el método descartar() no genera ningún error."
      ]
    },
    {
      "cell_type": "markdown",
      "metadata": {
        "id": "hKQY-cnO9iK9"
      },
      "source": [
        "Los métodos pop() eliminan un elemento **aleatorio** de una lista y devuelve el elemento eliminado."
      ]
    },
    {
      "cell_type": "code",
      "execution_count": null,
      "metadata": {
        "id": "ILlr0Ilm9iK9",
        "outputId": "894acb51-67f6-4632-b6c2-729b95e48aa5"
      },
      "outputs": [
        {
          "data": {
            "text/plain": [
              "'mango'"
            ]
          },
          "execution_count": 30,
          "metadata": {},
          "output_type": "execute_result"
        }
      ],
      "source": [
        "frutas = {'plátano', 'naranja', 'mango', 'limón'}\n",
        "elemento_eliminado = frutas.pop()\n",
        "elemento_eliminado"
      ]
    },
    {
      "cell_type": "markdown",
      "metadata": {
        "id": "SoboXBRR9iK-"
      },
      "source": [
        "#### Borrar elementos de un conjunto\n",
        "Si queremos borrar o vaciar el conjunto utilizamos el método `clear()`."
      ]
    },
    {
      "cell_type": "code",
      "execution_count": null,
      "metadata": {
        "id": "EzsfC5fB9iK-",
        "outputId": "add1200f-cbf5-4317-e536-941bd1a2ef04"
      },
      "outputs": [
        {
          "name": "stdout",
          "output_type": "stream",
          "text": [
            "set()\n"
          ]
        }
      ],
      "source": [
        "\n",
        "frutas = {'plátano', 'naranja', 'mango', 'limón'}\n",
        "frutas.clear()\n",
        "print(frutas)\n"
      ]
    },
    {
      "cell_type": "markdown",
      "metadata": {
        "id": "5GKU6Ujv9iK_"
      },
      "source": [
        "### Borrar un conjunto\n",
        "Si queremos borrar el propio conjunto utilizamos el operador `del()`."
      ]
    },
    {
      "cell_type": "code",
      "execution_count": null,
      "metadata": {
        "id": "8GVavyYq9iK_",
        "outputId": "15fcf59e-9a5a-4ad8-9a41-f858ed8f7254"
      },
      "outputs": [
        {
          "name": "stdout",
          "output_type": "stream",
          "text": [
            "{'limón', 'plátano', 'naranja', 'mango'}\n"
          ]
        },
        {
          "ename": "NameError",
          "evalue": "name 'frutas' is not defined",
          "output_type": "error",
          "traceback": [
            "\u001b[0;31m---------------------------------------------------------------------------\u001b[0m",
            "\u001b[0;31mNameError\u001b[0m                                 Traceback (most recent call last)",
            "Cell \u001b[0;32mIn[4], line 4\u001b[0m\n\u001b[1;32m      2\u001b[0m \u001b[39mprint\u001b[39m(frutas)\n\u001b[1;32m      3\u001b[0m \u001b[39mdel\u001b[39;00m frutas\n\u001b[0;32m----> 4\u001b[0m frutas\n",
            "\u001b[0;31mNameError\u001b[0m: name 'frutas' is not defined"
          ]
        }
      ],
      "source": [
        "frutas = {'plátano', 'naranja', 'mango', 'limón'}\n",
        "print(frutas)\n",
        "del frutas\n",
        "frutas"
      ]
    },
    {
      "cell_type": "markdown",
      "metadata": {
        "id": "A4D2IMM-9iK_"
      },
      "source": [
        "## Convertir lista en conjunto\n",
        "---\n",
        "Podemos convertir lista en conjunto y conjunto en lista. Al convertir lista en conjunto se eliminan los duplicados y sólo se reservarán los elementos únicos."
      ]
    },
    {
      "cell_type": "code",
      "execution_count": null,
      "metadata": {
        "id": "rAXYlDtk9iLA",
        "outputId": "263eebb6-50a6-449a-e26a-42b00f6137e4"
      },
      "outputs": [
        {
          "data": {
            "text/plain": [
              "{'limón', 'mango', 'naranja', 'plátano'}"
            ]
          },
          "execution_count": 5,
          "metadata": {},
          "output_type": "execute_result"
        }
      ],
      "source": [
        "frutas = ['plátano', 'naranja', 'mango', 'limón','naranja', 'plátano']\n",
        "frutas = set(frutas)\n",
        "frutas"
      ]
    },
    {
      "cell_type": "markdown",
      "metadata": {
        "id": "akgCujAS9iLA"
      },
      "source": [
        "## Unir conjuntos\n",
        "---\n",
        "\n",
        "Podemos unir dos conjuntos utilizando los métodos `union()` o `update()`."
      ]
    },
    {
      "cell_type": "markdown",
      "metadata": {
        "id": "4Jsr7DKw9iLB"
      },
      "source": [
        "#### Union\n",
        "Este método devuelve un nuevo conjunto"
      ]
    },
    {
      "cell_type": "code",
      "execution_count": null,
      "metadata": {
        "id": "iZo2ie_09iLB",
        "outputId": "acb93a9a-4689-4e9b-a8fe-97f952ce34e6"
      },
      "outputs": [
        {
          "data": {
            "text/plain": [
              "{'cebolla',\n",
              " 'col',\n",
              " 'limón',\n",
              " 'mango',\n",
              " 'naranja',\n",
              " 'patata',\n",
              " 'plátano',\n",
              " 'tomate',\n",
              " 'zanahoria'}"
            ]
          },
          "execution_count": 6,
          "metadata": {},
          "output_type": "execute_result"
        }
      ],
      "source": [
        "frutas = {'plátano', 'naranja', 'mango', 'limón'}\n",
        "verduras = {'tomate', 'patata', 'col','cebolla', 'zanahoria'}\n",
        "conjunto_final = frutas.union(verduras)\n",
        "conjunto_final"
      ]
    },
    {
      "cell_type": "markdown",
      "metadata": {
        "id": "9Af76Gsn9iLB"
      },
      "source": [
        "#### Update\n",
        "Este método inserta un conjunto en un conjunto dado"
      ]
    },
    {
      "cell_type": "code",
      "execution_count": null,
      "metadata": {
        "id": "3YRJx-pb9iLB",
        "outputId": "9fc5eaf3-a11c-49de-fb27-0329d0722109"
      },
      "outputs": [
        {
          "name": "stdout",
          "output_type": "stream",
          "text": [
            "{'limón', 'patata', 'zanahoria', 'plátano', 'col', 'naranja', 'tomate', 'cebolla', 'mango'}\n"
          ]
        }
      ],
      "source": [
        "frutas = {'plátano', 'naranja', 'mango', 'limón','patata'}\n",
        "verduras = {'tomate', 'patata', 'col','cebolla', 'zanahoria'}\n",
        "frutas.update(verduras)\n",
        "print(frutas)"
      ]
    },
    {
      "cell_type": "markdown",
      "metadata": {
        "id": "r_YaNFac9iLB"
      },
      "source": [
        "#### Encontrar elementos de intersección\n",
        "La intersección devuelve un conjunto de elementos que están en ambos conjuntos. Mira el ejemplo"
      ]
    },
    {
      "cell_type": "code",
      "execution_count": null,
      "metadata": {
        "id": "CV-FT4wG9iLC",
        "outputId": "47ab9ec1-251e-4b3e-88a5-4fb60cda7176"
      },
      "outputs": [
        {
          "data": {
            "text/plain": [
              "{0, 2, 4, 6, 8, 10}"
            ]
          },
          "execution_count": 10,
          "metadata": {},
          "output_type": "execute_result"
        }
      ],
      "source": [
        "numeros_enteros = {0, 1, 2, 3, 4, 5, 6, 7, 8, 9, 10}\n",
        "numeros_pares = {0, 2, 4, 6, 8, 10}\n",
        "interseccion = numeros_enteros.intersection(numeros_pares)\n",
        "interseccion"
      ]
    },
    {
      "cell_type": "code",
      "execution_count": null,
      "metadata": {
        "id": "d5ESs8aq9iLC",
        "outputId": "c1a1d22f-36a6-4a70-9354-a94246300077"
      },
      "outputs": [
        {
          "data": {
            "text/plain": [
              "{'n', 'o'}"
            ]
          },
          "execution_count": 11,
          "metadata": {},
          "output_type": "execute_result"
        }
      ],
      "source": [
        "python = {'p', 'y', 't', 'h', 'o','n'}\n",
        "dragon = {'d', 'r', 'a', 'g', 'o','n'}\n",
        "python.intersection(dragon)"
      ]
    },
    {
      "cell_type": "markdown",
      "metadata": {
        "id": "v6os7qnn9iLD"
      },
      "source": [
        "#### Comprobación de subconjunto y superconjunto\n",
        "Un set puede ser subconjunto o superconjunto de otros conjuntos"
      ]
    },
    {
      "cell_type": "code",
      "execution_count": null,
      "metadata": {
        "id": "p2guS0Zy9iLD",
        "outputId": "45e894f4-4854-4eac-c0d6-6c3b8c5a3797"
      },
      "outputs": [
        {
          "data": {
            "text/plain": [
              "True"
            ]
          },
          "execution_count": 12,
          "metadata": {},
          "output_type": "execute_result"
        }
      ],
      "source": [
        "numeros_enteros = {0, 1, 2, 3, 4, 5, 6, 7, 8, 9, 10}\n",
        "numeros_pares = {0, 2, 4, 6, 8, 10}\n",
        "numeros_enteros.issubset(numeros_pares)\n",
        "numeros_enteros.issuperset(numeros_pares)"
      ]
    },
    {
      "cell_type": "code",
      "execution_count": null,
      "metadata": {
        "id": "MkPRxWZU9iLE",
        "outputId": "f8018433-4c95-489c-b6ab-239203ac79fe"
      },
      "outputs": [
        {
          "data": {
            "text/plain": [
              "False"
            ]
          },
          "execution_count": 11,
          "metadata": {},
          "output_type": "execute_result"
        }
      ],
      "source": [
        "python = {'p', 'y', 't', 'h', 'o','n'}\n",
        "dragon = {'d', 'r', 'a', 'g', 'o','n'}\n",
        "python.issubset(dragon)"
      ]
    },
    {
      "cell_type": "markdown",
      "metadata": {
        "id": "T5NtQR4z9iLE"
      },
      "source": [
        "#### Comprobación de la diferencia entre dos conjuntos\n",
        "Devuelve la diferencia entre dos conjuntos."
      ]
    },
    {
      "cell_type": "code",
      "execution_count": null,
      "metadata": {
        "id": "i_QAEIfJ9iLE",
        "outputId": "e349c424-ca2b-47e6-d633-3b8e6326e8e0"
      },
      "outputs": [
        {
          "data": {
            "text/plain": [
              "{1, 3, 5, 7, 9}"
            ]
          },
          "execution_count": 13,
          "metadata": {},
          "output_type": "execute_result"
        }
      ],
      "source": [
        "numeros_enteros = {0, 1, 2, 3, 4, 5, 6, 7, 8, 9, 10}\n",
        "numeros_pares = {0, 2, 4, 6, 8, 10}\n",
        "numeros_enteros.difference(numeros_pares)"
      ]
    },
    {
      "cell_type": "code",
      "execution_count": null,
      "metadata": {
        "id": "ocrkokCG9iLF",
        "outputId": "3ed17d65-52db-47bc-8f26-3787d5b09004"
      },
      "outputs": [
        {
          "data": {
            "text/plain": [
              "{'a', 'd', 'g', 'r'}"
            ]
          },
          "execution_count": 15,
          "metadata": {},
          "output_type": "execute_result"
        }
      ],
      "source": [
        "python = {'p', 'y', 't', 'h', 'o','n'}\n",
        "dragon = {'d', 'r', 'a', 'g', 'o','n'}\n",
        "python.difference(dragon)\n",
        "dragon.difference(python)"
      ]
    },
    {
      "cell_type": "markdown",
      "metadata": {
        "id": "4rrKF5Ax9iLF"
      },
      "source": [
        "#### Encontrar la diferencia simétrica entre dos conjuntos\n",
        "Devuelve la diferencia simétrica entre dos conjuntos. Significa que devuelve un conjunto que contiene todos los elementos de ambos conjuntos, excepto los elementos que están presentes en ambos conjuntos, matemáticamente: (A\\B) ∪ (B\\A)"
      ]
    },
    {
      "cell_type": "code",
      "execution_count": null,
      "metadata": {
        "id": "fLGzzI-f9iLG",
        "outputId": "a103c795-77de-4fa2-816f-1f1f4a26863f"
      },
      "outputs": [
        {
          "data": {
            "text/plain": [
              "{0, 6, 7, 8, 9, 10, 11}"
            ]
          },
          "execution_count": 12,
          "metadata": {},
          "output_type": "execute_result"
        }
      ],
      "source": [
        "numeros_enteros = {0, 1, 2, 3, 4, 5, 6, 7, 8, 9, 10}\n",
        "algunos_numeros = {1, 2, 3, 4, 5, 11}\n",
        "numeros_enteros.symmetric_difference(algunos_numeros)"
      ]
    },
    {
      "cell_type": "code",
      "execution_count": null,
      "metadata": {
        "id": "8iwo_R7g9iLG",
        "outputId": "bca9481f-a71f-493b-c124-d6b459b02638"
      },
      "outputs": [
        {
          "data": {
            "text/plain": [
              "{'a', 'd', 'g', 'h', 'p', 'r', 't', 'y'}"
            ]
          },
          "execution_count": 18,
          "metadata": {},
          "output_type": "execute_result"
        }
      ],
      "source": [
        "python = {'p', 'y', 't', 'h', 'o','n'}\n",
        "dragon = {'d', 'r', 'a', 'g', 'o','n'}\n",
        "python.symmetric_difference(dragon)"
      ]
    },
    {
      "cell_type": "markdown",
      "metadata": {
        "id": "VDcoAl3k9iLG"
      },
      "source": [
        "#### Unir conjuntos\n",
        "Si dos conjuntos no tienen un elemento o elementos comunes, los llamamos conjuntos disjuntos. Podemos comprobar si dos conjuntos son conjuntos o disjuntos utilizando el método isdisjoint()."
      ]
    },
    {
      "cell_type": "code",
      "execution_count": null,
      "metadata": {
        "id": "jgL6BxLE9iLH",
        "outputId": "2f9c13f1-c9a3-4cf7-e999-d1ad50d10cf1"
      },
      "outputs": [
        {
          "data": {
            "text/plain": [
              "True"
            ]
          },
          "execution_count": 19,
          "metadata": {},
          "output_type": "execute_result"
        }
      ],
      "source": [
        "numeros_pares = {0, 2, 4 ,6, 8}\n",
        "numeros_impares = {1, 3, 5, 7, 9}\n",
        "numeros_pares.isdisjoint(numeros_impares)"
      ]
    },
    {
      "cell_type": "code",
      "execution_count": null,
      "metadata": {
        "id": "KmHp20E49iLH",
        "outputId": "52aa609a-f781-4b9b-d9a4-2b87a861e276"
      },
      "outputs": [
        {
          "data": {
            "text/plain": [
              "False"
            ]
          },
          "execution_count": 14,
          "metadata": {},
          "output_type": "execute_result"
        }
      ],
      "source": [
        "python = {'p', 'y', 't', 'h', 'o','n'}\n",
        "dragon = {'d', 'r', 'a', 'g', 'o','n'}\n",
        "python.isdisjoint(dragon)"
      ]
    },
    {
      "cell_type": "markdown",
      "metadata": {
        "id": "-iKXxrZJ9iLH"
      },
      "source": [
        "<h1>¡¡¡Lets Code!!! </h1>\n",
        "<img src=\"https://gifdb.com/images/thumbnail/pixel-art-super-mario-computer-amwdq1xi8bgz0omx.gif\" alt=\"Challenge Accepted\" style=\"width: 500px\">"
      ]
    },
    {
      "cell_type": "markdown",
      "metadata": {
        "id": "VFckh_8k9iLI"
      },
      "source": [
        "\n",
        "#### **Enunciado Ejercicio 1**::\n",
        "\n",
        "Os presento a mis dos mejores amigos:\n",
        "1. El se llama Pedro y le gusta el fútbol, el tenis y el baloncesto, también leer y bucear.\n",
        "El grupo de amigos de Pedro se llaman: Antonio, Rocío, Juan, Victor y Alberto.\n",
        "\n",
        "2. Ella se llama María y le gusta el padel, el tenis y el teatro, también leer y escalar.\n",
        "El grupo de amigos de María se llaman: Ana, Rocío, Juana, Luis y Alberto.\n",
        "\n",
        "Crea un programa que encuentre la intersección de los dos conjuntos y muestre los amigos en común (la salida tiene que estar en formato string).\n",
        "\n",
        "Crea un programa que encuentre la diferencia simétrica entre los dos conjuntos y muestre los gustos que solo le gustan a uno de ellos (la salida tiene que estar en formato string)."
      ]
    },
    {
      "cell_type": "markdown",
      "metadata": {
        "id": "zBssKt8y9iLI"
      },
      "source": [
        "#### **Solución Ejercicio 1**::"
      ]
    },
    {
      "cell_type": "code",
      "execution_count": null,
      "metadata": {
        "id": "NI3EuNah9iLJ"
      },
      "outputs": [],
      "source": [
        "amigos_pedro = {'Antonio', 'Rocío', 'Juan', 'Victor', 'Alberto'}\n",
        "amigos_maria = {'Ana', 'Rocío', 'Juana', 'Luis', 'Alberto'}\n",
        "\n",
        "gustos_pedro = {'futbol', 'tenis', 'baloncesto', 'leer', 'bucear'}\n",
        "gustos_maria = {'padel', 'tenis', 'teatro', 'leer', 'escalar'}\n",
        "\n",
        "amigos_en_comun = amigos_maria.intersection(amigos_pedro)\n",
        "amigos_en_comun = \", \".join(amigos_en_comun)\n",
        "print(\"Amigos en común:\", amigos_en_comun)\n",
        "\n",
        "diferencia_simetrica = gustos_maria.symmetric_difference(gustos_pedro)\n",
        "diferencia_simetrica = \", \".join(diferencia_simetrica)\n",
        "print(\"Gustos únicos de cada uno:\", diferencia_simetrica)"
      ]
    },
    {
      "cell_type": "markdown",
      "metadata": {
        "id": "C9UDcnAK9iLJ"
      },
      "source": [
        "\n",
        "#### **Enunciado Ejercicio 2**::\n",
        "\n",
        "Crea un programa que determine si uno de los conjuntos es un subconjunto del otro, y si no lo es, determina cuál de los dos conjuntos es el más grande.\n",
        "- estudiantes_clase_A = {\"Juan\", \"María\", \"Pedro\", \"Lucía\", \"Luis\"}\n",
        "- estudiantes_clase_B = {\"Lucía\", \"Luis\", \"David\", \"Marta\"}"
      ]
    },
    {
      "cell_type": "markdown",
      "metadata": {
        "id": "dTFdnk_29iLJ"
      },
      "source": [
        "#### **Solución Ejercicio 2**::"
      ]
    },
    {
      "cell_type": "code",
      "execution_count": null,
      "metadata": {
        "id": "nU7_8NLh9iLJ"
      },
      "outputs": [],
      "source": [
        "estudiantes_clase_A = {\"Juan\", \"María\", \"Pedro\", \"Lucía\", \"Luis\"}\n",
        "estudiantes_clase_B = {\"Lucía\", \"Luis\", \"David\", \"Marta\"}\n",
        "\n",
        "if estudiantes_clase_A.issubset(estudiantes_clase_B):\n",
        "    print(\"El conjunto de estudiantes de la clase A es un subconjunto de la clase B.\")\n",
        "elif estudiantes_clase_B.issubset(estudiantes_clase_A):\n",
        "    print(\"El conjunto de estudiantes de la clase B es un subconjunto de la clase A.\")\n",
        "else:\n",
        "    if len(estudiantes_clase_A) > len(estudiantes_clase_B):\n",
        "        print(\"El conjunto de estudiantes de la clase A es más grande.\")\n",
        "    elif len(estudiantes_clase_A) < len(estudiantes_clase_B):\n",
        "        print(\"El conjunto de estudiantes de la clase B es más grande.\")\n",
        "    else:\n",
        "        print(\"Los conjuntos de estudiantes tienen el mismo tamaño.\")"
      ]
    }
  ],
  "metadata": {
    "kernelspec": {
      "display_name": "Python 3",
      "language": "python",
      "name": "python3"
    },
    "language_info": {
      "codemirror_mode": {
        "name": "ipython",
        "version": 3
      },
      "file_extension": ".py",
      "mimetype": "text/x-python",
      "name": "python",
      "nbconvert_exporter": "python",
      "pygments_lexer": "ipython3",
      "version": "3.10.10"
    },
    "orig_nbformat": 4,
    "colab": {
      "provenance": [],
      "include_colab_link": true
    }
  },
  "nbformat": 4,
  "nbformat_minor": 0
}