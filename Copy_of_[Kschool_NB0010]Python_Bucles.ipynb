{
  "cells": [
    {
      "cell_type": "markdown",
      "metadata": {
        "id": "view-in-github",
        "colab_type": "text"
      },
      "source": [
        "<a href=\"https://colab.research.google.com/github/jmrosarosa/KSchoolMDS/blob/main/Copy_of_%5BKschool_NB0010%5DPython_Bucles.ipynb\" target=\"_parent\"><img src=\"https://colab.research.google.com/assets/colab-badge.svg\" alt=\"Open In Colab\"/></a>"
      ]
    },
    {
      "cell_type": "markdown",
      "metadata": {
        "id": "LXHxOUAm6z__"
      },
      "source": [
        "# [Kschool NB0010]Python_Bucles\n",
        "* Objetivos:\n",
        "    - Entender las diferentes tipologías de bucles que existen en python y cuando usar cada uno.\n",
        "    - Conocer las sentencias de control que permitan poder aumentar las capacidades de bucles y funciones"
      ]
    },
    {
      "cell_type": "markdown",
      "metadata": {
        "id": "1iZLklRw60AB"
      },
      "source": [
        "<img src=\"https://media.istockphoto.com/id/1024173328/vector/challenge-accepted-banner.jpg?s=612x612&w=0&k=20&c=HkpbXPIxSoS0zZIB36AdXz8u3TE2peAC0_s1jNTCKTc=\" alt=\"Challenge Accepted\" style=\"width: 300px\">"
      ]
    },
    {
      "cell_type": "markdown",
      "metadata": {
        "id": "7O9TYuJs60AC"
      },
      "source": [
        "---\n",
        "---\n",
        "---"
      ]
    },
    {
      "cell_type": "markdown",
      "metadata": {
        "id": "B6cnXKVc60AC"
      },
      "source": [
        "# **Bucles**\n",
        "---"
      ]
    },
    {
      "cell_type": "markdown",
      "metadata": {
        "id": "SiDeY-0n60AC"
      },
      "source": [
        "En programación también hacemos muchas tareas repetitivas y para poder lidiar con las tareas repetitivas los lenguajes de programación utilizan bucles **loops. El lenguaje de programación Python también proporciona los siguientes tipos de dos bucles:\n",
        "\n",
        "1. Bucle `while`:: **número de iteraciones definidas**\n",
        "2. Bucle `for`:: **número de iteraciones no definidas**"
      ]
    },
    {
      "cell_type": "markdown",
      "metadata": {
        "id": "h6RjfkWS60AC"
      },
      "source": [
        "## While\n",
        "---\n",
        "\n",
        "Utilizamos la palabra reservada `while` para hacer un bucle while. \n",
        "Se utiliza para ejecutar un bloque de sentencias repetidamente hasta que se cumpla una condición determinada. Cuando la condición sea falsa, se seguirán ejecutando las líneas de código situadas después del bucle.\n",
        "\n",
        "Llamaremos `iteración` a una ejecución completa del bloque de código."
      ]
    },
    {
      "cell_type": "markdown",
      "metadata": {
        "id": "M4fWVNRE60AD"
      },
      "source": [
        "En el siguiente código, la condición se convierte en falsa cuando la **cuenta** es 5. Es entonces cuando el bucle se detiene.\n",
        "Si nos interesa ejecutar el bloque de código una vez que la condición deje de ser cierta, podemos utilizar else."
      ]
    },
    {
      "cell_type": "markdown",
      "metadata": {
        "id": "sdgPkU-060AD"
      },
      "source": [
        "<img src=\"https://raw.githubusercontent.com/0xdevgranero/kschool/main/images/img5.png\" alt=\"Drawing\" style=\"width: 800px\"/>"
      ]
    },
    {
      "cell_type": "code",
      "execution_count": null,
      "metadata": {
        "id": "4B03gZMU60AD"
      },
      "outputs": [],
      "source": [
        "cuenta = 0\n",
        "while cuenta < 5:\n",
        "    print(cuenta)\n",
        "    cuenta = cuenta + 1"
      ]
    },
    {
      "cell_type": "markdown",
      "metadata": {
        "id": "ALIOWEBY60AE"
      },
      "source": [
        "Con el siguiente ejemplo vemos como el bucle se detendrá(será falsa) cuando la cuenta sea 5, y se inicie la ejecución de la sentencia else. Como resultado se imprimirá 5."
      ]
    },
    {
      "cell_type": "code",
      "execution_count": null,
      "metadata": {
        "id": "l8iO3l3X60AE"
      },
      "outputs": [],
      "source": [
        "cuenta = 0\n",
        "while cuenta < 5:\n",
        "    print(cuenta)\n",
        "    cuenta = cuenta + 1\n",
        "else:\n",
        "    print(cuenta)"
      ]
    },
    {
      "cell_type": "markdown",
      "metadata": {
        "id": "rKg6lLl260AE"
      },
      "source": [
        "Una gestión inadecuada del bucle while podría provocar ciclos infinitos. Aunque en ciertas situaciones quizás deseemos un ciclo que no termine, a menos que estemos seguros de nuestras acciones, es crucial ser precavidos. \n",
        "\n",
        "Imagina un bucle cuya condición se cumpla constantemente. Por ejemplo, al colocar True en la condición del while, cada vez que se evalúe dicha expresión, el resultado será True y se ejecutará el fragmento de código correspondiente. Al llegar al final del bloque, la condición se evaluará nuevamente, se cumplirá y el proceso se repetirá. No te aconsejo que pongas en marcha el código mencionado, pero si lo deseas, puedes probarlo."
      ]
    },
    {
      "cell_type": "code",
      "execution_count": null,
      "metadata": {
        "id": "EW1kOvkO60AE"
      },
      "outputs": [],
      "source": [
        "# while True:\n",
        "#     print(\"Bucle infinito\")"
      ]
    },
    {
      "cell_type": "markdown",
      "metadata": {
        "id": "DGoRhkWA60AE"
      },
      "source": [
        "En este caso al no satisfacer la similitud de la condición, el bucle no parará de ejecutarse."
      ]
    },
    {
      "cell_type": "code",
      "execution_count": null,
      "metadata": {
        "id": "m_CdQHCh60AE"
      },
      "outputs": [],
      "source": [
        "# numero = 1\n",
        "# while numero > 0:\n",
        "#     numero = numero*1\n",
        "#     print(numero)"
      ]
    },
    {
      "cell_type": "markdown",
      "metadata": {
        "id": "Kvvv0nOl60AE"
      },
      "source": [
        "#### Bucles While anidados\n",
        "\n",
        "Los bucles anidados es algo que resulta especialmente útil si queremos generar permutaciones de números, es decir, si queremos generar todas las combinaciones posibles para un conjunto de números."
      ]
    },
    {
      "cell_type": "code",
      "execution_count": null,
      "metadata": {
        "id": "GOP7XQZd60AF"
      },
      "outputs": [],
      "source": [
        "i, j = 0, 0\n",
        "print(i,j)\n",
        "while i < 2:\n",
        "    while j < 2:\n",
        "        j += 1\n",
        "        print(i,j)\n",
        "    i += 1\n",
        "    print(i,j)"
      ]
    },
    {
      "cell_type": "markdown",
      "metadata": {
        "id": "JsdCJukx60AF"
      },
      "source": [
        "## For\n",
        "---\n",
        "\n",
        "El bucle For es parecido al while pero se diferencia en que el número de iteraciones de un for esta definido de antemano, mientras que en un while no.\n",
        "Recordar que en el while la condición era evaluada en cada iteración para decidir si volver a ejecutar o no el código, en el for no existe tal condición, sino un iterable que define las veces que se ejecutará el código. "
      ]
    },
    {
      "cell_type": "markdown",
      "metadata": {
        "id": "xxKIB1Xt60AF"
      },
      "source": [
        "<img src=\"https://raw.githubusercontent.com/0xdevgranero/kschool/main/images/img6.png\" alt=\"Drawing\" style=\"width: 800px\"/>"
      ]
    },
    {
      "cell_type": "code",
      "execution_count": null,
      "metadata": {
        "id": "p7Hyv8YN60AF"
      },
      "outputs": [],
      "source": [
        "numeros = [0, 1, 2, 3, 4, 5]\n",
        "for numero in numeros:\n",
        "    print(numero)"
      ]
    },
    {
      "cell_type": "markdown",
      "metadata": {
        "id": "iMnmkHpF60AF"
      },
      "source": [
        "Vemos un bucle for que se ejecuta 6 veces, y donde la i incrementa su valor “automáticamente” en 1 en cada iteración. Cómo se puede apreciar estamos iterando sobre un array"
      ]
    },
    {
      "cell_type": "markdown",
      "metadata": {
        "id": "uYes32mc60AF"
      },
      "source": [
        "En los siguientes dos ejemplos, el bucle for se utiliza para recorrer un string. En el primer ejemplo, se utiliza el for directamente. En el segundo ejemplo, se utiliza range() y la función len() para especificar el número de veces que se debe ejecutar el bucle."
      ]
    },
    {
      "cell_type": "code",
      "execution_count": null,
      "metadata": {
        "id": "L5ZItM6L60AF"
      },
      "outputs": [],
      "source": [
        "lenguaje = 'Python'\n",
        "for letras in lenguaje:\n",
        "    print(letras)"
      ]
    },
    {
      "cell_type": "markdown",
      "metadata": {
        "id": "opQda7yM60AF"
      },
      "source": [
        "## Range\n",
        "---\n",
        "\n",
        "La función `range()` genera una lista de números que van desde 0 por defecto hasta el número que se pasa como parámetro menos 1\n",
        "La función **range()** puede llegar a tener hasta tres parámetros separados por coma: **inicio**, **fin** e **incremento**.\n",
        "La secuencia rango necesita al menos 1 argumento (fin)."
      ]
    },
    {
      "cell_type": "code",
      "execution_count": null,
      "metadata": {
        "id": "R2NAyhXm60AF"
      },
      "outputs": [],
      "source": [
        "lst = list(range(0,11,2))\n",
        "print(lst)\n",
        "type(lst)"
      ]
    },
    {
      "cell_type": "code",
      "execution_count": null,
      "metadata": {
        "id": "0HrgaNJE60AF"
      },
      "outputs": [],
      "source": [
        "for i in range(len(lenguaje)):\n",
        "    print(lenguaje[i])"
      ]
    },
    {
      "cell_type": "markdown",
      "metadata": {
        "id": "A51eU7K-60AF"
      },
      "source": [
        "Incluso puedes utilizar un número negativo para el valor del incremento generando que nuestro bucle for itere hacia atras."
      ]
    },
    {
      "cell_type": "code",
      "execution_count": null,
      "metadata": {
        "id": "hyWtYAbe60AF"
      },
      "outputs": [],
      "source": [
        "for i in range(5, -1, -1):\n",
        "    print(i)"
      ]
    },
    {
      "cell_type": "markdown",
      "metadata": {
        "id": "hE5lik5U60AF"
      },
      "source": [
        "También podemos iterar sobre diccionarios y sets, aunque mientras que en los diccionarios iteramos sobre las claves, en los sets iteramos sobre los valores."
      ]
    },
    {
      "cell_type": "code",
      "execution_count": null,
      "metadata": {
        "id": "lBYp-w9260AF"
      },
      "outputs": [],
      "source": [
        "compañias = {1:'Facebook', 2:'Google', 3:'Microsoft', 4:'Apple', 5:'IBM', 6:'Oracle', 7:'Amazon'}\n",
        "for key, value in compañias.items():\n",
        "    print(key, value)"
      ]
    },
    {
      "cell_type": "code",
      "execution_count": null,
      "metadata": {
        "id": "yNEVG-WX60AG"
      },
      "outputs": [],
      "source": [
        "compañias = {'Facebook', 'Google', 'Microsoft', 'Apple', 'IBM', 'Oracle', 'Amazon'}\n",
        "for xx in compañias:\n",
        "    print(xx)"
      ]
    },
    {
      "cell_type": "markdown",
      "metadata": {
        "id": "A6FGkRdN60AG"
      },
      "source": [
        "Al igual que vimos en el caso de los while, si queremos ejecutar algún mensaje cuando termine el bucle, utilizamos else"
      ]
    },
    {
      "cell_type": "code",
      "execution_count": null,
      "metadata": {
        "id": "g9X2aidH60AG"
      },
      "outputs": [],
      "source": [
        "for numero in range(11):\n",
        "    print(numero)\n",
        "else:\n",
        "    print('El bucle ha terminado en el número', numero)"
      ]
    },
    {
      "cell_type": "markdown",
      "metadata": {
        "id": "55owPfKh60AG"
      },
      "source": [
        "#### For anidados\n",
        "\n",
        "Es posible `anidar los for`, es decir, meter uno dentro de otro. Esto puede ser muy útil si queremos iterar algún objeto que en cada elemento, tiene a su vez otra clase iterable."
      ]
    },
    {
      "cell_type": "code",
      "execution_count": null,
      "metadata": {
        "id": "KeuFuDPG60AG"
      },
      "outputs": [],
      "source": [
        "persona = {\n",
        "    'nombre': 'Alberto',\n",
        "    'apellido': 'Granero',\n",
        "    'edad: 30'\n",
        "    'país': 'España',\n",
        "    'capacidades': ['JavaScript', 'React', 'Node', 'MongoDB', 'Python'],\n",
        "}\n",
        "for key in persona:\n",
        "    if key == 'capacidades':\n",
        "        for lenguajes in persona['capacidades']:\n",
        "            print(lenguajes)"
      ]
    },
    {
      "cell_type": "markdown",
      "metadata": {
        "id": "VG1cAaGd60AG"
      },
      "source": [
        "Otro caso que usaréis bastante en vuestro día a día, sobretodo aplicado a temas de estadística y ML es recorrer matrices. Para ello, podemos usar el siguiente for anidado"
      ]
    },
    {
      "cell_type": "code",
      "execution_count": null,
      "metadata": {
        "id": "pd6G1PcT60AG"
      },
      "outputs": [],
      "source": [
        "matriz = [[1, 2, 3],\n",
        "          [4, 5, 6]]\n",
        "\n",
        "for i in matriz:\n",
        "    for j in i:\n",
        "        print(f\"Elemento encontrado en el array {i}:: {j}\")"
      ]
    },
    {
      "cell_type": "markdown",
      "metadata": {
        "id": "K1CjWg_160AG"
      },
      "source": [
        "## Control Statements\n",
        "---\n",
        "\n",
        "Hay tres sentencias de control que pueden utilizarse con los bucles for y while y que nos permiten alterar el comportamiento de los mismos.\n",
        "\n",
        "Son ``pass``, ``continue`` y ``break``"
      ]
    },
    {
      "cell_type": "markdown",
      "metadata": {
        "id": "22N0Qj0f60AG"
      },
      "source": [
        "### Pass\n",
        "Siempre que se crean bucles, funciones, sentencias if, y cualquier tipo de métodos, es necesario que escribamos código en su interior, si no lo hacemos y solo lo instanciamos nos dará un error ya que el intérprete esperará un código que no le asignamos.\n",
        "\n",
        "Por lo tanto, en python, **SIEMPRE**,cuando se requiere una sentencia pero no queremos ejecutar ningún código, podemos escribir la palabra ``pass`` para evitar errores. También podemos utilizarla como marcador de posición, para futuras sentencias."
      ]
    },
    {
      "cell_type": "code",
      "execution_count": null,
      "metadata": {
        "id": "pkiUJTGm60AG"
      },
      "outputs": [],
      "source": [
        "for number in range(6):\n",
        "    pass"
      ]
    },
    {
      "cell_type": "markdown",
      "metadata": {
        "id": "uXnA9Koq60AG"
      },
      "source": [
        "El tipo de error que obtendremos será del tipo: **SyntaxError: incomplete input**"
      ]
    },
    {
      "cell_type": "code",
      "execution_count": null,
      "metadata": {
        "id": "8-qHE8Tf60AG"
      },
      "outputs": [],
      "source": [
        "i = 1\n",
        "if i == 1:"
      ]
    },
    {
      "cell_type": "markdown",
      "metadata": {
        "id": "soAkD6Aw60AG"
      },
      "source": [
        "### Continue\n",
        "---\n",
        "\n",
        "El uso de `continue` al igual que el ya visto `pass`, nos permite modificar el comportamiento de los bucles.\n",
        "\n",
        "Concretamente, `continue` se utiliza en los bucles para finalizar la iteración actual y **continuar** con la siguiente iteración del bucle. A veces, dentro de un bucle, podemos necesitar saltarnos una iteración concreta. Esto puede hacerse utilizando la palabra clave `continue`.\n",
        "\n",
        "Por lo que `continue` se salta todo el código restante en la iteración actual y vuelve al principio en el caso de que aún queden iteraciones por completar, todo sin salir del bucle.\n"
      ]
    },
    {
      "cell_type": "code",
      "execution_count": null,
      "metadata": {
        "id": "lSuEwMe460AG"
      },
      "outputs": [],
      "source": [
        "for i in range(1,10):\n",
        "    if(i%2 == 0):\n",
        "        continue\n",
        "        print(\"Saco por pantalla algo\")\n",
        "    print(i)"
      ]
    },
    {
      "cell_type": "code",
      "execution_count": null,
      "metadata": {
        "id": "zxZXeQo260AG"
      },
      "outputs": [],
      "source": [
        "flag = True\n",
        "while flag:\n",
        "    question = input('¿Cual es la mejor escuela para aprender Python?')\n",
        "    if question.lower() != 'kschool':\n",
        "        continue\n",
        "    else:\n",
        "        flag = False\n",
        "print('¡Correcto!')"
      ]
    },
    {
      "cell_type": "markdown",
      "metadata": {
        "id": "FeP1Y7vG60AG"
      },
      "source": [
        "### Break\n",
        "---\n",
        "\n",
        "La keyword `break` se utiliza para que el intérprete de python salga del bucle y pase al cuerpo principal del programa.\n",
        "Cada vez que se utiliza `break`, se termina el bucle y el intérprete comienza a ejecutar la siguiente serie de sentencias dentro del programa principal. Sirve para trabajar tanto con bucles for como con bucles while."
      ]
    },
    {
      "cell_type": "code",
      "execution_count": null,
      "metadata": {
        "id": "XwhhPqB660AH"
      },
      "outputs": [],
      "source": [
        "while True:\n",
        "    question = input('¿Cual es la mejor escuela para aprender Python?')\n",
        "    if question.lower() != 'kschool':\n",
        "        continue\n",
        "    else:\n",
        "        break\n",
        "print('¡Correcto!')"
      ]
    },
    {
      "cell_type": "markdown",
      "metadata": {
        "id": "jOAFqVFe60AH"
      },
      "source": [
        "Ahora vamos a ver el ejemplo con el bucle ``for``"
      ]
    },
    {
      "cell_type": "code",
      "execution_count": null,
      "metadata": {
        "id": "_i6jxElr60AH"
      },
      "outputs": [],
      "source": [
        "limite = input('¿Cual es número máximo que quieres mostrar entre el 1 y el 1000?')\n",
        "for numero in range(0,1000):\n",
        "    print(numero)\n",
        "    if numero == int(limite):\n",
        "        break"
      ]
    },
    {
      "cell_type": "markdown",
      "metadata": {
        "id": "y6eXkLm760AH"
      },
      "source": [
        "<h1>¡¡¡Lets Code!!! </h1>\n",
        "<img src=\"https://gifdb.com/images/thumbnail/pixel-art-super-mario-computer-amwdq1xi8bgz0omx.gif\" alt=\"Challenge Accepted\" style=\"width: 500px\">"
      ]
    },
    {
      "cell_type": "markdown",
      "metadata": {
        "id": "-JtMVPma60AH"
      },
      "source": [
        "#### **Enunciado Ejercicio 1**::\n",
        "Iterar de **0 a 10** utilizando el bucle `for`, hacer lo mismo utilizando el bucle `while`."
      ]
    },
    {
      "cell_type": "markdown",
      "metadata": {
        "id": "bmNKyaoW60AH"
      },
      "source": [
        "#### **Enunciado Ejercicio 2**::\n",
        "Iterar de **10 a 0** utilizando el bucle `for`, hacer lo mismo utilizando el bucle `while`."
      ]
    },
    {
      "cell_type": "markdown",
      "metadata": {
        "id": "-99lPwfS60AH"
      },
      "source": [
        "#### **Enunciado Ejercicio 3**::\n",
        "Escribe un bucle que haga siete llamadas a print(), de forma que obtengamos en la salida el siguiente triángulo:\n",
        "\n",
        "    #\n",
        "    ##\n",
        "    ###\n",
        "    ####\n",
        "    #####\n",
        "    ######\n",
        "    #######"
      ]
    },
    {
      "cell_type": "markdown",
      "metadata": {
        "id": "sZ1UkgHT60AH"
      },
      "source": [
        "#### **Enunciado Ejercicio 4**::\n",
        "Utiliza bucles anidados para crear lo siguiente:\n",
        "\n",
        "    # # # # # # # #\n",
        "    # # # # # # # #\n",
        "    # # # # # # # #\n",
        "    # # # # # # # #\n",
        "    # # # # # # # #\n",
        "    # # # # # # # #\n",
        "    # # # # # # # #\n",
        "    # # # # # # # #"
      ]
    },
    {
      "cell_type": "markdown",
      "metadata": {
        "id": "zxvRDl9b60AH"
      },
      "source": [
        "#### **Enunciado Ejercicio 5**::\n",
        "Imprime el siguiente patrón:\n",
        "\n",
        "    0 x 0 = 0\n",
        "    1 x 1 = 1\n",
        "    2 x 2 = 4\n",
        "    3 x 3 = 9\n",
        "    4 x 4 = 16\n",
        "    5 x 5 = 25\n",
        "    6 x 6 = 36\n",
        "    7 x 7 = 49\n",
        "    8 x 8 = 64\n",
        "    9 x 9 = 81\n",
        "    10 x 10 = 100"
      ]
    },
    {
      "cell_type": "markdown",
      "metadata": {
        "id": "r0d2n8kV60AH"
      },
      "source": [
        "#### **Enunciado Ejercicio 6**::\n",
        "Utiliza el bucle for para iterar de 0 a 100 e imprimir sólo los números pares, hasta que la suma acumulada sea mayor que 1200. Además saca las iteraciones totales hasta que se detenga."
      ]
    },
    {
      "cell_type": "markdown",
      "metadata": {
        "id": "WwwnQ8hw60AH"
      },
      "source": [
        "#### **Enunciado Ejercicio 7**::\n",
        "Utiliza el bucle for para iterar de 0 a 100 e imprimir la suma de todos los pares y la suma de todas las probabilidades."
      ]
    }
  ],
  "metadata": {
    "kernelspec": {
      "display_name": "Python 3",
      "language": "python",
      "name": "python3"
    },
    "language_info": {
      "codemirror_mode": {
        "name": "ipython",
        "version": 3
      },
      "file_extension": ".py",
      "mimetype": "text/x-python",
      "name": "python",
      "nbconvert_exporter": "python",
      "pygments_lexer": "ipython3",
      "version": "3.10.10"
    },
    "orig_nbformat": 4,
    "colab": {
      "provenance": [],
      "include_colab_link": true
    }
  },
  "nbformat": 4,
  "nbformat_minor": 0
}